{
 "cells": [
  {
   "cell_type": "code",
   "execution_count": null,
   "id": "f543d276",
   "metadata": {},
   "outputs": [],
   "source": [
    "\"\"\"Логирование уроков.\"\"\""
   ]
  },
  {
   "cell_type": "markdown",
   "id": "62ec06cd",
   "metadata": {},
   "source": [
    "28/06 - 10/07\n",
    "\n",
    "1. Завел необходимые аккаунты (git, kaggle, ods, canva)\n",
    "2. Настраивал VSCode (долго не запускался mypy)\n",
    "3. Настроил ВПН"
   ]
  },
  {
   "cell_type": "markdown",
   "id": "1e35fdf9",
   "metadata": {},
   "source": [
    "11/07\n",
    "\n",
    "1. Изучал систему отправки отчетов"
   ]
  }
 ],
 "metadata": {
  "kernelspec": {
   "display_name": "base",
   "language": "python",
   "name": "python3"
  },
  "language_info": {
   "codemirror_mode": {
    "name": "ipython",
    "version": 3
   },
   "file_extension": ".py",
   "mimetype": "text/x-python",
   "name": "python",
   "nbconvert_exporter": "python",
   "pygments_lexer": "ipython3",
   "version": "3.12.7"
  }
 },
 "nbformat": 4,
 "nbformat_minor": 5
}
