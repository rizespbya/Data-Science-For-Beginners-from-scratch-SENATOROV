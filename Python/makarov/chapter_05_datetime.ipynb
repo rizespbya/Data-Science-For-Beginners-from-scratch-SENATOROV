{
 "cells": [
  {
   "cell_type": "code",
   "execution_count": null,
   "metadata": {},
   "outputs": [],
   "source": [
    "\"\"\"Макаров.\n",
    "\n",
    "Дата и время в Питоне.\n",
    "\"\"\""
   ]
  },
  {
   "cell_type": "markdown",
   "metadata": {
    "id": "gQkolpFlve1y"
   },
   "source": [
    "## Дата и время в Питоне"
   ]
  },
  {
   "cell_type": "markdown",
   "metadata": {
    "id": "FYsC5TYTyazW"
   },
   "source": [
    "### Модуль datetime"
   ]
  },
  {
   "cell_type": "markdown",
   "metadata": {
    "id": "TSeEV1bV2vnj"
   },
   "source": [
    "Импорт модуля и класса datetime"
   ]
  },
  {
   "cell_type": "code",
   "execution_count": null,
   "metadata": {
    "colab": {
     "base_uri": "https://localhost:8080/"
    },
    "id": "nxtEc-BavPKZ",
    "outputId": "bb9075d5-baa2-41d2-92ba-8895fce037b0"
   },
   "outputs": [
    {
     "name": "stdout",
     "output_type": "stream",
     "text": [
      "2025-03-11 12:40:47.722373\n"
     ]
    }
   ],
   "source": [
    "# импортируем весь модуль\n",
    "# import datetime\n",
    "\n",
    "# чтобы получить доступ к функции now(), сначала обратимся к модулю, потом к классу\n",
    "# print(datetime.datetime.now())\n",
    "\n",
    "# для этого вначале импортируем соответствующий класс\n",
    "# часто из модуля datetime удобнее импортировать только класс datetime\n",
    "from datetime import datetime, timedelta\n",
    "\n",
    "# у нас есть данные по среднемесячной температуре в Нью-Йорке в 2002 году\n",
    "import pandas as pd\n",
    "\n",
    "# для изменения часового пояса нужно импортировать модуль pytz\n",
    "import pytz"
   ]
  },
  {
   "cell_type": "code",
   "execution_count": 3,
   "metadata": {
    "colab": {
     "base_uri": "https://localhost:8080/"
    },
    "id": "du3H87ntzAw9",
    "outputId": "ca6ceb3c-68a1-4907-9114-fa67525e47ad"
   },
   "outputs": [
    {
     "name": "stdout",
     "output_type": "stream",
     "text": [
      "2025-10-13 09:38:37.380829\n"
     ]
    }
   ],
   "source": [
    "# и обращаться непосредственно к нему\n",
    "print(datetime.now())"
   ]
  },
  {
   "cell_type": "markdown",
   "metadata": {
    "id": "Z1xtQ8AV2y-B"
   },
   "source": [
    "Объект datetime и функция `now()`"
   ]
  },
  {
   "cell_type": "code",
   "execution_count": 4,
   "metadata": {
    "colab": {
     "base_uri": "https://localhost:8080/"
    },
    "id": "98cvjJ8zzZnl",
    "outputId": "bd99406a-1c6d-4675-cfbe-c930787a3703"
   },
   "outputs": [
    {
     "name": "stdout",
     "output_type": "stream",
     "text": [
      "2025-10-13 09:38:39.499086\n"
     ]
    }
   ],
   "source": [
    "# поместим созданный с помощью функции now() объект datetime в переменную cur_dt\n",
    "cur_dt = datetime.now()\n",
    "print(cur_dt)"
   ]
  },
  {
   "cell_type": "code",
   "execution_count": 5,
   "metadata": {
    "colab": {
     "base_uri": "https://localhost:8080/"
    },
    "id": "SdIrLFCP3BRS",
    "outputId": "d224fe02-1a6c-4a3b-a997-9ce35d08e461"
   },
   "outputs": [
    {
     "name": "stdout",
     "output_type": "stream",
     "text": [
      "2025 10 13 9 38 39 499086\n"
     ]
    }
   ],
   "source": [
    "# с помощью соответствующих атрибутов выведем каждый из компонентов объекта по отдельности\n",
    "print(\n",
    "    cur_dt.year,\n",
    "    cur_dt.month,\n",
    "    cur_dt.day,\n",
    "    cur_dt.hour,\n",
    "    cur_dt.minute,\n",
    "    cur_dt.second,\n",
    "    cur_dt.microsecond,\n",
    ")"
   ]
  },
  {
   "cell_type": "code",
   "execution_count": null,
   "metadata": {
    "colab": {
     "base_uri": "https://localhost:8080/"
    },
    "id": "x-FZ6xl_Tn9a",
    "outputId": "c9a3d44f-fd53-453e-f419-67e0b9e53b08"
   },
   "outputs": [
    {
     "name": "stdout",
     "output_type": "stream",
     "text": [
      "1 2\n"
     ]
    }
   ],
   "source": [
    "# также можно посмотреть на день недели\n",
    "# метод .weekday() начинает индекс недели с нуля, .isoweekday() - с единицы\n",
    "print(cur_dt.weekday(), cur_dt.isoweekday())"
   ]
  },
  {
   "cell_type": "code",
   "execution_count": 6,
   "metadata": {
    "colab": {
     "base_uri": "https://localhost:8080/"
    },
    "id": "YiTIBHFGjdvR",
    "outputId": "e1ec254e-660c-4108-e510-cee43e10996e"
   },
   "outputs": [
    {
     "name": "stdout",
     "output_type": "stream",
     "text": [
      "None\n"
     ]
    }
   ],
   "source": [
    "# посмотрим на часовой пояс с помощью атрибута tzinfo\n",
    "print(cur_dt.tzinfo)"
   ]
  },
  {
   "cell_type": "code",
   "execution_count": 7,
   "metadata": {
    "colab": {
     "base_uri": "https://localhost:8080/"
    },
    "id": "Kf7Dp1Vr4_DB",
    "outputId": "a6e42ef6-feec-4caa-a7b4-0b2501f826ac"
   },
   "outputs": [
    {
     "name": "stdout",
     "output_type": "stream",
     "text": [
      "2025-10-13 09:41:32.037466+03:00\n"
     ]
    }
   ],
   "source": [
    "# выведем текущее время в Москве\n",
    "dt_moscow = datetime.now(pytz.timezone(\"Europe/Moscow\"))\n",
    "print(dt_moscow)"
   ]
  },
  {
   "cell_type": "code",
   "execution_count": null,
   "metadata": {
    "colab": {
     "base_uri": "https://localhost:8080/"
    },
    "id": "317feKJE3bq7",
    "outputId": "70c99656-b3bc-4ed4-e397-769ee8785cff"
   },
   "outputs": [
    {
     "name": "stdout",
     "output_type": "stream",
     "text": [
      "Europe/Moscow\n"
     ]
    }
   ],
   "source": [
    "# снова посмотрим на атрибут часового пояса\n",
    "print(dt_moscow.tzinfo)"
   ]
  },
  {
   "cell_type": "markdown",
   "metadata": {
    "id": "Y-V3a7ZUoVnR"
   },
   "source": [
    "Timestamp"
   ]
  },
  {
   "cell_type": "code",
   "execution_count": null,
   "metadata": {
    "id": "2TNSk7hEoU-D"
   },
   "outputs": [],
   "source": [
    "# получим timestamp текущего времени с помощью метода .timestamp()\n",
    "timestamp = datetime.now().timestamp()"
   ]
  },
  {
   "cell_type": "code",
   "execution_count": null,
   "metadata": {
    "colab": {
     "base_uri": "https://localhost:8080/"
    },
    "id": "ZCeooK3Tv7GH",
    "outputId": "4342bd68-e605-428c-964c-d1c2e2d64c87"
   },
   "outputs": [
    {
     "name": "stdout",
     "output_type": "stream",
     "text": [
      "1741696847.801249\n"
     ]
    }
   ],
   "source": [
    "# выведем количество секунд, прошедшее с 01.01.1970 до исполнения кода\n",
    "print(timestamp)"
   ]
  },
  {
   "cell_type": "code",
   "execution_count": null,
   "metadata": {
    "colab": {
     "base_uri": "https://localhost:8080/"
    },
    "id": "dmkfZp7Evj3W",
    "outputId": "8c5155da-7415-4dc3-a521-71c95b546eb2"
   },
   "outputs": [
    {
     "name": "stdout",
     "output_type": "stream",
     "text": [
      "2025-03-11 12:40:47.801249\n"
     ]
    }
   ],
   "source": [
    "# вернем timestamp в прежний формат с помощью метода .fromtimestamp()\n",
    "print(datetime.fromtimestamp(timestamp))"
   ]
  },
  {
   "cell_type": "markdown",
   "metadata": {
    "id": "bpYReaGi6iQD"
   },
   "source": [
    "Создание объекта datetime вручную"
   ]
  },
  {
   "cell_type": "code",
   "execution_count": null,
   "metadata": {
    "colab": {
     "base_uri": "https://localhost:8080/"
    },
    "id": "6XVGJFxV5Nws",
    "outputId": "628dfbb9-ea00-44b9-f0d1-8351a0013ea0"
   },
   "outputs": [
    {
     "name": "stdout",
     "output_type": "stream",
     "text": [
      "1991-02-20 00:00:00\n"
     ]
    }
   ],
   "source": [
    "# передадим объекту datetime 20 февраля 1991 года\n",
    "hb = datetime(1991, 2, 20)\n",
    "print(hb)"
   ]
  },
  {
   "cell_type": "code",
   "execution_count": null,
   "metadata": {
    "colab": {
     "base_uri": "https://localhost:8080/"
    },
    "id": "oHPz-UYb7GzX",
    "outputId": "2788e7c7-c4d1-475a-b0a4-ec2b389e7d31"
   },
   "outputs": [
    {
     "name": "stdout",
     "output_type": "stream",
     "text": [
      "1991\n"
     ]
    }
   ],
   "source": [
    "# извлечем год с помощью атрибута year\n",
    "print(hb.year)"
   ]
  },
  {
   "cell_type": "code",
   "execution_count": null,
   "metadata": {
    "colab": {
     "base_uri": "https://localhost:8080/"
    },
    "id": "fbtdZpi6wKrP",
    "outputId": "17d9465f-9cba-47b5-bf22-b4f76a8e05b0"
   },
   "outputs": [
    {
     "name": "stdout",
     "output_type": "stream",
     "text": [
      "667008000.0\n"
     ]
    }
   ],
   "source": [
    "# создадим timestamp\n",
    "print(datetime.timestamp(hb))"
   ]
  },
  {
   "cell_type": "markdown",
   "metadata": {
    "id": "dTkMHBejzz3r"
   },
   "source": [
    "### Преобразование строки в объект datetime и обратно"
   ]
  },
  {
   "cell_type": "markdown",
   "metadata": {
    "id": "L0tp_c2bc_Ma"
   },
   "source": [
    "Строка ➞ datetime через `.strptime()`"
   ]
  },
  {
   "cell_type": "code",
   "execution_count": null,
   "metadata": {
    "colab": {
     "base_uri": "https://localhost:8080/"
    },
    "id": "hRuMEZe4wXi5",
    "outputId": "721f628e-30ac-4d48-b138-922036f80097"
   },
   "outputs": [
    {
     "data": {
      "text/plain": [
       "str"
      ]
     },
     "execution_count": 57,
     "metadata": {},
     "output_type": "execute_result"
    }
   ],
   "source": [
    "# дана строка с датой 2 декабря 2007 года и временем 12 часов 30 минут и 45 секунд\n",
    "str_to_dt = \"2007-12-02 12:30:45\"\n",
    "type(str_to_dt)"
   ]
  },
  {
   "cell_type": "code",
   "execution_count": null,
   "metadata": {
    "colab": {
     "base_uri": "https://localhost:8080/"
    },
    "id": "sfM4trm008IJ",
    "outputId": "43933acf-18d7-41e6-bd17-6741c4b6325a"
   },
   "outputs": [
    {
     "name": "stdout",
     "output_type": "stream",
     "text": [
      "2007-12-02 12:30:45\n",
      "<class 'datetime.datetime'>\n"
     ]
    }
   ],
   "source": [
    "# преобразуем ее в datetime с помощью метода .strptime()\n",
    "res_dt = datetime.strptime(str_to_dt, \"%Y-%m-%d %H:%M:%S\")\n",
    "\n",
    "print(res_dt)\n",
    "print(type(res_dt))"
   ]
  },
  {
   "cell_type": "markdown",
   "metadata": {
    "id": "FE1YFP-ydtaG"
   },
   "source": [
    "Datetime ➞ строка через `.strftime()`"
   ]
  },
  {
   "cell_type": "code",
   "execution_count": null,
   "metadata": {
    "colab": {
     "base_uri": "https://localhost:8080/"
    },
    "id": "EuA4wuLbds4k",
    "outputId": "40eb394b-c837-429a-b2ff-6b80f8bf8abe"
   },
   "outputs": [
    {
     "data": {
      "text/plain": [
       "datetime.datetime"
      ]
     },
     "execution_count": 59,
     "metadata": {},
     "output_type": "execute_result"
    }
   ],
   "source": [
    "# вначале создадим объект datetime и передадим ему 19 ноября 2002 года\n",
    "dt_to_str = datetime(2002, 11, 19)\n",
    "type(dt_to_str)"
   ]
  },
  {
   "cell_type": "code",
   "execution_count": null,
   "metadata": {
    "colab": {
     "base_uri": "https://localhost:8080/"
    },
    "id": "r7WXYXRmc17Z",
    "outputId": "9a996781-9e1f-40c0-b9ca-14c93db8f9d2"
   },
   "outputs": [
    {
     "name": "stdout",
     "output_type": "stream",
     "text": [
      "Tuesday, November 19, 2002\n",
      "<class 'str'>\n"
     ]
    }
   ],
   "source": [
    "# преобразуем объект в строку в формате \"день недели, месяц число, год\"\n",
    "res_str = datetime.strftime(dt_to_str, \"%A, %B %d, %Y\")\n",
    "\n",
    "print(res_str)\n",
    "print(type(res_str))"
   ]
  },
  {
   "cell_type": "code",
   "execution_count": null,
   "metadata": {
    "colab": {
     "base_uri": "https://localhost:8080/",
     "height": 35
    },
    "id": "shboqnqE2qNH",
    "outputId": "bc5c5981-a7a9-43ef-8002-b92e02b7e713"
   },
   "outputs": [
    {
     "data": {
      "application/vnd.google.colaboratory.intrinsic+json": {
       "type": "string"
      },
      "text/plain": [
       "'Tuesday, November 19, 2002'"
      ]
     },
     "execution_count": 61,
     "metadata": {},
     "output_type": "execute_result"
    }
   ],
   "source": [
    "# .strftime() можно применять непосредственно к объекту datetime\n",
    "dt_to_str.strftime(\"%A, %B %d, %Y\")"
   ]
  },
  {
   "cell_type": "code",
   "execution_count": null,
   "metadata": {
    "colab": {
     "base_uri": "https://localhost:8080/",
     "height": 35
    },
    "id": "gzLSq5M14BLJ",
    "outputId": "391f050e-ffe2-4520-f63d-2389950cb9ce"
   },
   "outputs": [
    {
     "data": {
      "application/vnd.google.colaboratory.intrinsic+json": {
       "type": "string"
      },
      "text/plain": [
       "'2025-03-11'"
      ]
     },
     "execution_count": 62,
     "metadata": {},
     "output_type": "execute_result"
    }
   ],
   "source": [
    "# можно и так\n",
    "datetime.now().strftime(\"%Y-%m-%d\")"
   ]
  },
  {
   "cell_type": "code",
   "execution_count": null,
   "metadata": {
    "colab": {
     "base_uri": "https://localhost:8080/",
     "height": 35
    },
    "id": "h0NiDIWKEU8B",
    "outputId": "22a503bc-76b3-4c5c-9479-b68bbdc2e5ac"
   },
   "outputs": [
    {
     "data": {
      "application/vnd.google.colaboratory.intrinsic+json": {
       "type": "string"
      },
      "text/plain": [
       "'Tue Mar 11 12:40:47 2025'"
      ]
     },
     "execution_count": 63,
     "metadata": {},
     "output_type": "execute_result"
    }
   ],
   "source": [
    "# а еще так\n",
    "datetime.now().strftime(\"%c\")"
   ]
  },
  {
   "cell_type": "markdown",
   "metadata": {
    "id": "KbxUl-Xe7To-"
   },
   "source": [
    "Форматирование даты и времени через `.strptime()` и `.strftime()`"
   ]
  },
  {
   "cell_type": "markdown",
   "metadata": {
    "id": "tSi--Po_82L2"
   },
   "source": [
    "|Код | Описание | Пример |\n",
    "| --- | --- | --- |\n",
    "| `%a` | Сокращенное название дня недели | Sun, Mon, … |\n",
    "| `%A` | Полное название дня недели | Sunday, Monday, … |\n",
    "| `%w` | День недели как число, Вс - 0, Пн - 1, ... Сб - 6 | 0, 1, …, 6 |\n",
    "| `%d` | День месяца в виде числа с нулями | 01, 02, …, 31 |\n",
    "| `%-d` | День месяца в виде числа без нулей | 1, 2, …, 31 |\n",
    "| `%b` | Сокращенное название месяца | Jan, Feb, …, Dec |\n",
    "| `%B` | Полное название месяца | January, February, … |\n",
    "| `%m` | Месяц в виде числа с нулями | 01, 02, …, 12 |\n",
    "| `%-m` | Месяц в виде числа без нулей | 1, 2, …, 12 |\n",
    "| `%y` | Год без века как число с нулями | 00, 01, …, 99 |\n",
    "| `%-y` | Год без века как число без нулей | 0, 1, …, 99 |\n",
    "| `%Y` | Год с веком | 1999, 2019, ... |\n",
    "| `%H` | Час (в 24-часовом формате) в виде числа с нулями | 00, 01, …, 23 |\n",
    "| `%-H` | Час (в 24-часовом формате) в виде числа без нулей | 0, 1, …, 23 |\n",
    "| `%I` | Час (12-часовой формат) в виде числа с нулями | 01, 02, …, 12 |\n",
    "| `%-I` | Час (12-часовой формат) в виде числа без нулей | 1, 2, …, 12 |\n",
    "| `%p` | AM или PM | AM, PM |\n",
    "| `%M` | Минуты в виде числа с нулями | 00, 01, …, 59 |\n",
    "| `%-M` | Минуты в виде числа без нулей | 0, 1, …, 59 |\n",
    "| `%S` | Секунды в виде числа с нулями | 00, 01, …, 59 |\n",
    "| `%-S` | Секунды в виде числа без нулей | 0, 1, …, 59 |\n",
    "| `%j` | День года в виде числа с нулями | 001, 002, …, 366 |\n",
    "| `%-j` | День года в виде числа без нулей | 1, 2, …, 366 |\n",
    "| `%c` | Полная дата и время | Sun Nov 21 10:38:12 2021 |\n",
    "| `%x` | Дата | 11/21/21 |\n",
    "| `%X` | Время | 10:43:51 |"
   ]
  },
  {
   "cell_type": "markdown",
   "metadata": {
    "id": "P3Mq8tzhgS7S"
   },
   "source": [
    "### Сравнение и арифметика дат"
   ]
  },
  {
   "cell_type": "markdown",
   "metadata": {
    "id": "O49Iw50ggiet"
   },
   "source": [
    "Сравнение дат"
   ]
  },
  {
   "cell_type": "code",
   "execution_count": null,
   "metadata": {
    "id": "Ge_6VJYEfvM4"
   },
   "outputs": [],
   "source": [
    "# сравним две даты публикации работ Эйнштейна\n",
    "date1 = datetime(1905, 6, 30)  # \"К электродинамике движущихся тел\"\n",
    "date2 = datetime(1916, 5, 11)  # Общая теория относительности"
   ]
  },
  {
   "cell_type": "code",
   "execution_count": null,
   "metadata": {
    "colab": {
     "base_uri": "https://localhost:8080/"
    },
    "id": "k1k7OhWJrVTu",
    "outputId": "d8db0667-3908-4cd7-af89-a1b81dd8f493"
   },
   "outputs": [
    {
     "data": {
      "text/plain": [
       "True"
      ]
     },
     "execution_count": 65,
     "metadata": {},
     "output_type": "execute_result"
    }
   ],
   "source": [
    "# большей считается более поздняя дата\n",
    "date1 < date2"
   ]
  },
  {
   "cell_type": "code",
   "execution_count": null,
   "metadata": {
    "colab": {
     "base_uri": "https://localhost:8080/"
    },
    "id": "FXZTPJ_Nrebd",
    "outputId": "d0307f84-ea01-4729-e8c1-d34fc72d670f"
   },
   "outputs": [
    {
     "data": {
      "text/plain": [
       "False"
      ]
     },
     "execution_count": 66,
     "metadata": {},
     "output_type": "execute_result"
    }
   ],
   "source": [
    "# обратное будет признано ложным\n",
    "date1 > date2"
   ]
  },
  {
   "cell_type": "markdown",
   "metadata": {
    "id": "9xI-dfch12iX"
   },
   "source": [
    "Календарный и алфавитный порядок дат"
   ]
  },
  {
   "cell_type": "code",
   "execution_count": null,
   "metadata": {
    "colab": {
     "base_uri": "https://localhost:8080/"
    },
    "id": "Qdv9abZq1qs4",
    "outputId": "87c2a586-b3f1-4b19-ea5a-7313eb81049f"
   },
   "outputs": [
    {
     "data": {
      "text/plain": [
       "True"
      ]
     },
     "execution_count": 67,
     "metadata": {},
     "output_type": "execute_result"
    }
   ],
   "source": [
    "# если даты записаны в виде строки в формате ГГГГ.ММ.ДД,\n",
    "# то мы можем их сравнивать, как если бы мы сравнивали объекты datetime\n",
    "\n",
    "# вначале запишем даты в виде строки и сравним их\n",
    "date_1 = \"2007-12-02\"\n",
    "date_2 = \"2002-11-19\"\n",
    "print(date_1 > date_2)"
   ]
  },
  {
   "cell_type": "code",
   "execution_count": null,
   "metadata": {
    "colab": {
     "base_uri": "https://localhost:8080/"
    },
    "id": "tsldkuKj11Pj",
    "outputId": "011d1d88-5ed2-4276-ea88-3ba7a2cc942e"
   },
   "outputs": [
    {
     "data": {
      "text/plain": [
       "True"
      ]
     },
     "execution_count": 68,
     "metadata": {},
     "output_type": "execute_result"
    }
   ],
   "source": [
    "# теперь в виде объекта datetime\n",
    "print(datetime(2007, 12, 2) > datetime(2002, 11, 19))"
   ]
  },
  {
   "cell_type": "markdown",
   "metadata": {
    "id": "eBCy30h6sGlR"
   },
   "source": [
    "Промежуток времени и класс timedelta"
   ]
  },
  {
   "cell_type": "code",
   "execution_count": null,
   "metadata": {
    "colab": {
     "base_uri": "https://localhost:8080/"
    },
    "id": "C5TvKlGwrhBi",
    "outputId": "2218b9c3-f9cc-4560-da95-a8043fef5763"
   },
   "outputs": [
    {
     "ename": "NameError",
     "evalue": "name 'date2' is not defined",
     "output_type": "error",
     "traceback": [
      "\u001b[1;31m---------------------------------------------------------------------------\u001b[0m",
      "\u001b[1;31mNameError\u001b[0m                                 Traceback (most recent call last)",
      "Cell \u001b[1;32mIn[8], line 2\u001b[0m\n\u001b[0;32m      1\u001b[0m \u001b[38;5;66;03m# если из большей даты вычесть меньшую, то мы получим временной промежуток между датами\u001b[39;00m\n\u001b[1;32m----> 2\u001b[0m diff \u001b[38;5;241m=\u001b[39m date2 \u001b[38;5;241m-\u001b[39m date1\n\u001b[0;32m      3\u001b[0m \u001b[38;5;28mprint\u001b[39m(diff)\n",
      "\u001b[1;31mNameError\u001b[0m: name 'date2' is not defined"
     ]
    }
   ],
   "source": [
    "# если из большей даты вычесть меньшую, то мы получим\n",
    "# временной промежуток между датами\n",
    "diff = date2 - date1\n",
    "print(diff)"
   ]
  },
  {
   "cell_type": "code",
   "execution_count": null,
   "metadata": {
    "colab": {
     "base_uri": "https://localhost:8080/"
    },
    "id": "J-NTeeEhup9m",
    "outputId": "a14a600b-1fd7-4a22-d982-2ccf4a96433c"
   },
   "outputs": [
    {
     "data": {
      "text/plain": [
       "datetime.timedelta"
      ]
     },
     "execution_count": 70,
     "metadata": {},
     "output_type": "execute_result"
    }
   ],
   "source": [
    "# при этом результат будет храниться в специальном объекте timedelta\n",
    "type(diff)"
   ]
  },
  {
   "cell_type": "code",
   "execution_count": null,
   "metadata": {
    "colab": {
     "base_uri": "https://localhost:8080/"
    },
    "id": "aFNEGOxcsMF3",
    "outputId": "59d0a6da-8dc1-4bda-e833-7c2b371367fd"
   },
   "outputs": [
    {
     "name": "stdout",
     "output_type": "stream",
     "text": [
      "3968\n"
     ]
    }
   ],
   "source": [
    "# атрибут days позволяет посмотреть только дни\n",
    "print(diff.days)"
   ]
  },
  {
   "cell_type": "code",
   "execution_count": null,
   "metadata": {
    "colab": {
     "base_uri": "https://localhost:8080/"
    },
    "id": "EiefdopEvouW",
    "outputId": "f6150ba8-aacf-4caf-a7b1-083e56d559a0"
   },
   "outputs": [
    {
     "data": {
      "text/plain": [
       "datetime.timedelta(days=1)"
      ]
     },
     "execution_count": 72,
     "metadata": {},
     "output_type": "execute_result"
    }
   ],
   "source": [
    "# объект timedelta можно также создать вручную\n",
    "\n",
    "\n",
    "# а затем создадим объект timedelta продолжительностью 1 день\n",
    "timedelta(days=1)"
   ]
  },
  {
   "cell_type": "markdown",
   "metadata": {
    "id": "pyI8hHfnvg3N"
   },
   "source": [
    "Арифметика дат"
   ]
  },
  {
   "cell_type": "code",
   "execution_count": 9,
   "metadata": {
    "colab": {
     "base_uri": "https://localhost:8080/"
    },
    "id": "nkffSQKXuGCU",
    "outputId": "ec5d4ccc-9379-4218-b4eb-052b7428db8e"
   },
   "outputs": [
    {
     "data": {
      "text/plain": [
       "datetime.datetime(2070, 1, 1, 0, 0)"
      ]
     },
     "execution_count": 9,
     "metadata": {},
     "output_type": "execute_result"
    }
   ],
   "source": [
    "# смотрите, что получается,\n",
    "# объединив объекты datetime и timedelta, мы можем \"путешествовать во времени\"\n",
    "\n",
    "# допустим сейчас 1 января 2070 года\n",
    "future = datetime(2070, 1, 1)\n",
    "future"
   ]
  },
  {
   "cell_type": "code",
   "execution_count": null,
   "metadata": {
    "colab": {
     "base_uri": "https://localhost:8080/"
    },
    "id": "u33VnF9FwdOK",
    "outputId": "db91b0e6-2d95-4005-e741-2d37cf5fb018"
   },
   "outputs": [
    {
     "data": {
      "text/plain": [
       "datetime.datetime(1900, 2, 12, 0, 0)"
      ]
     },
     "execution_count": 74,
     "metadata": {},
     "output_type": "execute_result"
    }
   ],
   "source": [
    "# а мы хотим отправиться в 1 января 1900 года, т.е. на 170 лет назад\n",
    "\n",
    "# сначала просто умножим 365 дней на 170\n",
    "time_travel = timedelta(days=365) * 170\n",
    "\n",
    "# а потом переместимся из будущего в прошлое\n",
    "past = future - time_travel\n",
    "\n",
    "# к сожалению, мы немного \"не долетим\", потому что не учли високосные годы,\n",
    "# в которых 366 дней\n",
    "past"
   ]
  },
  {
   "cell_type": "code",
   "execution_count": null,
   "metadata": {
    "colab": {
     "base_uri": "https://localhost:8080/"
    },
    "id": "IWpNXDwu9x3W",
    "outputId": "c37fff62-1418-45ea-901f-6c1d2b594580"
   },
   "outputs": [
    {
     "data": {
      "text/plain": [
       "62050"
      ]
     },
     "execution_count": 75,
     "metadata": {},
     "output_type": "execute_result"
    }
   ],
   "source": [
    "# мы пролетели 62050 дней\n",
    "365 * 170"
   ]
  },
  {
   "cell_type": "code",
   "execution_count": null,
   "metadata": {
    "colab": {
     "base_uri": "https://localhost:8080/"
    },
    "id": "sHiGMhj77tgo",
    "outputId": "c33a8fd2-1e9f-4c0d-9a5d-c0ef0b406d9c"
   },
   "outputs": [
    {
     "data": {
      "text/plain": [
       "datetime.timedelta(days=62092)"
      ]
     },
     "execution_count": 76,
     "metadata": {},
     "output_type": "execute_result"
    }
   ],
   "source": [
    "# но мы уже умеем вычислять точное количество дней (с учетом високосных годов)\n",
    "print(datetime(2070, 1, 1) - datetime(1900, 1, 1))"
   ]
  },
  {
   "cell_type": "code",
   "execution_count": null,
   "metadata": {
    "colab": {
     "base_uri": "https://localhost:8080/"
    },
    "id": "MWZY2OQN8G-7",
    "outputId": "88ad8f91-deac-45a0-cdf6-0450ca51b603"
   },
   "outputs": [
    {
     "data": {
      "text/plain": [
       "datetime.datetime(1900, 1, 1, 0, 0)"
      ]
     },
     "execution_count": 77,
     "metadata": {},
     "output_type": "execute_result"
    }
   ],
   "source": [
    "# теперь снова совершим путешествие во времени,\n",
    "# но на этот раз укажем правильное количество дней\n",
    "time_travel = timedelta(days=62092)\n",
    "\n",
    "past = future - time_travel\n",
    "past"
   ]
  },
  {
   "cell_type": "code",
   "execution_count": null,
   "metadata": {
    "colab": {
     "base_uri": "https://localhost:8080/"
    },
    "id": "nkSTbuvexi9g",
    "outputId": "d3489414-84f5-4ca6-fb73-8707dd0dc2ec"
   },
   "outputs": [
    {
     "name": "stdout",
     "output_type": "stream",
     "text": [
      "Jan 01, 2021\n",
      "Jan 02, 2021\n",
      "Jan 03, 2021\n",
      "Jan 04, 2021\n",
      "Jan 05, 2021\n",
      "Jan 06, 2021\n",
      "Jan 07, 2021\n",
      "Jan 08, 2021\n",
      "Jan 09, 2021\n",
      "Jan 10, 2021\n"
     ]
    }
   ],
   "source": [
    "# иногда бывает удобно воспользоваться циклом while, чтобы создать перечень дат\n",
    "# например, список праздничных новогодних дней в 2021 году\n",
    "\n",
    "cur_date = datetime(2021, 1, 1)  # эту дату мы будем выводить\n",
    "end_date = datetime(2021, 1, 10)  # это граница (условие в цикле while)\n",
    "\n",
    "# пока верно условие\n",
    "while cur_date <= end_date:\n",
    "\n",
    "    # выведем cur_date в формате \"месяц число, год\"\n",
    "    print(cur_date.strftime(\"%b %d, %Y\"))\n",
    "\n",
    "    # прибавим к выводимой дате один день\n",
    "    cur_date += timedelta(days=1)"
   ]
  },
  {
   "cell_type": "markdown",
   "metadata": {
    "id": "3cOKyoFdBtZm"
   },
   "source": [
    "### Дата и обработка ошибок"
   ]
  },
  {
   "cell_type": "markdown",
   "metadata": {
    "id": "lrt4HeBBB29k"
   },
   "source": [
    "Конструкция try/except и оператор pass"
   ]
  },
  {
   "cell_type": "code",
   "execution_count": null,
   "metadata": {
    "colab": {
     "base_uri": "https://localhost:8080/"
    },
    "id": "FKxevIYyB84_",
    "outputId": "bec690e7-0d3d-4809-839c-477ccadd68f1"
   },
   "outputs": [
    {
     "data": {
      "text/plain": [
       "40"
      ]
     },
     "execution_count": 79,
     "metadata": {},
     "output_type": "execute_result"
    }
   ],
   "source": [
    "# пусть дан список чисел в строковом формате, и мы хотим посчитать их сумму\n",
    "# предположим, буква \"а\" попала в список случайно\n",
    "numbers = [\"5\", \"10\", \"a\", \"15\", \"10\"]\n",
    "\n",
    "# объявим переменную суммы\n",
    "total = 0\n",
    "\n",
    "# пройдемся по числам\n",
    "for number in numbers:\n",
    "\n",
    "    # попробуем прибавить число к переменной total\n",
    "    try:\n",
    "        total += int(number)\n",
    "\n",
    "    # если же этого сделать не удастся\n",
    "    except ValueError:\n",
    "        # перейдем к следующему числу\n",
    "        continue\n",
    "\n",
    "# выведем сумму\n",
    "total"
   ]
  },
  {
   "cell_type": "code",
   "execution_count": null,
   "metadata": {
    "colab": {
     "base_uri": "https://localhost:8080/"
    },
    "id": "uTWdPszlOnft",
    "outputId": "690633b3-11f3-45b8-dc40-8ac507710aab"
   },
   "outputs": [
    {
     "name": "stdout",
     "output_type": "stream",
     "text": [
      "Элемент 'a' обработать не удалось\n"
     ]
    },
    {
     "data": {
      "text/plain": [
       "40"
      ]
     },
     "execution_count": 80,
     "metadata": {},
     "output_type": "execute_result"
    }
   ],
   "source": [
    "# напишем этот же код\n",
    "total = 0\n",
    "\n",
    "for number in numbers:\n",
    "    try:\n",
    "        total += int(number)\n",
    "    except ValueError:\n",
    "        # но выведем предупреждение, если число прибавить не удалось\n",
    "        print(f\"Элемент '{number}' обработать не удалось\")\n",
    "\n",
    "total"
   ]
  },
  {
   "cell_type": "markdown",
   "metadata": {
    "id": "40mo2GvDUeuB"
   },
   "source": [
    "Обработка нескольких форматов дат"
   ]
  },
  {
   "cell_type": "code",
   "execution_count": null,
   "metadata": {
    "colab": {
     "base_uri": "https://localhost:8080/",
     "height": 426
    },
    "id": "Dk8u6vXsUd0V",
    "outputId": "53afbaf6-51c5-4cdf-dc09-040a7a90584e"
   },
   "outputs": [
    {
     "data": {
      "application/vnd.google.colaboratory.intrinsic+json": {
       "summary": "{\n  \"name\": \"temp\",\n  \"rows\": 12,\n  \"fields\": [\n    {\n      \"column\": \"Date\",\n      \"properties\": {\n        \"dtype\": \"string\",\n        \"num_unique_values\": 12,\n        \"samples\": [\n          \"11-2002\",\n          \"2002-10-01\",\n          \"2002-01-01\"\n        ],\n        \"semantic_type\": \"\",\n        \"description\": \"\"\n      }\n    },\n    {\n      \"column\": \"Temp\",\n      \"properties\": {\n        \"dtype\": \"number\",\n        \"std\": 16.202122943577113,\n        \"min\": 44.1,\n        \"max\": 88.8,\n        \"num_unique_values\": 12,\n        \"samples\": [\n          53.9,\n          64.1,\n          47.1\n        ],\n        \"semantic_type\": \"\",\n        \"description\": \"\"\n      }\n    }\n  ]\n}",
       "type": "dataframe",
       "variable_name": "temp"
      },
      "text/html": [
       "\n",
       "  <div id=\"df-8f7d81d4-c8ca-499f-94c9-e460cea8ddc7\" class=\"colab-df-container\">\n",
       "    <div>\n",
       "<style scoped>\n",
       "    .dataframe tbody tr th:only-of-type {\n",
       "        vertical-align: middle;\n",
       "    }\n",
       "\n",
       "    .dataframe tbody tr th {\n",
       "        vertical-align: top;\n",
       "    }\n",
       "\n",
       "    .dataframe thead th {\n",
       "        text-align: right;\n",
       "    }\n",
       "</style>\n",
       "<table border=\"1\" class=\"dataframe\">\n",
       "  <thead>\n",
       "    <tr style=\"text-align: right;\">\n",
       "      <th></th>\n",
       "      <th>Date</th>\n",
       "      <th>Temp</th>\n",
       "    </tr>\n",
       "  </thead>\n",
       "  <tbody>\n",
       "    <tr>\n",
       "      <th>0</th>\n",
       "      <td>2002-01-01</td>\n",
       "      <td>47.1</td>\n",
       "    </tr>\n",
       "    <tr>\n",
       "      <th>1</th>\n",
       "      <td>2002-02</td>\n",
       "      <td>50.5</td>\n",
       "    </tr>\n",
       "    <tr>\n",
       "      <th>2</th>\n",
       "      <td>2002-03-1</td>\n",
       "      <td>54.9</td>\n",
       "    </tr>\n",
       "    <tr>\n",
       "      <th>3</th>\n",
       "      <td>2002-04</td>\n",
       "      <td>66.1</td>\n",
       "    </tr>\n",
       "    <tr>\n",
       "      <th>4</th>\n",
       "      <td>2002-05-01</td>\n",
       "      <td>72.7</td>\n",
       "    </tr>\n",
       "    <tr>\n",
       "      <th>5</th>\n",
       "      <td>2002-06</td>\n",
       "      <td>83.2</td>\n",
       "    </tr>\n",
       "    <tr>\n",
       "      <th>6</th>\n",
       "      <td>2002-07</td>\n",
       "      <td>88.8</td>\n",
       "    </tr>\n",
       "    <tr>\n",
       "      <th>7</th>\n",
       "      <td>2002-08-1</td>\n",
       "      <td>87.8</td>\n",
       "    </tr>\n",
       "    <tr>\n",
       "      <th>8</th>\n",
       "      <td>2002-09-01</td>\n",
       "      <td>80.2</td>\n",
       "    </tr>\n",
       "    <tr>\n",
       "      <th>9</th>\n",
       "      <td>2002-10-01</td>\n",
       "      <td>64.1</td>\n",
       "    </tr>\n",
       "    <tr>\n",
       "      <th>10</th>\n",
       "      <td>11-2002</td>\n",
       "      <td>53.9</td>\n",
       "    </tr>\n",
       "    <tr>\n",
       "      <th>11</th>\n",
       "      <td>2002-12-01</td>\n",
       "      <td>44.1</td>\n",
       "    </tr>\n",
       "  </tbody>\n",
       "</table>\n",
       "</div>\n",
       "    <div class=\"colab-df-buttons\">\n",
       "\n",
       "  <div class=\"colab-df-container\">\n",
       "    <button class=\"colab-df-convert\" onclick=\"convertToInteractive('df-8f7d81d4-c8ca-499f-94c9-e460cea8ddc7')\"\n",
       "            title=\"Convert this dataframe to an interactive table.\"\n",
       "            style=\"display:none;\">\n",
       "\n",
       "  <svg xmlns=\"http://www.w3.org/2000/svg\" height=\"24px\" viewBox=\"0 -960 960 960\">\n",
       "    <path d=\"M120-120v-720h720v720H120Zm60-500h600v-160H180v160Zm220 220h160v-160H400v160Zm0 220h160v-160H400v160ZM180-400h160v-160H180v160Zm440 0h160v-160H620v160ZM180-180h160v-160H180v160Zm440 0h160v-160H620v160Z\"/>\n",
       "  </svg>\n",
       "    </button>\n",
       "\n",
       "  <style>\n",
       "    .colab-df-container {\n",
       "      display:flex;\n",
       "      gap: 12px;\n",
       "    }\n",
       "\n",
       "    .colab-df-convert {\n",
       "      background-color: #E8F0FE;\n",
       "      border: none;\n",
       "      border-radius: 50%;\n",
       "      cursor: pointer;\n",
       "      display: none;\n",
       "      fill: #1967D2;\n",
       "      height: 32px;\n",
       "      padding: 0 0 0 0;\n",
       "      width: 32px;\n",
       "    }\n",
       "\n",
       "    .colab-df-convert:hover {\n",
       "      background-color: #E2EBFA;\n",
       "      box-shadow: 0px 1px 2px rgba(60, 64, 67, 0.3), 0px 1px 3px 1px rgba(60, 64, 67, 0.15);\n",
       "      fill: #174EA6;\n",
       "    }\n",
       "\n",
       "    .colab-df-buttons div {\n",
       "      margin-bottom: 4px;\n",
       "    }\n",
       "\n",
       "    [theme=dark] .colab-df-convert {\n",
       "      background-color: #3B4455;\n",
       "      fill: #D2E3FC;\n",
       "    }\n",
       "\n",
       "    [theme=dark] .colab-df-convert:hover {\n",
       "      background-color: #434B5C;\n",
       "      box-shadow: 0px 1px 3px 1px rgba(0, 0, 0, 0.15);\n",
       "      filter: drop-shadow(0px 1px 2px rgba(0, 0, 0, 0.3));\n",
       "      fill: #FFFFFF;\n",
       "    }\n",
       "  </style>\n",
       "\n",
       "    <script>\n",
       "      const buttonEl =\n",
       "        document.querySelector('#df-8f7d81d4-c8ca-499f-94c9-e460cea8ddc7 button.colab-df-convert');\n",
       "      buttonEl.style.display =\n",
       "        google.colab.kernel.accessAllowed ? 'block' : 'none';\n",
       "\n",
       "      async function convertToInteractive(key) {\n",
       "        const element = document.querySelector('#df-8f7d81d4-c8ca-499f-94c9-e460cea8ddc7');\n",
       "        const dataTable =\n",
       "          await google.colab.kernel.invokeFunction('convertToInteractive',\n",
       "                                                    [key], {});\n",
       "        if (!dataTable) return;\n",
       "\n",
       "        const docLinkHtml = 'Like what you see? Visit the ' +\n",
       "          '<a target=\"_blank\" href=https://colab.research.google.com/notebooks/data_table.ipynb>data table notebook</a>'\n",
       "          + ' to learn more about interactive tables.';\n",
       "        element.innerHTML = '';\n",
       "        dataTable['output_type'] = 'display_data';\n",
       "        await google.colab.output.renderOutput(dataTable, element);\n",
       "        const docLink = document.createElement('div');\n",
       "        docLink.innerHTML = docLinkHtml;\n",
       "        element.appendChild(docLink);\n",
       "      }\n",
       "    </script>\n",
       "  </div>\n",
       "\n",
       "\n",
       "<div id=\"df-3dcecac0-a05a-4c39-8f28-12c906aba3c7\">\n",
       "  <button class=\"colab-df-quickchart\" onclick=\"quickchart('df-3dcecac0-a05a-4c39-8f28-12c906aba3c7')\"\n",
       "            title=\"Suggest charts\"\n",
       "            style=\"display:none;\">\n",
       "\n",
       "<svg xmlns=\"http://www.w3.org/2000/svg\" height=\"24px\"viewBox=\"0 0 24 24\"\n",
       "     width=\"24px\">\n",
       "    <g>\n",
       "        <path d=\"M19 3H5c-1.1 0-2 .9-2 2v14c0 1.1.9 2 2 2h14c1.1 0 2-.9 2-2V5c0-1.1-.9-2-2-2zM9 17H7v-7h2v7zm4 0h-2V7h2v10zm4 0h-2v-4h2v4z\"/>\n",
       "    </g>\n",
       "</svg>\n",
       "  </button>\n",
       "\n",
       "<style>\n",
       "  .colab-df-quickchart {\n",
       "      --bg-color: #E8F0FE;\n",
       "      --fill-color: #1967D2;\n",
       "      --hover-bg-color: #E2EBFA;\n",
       "      --hover-fill-color: #174EA6;\n",
       "      --disabled-fill-color: #AAA;\n",
       "      --disabled-bg-color: #DDD;\n",
       "  }\n",
       "\n",
       "  [theme=dark] .colab-df-quickchart {\n",
       "      --bg-color: #3B4455;\n",
       "      --fill-color: #D2E3FC;\n",
       "      --hover-bg-color: #434B5C;\n",
       "      --hover-fill-color: #FFFFFF;\n",
       "      --disabled-bg-color: #3B4455;\n",
       "      --disabled-fill-color: #666;\n",
       "  }\n",
       "\n",
       "  .colab-df-quickchart {\n",
       "    background-color: var(--bg-color);\n",
       "    border: none;\n",
       "    border-radius: 50%;\n",
       "    cursor: pointer;\n",
       "    display: none;\n",
       "    fill: var(--fill-color);\n",
       "    height: 32px;\n",
       "    padding: 0;\n",
       "    width: 32px;\n",
       "  }\n",
       "\n",
       "  .colab-df-quickchart:hover {\n",
       "    background-color: var(--hover-bg-color);\n",
       "    box-shadow: 0 1px 2px rgba(60, 64, 67, 0.3), 0 1px 3px 1px rgba(60, 64, 67, 0.15);\n",
       "    fill: var(--button-hover-fill-color);\n",
       "  }\n",
       "\n",
       "  .colab-df-quickchart-complete:disabled,\n",
       "  .colab-df-quickchart-complete:disabled:hover {\n",
       "    background-color: var(--disabled-bg-color);\n",
       "    fill: var(--disabled-fill-color);\n",
       "    box-shadow: none;\n",
       "  }\n",
       "\n",
       "  .colab-df-spinner {\n",
       "    border: 2px solid var(--fill-color);\n",
       "    border-color: transparent;\n",
       "    border-bottom-color: var(--fill-color);\n",
       "    animation:\n",
       "      spin 1s steps(1) infinite;\n",
       "  }\n",
       "\n",
       "  @keyframes spin {\n",
       "    0% {\n",
       "      border-color: transparent;\n",
       "      border-bottom-color: var(--fill-color);\n",
       "      border-left-color: var(--fill-color);\n",
       "    }\n",
       "    20% {\n",
       "      border-color: transparent;\n",
       "      border-left-color: var(--fill-color);\n",
       "      border-top-color: var(--fill-color);\n",
       "    }\n",
       "    30% {\n",
       "      border-color: transparent;\n",
       "      border-left-color: var(--fill-color);\n",
       "      border-top-color: var(--fill-color);\n",
       "      border-right-color: var(--fill-color);\n",
       "    }\n",
       "    40% {\n",
       "      border-color: transparent;\n",
       "      border-right-color: var(--fill-color);\n",
       "      border-top-color: var(--fill-color);\n",
       "    }\n",
       "    60% {\n",
       "      border-color: transparent;\n",
       "      border-right-color: var(--fill-color);\n",
       "    }\n",
       "    80% {\n",
       "      border-color: transparent;\n",
       "      border-right-color: var(--fill-color);\n",
       "      border-bottom-color: var(--fill-color);\n",
       "    }\n",
       "    90% {\n",
       "      border-color: transparent;\n",
       "      border-bottom-color: var(--fill-color);\n",
       "    }\n",
       "  }\n",
       "</style>\n",
       "\n",
       "  <script>\n",
       "    async function quickchart(key) {\n",
       "      const quickchartButtonEl =\n",
       "        document.querySelector('#' + key + ' button');\n",
       "      quickchartButtonEl.disabled = true;  // To prevent multiple clicks.\n",
       "      quickchartButtonEl.classList.add('colab-df-spinner');\n",
       "      try {\n",
       "        const charts = await google.colab.kernel.invokeFunction(\n",
       "            'suggestCharts', [key], {});\n",
       "      } catch (error) {\n",
       "        console.error('Error during call to suggestCharts:', error);\n",
       "      }\n",
       "      quickchartButtonEl.classList.remove('colab-df-spinner');\n",
       "      quickchartButtonEl.classList.add('colab-df-quickchart-complete');\n",
       "    }\n",
       "    (() => {\n",
       "      let quickchartButtonEl =\n",
       "        document.querySelector('#df-3dcecac0-a05a-4c39-8f28-12c906aba3c7 button');\n",
       "      quickchartButtonEl.style.display =\n",
       "        google.colab.kernel.accessAllowed ? 'block' : 'none';\n",
       "    })();\n",
       "  </script>\n",
       "</div>\n",
       "\n",
       "  <div id=\"id_9a673f4b-b36e-4f3d-89e4-d954a255fce0\">\n",
       "    <style>\n",
       "      .colab-df-generate {\n",
       "        background-color: #E8F0FE;\n",
       "        border: none;\n",
       "        border-radius: 50%;\n",
       "        cursor: pointer;\n",
       "        display: none;\n",
       "        fill: #1967D2;\n",
       "        height: 32px;\n",
       "        padding: 0 0 0 0;\n",
       "        width: 32px;\n",
       "      }\n",
       "\n",
       "      .colab-df-generate:hover {\n",
       "        background-color: #E2EBFA;\n",
       "        box-shadow: 0px 1px 2px rgba(60, 64, 67, 0.3), 0px 1px 3px 1px rgba(60, 64, 67, 0.15);\n",
       "        fill: #174EA6;\n",
       "      }\n",
       "\n",
       "      [theme=dark] .colab-df-generate {\n",
       "        background-color: #3B4455;\n",
       "        fill: #D2E3FC;\n",
       "      }\n",
       "\n",
       "      [theme=dark] .colab-df-generate:hover {\n",
       "        background-color: #434B5C;\n",
       "        box-shadow: 0px 1px 3px 1px rgba(0, 0, 0, 0.15);\n",
       "        filter: drop-shadow(0px 1px 2px rgba(0, 0, 0, 0.3));\n",
       "        fill: #FFFFFF;\n",
       "      }\n",
       "    </style>\n",
       "    <button class=\"colab-df-generate\" onclick=\"generateWithVariable('temp')\"\n",
       "            title=\"Generate code using this dataframe.\"\n",
       "            style=\"display:none;\">\n",
       "\n",
       "  <svg xmlns=\"http://www.w3.org/2000/svg\" height=\"24px\"viewBox=\"0 0 24 24\"\n",
       "       width=\"24px\">\n",
       "    <path d=\"M7,19H8.4L18.45,9,17,7.55,7,17.6ZM5,21V16.75L18.45,3.32a2,2,0,0,1,2.83,0l1.4,1.43a1.91,1.91,0,0,1,.58,1.4,1.91,1.91,0,0,1-.58,1.4L9.25,21ZM18.45,9,17,7.55Zm-12,3A5.31,5.31,0,0,0,4.9,8.1,5.31,5.31,0,0,0,1,6.5,5.31,5.31,0,0,0,4.9,4.9,5.31,5.31,0,0,0,6.5,1,5.31,5.31,0,0,0,8.1,4.9,5.31,5.31,0,0,0,12,6.5,5.46,5.46,0,0,0,6.5,12Z\"/>\n",
       "  </svg>\n",
       "    </button>\n",
       "    <script>\n",
       "      (() => {\n",
       "      const buttonEl =\n",
       "        document.querySelector('#id_9a673f4b-b36e-4f3d-89e4-d954a255fce0 button.colab-df-generate');\n",
       "      buttonEl.style.display =\n",
       "        google.colab.kernel.accessAllowed ? 'block' : 'none';\n",
       "\n",
       "      buttonEl.onclick = () => {\n",
       "        google.colab.notebook.generateWithVariable('temp');\n",
       "      }\n",
       "      })();\n",
       "    </script>\n",
       "  </div>\n",
       "\n",
       "    </div>\n",
       "  </div>\n"
      ],
      "text/plain": [
       "          Date  Temp\n",
       "0   2002-01-01  47.1\n",
       "1      2002-02  50.5\n",
       "2    2002-03-1  54.9\n",
       "3      2002-04  66.1\n",
       "4   2002-05-01  72.7\n",
       "5      2002-06  83.2\n",
       "6      2002-07  88.8\n",
       "7    2002-08-1  87.8\n",
       "8   2002-09-01  80.2\n",
       "9   2002-10-01  64.1\n",
       "10     11-2002  53.9\n",
       "11  2002-12-01  44.1"
      ]
     },
     "execution_count": 81,
     "metadata": {},
     "output_type": "execute_result"
    }
   ],
   "source": [
    "temp = pd.read_csv(\"temperature.csv\")\n",
    "temp"
   ]
  },
  {
   "cell_type": "code",
   "execution_count": null,
   "metadata": {
    "colab": {
     "base_uri": "https://localhost:8080/"
    },
    "id": "eJwEsl-KTOcI",
    "outputId": "99997f56-4990-49d9-c38b-f1ff157b9ba4"
   },
   "outputs": [
    {
     "name": "stdout",
     "output_type": "stream",
     "text": [
      "2002-01-01 00:00:00\n",
      "2002-02-01 00:00:00\n",
      "2002-03-01 00:00:00\n",
      "2002-04-01 00:00:00\n",
      "2002-05-01 00:00:00\n",
      "2002-06-01 00:00:00\n",
      "2002-07-01 00:00:00\n",
      "2002-08-01 00:00:00\n",
      "2002-09-01 00:00:00\n",
      "2002-10-01 00:00:00\n",
      "2002-12-01 00:00:00\n",
      "Не обработалось записей: 1\n"
     ]
    }
   ],
   "source": [
    "# предположим, проанализировав все форматы дат, мы выявили следующие шаблоны\n",
    "formats = [\"%Y-%m-%d\", \"%Y-%m-%-d\", \"%Y-%m\"]\n",
    "\n",
    "# создадим счетчик для записей, которые не обработались\n",
    "counter = 0\n",
    "\n",
    "# пройдемся в цикле по столбцу Date\n",
    "for date_value in temp.Date:\n",
    "\n",
    "    # затем пройдемся по известным нам форматам\n",
    "    for format_str in formats:\n",
    "\n",
    "        # попробуем, применив каждый из форматов,\n",
    "        # преобразовать строку с датой в объект datetime\n",
    "        try:\n",
    "            print(datetime.strptime(date_value, format_str))\n",
    "            counter += 1\n",
    "\n",
    "        # если что-то пошло не так\n",
    "        except ValueError:\n",
    "            # перейдем к следующему формату (второй цикл for) или записи (первый цикл for)\n",
    "            continue\n",
    "\n",
    "# посмотрим, сколько записей не обработалось\n",
    "print(\"Не обработалось записей:\", len(temp) - counter)"
   ]
  },
  {
   "cell_type": "code",
   "execution_count": null,
   "metadata": {
    "colab": {
     "base_uri": "https://localhost:8080/",
     "height": 457
    },
    "id": "qLD4bzk8d0_x",
    "outputId": "63230b62-db94-4291-8459-2bd066f3d97d"
   },
   "outputs": [
    {
     "data": {
      "application/vnd.google.colaboratory.intrinsic+json": {
       "summary": "{\n  \"name\": \"temp_parsed\",\n  \"rows\": 12,\n  \"fields\": [\n    {\n      \"column\": \"Date\",\n      \"properties\": {\n        \"dtype\": \"string\",\n        \"num_unique_values\": 12,\n        \"samples\": [\n          \"11-2002\",\n          \"2002-10-01\",\n          \"2002-01-01\"\n        ],\n        \"semantic_type\": \"\",\n        \"description\": \"\"\n      }\n    },\n    {\n      \"column\": \"Temp\",\n      \"properties\": {\n        \"dtype\": \"number\",\n        \"std\": 16.202122943577113,\n        \"min\": 44.1,\n        \"max\": 88.8,\n        \"num_unique_values\": 12,\n        \"samples\": [\n          53.9,\n          64.1,\n          47.1\n        ],\n        \"semantic_type\": \"\",\n        \"description\": \"\"\n      }\n    }\n  ]\n}",
       "type": "dataframe",
       "variable_name": "temp_parsed"
      },
      "text/html": [
       "\n",
       "  <div id=\"df-bfaba59d-c749-4c20-9806-68d46f5fe080\" class=\"colab-df-container\">\n",
       "    <div>\n",
       "<style scoped>\n",
       "    .dataframe tbody tr th:only-of-type {\n",
       "        vertical-align: middle;\n",
       "    }\n",
       "\n",
       "    .dataframe tbody tr th {\n",
       "        vertical-align: top;\n",
       "    }\n",
       "\n",
       "    .dataframe thead th {\n",
       "        text-align: right;\n",
       "    }\n",
       "</style>\n",
       "<table border=\"1\" class=\"dataframe\">\n",
       "  <thead>\n",
       "    <tr style=\"text-align: right;\">\n",
       "      <th></th>\n",
       "      <th>Temp</th>\n",
       "    </tr>\n",
       "    <tr>\n",
       "      <th>Date</th>\n",
       "      <th></th>\n",
       "    </tr>\n",
       "  </thead>\n",
       "  <tbody>\n",
       "    <tr>\n",
       "      <th>2002-01-01</th>\n",
       "      <td>47.1</td>\n",
       "    </tr>\n",
       "    <tr>\n",
       "      <th>2002-02</th>\n",
       "      <td>50.5</td>\n",
       "    </tr>\n",
       "    <tr>\n",
       "      <th>2002-03-1</th>\n",
       "      <td>54.9</td>\n",
       "    </tr>\n",
       "    <tr>\n",
       "      <th>2002-04</th>\n",
       "      <td>66.1</td>\n",
       "    </tr>\n",
       "    <tr>\n",
       "      <th>2002-05-01</th>\n",
       "      <td>72.7</td>\n",
       "    </tr>\n",
       "    <tr>\n",
       "      <th>2002-06</th>\n",
       "      <td>83.2</td>\n",
       "    </tr>\n",
       "    <tr>\n",
       "      <th>2002-07</th>\n",
       "      <td>88.8</td>\n",
       "    </tr>\n",
       "    <tr>\n",
       "      <th>2002-08-1</th>\n",
       "      <td>87.8</td>\n",
       "    </tr>\n",
       "    <tr>\n",
       "      <th>2002-09-01</th>\n",
       "      <td>80.2</td>\n",
       "    </tr>\n",
       "    <tr>\n",
       "      <th>2002-10-01</th>\n",
       "      <td>64.1</td>\n",
       "    </tr>\n",
       "    <tr>\n",
       "      <th>11-2002</th>\n",
       "      <td>53.9</td>\n",
       "    </tr>\n",
       "    <tr>\n",
       "      <th>2002-12-01</th>\n",
       "      <td>44.1</td>\n",
       "    </tr>\n",
       "  </tbody>\n",
       "</table>\n",
       "</div>\n",
       "    <div class=\"colab-df-buttons\">\n",
       "\n",
       "  <div class=\"colab-df-container\">\n",
       "    <button class=\"colab-df-convert\" onclick=\"convertToInteractive('df-bfaba59d-c749-4c20-9806-68d46f5fe080')\"\n",
       "            title=\"Convert this dataframe to an interactive table.\"\n",
       "            style=\"display:none;\">\n",
       "\n",
       "  <svg xmlns=\"http://www.w3.org/2000/svg\" height=\"24px\" viewBox=\"0 -960 960 960\">\n",
       "    <path d=\"M120-120v-720h720v720H120Zm60-500h600v-160H180v160Zm220 220h160v-160H400v160Zm0 220h160v-160H400v160ZM180-400h160v-160H180v160Zm440 0h160v-160H620v160ZM180-180h160v-160H180v160Zm440 0h160v-160H620v160Z\"/>\n",
       "  </svg>\n",
       "    </button>\n",
       "\n",
       "  <style>\n",
       "    .colab-df-container {\n",
       "      display:flex;\n",
       "      gap: 12px;\n",
       "    }\n",
       "\n",
       "    .colab-df-convert {\n",
       "      background-color: #E8F0FE;\n",
       "      border: none;\n",
       "      border-radius: 50%;\n",
       "      cursor: pointer;\n",
       "      display: none;\n",
       "      fill: #1967D2;\n",
       "      height: 32px;\n",
       "      padding: 0 0 0 0;\n",
       "      width: 32px;\n",
       "    }\n",
       "\n",
       "    .colab-df-convert:hover {\n",
       "      background-color: #E2EBFA;\n",
       "      box-shadow: 0px 1px 2px rgba(60, 64, 67, 0.3), 0px 1px 3px 1px rgba(60, 64, 67, 0.15);\n",
       "      fill: #174EA6;\n",
       "    }\n",
       "\n",
       "    .colab-df-buttons div {\n",
       "      margin-bottom: 4px;\n",
       "    }\n",
       "\n",
       "    [theme=dark] .colab-df-convert {\n",
       "      background-color: #3B4455;\n",
       "      fill: #D2E3FC;\n",
       "    }\n",
       "\n",
       "    [theme=dark] .colab-df-convert:hover {\n",
       "      background-color: #434B5C;\n",
       "      box-shadow: 0px 1px 3px 1px rgba(0, 0, 0, 0.15);\n",
       "      filter: drop-shadow(0px 1px 2px rgba(0, 0, 0, 0.3));\n",
       "      fill: #FFFFFF;\n",
       "    }\n",
       "  </style>\n",
       "\n",
       "    <script>\n",
       "      const buttonEl =\n",
       "        document.querySelector('#df-bfaba59d-c749-4c20-9806-68d46f5fe080 button.colab-df-convert');\n",
       "      buttonEl.style.display =\n",
       "        google.colab.kernel.accessAllowed ? 'block' : 'none';\n",
       "\n",
       "      async function convertToInteractive(key) {\n",
       "        const element = document.querySelector('#df-bfaba59d-c749-4c20-9806-68d46f5fe080');\n",
       "        const dataTable =\n",
       "          await google.colab.kernel.invokeFunction('convertToInteractive',\n",
       "                                                    [key], {});\n",
       "        if (!dataTable) return;\n",
       "\n",
       "        const docLinkHtml = 'Like what you see? Visit the ' +\n",
       "          '<a target=\"_blank\" href=https://colab.research.google.com/notebooks/data_table.ipynb>data table notebook</a>'\n",
       "          + ' to learn more about interactive tables.';\n",
       "        element.innerHTML = '';\n",
       "        dataTable['output_type'] = 'display_data';\n",
       "        await google.colab.output.renderOutput(dataTable, element);\n",
       "        const docLink = document.createElement('div');\n",
       "        docLink.innerHTML = docLinkHtml;\n",
       "        element.appendChild(docLink);\n",
       "      }\n",
       "    </script>\n",
       "  </div>\n",
       "\n",
       "\n",
       "<div id=\"df-cef260dd-a44e-41e9-9cc1-0dfc5e0d7a7f\">\n",
       "  <button class=\"colab-df-quickchart\" onclick=\"quickchart('df-cef260dd-a44e-41e9-9cc1-0dfc5e0d7a7f')\"\n",
       "            title=\"Suggest charts\"\n",
       "            style=\"display:none;\">\n",
       "\n",
       "<svg xmlns=\"http://www.w3.org/2000/svg\" height=\"24px\"viewBox=\"0 0 24 24\"\n",
       "     width=\"24px\">\n",
       "    <g>\n",
       "        <path d=\"M19 3H5c-1.1 0-2 .9-2 2v14c0 1.1.9 2 2 2h14c1.1 0 2-.9 2-2V5c0-1.1-.9-2-2-2zM9 17H7v-7h2v7zm4 0h-2V7h2v10zm4 0h-2v-4h2v4z\"/>\n",
       "    </g>\n",
       "</svg>\n",
       "  </button>\n",
       "\n",
       "<style>\n",
       "  .colab-df-quickchart {\n",
       "      --bg-color: #E8F0FE;\n",
       "      --fill-color: #1967D2;\n",
       "      --hover-bg-color: #E2EBFA;\n",
       "      --hover-fill-color: #174EA6;\n",
       "      --disabled-fill-color: #AAA;\n",
       "      --disabled-bg-color: #DDD;\n",
       "  }\n",
       "\n",
       "  [theme=dark] .colab-df-quickchart {\n",
       "      --bg-color: #3B4455;\n",
       "      --fill-color: #D2E3FC;\n",
       "      --hover-bg-color: #434B5C;\n",
       "      --hover-fill-color: #FFFFFF;\n",
       "      --disabled-bg-color: #3B4455;\n",
       "      --disabled-fill-color: #666;\n",
       "  }\n",
       "\n",
       "  .colab-df-quickchart {\n",
       "    background-color: var(--bg-color);\n",
       "    border: none;\n",
       "    border-radius: 50%;\n",
       "    cursor: pointer;\n",
       "    display: none;\n",
       "    fill: var(--fill-color);\n",
       "    height: 32px;\n",
       "    padding: 0;\n",
       "    width: 32px;\n",
       "  }\n",
       "\n",
       "  .colab-df-quickchart:hover {\n",
       "    background-color: var(--hover-bg-color);\n",
       "    box-shadow: 0 1px 2px rgba(60, 64, 67, 0.3), 0 1px 3px 1px rgba(60, 64, 67, 0.15);\n",
       "    fill: var(--button-hover-fill-color);\n",
       "  }\n",
       "\n",
       "  .colab-df-quickchart-complete:disabled,\n",
       "  .colab-df-quickchart-complete:disabled:hover {\n",
       "    background-color: var(--disabled-bg-color);\n",
       "    fill: var(--disabled-fill-color);\n",
       "    box-shadow: none;\n",
       "  }\n",
       "\n",
       "  .colab-df-spinner {\n",
       "    border: 2px solid var(--fill-color);\n",
       "    border-color: transparent;\n",
       "    border-bottom-color: var(--fill-color);\n",
       "    animation:\n",
       "      spin 1s steps(1) infinite;\n",
       "  }\n",
       "\n",
       "  @keyframes spin {\n",
       "    0% {\n",
       "      border-color: transparent;\n",
       "      border-bottom-color: var(--fill-color);\n",
       "      border-left-color: var(--fill-color);\n",
       "    }\n",
       "    20% {\n",
       "      border-color: transparent;\n",
       "      border-left-color: var(--fill-color);\n",
       "      border-top-color: var(--fill-color);\n",
       "    }\n",
       "    30% {\n",
       "      border-color: transparent;\n",
       "      border-left-color: var(--fill-color);\n",
       "      border-top-color: var(--fill-color);\n",
       "      border-right-color: var(--fill-color);\n",
       "    }\n",
       "    40% {\n",
       "      border-color: transparent;\n",
       "      border-right-color: var(--fill-color);\n",
       "      border-top-color: var(--fill-color);\n",
       "    }\n",
       "    60% {\n",
       "      border-color: transparent;\n",
       "      border-right-color: var(--fill-color);\n",
       "    }\n",
       "    80% {\n",
       "      border-color: transparent;\n",
       "      border-right-color: var(--fill-color);\n",
       "      border-bottom-color: var(--fill-color);\n",
       "    }\n",
       "    90% {\n",
       "      border-color: transparent;\n",
       "      border-bottom-color: var(--fill-color);\n",
       "    }\n",
       "  }\n",
       "</style>\n",
       "\n",
       "  <script>\n",
       "    async function quickchart(key) {\n",
       "      const quickchartButtonEl =\n",
       "        document.querySelector('#' + key + ' button');\n",
       "      quickchartButtonEl.disabled = true;  // To prevent multiple clicks.\n",
       "      quickchartButtonEl.classList.add('colab-df-spinner');\n",
       "      try {\n",
       "        const charts = await google.colab.kernel.invokeFunction(\n",
       "            'suggestCharts', [key], {});\n",
       "      } catch (error) {\n",
       "        console.error('Error during call to suggestCharts:', error);\n",
       "      }\n",
       "      quickchartButtonEl.classList.remove('colab-df-spinner');\n",
       "      quickchartButtonEl.classList.add('colab-df-quickchart-complete');\n",
       "    }\n",
       "    (() => {\n",
       "      let quickchartButtonEl =\n",
       "        document.querySelector('#df-cef260dd-a44e-41e9-9cc1-0dfc5e0d7a7f button');\n",
       "      quickchartButtonEl.style.display =\n",
       "        google.colab.kernel.accessAllowed ? 'block' : 'none';\n",
       "    })();\n",
       "  </script>\n",
       "</div>\n",
       "\n",
       "  <div id=\"id_f2673935-5a9c-43da-be2a-c992b9cd6e46\">\n",
       "    <style>\n",
       "      .colab-df-generate {\n",
       "        background-color: #E8F0FE;\n",
       "        border: none;\n",
       "        border-radius: 50%;\n",
       "        cursor: pointer;\n",
       "        display: none;\n",
       "        fill: #1967D2;\n",
       "        height: 32px;\n",
       "        padding: 0 0 0 0;\n",
       "        width: 32px;\n",
       "      }\n",
       "\n",
       "      .colab-df-generate:hover {\n",
       "        background-color: #E2EBFA;\n",
       "        box-shadow: 0px 1px 2px rgba(60, 64, 67, 0.3), 0px 1px 3px 1px rgba(60, 64, 67, 0.15);\n",
       "        fill: #174EA6;\n",
       "      }\n",
       "\n",
       "      [theme=dark] .colab-df-generate {\n",
       "        background-color: #3B4455;\n",
       "        fill: #D2E3FC;\n",
       "      }\n",
       "\n",
       "      [theme=dark] .colab-df-generate:hover {\n",
       "        background-color: #434B5C;\n",
       "        box-shadow: 0px 1px 3px 1px rgba(0, 0, 0, 0.15);\n",
       "        filter: drop-shadow(0px 1px 2px rgba(0, 0, 0, 0.3));\n",
       "        fill: #FFFFFF;\n",
       "      }\n",
       "    </style>\n",
       "    <button class=\"colab-df-generate\" onclick=\"generateWithVariable('temp_parsed')\"\n",
       "            title=\"Generate code using this dataframe.\"\n",
       "            style=\"display:none;\">\n",
       "\n",
       "  <svg xmlns=\"http://www.w3.org/2000/svg\" height=\"24px\"viewBox=\"0 0 24 24\"\n",
       "       width=\"24px\">\n",
       "    <path d=\"M7,19H8.4L18.45,9,17,7.55,7,17.6ZM5,21V16.75L18.45,3.32a2,2,0,0,1,2.83,0l1.4,1.43a1.91,1.91,0,0,1,.58,1.4,1.91,1.91,0,0,1-.58,1.4L9.25,21ZM18.45,9,17,7.55Zm-12,3A5.31,5.31,0,0,0,4.9,8.1,5.31,5.31,0,0,0,1,6.5,5.31,5.31,0,0,0,4.9,4.9,5.31,5.31,0,0,0,6.5,1,5.31,5.31,0,0,0,8.1,4.9,5.31,5.31,0,0,0,12,6.5,5.46,5.46,0,0,0,6.5,12Z\"/>\n",
       "  </svg>\n",
       "    </button>\n",
       "    <script>\n",
       "      (() => {\n",
       "      const buttonEl =\n",
       "        document.querySelector('#id_f2673935-5a9c-43da-be2a-c992b9cd6e46 button.colab-df-generate');\n",
       "      buttonEl.style.display =\n",
       "        google.colab.kernel.accessAllowed ? 'block' : 'none';\n",
       "\n",
       "      buttonEl.onclick = () => {\n",
       "        google.colab.notebook.generateWithVariable('temp_parsed');\n",
       "      }\n",
       "      })();\n",
       "    </script>\n",
       "  </div>\n",
       "\n",
       "    </div>\n",
       "  </div>\n"
      ],
      "text/plain": [
       "            Temp\n",
       "Date            \n",
       "2002-01-01  47.1\n",
       "2002-02     50.5\n",
       "2002-03-1   54.9\n",
       "2002-04     66.1\n",
       "2002-05-01  72.7\n",
       "2002-06     83.2\n",
       "2002-07     88.8\n",
       "2002-08-1   87.8\n",
       "2002-09-01  80.2\n",
       "2002-10-01  64.1\n",
       "11-2002     53.9\n",
       "2002-12-01  44.1"
      ]
     },
     "execution_count": 83,
     "metadata": {},
     "output_type": "execute_result"
    }
   ],
   "source": [
    "# воспользуемся решением \"из коробки\" библиотеки Pandas\n",
    "# передадим функции read_csv() параметр parse_dates\n",
    "temp_parsed = pd.read_csv(\n",
    "    \"temperature.csv\", index_col=\"Date\", parse_dates=True\n",
    ")\n",
    "temp_parsed"
   ]
  },
  {
   "cell_type": "code",
   "execution_count": null,
   "metadata": {
    "colab": {
     "base_uri": "https://localhost:8080/"
    },
    "id": "t0J8yIEBe5RX",
    "outputId": "40401823-db9a-4924-c778-2ddc87252c0a"
   },
   "outputs": [
    {
     "data": {
      "text/plain": [
       "pandas.core.indexes.base.Index"
      ]
     },
     "execution_count": 84,
     "metadata": {},
     "output_type": "execute_result"
    }
   ],
   "source": [
    "# индекс превратился в объект datetime\n",
    "type(temp_parsed.index)"
   ]
  },
  {
   "cell_type": "code",
   "execution_count": null,
   "metadata": {
    "id": "6bc29scvIkez"
   },
   "outputs": [],
   "source": []
  }
 ],
 "metadata": {
  "colab": {
   "provenance": [],
   "toc_visible": true
  },
  "kernelspec": {
   "display_name": "base",
   "language": "python",
   "name": "python3"
  },
  "language_info": {
   "codemirror_mode": {
    "name": "ipython",
    "version": 3
   },
   "file_extension": ".py",
   "mimetype": "text/x-python",
   "name": "python",
   "nbconvert_exporter": "python",
   "pygments_lexer": "ipython3",
   "version": "3.13.5"
  }
 },
 "nbformat": 4,
 "nbformat_minor": 0
}
