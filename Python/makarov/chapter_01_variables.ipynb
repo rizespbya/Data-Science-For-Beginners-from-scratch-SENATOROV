{
 "cells": [
  {
   "cell_type": "code",
   "execution_count": null,
   "metadata": {},
   "outputs": [],
   "source": [
    "\"\"\"Макаров. Переменные в Питоне.\"\"\""
   ]
  },
  {
   "cell_type": "markdown",
   "metadata": {
    "id": "I0uPBX2mQzs7"
   },
   "source": [
    "## Переменные в Питоне"
   ]
  },
  {
   "cell_type": "markdown",
   "metadata": {
    "id": "R7ZrffglCQb1"
   },
   "source": [
    "### Создание (объявление) переменных"
   ]
  },
  {
   "cell_type": "code",
   "execution_count": 3,
   "metadata": {
    "colab": {
     "base_uri": "https://localhost:8080/"
    },
    "collapsed": true,
    "id": "RFFjF2n_QvO_",
    "outputId": "3583b443-75f7-4189-f969-6d07c65e23fb"
   },
   "outputs": [
    {
     "name": "stdout",
     "output_type": "stream",
     "text": [
      "15\n"
     ]
    }
   ],
   "source": [
    "# можно создать переменную, присвоив ей числовое значение\n",
    "num: int = 15\n",
    "print(num)"
   ]
  },
  {
   "cell_type": "code",
   "execution_count": 4,
   "metadata": {
    "colab": {
     "base_uri": "https://localhost:8080/"
    },
    "id": "TnZXUdj7Cu93",
    "outputId": "163d7540-af1c-4589-ae1d-cf773592e197"
   },
   "outputs": [
    {
     "name": "stdout",
     "output_type": "stream",
     "text": [
      "<class 'str'>\n"
     ]
    }
   ],
   "source": [
    "# кроме того, переменной можно задать строковое (текстовое) значение\n",
    "text: str = \"Я программирую на Питоне\"\n",
    "print(str)"
   ]
  },
  {
   "cell_type": "code",
   "execution_count": 5,
   "metadata": {
    "colab": {
     "base_uri": "https://localhost:8080/"
    },
    "id": "exVyB2fYCzb1",
    "outputId": "d369c56c-3281-4b3d-b47d-2f772350eb7e"
   },
   "outputs": [
    {
     "name": "stdout",
     "output_type": "stream",
     "text": [
      "Питон C++ PHP\n"
     ]
    }
   ],
   "source": [
    "# в Питоне можно присвоить разные значения сразу нескольким переменным\n",
    "var_a, var_b, var_c = \"Питон\", \"C++\", \"PHP\"\n",
    "print(var_a, var_b, var_c)"
   ]
  },
  {
   "cell_type": "code",
   "execution_count": null,
   "metadata": {
    "colab": {
     "base_uri": "https://localhost:8080/"
    },
    "id": "83oEbEXJEQP-",
    "outputId": "9e833614-735a-4334-a4bd-7b5d692c1327"
   },
   "outputs": [
    {
     "name": "stdout",
     "output_type": "stream",
     "text": [
      "То же самое значение То же самое значение То же самое значение\n"
     ]
    }
   ],
   "source": [
    "# а также присвоить одно и то же значение нескольким переменным\n",
    "x_var = y_var = z_var = \"То же самое значение\"\n",
    "print(x_var, y_var, z_var)"
   ]
  },
  {
   "cell_type": "code",
   "execution_count": 6,
   "metadata": {
    "colab": {
     "base_uri": "https://localhost:8080/"
    },
    "id": "zYAaLNLeFRmp",
    "outputId": "c048011d-ee50-4a83-a702-5e8d5b4dec2a"
   },
   "outputs": [
    {
     "name": "stdout",
     "output_type": "stream",
     "text": [
      "помидоры огурцы картофель\n"
     ]
    }
   ],
   "source": [
    "# каждый элемент списка можно \"распаковать\" в переменные\n",
    "my_list: list[str] = [\"помидоры\", \"огурцы\", \"картофель\"]\n",
    "a_var, b_var, c_var = my_list\n",
    "print(a_var, b_var, c_var)"
   ]
  },
  {
   "cell_type": "markdown",
   "metadata": {
    "id": "eVDXV2fmGynU"
   },
   "source": [
    "### Автоматическое определение типа данных"
   ]
  },
  {
   "cell_type": "code",
   "execution_count": null,
   "metadata": {
    "id": "EpbgqBEFGPt-"
   },
   "outputs": [],
   "source": [
    "x_int = 256  # в этом случае переменной x присваивается тип int (целочисленное значение)\n",
    "y_float = 0.25  # y становится float (десятичной дробью)\n",
    "z_str = \"Просто текст\"  # z становится str (строкой)"
   ]
  },
  {
   "cell_type": "markdown",
   "metadata": {
    "id": "zcpZunn-Hlwe"
   },
   "source": [
    "### Как узнать тип переменной в Питоне"
   ]
  },
  {
   "cell_type": "code",
   "execution_count": null,
   "metadata": {
    "colab": {
     "base_uri": "https://localhost:8080/"
    },
    "id": "1LLieOW-HbfI",
    "outputId": "2297e548-d0ab-408e-c0b0-bcb55717b010"
   },
   "outputs": [
    {
     "name": "stdout",
     "output_type": "stream",
     "text": [
      "<class 'int'> <class 'float'> <class 'str'>\n"
     ]
    }
   ],
   "source": [
    "# узнаем тип переменных из предыдущего примера\n",
    "print(type(x_int), type(y_float), type(z_str))"
   ]
  },
  {
   "cell_type": "markdown",
   "metadata": {
    "id": "bKnzOjusH-HD"
   },
   "source": [
    "### Присвоение и преобразование типа данных"
   ]
  },
  {
   "cell_type": "markdown",
   "metadata": {
    "id": "W65e6CJ8SmxF"
   },
   "source": [
    "Присвоение типа данных"
   ]
  },
  {
   "cell_type": "code",
   "execution_count": 7,
   "metadata": {
    "id": "OHnMZJYKHs-L"
   },
   "outputs": [],
   "source": [
    "x_example_1 = str(25)  # число 25 превратится в строку\n",
    "y_example_2 = int(25)  # число 25 останется целочисленным значением\n",
    "z_example_3 = float(25)  # число 25 превратится в десятичную дробь"
   ]
  },
  {
   "cell_type": "code",
   "execution_count": 8,
   "metadata": {
    "colab": {
     "base_uri": "https://localhost:8080/"
    },
    "id": "sekbYKd_JS3G",
    "outputId": "edf741b7-e1d7-40d0-dc11-62199ae40ec6"
   },
   "outputs": [
    {
     "name": "stdout",
     "output_type": "stream",
     "text": [
      "<class 'str'> <class 'int'> <class 'float'>\n"
     ]
    }
   ],
   "source": [
    "print(type(x_example_1), type(y_example_2), type(z_example_3))"
   ]
  },
  {
   "cell_type": "markdown",
   "metadata": {
    "id": "rtPT684JSq6u"
   },
   "source": [
    "Изменение типа данных"
   ]
  },
  {
   "cell_type": "code",
   "execution_count": null,
   "metadata": {
    "colab": {
     "base_uri": "https://localhost:8080/"
    },
    "id": "H70L99djJU9p",
    "outputId": "6078e6ab-d753-4e62-92cb-78bbdc996a5d"
   },
   "outputs": [
    {
     "name": "stdout",
     "output_type": "stream",
     "text": [
      "<class 'int'>\n"
     ]
    }
   ],
   "source": [
    "# преобразуем строку, похожую на целое число, в целое число\n",
    "print(type(int(\"25\")))"
   ]
  },
  {
   "cell_type": "code",
   "execution_count": null,
   "metadata": {
    "colab": {
     "base_uri": "https://localhost:8080/"
    },
    "id": "Zn9ED-z9RZjJ",
    "outputId": "086ad810-8bcb-405e-f389-7e7fb9692a00"
   },
   "outputs": [
    {
     "name": "stdout",
     "output_type": "stream",
     "text": [
      "<class 'float'>\n"
     ]
    }
   ],
   "source": [
    "# или строку, похожую на дробь, в настоящую десятичную дробь\n",
    "print(type(float(\"2.5\")))"
   ]
  },
  {
   "cell_type": "code",
   "execution_count": 9,
   "metadata": {
    "colab": {
     "base_uri": "https://localhost:8080/"
    },
    "id": "QlC-xDZzQ6aN",
    "outputId": "727d2413-c113-4e53-8e53-e3bf96d64bb6"
   },
   "outputs": [
    {
     "name": "stdout",
     "output_type": "stream",
     "text": [
      "36\n",
      "<class 'int'>\n"
     ]
    }
   ],
   "source": [
    "# преобразуем дробь в целочисленное значение\n",
    "# обратите внимание, что округления в большую сторону не происходит\n",
    "print(int(36.6))\n",
    "print(type(int(36.6)))"
   ]
  },
  {
   "cell_type": "code",
   "execution_count": null,
   "metadata": {
    "colab": {
     "base_uri": "https://localhost:8080/"
    },
    "id": "tYAJJ-foRTbF",
    "outputId": "80eba5bc-c224-4ce2-a71b-be1220781683"
   },
   "outputs": [
    {
     "name": "stdout",
     "output_type": "stream",
     "text": [
      "<class 'str'>\n",
      "<class 'str'>\n"
     ]
    }
   ],
   "source": [
    "# конечно, и целое число, и дробь можно преобразовать в строку\n",
    "print(type(str(25)))\n",
    "print(type(str(36.6)))"
   ]
  },
  {
   "cell_type": "markdown",
   "metadata": {
    "id": "5d6zBJQwW5Gp"
   },
   "source": [
    "### Именование переменных"
   ]
  },
  {
   "cell_type": "markdown",
   "metadata": {
    "id": "EqkcH1eS2Z3J"
   },
   "source": [
    "Допустимые имена переменных"
   ]
  },
  {
   "cell_type": "code",
   "execution_count": null,
   "metadata": {
    "id": "IuzhrpKASPNe"
   },
   "outputs": [],
   "source": [
    "value = \"Просто переменная\"\n",
    "_variable = \"Просто переменная\"\n",
    "variable_ = \"Просто переменная\"\n",
    "my_variable = \"Просто переменная\"\n",
    "My_variable_123 = \"Просто переменная\""
   ]
  },
  {
   "cell_type": "markdown",
   "metadata": {
    "id": "72nuhEgw2fnv"
   },
   "source": [
    "Имя переменной состоит из нескольких слов"
   ]
  },
  {
   "cell_type": "code",
   "execution_count": null,
   "metadata": {
    "id": "1Vm18lbD0lmR"
   },
   "outputs": [],
   "source": [
    "# можно применить так называемый верблюжий регистр, camelCase\n",
    "# все слова кроме первого начинаются с заглавной буквы и пишутся слитно\n",
    "camelCaseVariable = \"Верблюжий регистр\"  # noqa: N816\n",
    "\n",
    "# нотацию Паскаль, PascalCase (то же самое, только теперь все слова пишутся с заглавной)\n",
    "PascalCaseVariable = \"Нотация Паскаль\"\n",
    "\n",
    "# змеиный стиль, snake_case (с нижними подчеркиваниями)\n",
    "snake_case_variable = \"Змеиная нотация\""
   ]
  },
  {
   "cell_type": "markdown",
   "metadata": {
    "id": "nzDydgtQ2kol"
   },
   "source": [
    "Недопустимые названия переменной"
   ]
  },
  {
   "cell_type": "code",
   "execution_count": null,
   "metadata": {
    "colab": {
     "base_uri": "https://localhost:8080/",
     "height": 106
    },
    "id": "UfYlDOrD2odd",
    "outputId": "990c05ec-3c6c-4080-90aa-88d5096e1a96"
   },
   "outputs": [
    {
     "ename": "SyntaxError",
     "evalue": "invalid decimal literal (<ipython-input-16-9f05446ea281>, line 2)",
     "output_type": "error",
     "traceback": [
      "\u001b[0;36m  File \u001b[0;32m\"<ipython-input-16-9f05446ea281>\"\u001b[0;36m, line \u001b[0;32m2\u001b[0m\n\u001b[0;31m    123variable = 'Так делать нельзя'\u001b[0m\n\u001b[0m      ^\u001b[0m\n\u001b[0;31mSyntaxError\u001b[0m\u001b[0;31m:\u001b[0m invalid decimal literal\n"
     ]
    }
   ],
   "source": [
    "# my-variable = 'Так делать нельзя'\n",
    "# 123variable = 'Так делать нельзя'\n",
    "# my variable = 'Так делать нельзя'"
   ]
  },
  {
   "cell_type": "markdown",
   "metadata": {
    "id": "3xhznH_GEZWX"
   },
   "source": [
    "### Ответы на вопросы"
   ]
  },
  {
   "cell_type": "markdown",
   "metadata": {
    "id": "0lIYm5SMEcKX"
   },
   "source": [
    "**Вопрос**. Как можно преобразовать список чисел таким образом, чтобы каждый элемент списка превратился в отдельную строку?"
   ]
  },
  {
   "cell_type": "code",
   "execution_count": null,
   "metadata": {
    "id": "5jwegAoqEbTI"
   },
   "outputs": [],
   "source": [
    "# возьмем простой список\n",
    "list_ = [1, 2, 3]"
   ]
  },
  {
   "cell_type": "code",
   "execution_count": null,
   "metadata": {
    "colab": {
     "base_uri": "https://localhost:8080/",
     "height": 35
    },
    "id": "ccFKfkOSEpVm",
    "outputId": "943a9e0f-aeaf-4173-a589-5c3ee0a2f04c"
   },
   "outputs": [
    {
     "data": {
      "application/vnd.google.colaboratory.intrinsic+json": {
       "type": "string"
      },
      "text/plain": [
       "'[1, 2, 3]'"
      ]
     },
     "execution_count": 18,
     "metadata": {},
     "output_type": "execute_result"
    }
   ],
   "source": [
    "# использовать только функцию str() нельзя\n",
    "str(list_)"
   ]
  },
  {
   "cell_type": "code",
   "execution_count": null,
   "metadata": {
    "colab": {
     "base_uri": "https://localhost:8080/"
    },
    "id": "mAPxwVGXFRzm",
    "outputId": "23eae9f6-cd59-4df9-88d8-687077b17fb0"
   },
   "outputs": [
    {
     "data": {
      "text/plain": [
       "['1', '2', '3']"
      ]
     },
     "execution_count": 19,
     "metadata": {},
     "output_type": "execute_result"
    }
   ],
   "source": [
    "# вариант 1: объявить новый список и в цикле for помещать туда строковые значения\n",
    "list_str = []\n",
    "\n",
    "for num in list_:\n",
    "    list_str.append(str(num))\n",
    "\n",
    "list_str"
   ]
  },
  {
   "cell_type": "code",
   "execution_count": null,
   "metadata": {
    "colab": {
     "base_uri": "https://localhost:8080/"
    },
    "id": "soCEH3jlExSX",
    "outputId": "7b26d106-3226-478b-c843-f93b9a8d8d4e"
   },
   "outputs": [
    {
     "data": {
      "text/plain": [
       "['1', '2', '3']"
      ]
     },
     "execution_count": 20,
     "metadata": {},
     "output_type": "execute_result"
    }
   ],
   "source": [
    "# вариант 2: использовать list comprehension\n",
    "str_list = [str(num) for num in list_]"
   ]
  },
  {
   "cell_type": "code",
   "execution_count": null,
   "metadata": {
    "colab": {
     "base_uri": "https://localhost:8080/"
    },
    "id": "W7TJpjR1FBZl",
    "outputId": "9a94fa59-5ef4-4bad-f063-2dca9f974d54"
   },
   "outputs": [
    {
     "data": {
      "text/plain": [
       "['1', '2', '3']"
      ]
     },
     "execution_count": 21,
     "metadata": {},
     "output_type": "execute_result"
    }
   ],
   "source": [
    "# вариант 3: функции map() и list()\n",
    "list(map(str, list_))"
   ]
  },
  {
   "cell_type": "code",
   "execution_count": null,
   "metadata": {
    "id": "1ZlJBM4XFOv5"
   },
   "outputs": [],
   "source": []
  }
 ],
 "metadata": {
  "colab": {
   "provenance": []
  },
  "kernelspec": {
   "display_name": "base",
   "language": "python",
   "name": "python3"
  },
  "language_info": {
   "codemirror_mode": {
    "name": "ipython",
    "version": 3
   },
   "file_extension": ".py",
   "mimetype": "text/x-python",
   "name": "python",
   "nbconvert_exporter": "python",
   "pygments_lexer": "ipython3",
   "version": "3.13.5"
  }
 },
 "nbformat": 4,
 "nbformat_minor": 0
}
