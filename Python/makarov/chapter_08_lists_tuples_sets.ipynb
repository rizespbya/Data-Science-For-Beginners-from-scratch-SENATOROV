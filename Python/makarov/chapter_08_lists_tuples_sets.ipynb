{
 "cells": [
  {
   "cell_type": "code",
   "execution_count": null,
   "metadata": {},
   "outputs": [],
   "source": [
    "\"\"\"Макаров.\n",
    "\n",
    "Списки, кортежи и множества.\n",
    "\"\"\""
   ]
  },
  {
   "cell_type": "markdown",
   "metadata": {
    "id": "0AoPSXyUTTLc"
   },
   "source": [
    "## Списки, кортежи и множества"
   ]
  },
  {
   "cell_type": "markdown",
   "metadata": {
    "id": "lIM5gFo4TbUg"
   },
   "source": [
    "### Списки"
   ]
  },
  {
   "cell_type": "markdown",
   "metadata": {
    "id": "PPEbDV8hCAGO"
   },
   "source": [
    "Основы работы со списками"
   ]
  },
  {
   "cell_type": "code",
   "execution_count": null,
   "metadata": {
    "colab": {
     "base_uri": "https://localhost:8080/"
    },
    "id": "x3wxNu5jthst",
    "outputId": "9ea10800-7ade-4833-d849-424f4252cab8"
   },
   "outputs": [
    {
     "name": "stdout",
     "output_type": "stream",
     "text": [
      "[] []\n"
     ]
    }
   ],
   "source": [
    "# пустой список можно создать через [] или функцию list()\n",
    "# импортируем класс стеммера и создаем объект\n",
    "from nltk.stem import PorterStemmer\n",
    "\n",
    "some_list_1: list[str] = []\n",
    "some_list_2: list[str] = list()  # pylint: disable=R1734\n",
    "\n",
    "print(some_list_1, some_list_2)"
   ]
  },
  {
   "cell_type": "code",
   "execution_count": null,
   "metadata": {
    "colab": {
     "base_uri": "https://localhost:8080/"
    },
    "id": "tLWO1t--thwP",
    "outputId": "bdba1e22-059a-4ae5-b5b7-f8cf32544eec"
   },
   "outputs": [
    {
     "data": {
      "text/plain": [
       "[3, 'число три', ['число', 'три'], {'число': 3}]"
      ]
     },
     "execution_count": 2,
     "metadata": {},
     "output_type": "execute_result"
    }
   ],
   "source": [
    "# элементами списка могут, в частности, быть числа, строки,\n",
    "# другие списки и словари\n",
    "number_three: list[int | str | list[str] | dict[str, int]] = [\n",
    "    3,\n",
    "    \"число три\",\n",
    "    [\"число\", \"три\"],\n",
    "    {\"число\": 3},\n",
    "]\n",
    "number_three"
   ]
  },
  {
   "cell_type": "code",
   "execution_count": null,
   "metadata": {
    "colab": {
     "base_uri": "https://localhost:8080/"
    },
    "id": "_jEdnwKSkbSE",
    "outputId": "c50a7419-d925-4a2c-ec7d-f705e2c988c0"
   },
   "outputs": [
    {
     "data": {
      "text/plain": [
       "4"
      ]
     },
     "execution_count": 3,
     "metadata": {},
     "output_type": "execute_result"
    }
   ],
   "source": [
    "# длина списка рассчитывается через функцию len()\n",
    "len(number_three)"
   ]
  },
  {
   "cell_type": "markdown",
   "metadata": {
    "id": "9KkaG7NJDOMW"
   },
   "source": [
    "Индекс и срез списка"
   ]
  },
  {
   "cell_type": "code",
   "execution_count": 1,
   "metadata": {
    "colab": {
     "base_uri": "https://localhost:8080/"
    },
    "id": "b3GS578dDRSH",
    "outputId": "76a19d40-7499-4467-efd0-8d07b1b5d968"
   },
   "outputs": [
    {
     "name": "stdout",
     "output_type": "stream",
     "text": [
      "a e\n"
     ]
    }
   ],
   "source": [
    "# у списка есть положительный и отрицательный индексы\n",
    "abc_list: list[str] = [\"a\", \"b\", \"c\", \"d\", \"e\"]\n",
    "\n",
    "# воспользуемся ими для вывода первого и последнего элементов\n",
    "print(abc_list[0], abc_list[-1])"
   ]
  },
  {
   "cell_type": "code",
   "execution_count": null,
   "metadata": {
    "colab": {
     "base_uri": "https://localhost:8080/",
     "height": 35
    },
    "id": "LsfIU3Z3F6Qo",
    "outputId": "ad2627b5-bc55-438f-ab49-be1c0ed9814e"
   },
   "outputs": [
    {
     "data": {
      "application/vnd.google.colaboratory.intrinsic+json": {
       "type": "string"
      },
      "text/plain": [
       "'Игорь'"
      ]
     },
     "execution_count": 5,
     "metadata": {},
     "output_type": "execute_result"
    }
   ],
   "source": [
    "# при работе с вложенным списком\n",
    "salary_list: list[list[str | int]] = [\n",
    "    [\"Анна\", 90000],\n",
    "    [\"Игорь\", 85000],\n",
    "    [\"Алексей\", 95000],\n",
    "]\n",
    "\n",
    "# мы вначале указываем индекс вложенного списка, а затем индекс элемента в нем\n",
    "salary_list[1][0]"
   ]
  },
  {
   "cell_type": "code",
   "execution_count": null,
   "metadata": {
    "colab": {
     "base_uri": "https://localhost:8080/"
    },
    "id": "hzcsnn7LISyc",
    "outputId": "8e597d24-f23d-41a7-d055-70220a1f033f"
   },
   "outputs": [
    {
     "data": {
      "text/plain": [
       "2"
      ]
     },
     "execution_count": 6,
     "metadata": {},
     "output_type": "execute_result"
    }
   ],
   "source": [
    "# индекс можно узнать с помощью метода .index()\n",
    "abc_list.index(\"c\")"
   ]
  },
  {
   "cell_type": "code",
   "execution_count": null,
   "metadata": {
    "colab": {
     "base_uri": "https://localhost:8080/"
    },
    "id": "ARwsxkVfrFOQ",
    "outputId": "3137c4c5-16bd-4ccb-e448-81cb54de5270"
   },
   "outputs": [
    {
     "data": {
      "text/plain": [
       "1"
      ]
     },
     "execution_count": 7,
     "metadata": {},
     "output_type": "execute_result"
    }
   ],
   "source": [
    "# метод .index() можно применить и ко вложенному списку\n",
    "salary_list[0].index(90000)"
   ]
  },
  {
   "cell_type": "code",
   "execution_count": null,
   "metadata": {
    "colab": {
     "base_uri": "https://localhost:8080/"
    },
    "id": "VvcCb_ZaItpp",
    "outputId": "25c98c5c-e90b-4adc-b28d-94d4802ed786"
   },
   "outputs": [
    {
     "data": {
      "text/plain": [
       "['Вт', 'Ср', 'Чт', 'Пт']"
      ]
     },
     "execution_count": 8,
     "metadata": {},
     "output_type": "execute_result"
    }
   ],
   "source": [
    "# создадим список с днями недели\n",
    "days_list: list[str] = [\"Пн\", \"Вт\", \"Ср\", \"Чт\", \"Пт\", \"Сб\", \"Вс\"]\n",
    "\n",
    "# и выведем со второго по пятый элемент включительно\n",
    "days_list[1:5]"
   ]
  },
  {
   "cell_type": "code",
   "execution_count": null,
   "metadata": {
    "colab": {
     "base_uri": "https://localhost:8080/"
    },
    "id": "vFJFJGigJ-kQ",
    "outputId": "a0b65aff-7ef8-428c-ea4f-9bd14651f442"
   },
   "outputs": [
    {
     "data": {
      "text/plain": [
       "['Пн', 'Ср', 'Пт']"
      ]
     },
     "execution_count": 9,
     "metadata": {},
     "output_type": "execute_result"
    }
   ],
   "source": [
    "# выведем каждый второй элемент в срезе с первого по пятый\n",
    "days_list[:5:2]"
   ]
  },
  {
   "cell_type": "code",
   "execution_count": null,
   "metadata": {
    "colab": {
     "base_uri": "https://localhost:8080/"
    },
    "id": "n6Q6not7t9GH",
    "outputId": "57d9edce-4af6-4e33-b058-147d844289e7"
   },
   "outputs": [
    {
     "data": {
      "text/plain": [
       "True"
      ]
     },
     "execution_count": 10,
     "metadata": {},
     "output_type": "execute_result"
    }
   ],
   "source": [
    "# проверим есть ли \"Пн\" в списке\n",
    "\"Пн\" in days_list"
   ]
  },
  {
   "cell_type": "code",
   "execution_count": null,
   "metadata": {
    "colab": {
     "base_uri": "https://localhost:8080/"
    },
    "id": "HpVMXHWDuXy7",
    "outputId": "5fd5743a-2da3-41a3-f875-ae4276e1cd63"
   },
   "outputs": [
    {
     "name": "stdout",
     "output_type": "stream",
     "text": [
      "Такое слово есть\n"
     ]
    }
   ],
   "source": [
    "# если \"Вт\" есть в списке\n",
    "if \"Вт\" in days_list:\n",
    "\n",
    "    # выведем сообщение\n",
    "    print(\"Такое слово есть\")"
   ]
  },
  {
   "cell_type": "markdown",
   "metadata": {
    "id": "msuaGJ1OLXrB"
   },
   "source": [
    "Добавление, замена и удаление элементов списка"
   ]
  },
  {
   "cell_type": "code",
   "execution_count": null,
   "metadata": {
    "id": "fEyyqpUDLcsY"
   },
   "outputs": [],
   "source": [
    "# создадим список\n",
    "weekdays: list[str] = [\"Понедельник\", \"Вторник\"]"
   ]
  },
  {
   "cell_type": "code",
   "execution_count": null,
   "metadata": {
    "colab": {
     "base_uri": "https://localhost:8080/"
    },
    "id": "2YK5UIHOnZwq",
    "outputId": "5fa9a3c3-f203-458c-a4fa-befa0b0f36a9"
   },
   "outputs": [
    {
     "data": {
      "text/plain": [
       "['Понедельник', 'Вторник', 'Четверг']"
      ]
     },
     "execution_count": 13,
     "metadata": {},
     "output_type": "execute_result"
    }
   ],
   "source": [
    "# добавим один элемент в конец списка с помощью метода .append()\n",
    "weekdays.append(\"Четверг\")\n",
    "weekdays"
   ]
  },
  {
   "cell_type": "code",
   "execution_count": null,
   "metadata": {
    "colab": {
     "base_uri": "https://localhost:8080/"
    },
    "id": "Yvrd-wOMnZ9d",
    "outputId": "8e85dec1-5b22-47c3-be53-25b8c2f3aa42"
   },
   "outputs": [
    {
     "data": {
      "text/plain": [
       "['Понедельник', 'Вторник', 'Среда', 'Четверг']"
      ]
     },
     "execution_count": 14,
     "metadata": {},
     "output_type": "execute_result"
    }
   ],
   "source": [
    "# добавим элемент в определенное место в списке\n",
    "# через желаемый индекс этого элемента\n",
    "weekdays.insert(2, \"Среда\")\n",
    "weekdays"
   ]
  },
  {
   "cell_type": "code",
   "execution_count": null,
   "metadata": {
    "colab": {
     "base_uri": "https://localhost:8080/"
    },
    "id": "zPEqoCsrzKEB",
    "outputId": "c7214ad0-de20-4d05-e178-0ae0b29081fe"
   },
   "outputs": [
    {
     "data": {
      "text/plain": [
       "['Понедельник', 'Вторник', 'Среда', 'Пятница']"
      ]
     },
     "execution_count": 15,
     "metadata": {},
     "output_type": "execute_result"
    }
   ],
   "source": [
    "# изменим четвертый элемент в списке\n",
    "weekdays[3] = \"Пятница\"\n",
    "weekdays"
   ]
  },
  {
   "cell_type": "code",
   "execution_count": null,
   "metadata": {
    "colab": {
     "base_uri": "https://localhost:8080/"
    },
    "id": "gsWduacznqg4",
    "outputId": "0ffc359c-e8dc-473a-d2dd-6bb573746afc"
   },
   "outputs": [
    {
     "data": {
      "text/plain": [
       "['Понедельник', 'Вторник', 'Среда']"
      ]
     },
     "execution_count": 16,
     "metadata": {},
     "output_type": "execute_result"
    }
   ],
   "source": [
    "# удалим элемент по его значению\n",
    "weekdays.remove(\"Пятница\")\n",
    "weekdays"
   ]
  },
  {
   "cell_type": "code",
   "execution_count": null,
   "metadata": {
    "colab": {
     "base_uri": "https://localhost:8080/"
    },
    "id": "D2bnKXNAxmq2",
    "outputId": "94426985-ebca-423b-e80a-dc3f5bc0a8b1"
   },
   "outputs": [
    {
     "data": {
      "text/plain": [
       "['Понедельник', 'Вторник']"
      ]
     },
     "execution_count": 17,
     "metadata": {},
     "output_type": "execute_result"
    }
   ],
   "source": [
    "# удалим элемент по его индексу через ключевое слово del\n",
    "del weekdays[2]\n",
    "weekdays"
   ]
  },
  {
   "cell_type": "code",
   "execution_count": null,
   "metadata": {
    "colab": {
     "base_uri": "https://localhost:8080/",
     "height": 35
    },
    "id": "CooE-D9ouFeP",
    "outputId": "149a53e2-baf6-4e8e-85a4-630ce28819a5"
   },
   "outputs": [
    {
     "data": {
      "application/vnd.google.colaboratory.intrinsic+json": {
       "type": "string"
      },
      "text/plain": [
       "'Вторник'"
      ]
     },
     "execution_count": 18,
     "metadata": {},
     "output_type": "execute_result"
    }
   ],
   "source": [
    "# сделаем то же самое с помощью метода .pop()\n",
    "# этот метод выводит удаляемый элемент\n",
    "weekdays.pop(1)"
   ]
  },
  {
   "cell_type": "code",
   "execution_count": null,
   "metadata": {
    "colab": {
     "base_uri": "https://localhost:8080/"
    },
    "id": "kM8rmPNXuyN6",
    "outputId": "f1a810fc-ccb3-4ccf-8f25-480dbb83f25a"
   },
   "outputs": [
    {
     "data": {
      "text/plain": [
       "['Понедельник']"
      ]
     },
     "execution_count": 19,
     "metadata": {},
     "output_type": "execute_result"
    }
   ],
   "source": [
    "# посмотрим, что осталось в нашем списке\n",
    "weekdays"
   ]
  },
  {
   "cell_type": "markdown",
   "metadata": {
    "id": "MWP0v0fz0IQ4"
   },
   "source": [
    "Сложение списков"
   ]
  },
  {
   "cell_type": "code",
   "execution_count": null,
   "metadata": {
    "colab": {
     "base_uri": "https://localhost:8080/"
    },
    "id": "cwu9M49e0HlB",
    "outputId": "66ef1e04-7468-47c7-9997-fd250cedf9f3"
   },
   "outputs": [
    {
     "data": {
      "text/plain": [
       "['Понедельник', 'Вторник', 'Среда', 'Четверг', 'Пятница']"
      ]
     },
     "execution_count": 20,
     "metadata": {},
     "output_type": "execute_result"
    }
   ],
   "source": [
    "# соединить два списка можно с помощью метода .extend()\n",
    "more_weekdays: list[str] = [\"Вторник\", \"Среда\", \"Четверг\", \"Пятница\"]\n",
    "\n",
    "weekdays.extend(more_weekdays)\n",
    "weekdays"
   ]
  },
  {
   "cell_type": "code",
   "execution_count": null,
   "metadata": {
    "colab": {
     "base_uri": "https://localhost:8080/"
    },
    "id": "CE07IDeZx0cl",
    "outputId": "e4674475-aa75-4468-a95b-f5a0c142300f"
   },
   "outputs": [
    {
     "name": "stdout",
     "output_type": "stream",
     "text": [
      "['Понедельник', 'Вторник', 'Среда', 'Четверг', 'Пятница', 'Суббота', 'Воскресенье']\n"
     ]
    }
   ],
   "source": [
    "weekend: list[str] = [\"Суббота\", \"Воскресенье\"]\n",
    "\n",
    "# или просто сложив два списка\n",
    "print(weekdays + weekend)"
   ]
  },
  {
   "cell_type": "code",
   "execution_count": null,
   "metadata": {
    "colab": {
     "base_uri": "https://localhost:8080/"
    },
    "id": "pJcSZ0jiz840",
    "outputId": "7edd4ed0-2c01-4beb-ca00-f2e135746e97"
   },
   "outputs": [
    {
     "data": {
      "text/plain": [
       "['Понедельник', 'Понедельник']"
      ]
     },
     "execution_count": 22,
     "metadata": {},
     "output_type": "execute_result"
    }
   ],
   "source": [
    "# иногда бывает полезно \"размножить\" элементы списка\n",
    "print([\"Понедельник\"] * 2)"
   ]
  },
  {
   "cell_type": "code",
   "execution_count": null,
   "metadata": {
    "colab": {
     "base_uri": "https://localhost:8080/"
    },
    "id": "3MRsPPs30N1V",
    "outputId": "5d0b022c-1487-43dc-b8dd-c4a5751187e0"
   },
   "outputs": [
    {
     "data": {
      "text/plain": [
       "['Понедельник', 'Понедельник', 'Вторник', 'Вторник']"
      ]
     },
     "execution_count": 23,
     "metadata": {},
     "output_type": "execute_result"
    }
   ],
   "source": [
    "# такие \"произведения\" также можно складывать\n",
    "print([\"Понедельник\"] * 2 + [\"Вторник\"] * 2)"
   ]
  },
  {
   "cell_type": "markdown",
   "metadata": {
    "id": "5zWQeyD4lsk9"
   },
   "source": [
    "Распаковка списков"
   ]
  },
  {
   "cell_type": "code",
   "execution_count": null,
   "metadata": {
    "id": "n6kQjWdPlv7P"
   },
   "outputs": [],
   "source": [
    "# дан список\n",
    "# \"_\" добавлен для того, чтобы избежать дублирования кода\n",
    "# и как следствие ошибок pylint\n",
    "week: list[str] = [\n",
    "    \"Понедельник_\",\n",
    "    \"Вторник_\",\n",
    "    \"Среда_\",\n",
    "    \"Четверг_\",\n",
    "    \"Пятница_\",\n",
    "    \"Суббота_\",\n",
    "    \"Воскресенье_\",\n",
    "]"
   ]
  },
  {
   "cell_type": "code",
   "execution_count": null,
   "metadata": {
    "colab": {
     "base_uri": "https://localhost:8080/",
     "height": 35
    },
    "id": "ZquIS9Lhl2z_",
    "outputId": "4c532ff3-8e31-45e0-ac63-515e8b9b621d"
   },
   "outputs": [
    {
     "data": {
      "application/vnd.google.colaboratory.intrinsic+json": {
       "type": "string"
      },
      "text/plain": [
       "'Понедельник'"
      ]
     },
     "execution_count": 25,
     "metadata": {},
     "output_type": "execute_result"
    }
   ],
   "source": [
    "# указав индекс элемента, его можно записать в переменную\n",
    "monday = week[0]\n",
    "monday"
   ]
  },
  {
   "cell_type": "code",
   "execution_count": null,
   "metadata": {
    "colab": {
     "base_uri": "https://localhost:8080/"
    },
    "id": "1HAhG91Dl22z",
    "outputId": "d0fd205e-f2c4-4888-fb93-7d0fa82464ba"
   },
   "outputs": [
    {
     "data": {
      "text/plain": [
       "('Понедельник', 'Вторник', 'Среда')"
      ]
     },
     "execution_count": 26,
     "metadata": {},
     "output_type": "execute_result"
    }
   ],
   "source": [
    "# срез можно поместить в несколько переменных\n",
    "monday, tuesday, wednesday = week[:3]\n",
    "\n",
    "# важно, чтобы количество элементов среза было равно количеству переменных\n",
    "monday, tuesday, wednesday"
   ]
  },
  {
   "cell_type": "code",
   "execution_count": null,
   "metadata": {
    "colab": {
     "base_uri": "https://localhost:8080/",
     "height": 35
    },
    "id": "hfnnO_eUl25o",
    "outputId": "cbf4587c-f1f0-445b-b973-64dd677f43f6"
   },
   "outputs": [
    {
     "data": {
      "application/vnd.google.colaboratory.intrinsic+json": {
       "type": "string"
      },
      "text/plain": [
       "'Понедельник'"
      ]
     },
     "execution_count": 27,
     "metadata": {},
     "output_type": "execute_result"
    }
   ],
   "source": [
    "# можно выделить первый элемент, а остальные поместить\n",
    "# в переменную со звездочкой\n",
    "monday, *rest = week\n",
    "monday"
   ]
  },
  {
   "cell_type": "code",
   "execution_count": null,
   "metadata": {
    "colab": {
     "base_uri": "https://localhost:8080/"
    },
    "id": "7oVKz24-m9lY",
    "outputId": "de4351b4-5e71-49b6-cb0b-beedca62c8c8"
   },
   "outputs": [
    {
     "data": {
      "text/plain": [
       "('Понедельник', 'Воскресенье')"
      ]
     },
     "execution_count": 28,
     "metadata": {},
     "output_type": "execute_result"
    }
   ],
   "source": [
    "# также можно поступить, например, с первым и последним элементом\n",
    "monday, *days, sunday = week\n",
    "monday, sunday"
   ]
  },
  {
   "cell_type": "code",
   "execution_count": null,
   "metadata": {
    "colab": {
     "base_uri": "https://localhost:8080/"
    },
    "id": "xgSI_44Mqlwv",
    "outputId": "53e11e9b-8830-48e0-97c5-986219ff5dc0"
   },
   "outputs": [
    {
     "data": {
      "text/plain": [
       "['Вторник', 'Среда', 'Четверг', 'Пятница', 'Суббота']"
      ]
     },
     "execution_count": 29,
     "metadata": {},
     "output_type": "execute_result"
    }
   ],
   "source": [
    "# посмотрим, какие элементы остались в переменной со звездочкой\n",
    "days"
   ]
  },
  {
   "cell_type": "markdown",
   "metadata": {
    "id": "CZZ2Tq0yq4l5"
   },
   "source": [
    "Сортировка списков"
   ]
  },
  {
   "cell_type": "code",
   "execution_count": null,
   "metadata": {
    "id": "zTBWIYWZr80H"
   },
   "outputs": [],
   "source": [
    "# возьмем список чисел\n",
    "nums: list[int] = [25, 10, 30, 20, 5, 15]"
   ]
  },
  {
   "cell_type": "code",
   "execution_count": null,
   "metadata": {
    "colab": {
     "base_uri": "https://localhost:8080/"
    },
    "id": "Zt9iwWx3q7IL",
    "outputId": "b991cb38-26b3-4c26-a6d9-668056437217"
   },
   "outputs": [
    {
     "data": {
      "text/plain": [
       "[5, 10, 15, 20, 25, 30]"
      ]
     },
     "execution_count": 31,
     "metadata": {},
     "output_type": "execute_result"
    }
   ],
   "source": [
    "# и отсортируем с помощью функции sorted(), результат выводится сразу\n",
    "sorted(nums)"
   ]
  },
  {
   "cell_type": "code",
   "execution_count": null,
   "metadata": {
    "colab": {
     "base_uri": "https://localhost:8080/"
    },
    "id": "vS7G44sVs0jv",
    "outputId": "14debf29-01e2-48ba-9d67-120ac5d35748"
   },
   "outputs": [
    {
     "data": {
      "text/plain": [
       "[25, 10, 30, 20, 5, 15]"
      ]
     },
     "execution_count": 32,
     "metadata": {},
     "output_type": "execute_result"
    }
   ],
   "source": [
    "# исходный список при этом не изменился\n",
    "nums"
   ]
  },
  {
   "cell_type": "code",
   "execution_count": null,
   "metadata": {
    "colab": {
     "base_uri": "https://localhost:8080/"
    },
    "id": "Qbi91ZlWv116",
    "outputId": "09bd4d25-2a75-4517-a261-df619a283929"
   },
   "outputs": [
    {
     "data": {
      "text/plain": [
       "[5, 10, 15, 20, 25, 30]"
      ]
     },
     "execution_count": 33,
     "metadata": {},
     "output_type": "execute_result"
    }
   ],
   "source": [
    "# если поместить результат в переменную, изменения сохранятся\n",
    "sorted_nums = sorted(nums)\n",
    "sorted_nums"
   ]
  },
  {
   "cell_type": "code",
   "execution_count": null,
   "metadata": {
    "id": "J92cKG_ZsGJd"
   },
   "outputs": [],
   "source": [
    "# метод .sort() сохраняет результат, но не выводит его сразу\n",
    "# reverse = True задает сортировку по убыванию\n",
    "nums.sort(reverse=True)"
   ]
  },
  {
   "cell_type": "code",
   "execution_count": null,
   "metadata": {
    "colab": {
     "base_uri": "https://localhost:8080/"
    },
    "id": "tMLloVoxsdcW",
    "outputId": "fa528c25-7eea-4131-dc2a-5ac2758bcc1f"
   },
   "outputs": [
    {
     "data": {
      "text/plain": [
       "[30, 25, 20, 15, 10, 5]"
      ]
     },
     "execution_count": 35,
     "metadata": {},
     "output_type": "execute_result"
    }
   ],
   "source": [
    "# выведем результат\n",
    "nums"
   ]
  },
  {
   "cell_type": "code",
   "execution_count": null,
   "metadata": {
    "colab": {
     "base_uri": "https://localhost:8080/"
    },
    "id": "kU0tmatFulXn",
    "outputId": "0ea3f3cf-fdd9-48dd-b7c5-b3aea0221c28"
   },
   "outputs": [
    {
     "data": {
      "text/plain": [
       "[5, 10, 15, 20, 25, 30]"
      ]
     },
     "execution_count": 36,
     "metadata": {},
     "output_type": "execute_result"
    }
   ],
   "source": [
    "# метод .reverse() задает обратный порядок, сохраняет, но не выводит результат\n",
    "nums.reverse()\n",
    "\n",
    "# его также нужно вывести отдельно\n",
    "nums"
   ]
  },
  {
   "cell_type": "code",
   "execution_count": null,
   "metadata": {
    "colab": {
     "base_uri": "https://localhost:8080/"
    },
    "id": "BZfKDeRM3fbf",
    "outputId": "163b97aa-7255-4e8d-fa57-4e932be32b20"
   },
   "outputs": [
    {
     "data": {
      "text/plain": [
       "<list_reverseiterator at 0x78717ee777f0>"
      ]
     },
     "execution_count": 37,
     "metadata": {},
     "output_type": "execute_result"
    }
   ],
   "source": [
    "# функция reversed() возвращает итератор\n",
    "reversed(nums)"
   ]
  },
  {
   "cell_type": "code",
   "execution_count": null,
   "metadata": {
    "colab": {
     "base_uri": "https://localhost:8080/"
    },
    "id": "7piJhHSn8aUW",
    "outputId": "e2da4c5b-f524-4926-ed00-b59dab91cab3"
   },
   "outputs": [
    {
     "data": {
      "text/plain": [
       "[30, 25, 20, 15, 10, 5]"
      ]
     },
     "execution_count": 38,
     "metadata": {},
     "output_type": "execute_result"
    }
   ],
   "source": [
    "# вывести результат можно с помощью функции list()\n",
    "list(reversed(nums))"
   ]
  },
  {
   "cell_type": "code",
   "execution_count": null,
   "metadata": {
    "colab": {
     "base_uri": "https://localhost:8080/"
    },
    "id": "ldVNvlbg8v3_",
    "outputId": "bd43b64e-2679-4060-bd33-cc634c6189f1"
   },
   "outputs": [
    {
     "data": {
      "text/plain": [
       "[5, 10, 15, 20, 25, 30]"
      ]
     },
     "execution_count": 39,
     "metadata": {},
     "output_type": "execute_result"
    }
   ],
   "source": [
    "# результат при этом не сохраняется\n",
    "nums"
   ]
  },
  {
   "cell_type": "markdown",
   "metadata": {
    "id": "_Xyi6IdeuA-4"
   },
   "source": [
    "Преобразование списка в строку"
   ]
  },
  {
   "cell_type": "code",
   "execution_count": null,
   "metadata": {
    "id": "iUoGSZMq0JFD"
   },
   "outputs": [],
   "source": [
    "# дан список из строковых элементов\n",
    "str_list: list[str] = [\"P\", \"y\", \"t\", \"h\", \"o\", \"n\"]"
   ]
  },
  {
   "cell_type": "code",
   "execution_count": null,
   "metadata": {
    "colab": {
     "base_uri": "https://localhost:8080/",
     "height": 35
    },
    "id": "KuKfbsZLuER1",
    "outputId": "70e66ff3-2188-42dc-e5cb-5a2f3d446c98"
   },
   "outputs": [
    {
     "data": {
      "application/vnd.google.colaboratory.intrinsic+json": {
       "type": "string"
      },
      "text/plain": [
       "'Python'"
      ]
     },
     "execution_count": 41,
     "metadata": {},
     "output_type": "execute_result"
    }
   ],
   "source": [
    "# с помощью метода .join() можно соединить все элементы\n",
    "joined_str = \"\".join(str_list)\n",
    "joined_str"
   ]
  },
  {
   "cell_type": "code",
   "execution_count": null,
   "metadata": {
    "colab": {
     "base_uri": "https://localhost:8080/",
     "height": 35
    },
    "id": "WfMTmZcEzgky",
    "outputId": "5e00ef97-a330-431f-c3c2-770330aaeaf3"
   },
   "outputs": [
    {
     "data": {
      "application/vnd.google.colaboratory.intrinsic+json": {
       "type": "string"
      },
      "text/plain": [
       "'P_y_t_h_o_n'"
      ]
     },
     "execution_count": 42,
     "metadata": {},
     "output_type": "execute_result"
    }
   ],
   "source": [
    "# если в кавычках ничего не указывать, элементы просто соединятся,\n",
    "# но можно указать любой другой элемент\n",
    "joined_str_ = \"_\".join(str_list)\n",
    "joined_str_"
   ]
  },
  {
   "cell_type": "markdown",
   "metadata": {
    "id": "uEFM3lgzzr_k"
   },
   "source": [
    "Арифметика в списках"
   ]
  },
  {
   "cell_type": "code",
   "execution_count": null,
   "metadata": {
    "id": "tGBnQ-mFzwJw"
   },
   "outputs": [],
   "source": [
    "# дан список чисел\n",
    "nums_: list[int] = [3, 2, 1, 4, 5, 12, 3, 3, 7, 9, 11, 15]"
   ]
  },
  {
   "cell_type": "code",
   "execution_count": null,
   "metadata": {
    "colab": {
     "base_uri": "https://localhost:8080/"
    },
    "id": "VjwNZw2JzwUG",
    "outputId": "e8586a86-a592-444e-9e3c-23ef494a040d"
   },
   "outputs": [
    {
     "data": {
      "text/plain": [
       "3"
      ]
     },
     "execution_count": 44,
     "metadata": {},
     "output_type": "execute_result"
    }
   ],
   "source": [
    "# с помощью метода .count() мы можем посчитать частоту вхождения\n",
    "# элемента в список\n",
    "nums_.count(3)"
   ]
  },
  {
   "cell_type": "code",
   "execution_count": null,
   "metadata": {
    "colab": {
     "base_uri": "https://localhost:8080/"
    },
    "id": "rrRSZEb13P0e",
    "outputId": "d64be983-954e-44e2-cf3a-d801a61a848e"
   },
   "outputs": [
    {
     "name": "stdout",
     "output_type": "stream",
     "text": [
      "1 15 75\n"
     ]
    }
   ],
   "source": [
    "# кроме того мы можем найти минимальное и максимальное значения\n",
    "# и сумму элементов\n",
    "print(min(nums_), max(nums_), sum(nums_))"
   ]
  },
  {
   "cell_type": "markdown",
   "metadata": {
    "id": "zZKefwcpZ_rd"
   },
   "source": [
    "List comprehension"
   ]
  },
  {
   "cell_type": "code",
   "execution_count": null,
   "metadata": {
    "id": "gKYUJua2aCdY"
   },
   "outputs": [],
   "source": [
    "# дан список имен\n",
    "# оставим имена, начинающиеся с буквы \"А\"\n",
    "names: list[str] = [\n",
    "    \"Артем\",\n",
    "    \"Антон\",\n",
    "    \"Александр\",\n",
    "    \"Борис\",\n",
    "    \"Виктор\",\n",
    "    \"Геннадий\",\n",
    "]"
   ]
  },
  {
   "cell_type": "code",
   "execution_count": null,
   "metadata": {
    "colab": {
     "base_uri": "https://localhost:8080/"
    },
    "id": "iZhNYZ7raCw_",
    "outputId": "c8806615-90af-4669-da6e-ff3083e1dcba"
   },
   "outputs": [
    {
     "data": {
      "text/plain": [
       "['Артем', 'Антон', 'Александр']"
      ]
     },
     "execution_count": 47,
     "metadata": {},
     "output_type": "execute_result"
    }
   ],
   "source": [
    "# вначале решим эту задачу с помощью цикла for\n",
    "\n",
    "# создадим пустой список\n",
    "a_names: list[str] = []\n",
    "\n",
    "# пройдемся по исходному списку в цикле for\n",
    "for name in names:\n",
    "\n",
    "    # с помощью метода .startswith() проверим, начинается ли слово с \"А\"\n",
    "    if name.startswith(\"А\"):\n",
    "\n",
    "        # если да, добавим в новый список\n",
    "        a_names.append(name)\n",
    "\n",
    "# выведем результат\n",
    "a_names"
   ]
  },
  {
   "cell_type": "code",
   "execution_count": null,
   "metadata": {
    "colab": {
     "base_uri": "https://localhost:8080/"
    },
    "id": "RfU5aFoia66k",
    "outputId": "fb93053e-0d50-4df5-8941-2280ad774ed7"
   },
   "outputs": [
    {
     "data": {
      "text/plain": [
       "['Артем', 'Антон', 'Александр']"
      ]
     },
     "execution_count": 48,
     "metadata": {},
     "output_type": "execute_result"
    }
   ],
   "source": [
    "# эту же задачу можно решить через list comprehension\n",
    "# по сути мы пишем: \"что сделать, пока есть элемент в списке, при каком условии\"\n",
    "a_names = [name for name in names if name.startswith(\"А\")]\n",
    "a_names"
   ]
  },
  {
   "cell_type": "code",
   "execution_count": null,
   "metadata": {
    "colab": {
     "base_uri": "https://localhost:8080/"
    },
    "id": "PtAJqkZRsQGM",
    "outputId": "57ffe7da-07b4-4106-9226-e26ccf433fb0"
   },
   "outputs": [
    {
     "data": {
      "text/plain": [
       "['артем', 'антон', 'александр', 'борис', 'виктор', 'геннадий']"
      ]
     },
     "execution_count": 49,
     "metadata": {},
     "output_type": "execute_result"
    }
   ],
   "source": [
    "# переведем все буквы в строчные, условие здесь не нужно\n",
    "lower_names = [name.lower() for name in names]\n",
    "lower_names"
   ]
  },
  {
   "cell_type": "code",
   "execution_count": null,
   "metadata": {
    "colab": {
     "base_uri": "https://localhost:8080/"
    },
    "id": "aj8uLZu9clcD",
    "outputId": "558587b2-02a1-4339-dc8b-18e38a05d74a"
   },
   "outputs": [
    {
     "data": {
      "text/plain": [
       "['Артем', 'Антон', 'Александр', 'Борис', 'Вадим', 'Геннадий']"
      ]
     },
     "execution_count": 50,
     "metadata": {},
     "output_type": "execute_result"
    }
   ],
   "source": [
    "# схема условия if-else немного отличается\n",
    "# оставляем имя, если это не Виктор, если Виктор - заменяем на Вадим\n",
    "replace_name = [name if name != \"Виктор\" else \"Вадим\" for name in names]\n",
    "replace_name"
   ]
  },
  {
   "cell_type": "code",
   "execution_count": null,
   "metadata": {
    "colab": {
     "base_uri": "https://localhost:8080/"
    },
    "id": "EiKriSA89dJk",
    "outputId": "a6964157-1f0e-4cf7-f53f-0cadad414ce5"
   },
   "outputs": [
    {
     "name": "stdout",
     "output_type": "stream",
     "text": [
      "['pari', 'visit', 'lot', 'museum', 'first', 'went', 'louvr', 'largest', 'art', 'museum', 'world', 'alway', 'interest', 'art', 'spent', 'mani', 'hour', 'museum', 'enourm', 'week', 'would', 'enough']\n"
     ]
    }
   ],
   "source": [
    "# на занятии по обработке естественного языка с помощью list comprehension\n",
    "# мы применили стеммер Портера к списку слов\n",
    "lemmatized: list[str] = [\n",
    "    \"paris\",\n",
    "    \"visited\",\n",
    "    \"lot\",\n",
    "    \"museum\",\n",
    "    \"first\",\n",
    "    \"went\",\n",
    "    \"louvre\",\n",
    "    \"largest\",\n",
    "    \"art\",\n",
    "    \"museum\",\n",
    "    \"world\",\n",
    "    \"always\",\n",
    "    \"interested\",\n",
    "    \"art\",\n",
    "    \"spent\",\n",
    "    \"many\",\n",
    "    \"hour\",\n",
    "    \"museum\",\n",
    "    \"enormous\",\n",
    "    \"week\",\n",
    "    \"would\",\n",
    "    \"enough\",\n",
    "]\n",
    "\n",
    "\n",
    "porter = PorterStemmer()\n",
    "\n",
    "# применяем стеммер к элементу s, пока есть элементы s в списке lemmatized\n",
    "stemmed_p = [porter.stem(s) for s in lemmatized]\n",
    "print(stemmed_p)"
   ]
  },
  {
   "cell_type": "markdown",
   "metadata": {
    "id": "kY91ANMfXeRG"
   },
   "source": [
    "### Кортежи"
   ]
  },
  {
   "cell_type": "markdown",
   "metadata": {
    "id": "aF48XEbsCsV4"
   },
   "source": [
    "Основы работы с кортежами"
   ]
  },
  {
   "cell_type": "code",
   "execution_count": null,
   "metadata": {
    "colab": {
     "base_uri": "https://localhost:8080/"
    },
    "id": "qVBaa3SrtlYB",
    "outputId": "c561c5ad-c089-450a-9300-7b1d5e2858e5"
   },
   "outputs": [
    {
     "name": "stdout",
     "output_type": "stream",
     "text": [
      "() ()\n"
     ]
    }
   ],
   "source": [
    "# пустой кортеж можно создать с помощью пустых круглых скобок ()\n",
    "# или функции tuple()\n",
    "tuple_1: tuple[()] = ()\n",
    "tuple_2: tuple[str, ...] = tuple()\n",
    "print(tuple_1, tuple_2)"
   ]
  },
  {
   "cell_type": "code",
   "execution_count": null,
   "metadata": {
    "colab": {
     "base_uri": "https://localhost:8080/",
     "height": 35
    },
    "id": "Vv-okCt8tlau",
    "outputId": "09cb5284-ae26-4057-a206-7b414437d4f3"
   },
   "outputs": [
    {
     "data": {
      "application/vnd.google.colaboratory.intrinsic+json": {
       "type": "string"
      },
      "text/plain": [
       "'a'"
      ]
     },
     "execution_count": 53,
     "metadata": {},
     "output_type": "execute_result"
    }
   ],
   "source": [
    "# в кортеже элементы упорядочены, а значит есть индекс\n",
    "letters: tuple[str, ...] = (\"a\", \"b\", \"c\")\n",
    "letters[0]"
   ]
  },
  {
   "cell_type": "code",
   "execution_count": 4,
   "metadata": {
    "colab": {
     "base_uri": "https://localhost:8080/",
     "height": 159
    },
    "id": "3MERPn2I_o9D",
    "outputId": "353f1a99-0e22-4353-9f24-537d0077cec4"
   },
   "outputs": [],
   "source": [
    "# но изменить элемент, как мы это делали в списке, нельзя\n",
    "# letters[0] = \"d\" --> Error"
   ]
  },
  {
   "cell_type": "code",
   "execution_count": null,
   "metadata": {
    "colab": {
     "base_uri": "https://localhost:8080/"
    },
    "id": "3AKPc8KEBKDl",
    "outputId": "87e678c8-043c-4f31-cef1-75655c3ec8db"
   },
   "outputs": [
    {
     "data": {
      "text/plain": [
       "['d', 'b', 'c']"
      ]
     },
     "execution_count": 55,
     "metadata": {},
     "output_type": "execute_result"
    }
   ],
   "source": [
    "# для изменения элемента кортеж вначале нужно преобразовать в список\n",
    "letters_list = list(letters)\n",
    "letters_list[0] = \"d\"\n",
    "letters_list"
   ]
  },
  {
   "cell_type": "code",
   "execution_count": null,
   "metadata": {
    "colab": {
     "base_uri": "https://localhost:8080/"
    },
    "id": "NvRmYNY2C36p",
    "outputId": "2c0a674d-e22c-4df9-b7e5-fc6faa7d995f"
   },
   "outputs": [
    {
     "data": {
      "text/plain": [
       "tuple"
      ]
     },
     "execution_count": 56,
     "metadata": {},
     "output_type": "execute_result"
    }
   ],
   "source": [
    "# кортеж из одного элемента можно создать с помощью запятой\n",
    "letters_a: tuple[str] = (\"a\",)\n",
    "type(letters_a)"
   ]
  },
  {
   "cell_type": "code",
   "execution_count": null,
   "metadata": {
    "colab": {
     "base_uri": "https://localhost:8080/"
    },
    "id": "D2vQPPY8C_2G",
    "outputId": "a10456d8-ae19-4ed5-d5b3-8b44d8b3e29b"
   },
   "outputs": [
    {
     "data": {
      "text/plain": [
       "str"
      ]
     },
     "execution_count": 57,
     "metadata": {},
     "output_type": "execute_result"
    }
   ],
   "source": [
    "# если запятую не указывать, получится строка\n",
    "a_let = \"a\"\n",
    "type(a_let)"
   ]
  },
  {
   "cell_type": "markdown",
   "metadata": {
    "id": "4VBqLLmkCyGB"
   },
   "source": [
    "Функция enumerate()"
   ]
  },
  {
   "cell_type": "code",
   "execution_count": null,
   "metadata": {
    "colab": {
     "base_uri": "https://localhost:8080/"
    },
    "id": "2Al5QGWAC0sc",
    "outputId": "827cc64c-71e4-48f1-cae6-cf6124d5505c"
   },
   "outputs": [
    {
     "name": "stdout",
     "output_type": "stream",
     "text": [
      "(0, 'Microsoft') <class 'tuple'>\n",
      "(1, 'Apple') <class 'tuple'>\n",
      "(2, 'Tesla') <class 'tuple'>\n"
     ]
    }
   ],
   "source": [
    "companies: list[str] = [\"Microsoft\", \"Apple\", \"Tesla\"]\n",
    "\n",
    "# если записать результат функции enumerate() в одну переменную,\n",
    "for company in enumerate(companies):\n",
    "\n",
    "    # то мы получим кортежи\n",
    "    print(company, type(company))"
   ]
  },
  {
   "cell_type": "markdown",
   "metadata": {
    "id": "OHyjLQYRL-lz"
   },
   "source": [
    "Просмотр элементов словаря"
   ]
  },
  {
   "cell_type": "code",
   "execution_count": null,
   "metadata": {
    "id": "LSkNG2x1MEWX"
   },
   "outputs": [],
   "source": [
    "shopping_dict: dict[str, int] = {\n",
    "    \"огурцы\": 2,\n",
    "    \"помидоры\": 3,\n",
    "    \"лук\": 1,\n",
    "    \"картофель\": 2,\n",
    "}"
   ]
  },
  {
   "cell_type": "code",
   "execution_count": null,
   "metadata": {
    "colab": {
     "base_uri": "https://localhost:8080/"
    },
    "id": "d_s5V8U6NFAL",
    "outputId": "9b6ec1e0-25b0-4dce-b3d0-6bd0af6ea425"
   },
   "outputs": [
    {
     "name": "stdout",
     "output_type": "stream",
     "text": [
      "('огурцы', 2)\n",
      "('помидоры', 3)\n",
      "('лук', 1)\n",
      "('картофель', 2)\n"
     ]
    }
   ],
   "source": [
    "# то же самое со словарем и методом .items()\n",
    "for item in shopping_dict.items():\n",
    "    print(item)"
   ]
  },
  {
   "cell_type": "markdown",
   "metadata": {
    "id": "GlSqhwQfJbCN"
   },
   "source": [
    "Распаковка кортежей"
   ]
  },
  {
   "cell_type": "code",
   "execution_count": null,
   "metadata": {
    "colab": {
     "base_uri": "https://localhost:8080/"
    },
    "id": "h1hVafb_JaUn",
    "outputId": "5692e7d9-0089-42d0-987a-b884b8b62c86"
   },
   "outputs": [
    {
     "name": "stdout",
     "output_type": "stream",
     "text": [
      "a\n"
     ]
    }
   ],
   "source": [
    "# как и список, кортеж можно распаковать в несколько переменных\n",
    "a_let, b_let, c_let = (\"a\", \"b\", \"c\")\n",
    "print(a_let)"
   ]
  },
  {
   "cell_type": "code",
   "execution_count": null,
   "metadata": {
    "colab": {
     "base_uri": "https://localhost:8080/"
    },
    "id": "BFtyYKARKQPT",
    "outputId": "bb7ed4cf-d02a-4219-e998-f386324a03f4"
   },
   "outputs": [
    {
     "name": "stdout",
     "output_type": "stream",
     "text": [
      "0 Microsoft\n",
      "1 Apple\n",
      "2 Tesla\n"
     ]
    }
   ],
   "source": [
    "companies = [\"Microsoft\", \"Apple\", \"Tesla\"]\n",
    "\n",
    "# распаковку в две переменные с функцией enumerate() мы делать уже умеем\n",
    "for index, company_name in enumerate(companies):\n",
    "    print(index, company_name)"
   ]
  },
  {
   "cell_type": "code",
   "execution_count": null,
   "metadata": {
    "colab": {
     "base_uri": "https://localhost:8080/"
    },
    "id": "pO8swT03UAeV",
    "outputId": "0b68f3ab-bd57-4526-b439-9c913772ea6d"
   },
   "outputs": [
    {
     "name": "stdout",
     "output_type": "stream",
     "text": [
      "огурцы 2\n",
      "помидоры 3\n",
      "лук 1\n",
      "картофель 2\n"
     ]
    }
   ],
   "source": [
    "shopping_dict = {\n",
    "    \"огурцы\": 2,\n",
    "    \"помидоры\": 3,\n",
    "    \"лук\": 1,\n",
    "    \"картофель\": 2,\n",
    "}\n",
    "\n",
    "# то же самое с ключами и значениями словаря\n",
    "for key, value in shopping_dict.items():\n",
    "    print(key, value)"
   ]
  },
  {
   "cell_type": "markdown",
   "metadata": {
    "id": "BZRw7ZcPCwGh"
   },
   "source": [
    "Функция zip()"
   ]
  },
  {
   "cell_type": "code",
   "execution_count": null,
   "metadata": {
    "colab": {
     "base_uri": "https://localhost:8080/"
    },
    "id": "Ti6oDrQjCvhb",
    "outputId": "bbb46ac5-a1fa-4925-cced-7e3f2cd4e52e"
   },
   "outputs": [
    {
     "data": {
      "text/plain": [
       "<zip at 0x787148eaaa00>"
      ]
     },
     "execution_count": 64,
     "metadata": {},
     "output_type": "execute_result"
    }
   ],
   "source": [
    "# если есть два и более списка\n",
    "names = [\n",
    "    \"Артем\",\n",
    "    \"Антон\",\n",
    "    \"Александр\",\n",
    "    \"Борис\",\n",
    "    \"Виктор\",\n",
    "    \"Геннадий\",\n",
    "]\n",
    "income: list[int] = [97000, 110000, 95000, 84000, 140000, 120000]\n",
    "\n",
    "# функция zip() соединит первые элементы списков,\n",
    "# вторые элементы списков и т.д.\n",
    "zip(names, income)"
   ]
  },
  {
   "cell_type": "code",
   "execution_count": null,
   "metadata": {
    "colab": {
     "base_uri": "https://localhost:8080/"
    },
    "id": "S84QKkqDHztA",
    "outputId": "886a7956-4213-4349-fa15-8063782c15b3"
   },
   "outputs": [
    {
     "data": {
      "text/plain": [
       "[('Артем', 97000),\n",
       " ('Антон', 110000),\n",
       " ('Александр', 95000),\n",
       " ('Борис', 84000),\n",
       " ('Виктор', 140000),\n",
       " ('Геннадий', 120000)]"
      ]
     },
     "execution_count": 65,
     "metadata": {},
     "output_type": "execute_result"
    }
   ],
   "source": [
    "# для вывода результата нужно передать zip-объект в функцию list()\n",
    "# на выходе мы получим список из кортежей\n",
    "print(list(zip(names, income)))"
   ]
  },
  {
   "cell_type": "markdown",
   "metadata": {
    "id": "xLJn10TGXhlq"
   },
   "source": [
    "### Множества"
   ]
  },
  {
   "cell_type": "markdown",
   "metadata": {
    "id": "69RH3VDxWu_5"
   },
   "source": [
    "Создание множества"
   ]
  },
  {
   "cell_type": "code",
   "execution_count": null,
   "metadata": {
    "colab": {
     "base_uri": "https://localhost:8080/"
    },
    "id": "7T9QjMN_tn5Q",
    "outputId": "67e65595-422c-408e-ec10-a86901243173"
   },
   "outputs": [
    {
     "name": "stdout",
     "output_type": "stream",
     "text": [
      "set() {'a', 'e', 'c', 'b', 'd'} {'a', 'b', 'c'}\n"
     ]
    }
   ],
   "source": [
    "# пустое множество задается через функцию set()\n",
    "set_1: set[str] = set()\n",
    "\n",
    "# непустое множество задается через функцию set() и итератор\n",
    "# например, список элементов или строку\n",
    "set_2: set[str] = set(\"abcde\")  # pylint: disable=W0130\n",
    "\n",
    "# или путем перечисления элементов в фигурных скобках {}\n",
    "set_3: set[str] = {\"a\", \"b\", \"c\", \"c\"}  # pylint: disable=W0130\n",
    "\n",
    "# множество содержит только уникальные элементы, поэтому дубликаты удаляются\n",
    "print(set_1, set_2, set_3)"
   ]
  },
  {
   "cell_type": "code",
   "execution_count": null,
   "metadata": {
    "colab": {
     "base_uri": "https://localhost:8080/"
    },
    "id": "k4sVIWhxtn8N",
    "outputId": "0d134a34-16ac-4421-c7fd-13c6492f55bc"
   },
   "outputs": [
    {
     "data": {
      "text/plain": [
       "dict"
      ]
     },
     "execution_count": 67,
     "metadata": {},
     "output_type": "execute_result"
    }
   ],
   "source": [
    "# создать множество через пустые фигурные скобки нельзя\n",
    "not_a_set: dict[str, str] = {}\n",
    "\n",
    "# так создается словарь\n",
    "type(not_a_set)"
   ]
  },
  {
   "cell_type": "markdown",
   "metadata": {
    "id": "tHsQ7_dCXQkJ"
   },
   "source": [
    "Добавление и удаление элементов"
   ]
  },
  {
   "cell_type": "code",
   "execution_count": null,
   "metadata": {
    "id": "VMdDL588YmOm"
   },
   "outputs": [],
   "source": [
    "# предположим, что мы хотим создать множество гласных букв в русском языке\n",
    "vowels: set[str] = {\"а\", \"о\", \"э\", \"е\", \"у\", \"ё\", \"ю\"}"
   ]
  },
  {
   "cell_type": "code",
   "execution_count": null,
   "metadata": {
    "colab": {
     "base_uri": "https://localhost:8080/"
    },
    "id": "A3b7LnrTuxu9",
    "outputId": "5a6319ac-77ea-435c-884d-b16b4e9f3649"
   },
   "outputs": [
    {
     "data": {
      "text/plain": [
       "{'а', 'е', 'о', 'у', 'э', 'ю', 'я', 'ё'}"
      ]
     },
     "execution_count": 69,
     "metadata": {},
     "output_type": "execute_result"
    }
   ],
   "source": [
    "# добавим одну букву \"я\" методом .add()\n",
    "vowels.add(\"я\")\n",
    "vowels"
   ]
  },
  {
   "cell_type": "code",
   "execution_count": null,
   "metadata": {
    "colab": {
     "base_uri": "https://localhost:8080/"
    },
    "id": "RuCG-RnTk9SZ",
    "outputId": "d18e632c-25d8-42a9-e441-084807cbcd20"
   },
   "outputs": [
    {
     "data": {
      "text/plain": [
       "{'а', 'е', 'и', 'о', 'у', 'ы', 'э', 'ю', 'я', 'ё'}"
      ]
     },
     "execution_count": 70,
     "metadata": {},
     "output_type": "execute_result"
    }
   ],
   "source": [
    "# добавим две буквы \"и\" и \"ы\" методом .update()\n",
    "vowels.update([\"и\", \"ы\"])\n",
    "vowels"
   ]
  },
  {
   "cell_type": "code",
   "execution_count": null,
   "metadata": {
    "colab": {
     "base_uri": "https://localhost:8080/"
    },
    "id": "6OJBJ5cYvwrl",
    "outputId": "0693321a-76a4-4a8a-deda-d3c8b5abd101"
   },
   "outputs": [
    {
     "data": {
      "text/plain": [
       "{'а', 'е', 'и', 'о', 'у', 'щ', 'ы', 'э', 'ю', 'я', 'ё'}"
      ]
     },
     "execution_count": 71,
     "metadata": {},
     "output_type": "execute_result"
    }
   ],
   "source": [
    "# если по ошибке мы добавим согласную букву,\n",
    "vowels.add(\"щ\")\n",
    "vowels"
   ]
  },
  {
   "cell_type": "code",
   "execution_count": null,
   "metadata": {
    "colab": {
     "base_uri": "https://localhost:8080/"
    },
    "id": "VTCYCiXZv4Wc",
    "outputId": "5698ddec-d2a8-4c89-e9d9-d8fc91fb6b2e"
   },
   "outputs": [
    {
     "data": {
      "text/plain": [
       "{'а', 'е', 'и', 'о', 'у', 'ы', 'э', 'ю', 'я', 'ё'}"
      ]
     },
     "execution_count": 72,
     "metadata": {},
     "output_type": "execute_result"
    }
   ],
   "source": [
    "# ее можно удалить методом .remove()\n",
    "vowels.remove(\"щ\")\n",
    "vowels"
   ]
  },
  {
   "cell_type": "markdown",
   "metadata": {
    "id": "uB1je436aY19"
   },
   "source": [
    "Теория множеств в Питоне"
   ]
  },
  {
   "cell_type": "code",
   "execution_count": null,
   "metadata": {
    "colab": {
     "base_uri": "https://localhost:8080/"
    },
    "id": "ScRveXFjagly",
    "outputId": "2767f29b-0f54-492d-f9dd-3a0cccbe6048"
   },
   "outputs": [
    {
     "data": {
      "text/plain": [
       "True"
      ]
     },
     "execution_count": 73,
     "metadata": {},
     "output_type": "execute_result"
    }
   ],
   "source": [
    "# два множества равны, если содержат одинаковые элементы,\n",
    "# при этом порядок элементов не важен\n",
    "print({\"a\", \"b\", \"c\"} == {\"c\", \"b\", \"a\"})"
   ]
  },
  {
   "cell_type": "code",
   "execution_count": null,
   "metadata": {
    "colab": {
     "base_uri": "https://localhost:8080/"
    },
    "id": "O5_E1AS9JOL2",
    "outputId": "807df047-e851-4a72-9035-c72316d33b59"
   },
   "outputs": [
    {
     "data": {
      "text/plain": [
       "3"
      ]
     },
     "execution_count": 74,
     "metadata": {},
     "output_type": "execute_result"
    }
   ],
   "source": [
    "# выведем мощность множества с помощью функции len()\n",
    "print(len({\"a\", \"b\", \"c\"}))"
   ]
  },
  {
   "cell_type": "code",
   "execution_count": null,
   "metadata": {
    "colab": {
     "base_uri": "https://localhost:8080/"
    },
    "id": "tktbnMu4JOOY",
    "outputId": "2f201ee0-3b16-4ff6-9121-de1f0155834f"
   },
   "outputs": [
    {
     "data": {
      "text/plain": [
       "True"
      ]
     },
     "execution_count": 75,
     "metadata": {},
     "output_type": "execute_result"
    }
   ],
   "source": [
    "# проверим, содержится ли элемент во множестве\n",
    "print(\"a\" in {\"a\", \"b\", \"c\"})"
   ]
  },
  {
   "cell_type": "code",
   "execution_count": null,
   "metadata": {
    "colab": {
     "base_uri": "https://localhost:8080/"
    },
    "id": "7LjJsYc2JORQ",
    "outputId": "3d5cd120-68d9-450c-ba02-c95fb0c3f051"
   },
   "outputs": [
    {
     "data": {
      "text/plain": [
       "False"
      ]
     },
     "execution_count": 76,
     "metadata": {},
     "output_type": "execute_result"
    }
   ],
   "source": [
    "# возможна и обратная операция\n",
    "print(\"a\" not in {\"a\", \"b\", \"c\"})"
   ]
  },
  {
   "cell_type": "code",
   "execution_count": null,
   "metadata": {
    "colab": {
     "base_uri": "https://localhost:8080/"
    },
    "id": "MF1nGQvDJOUI",
    "outputId": "95c006ba-48be-4766-fa53-293ecdb1ec27"
   },
   "outputs": [
    {
     "data": {
      "text/plain": [
       "True"
      ]
     },
     "execution_count": 77,
     "metadata": {},
     "output_type": "execute_result"
    }
   ],
   "source": [
    "# проверим является ли А подмножеством В\n",
    "set_a: set[str] = {\"a\", \"b\", \"c\"}\n",
    "set_b: set[str] = {\"a\", \"b\", \"c\", \"d\", \"e\", \"f\"}\n",
    "\n",
    "set_a.issubset(set_b)"
   ]
  },
  {
   "cell_type": "code",
   "execution_count": null,
   "metadata": {
    "colab": {
     "base_uri": "https://localhost:8080/"
    },
    "id": "Ne2zLJy3DMT7",
    "outputId": "96bcbed1-0112-40f7-f012-149a229f67af"
   },
   "outputs": [
    {
     "data": {
      "text/plain": [
       "True"
      ]
     },
     "execution_count": 78,
     "metadata": {},
     "output_type": "execute_result"
    }
   ],
   "source": [
    "# проверим является ли B надмножеством А\n",
    "set_b.issuperset(set_a)"
   ]
  },
  {
   "cell_type": "code",
   "execution_count": null,
   "metadata": {
    "id": "0MxJj85iDc_y"
   },
   "outputs": [],
   "source": [
    "# даны участники команд по обработке естественного языка (nlp)\n",
    "# и компьютерному зрению (cv)\n",
    "nlp: set[str] = {\"Анна\", \"Николай\", \"Павел\", \"Оксана\"}\n",
    "cv: set[str] = {\"Николай\", \"Евгений\", \"Ольга\", \"Оксана\"}"
   ]
  },
  {
   "cell_type": "code",
   "execution_count": null,
   "metadata": {
    "colab": {
     "base_uri": "https://localhost:8080/"
    },
    "id": "ipXl-eO5EFKS",
    "outputId": "bc4c9d32-c49f-473e-ff79-5631038a2e61"
   },
   "outputs": [
    {
     "name": "stdout",
     "output_type": "stream",
     "text": [
      "{'Павел', 'Евгений', 'Оксана', 'Николай', 'Анна', 'Ольга'}\n",
      "{'Павел', 'Евгений', 'Оксана', 'Николай', 'Анна', 'Ольга'}\n"
     ]
    }
   ],
   "source": [
    "# найдем тех, кто работает или в nlp, или в cv, или в обеих командах\n",
    "\n",
    "# можно использовать метод .union()\n",
    "print(nlp.union(cv))\n",
    "\n",
    "# или символ |\n",
    "print(nlp | cv)"
   ]
  },
  {
   "cell_type": "code",
   "execution_count": null,
   "metadata": {
    "colab": {
     "base_uri": "https://localhost:8080/"
    },
    "id": "vkUEl3eeEnPn",
    "outputId": "3606efdb-d621-4268-b072-7c05e676054b"
   },
   "outputs": [
    {
     "name": "stdout",
     "output_type": "stream",
     "text": [
      "{'Оксана', 'Николай'}\n",
      "{'Оксана', 'Николай'}\n"
     ]
    }
   ],
   "source": [
    "# найдем пересечение множеств, то есть тех, кто работает и в nlp, и в cv\n",
    "print(nlp.intersection(cv))\n",
    "print(nlp & cv)"
   ]
  },
  {
   "cell_type": "code",
   "execution_count": null,
   "metadata": {
    "colab": {
     "base_uri": "https://localhost:8080/"
    },
    "id": "mNV8c0hQExzL",
    "outputId": "0a71a036-d2a9-4728-9f4a-adff5df74b4b"
   },
   "outputs": [
    {
     "name": "stdout",
     "output_type": "stream",
     "text": [
      "{'Анна', 'Павел'}\n",
      "{'Анна', 'Павел'}\n"
     ]
    }
   ],
   "source": [
    "# выведем тех, кто работает только в nlp, но не в cv или cv и nlp одновременно\n",
    "print(nlp.difference(cv))\n",
    "print(nlp - cv)"
   ]
  },
  {
   "cell_type": "code",
   "execution_count": null,
   "metadata": {
    "colab": {
     "base_uri": "https://localhost:8080/"
    },
    "id": "RnawDdtME8T4",
    "outputId": "9691b8dd-bc78-428c-ec7f-322a316f33ba"
   },
   "outputs": [
    {
     "name": "stdout",
     "output_type": "stream",
     "text": [
      "{'Евгений', 'Ольга'}\n",
      "{'Евгений', 'Ольга'}\n"
     ]
    }
   ],
   "source": [
    "# выведем тех, кто работает только в cv,\n",
    "# но не в nlp или nlp и cv одновременно\n",
    "print(cv.difference(nlp))\n",
    "print(cv - nlp)"
   ]
  },
  {
   "cell_type": "code",
   "execution_count": null,
   "metadata": {
    "colab": {
     "base_uri": "https://localhost:8080/"
    },
    "id": "sHIWgu4ZFEqv",
    "outputId": "8f8c106c-3186-4b23-f95c-5d508a708b65"
   },
   "outputs": [
    {
     "name": "stdout",
     "output_type": "stream",
     "text": [
      "{'Павел', 'Евгений', 'Анна', 'Ольга'}\n",
      "{'Павел', 'Евгений', 'Анна', 'Ольга'}\n"
     ]
    }
   ],
   "source": [
    "# найдем тех, кто работает или в cv, или в nlp,\n",
    "# но не в обеих областях одновременно\n",
    "print(nlp.symmetric_difference(cv))\n",
    "print(nlp ^ cv)"
   ]
  },
  {
   "cell_type": "code",
   "execution_count": null,
   "metadata": {
    "id": "8uLziVR-Z5mU"
   },
   "outputs": [],
   "source": []
  }
 ],
 "metadata": {
  "colab": {
   "provenance": [],
   "toc_visible": true
  },
  "kernelspec": {
   "display_name": "base",
   "language": "python",
   "name": "python3"
  },
  "language_info": {
   "codemirror_mode": {
    "name": "ipython",
    "version": 3
   },
   "file_extension": ".py",
   "mimetype": "text/x-python",
   "name": "python",
   "nbconvert_exporter": "python",
   "pygments_lexer": "ipython3",
   "version": "3.13.5"
  }
 },
 "nbformat": 4,
 "nbformat_minor": 0
}
