{
 "cells": [
  {
   "cell_type": "code",
   "execution_count": null,
   "metadata": {},
   "outputs": [],
   "source": [
    "\"\"\"Макаров.\n",
    "\n",
    "Итераторы и генераторы.\n",
    "\"\"\""
   ]
  },
  {
   "cell_type": "markdown",
   "metadata": {
    "id": "0AoPSXyUTTLc"
   },
   "source": [
    "## Итераторы и генераторы"
   ]
  },
  {
   "cell_type": "markdown",
   "metadata": {
    "id": "5Vlh7nreAD2D"
   },
   "source": [
    "### Итерируемый объект и итератор"
   ]
  },
  {
   "cell_type": "markdown",
   "metadata": {
    "id": "kthx3B9dGQY5"
   },
   "source": [
    "#### Основные определения"
   ]
  },
  {
   "cell_type": "code",
   "execution_count": null,
   "metadata": {
    "colab": {
     "base_uri": "https://localhost:8080/"
    },
    "id": "lgrM3Gnp25o-",
    "outputId": "916aa0be-5648-4449-8910-127bffe16165"
   },
   "outputs": [
    {
     "name": "stdout",
     "output_type": "stream",
     "text": [
      "1\n",
      "2\n",
      "3\n"
     ]
    }
   ],
   "source": [
    "from collections.abc import Iterator\n",
    "from itertools import chain, count, cycle\n",
    "from typing import Generator\n",
    "\n",
    "for index in [1, 2, 3]:\n",
    "    print(index)"
   ]
  },
  {
   "cell_type": "code",
   "execution_count": null,
   "metadata": {
    "colab": {
     "base_uri": "https://localhost:8080/"
    },
    "id": "YOd5fX1T4VDs",
    "outputId": "fda5b2fd-f3ca-40b6-d5e5-782e899731e3"
   },
   "outputs": [
    {
     "data": {
      "text/plain": [
       "<list_iterator at 0x7ec755cb3850>"
      ]
     },
     "execution_count": 2,
     "metadata": {},
     "output_type": "execute_result"
    }
   ],
   "source": [
    "# встроенная функция iter() вызывает метод .__iter__(),\n",
    "# создающий итератор\n",
    "iterator1 = iter([1, 2, 3])"
   ]
  },
  {
   "cell_type": "code",
   "execution_count": null,
   "metadata": {
    "colab": {
     "base_uri": "https://localhost:8080/"
    },
    "id": "1s_bw0wr6dn_",
    "outputId": "85e8b0e2-a4cd-443d-a699-e52cf88dbd66"
   },
   "outputs": [
    {
     "name": "stdout",
     "output_type": "stream",
     "text": [
      "<list_iterator object at 0x7ec755cb3a30>\n",
      "\n",
      "1\n",
      "2\n",
      "3\n"
     ]
    }
   ],
   "source": [
    "iterable_object: list[int] = [1, 2, 3]\n",
    "\n",
    "iterator = iter(iterable_object)\n",
    "print(iterator)\n",
    "print()\n",
    "\n",
    "print(next(iterator))\n",
    "print(next(iterator))\n",
    "print(next(iterator))"
   ]
  },
  {
   "cell_type": "code",
   "execution_count": null,
   "metadata": {
    "colab": {
     "base_uri": "https://localhost:8080/"
    },
    "id": "tbGGt-NK8Scw",
    "outputId": "b51b2e38-fe17-4362-cc76-2a1e5adfb6b9"
   },
   "outputs": [
    {
     "name": "stdout",
     "output_type": "stream",
     "text": [
      "1\n",
      "2\n",
      "3\n"
     ]
    }
   ],
   "source": [
    "for iterator2 in iterable_object:\n",
    "    print(iterator2)"
   ]
  },
  {
   "cell_type": "code",
   "execution_count": null,
   "metadata": {
    "colab": {
     "base_uri": "https://localhost:8080/"
    },
    "id": "fPbwZ8UO93lC",
    "outputId": "bee708e4-d96a-4409-b9d9-4884ecd6851d"
   },
   "outputs": [
    {
     "name": "stdout",
     "output_type": "stream",
     "text": [
      "A: 1\n",
      "A: 2\n",
      "A: 3\n",
      "B: 1\n"
     ]
    }
   ],
   "source": [
    "iterator_a = iter(iterable_object)\n",
    "iterator_b = iter(iterable_object)\n",
    "\n",
    "print(f\"A: {next(iterator_a)}\")\n",
    "print(f\"A: {next(iterator_a)}\")\n",
    "print(f\"A: {next(iterator_a)}\")\n",
    "print(f\"B: {next(iterator_b)}\")"
   ]
  },
  {
   "cell_type": "code",
   "execution_count": null,
   "metadata": {
    "colab": {
     "base_uri": "https://localhost:8080/"
    },
    "id": "HkVfe8K3CSD3",
    "outputId": "fe0d9740-3d21-43fc-8992-85d88c4f31f3"
   },
   "outputs": [
    {
     "data": {
      "text/plain": [
       "[1, 2, 3]"
      ]
     },
     "execution_count": 6,
     "metadata": {},
     "output_type": "execute_result"
    }
   ],
   "source": [
    "iterable_object"
   ]
  },
  {
   "cell_type": "code",
   "execution_count": null,
   "metadata": {
    "id": "gPsw6ywr_642"
   },
   "outputs": [],
   "source": [
    "# print(f'A: {next(iterator_a)}')"
   ]
  },
  {
   "cell_type": "code",
   "execution_count": null,
   "metadata": {
    "colab": {
     "base_uri": "https://localhost:8080/"
    },
    "id": "PFhBl_4Cx06v",
    "outputId": "d30c68e5-c78d-4aed-8c9d-5517438785ce"
   },
   "outputs": [
    {
     "data": {
      "text/plain": [
       "([], [2, 3])"
      ]
     },
     "execution_count": 8,
     "metadata": {},
     "output_type": "execute_result"
    }
   ],
   "source": [
    "print(list(iterator_a), list(iterator_b))"
   ]
  },
  {
   "cell_type": "code",
   "execution_count": null,
   "metadata": {
    "colab": {
     "base_uri": "https://localhost:8080/"
    },
    "id": "ahG3y2qmgY7i",
    "outputId": "d6cd205d-d974-4af5-94d4-895e1ece8d57"
   },
   "outputs": [
    {
     "name": "stdout",
     "output_type": "stream",
     "text": [
      "1\n",
      "2\n",
      "3\n"
     ]
    }
   ],
   "source": [
    "for item_s in {1, 1, 2, 3}:  # pylint: disable=C0208,W0130\n",
    "    print(item_s)"
   ]
  },
  {
   "cell_type": "markdown",
   "metadata": {
    "id": "Sj4h2zyAJTGd"
   },
   "source": [
    "#### Отсутствие \"обратного хода\""
   ]
  },
  {
   "cell_type": "code",
   "execution_count": null,
   "metadata": {
    "colab": {
     "base_uri": "https://localhost:8080/"
    },
    "id": "0SBq2VSKJQkl",
    "outputId": "a3e37ec9-7506-4dbe-e1e5-3ac827ddc2cb"
   },
   "outputs": [
    {
     "name": "stdout",
     "output_type": "stream",
     "text": [
      "1\n",
      "2\n",
      "3\n"
     ]
    }
   ],
   "source": [
    "iterator_c = iter(iterable_object)\n",
    "\n",
    "for item_c_1 in iterator_c:\n",
    "    print(item_c_1)\n",
    "    break\n",
    "\n",
    "for item_c_2 in iterator_c:\n",
    "    print(item_c_2)"
   ]
  },
  {
   "cell_type": "markdown",
   "metadata": {
    "id": "KvUcGyCOF2dl"
   },
   "source": [
    "#### Функция `zip()`"
   ]
  },
  {
   "cell_type": "code",
   "execution_count": null,
   "metadata": {
    "colab": {
     "base_uri": "https://localhost:8080/"
    },
    "id": "G-Z4ToVzFe0n",
    "outputId": "403a9165-5fa7-487e-9b82-6d44fd8b73af"
   },
   "outputs": [
    {
     "data": {
      "text/plain": [
       "<zip at 0x7ec755cf45c0>"
      ]
     },
     "execution_count": 11,
     "metadata": {},
     "output_type": "execute_result"
    }
   ],
   "source": [
    "iterator_tuple = zip(iterable_object, iterable_object)\n",
    "print(iterator_tuple)"
   ]
  },
  {
   "cell_type": "code",
   "execution_count": null,
   "metadata": {
    "colab": {
     "base_uri": "https://localhost:8080/"
    },
    "id": "1Zici5FDGpCL",
    "outputId": "6be383b2-6215-4b94-93d5-18b2b6faa4f8"
   },
   "outputs": [
    {
     "name": "stdout",
     "output_type": "stream",
     "text": [
      "(1, 1)\n",
      "(2, 2)\n",
      "(3, 3)\n"
     ]
    }
   ],
   "source": [
    "print(next(iterator_tuple))\n",
    "print(next(iterator_tuple))\n",
    "print(next(iterator_tuple))"
   ]
  },
  {
   "cell_type": "code",
   "execution_count": null,
   "metadata": {
    "colab": {
     "base_uri": "https://localhost:8080/"
    },
    "id": "Gf2CXrVGFU2I",
    "outputId": "c4995972-8e75-4246-b694-9437af79c838"
   },
   "outputs": [
    {
     "name": "stdout",
     "output_type": "stream",
     "text": [
      "(1, 1)\n",
      "(2, 2)\n",
      "(3, 3)\n"
     ]
    }
   ],
   "source": [
    "for item_z in zip(iterable_object, iterable_object):\n",
    "    print(item_z)"
   ]
  },
  {
   "cell_type": "markdown",
   "metadata": {
    "id": "e9y3-HUEKlXe"
   },
   "source": [
    "#### Примеры итераторов"
   ]
  },
  {
   "cell_type": "markdown",
   "metadata": {
    "id": "GiQAx3rds0-3"
   },
   "source": [
    "Возведение в квадрат"
   ]
  },
  {
   "cell_type": "code",
   "execution_count": null,
   "metadata": {
    "id": "Gp1fVFW3qJwE"
   },
   "outputs": [],
   "source": [
    "class Square:\n",
    "    \"\"\"Итератор, возводящий в квадрат числа из переданной последовательности.\"\"\"\n",
    "\n",
    "    def __init__(self, seq: list[int]) -> None:\n",
    "        \"\"\"Инициализация итератора.\"\"\"\n",
    "        self._seq = seq\n",
    "        self._idx = 0\n",
    "\n",
    "    def __iter__(self) -> \"Square\":\n",
    "        \"\"\"Возвращает сам объект как итератор.\"\"\"\n",
    "        return self\n",
    "\n",
    "    def __next__(self) -> int:\n",
    "        \"\"\"Возвращает следующее значение итератора.\"\"\"\n",
    "        if self._idx < len(self._seq):\n",
    "            square = self._seq[self._idx] ** 2\n",
    "            self._idx += 1\n",
    "            return square\n",
    "\n",
    "        raise StopIteration"
   ]
  },
  {
   "cell_type": "code",
   "execution_count": null,
   "metadata": {
    "colab": {
     "base_uri": "https://localhost:8080/"
    },
    "id": "tO8DeWnSqmSZ",
    "outputId": "987af348-d6ab-417d-c4b9-99599e2f87b7"
   },
   "outputs": [
    {
     "data": {
      "text/plain": [
       "<__main__.Square at 0x7ec755cf6450>"
      ]
     },
     "execution_count": 15,
     "metadata": {},
     "output_type": "execute_result"
    }
   ],
   "source": [
    "square_1 = Square([1, 2, 3, 4, 5])\n",
    "print(square_1)"
   ]
  },
  {
   "cell_type": "code",
   "execution_count": null,
   "metadata": {
    "colab": {
     "base_uri": "https://localhost:8080/"
    },
    "id": "o2PxHYNJqt6I",
    "outputId": "0e717160-6d5c-4d95-d6dc-d0e3137e4d47"
   },
   "outputs": [
    {
     "name": "stdout",
     "output_type": "stream",
     "text": [
      "1\n",
      "4\n",
      "9\n",
      "16\n",
      "25\n"
     ]
    }
   ],
   "source": [
    "for num_square in square_1:\n",
    "    print(num_square)"
   ]
  },
  {
   "cell_type": "markdown",
   "metadata": {
    "id": "oUor5ZgJs3r3"
   },
   "source": [
    "Счетчик"
   ]
  },
  {
   "cell_type": "code",
   "execution_count": null,
   "metadata": {
    "id": "k3PWHN0xKoO6"
   },
   "outputs": [],
   "source": [
    "class Counter:\n",
    "    \"\"\"Итератор, генерирующий последовательность целых чисел в заданном диапазоне.\"\"\"\n",
    "\n",
    "    def __init__(self, start: int = 3, stop: int = 9) -> None:\n",
    "        \"\"\"Инициализирует итератор с заданными границами диапазона.\"\"\"\n",
    "        self._current = start - 1\n",
    "        self._stop = stop\n",
    "\n",
    "    def __iter__(self) -> \"Counter\":\n",
    "        \"\"\"Возвращает сам объект как итератор.\"\"\"\n",
    "        return self\n",
    "\n",
    "    def __next__(self) -> int:\n",
    "        \"\"\"Возвращает следующее значение в последовательности.\"\"\"\n",
    "        self._current += 1\n",
    "        if self._current < self._stop:\n",
    "            return self._current\n",
    "\n",
    "        raise StopIteration"
   ]
  },
  {
   "cell_type": "code",
   "execution_count": null,
   "metadata": {
    "colab": {
     "base_uri": "https://localhost:8080/"
    },
    "id": "g-8TFk7MKzjJ",
    "outputId": "2cde6f1e-b01c-432c-c90d-354b589a8990"
   },
   "outputs": [
    {
     "data": {
      "text/plain": [
       "<__main__.Counter at 0x7ec755d18490>"
      ]
     },
     "execution_count": 18,
     "metadata": {},
     "output_type": "execute_result"
    }
   ],
   "source": [
    "counter = Counter()\n",
    "print(counter)"
   ]
  },
  {
   "cell_type": "code",
   "execution_count": null,
   "metadata": {
    "colab": {
     "base_uri": "https://localhost:8080/"
    },
    "id": "B8LRePjDLZA_",
    "outputId": "7eb4976f-30f1-4fd4-84dc-3f2d98d4b6d6"
   },
   "outputs": [
    {
     "name": "stdout",
     "output_type": "stream",
     "text": [
      "3\n",
      "4\n"
     ]
    }
   ],
   "source": [
    "print(next(counter))\n",
    "print(next(counter))"
   ]
  },
  {
   "cell_type": "code",
   "execution_count": null,
   "metadata": {
    "colab": {
     "base_uri": "https://localhost:8080/"
    },
    "id": "nWMjrjAzeuOk",
    "outputId": "6ed0a768-e606-453e-ff5d-f06c5040b3a6"
   },
   "outputs": [
    {
     "name": "stdout",
     "output_type": "stream",
     "text": [
      "5\n",
      "6\n",
      "7\n",
      "8\n"
     ]
    }
   ],
   "source": [
    "for current_count in counter:\n",
    "    print(current_count)"
   ]
  },
  {
   "cell_type": "markdown",
   "metadata": {
    "id": "XQ79dGrps8_v"
   },
   "source": [
    "Класс Iterator модуля collections.abc"
   ]
  },
  {
   "cell_type": "code",
   "execution_count": null,
   "metadata": {
    "id": "10ZltZGVtEFo"
   },
   "outputs": [],
   "source": [
    "class Counter2(Iterator[int]):\n",
    "    \"\"\"Итератор.\n",
    "\n",
    "    Генерирует последовательность целых чисел в заданном диапазоне.\n",
    "    \"\"\"\n",
    "\n",
    "    def __init__(self, start: int = 3, stop: int = 9) -> None:\n",
    "        \"\"\"Инициализирует итератор с заданными границами диапазона.\"\"\"\n",
    "        self._current = start - 1\n",
    "        self._stop = stop\n",
    "\n",
    "    def __next__(self) -> int:\n",
    "        \"\"\"Возвращает следующее значение в последовательности.\"\"\"\n",
    "        self._current += 1\n",
    "        if self._current < self._stop:\n",
    "            return self._current\n",
    "\n",
    "        raise StopIteration"
   ]
  },
  {
   "cell_type": "code",
   "execution_count": null,
   "metadata": {
    "colab": {
     "base_uri": "https://localhost:8080/"
    },
    "id": "zYVob0XttPTm",
    "outputId": "9513ea1b-3b75-4f89-eff3-59b0a11e9e10"
   },
   "outputs": [
    {
     "name": "stdout",
     "output_type": "stream",
     "text": [
      "3\n",
      "4\n",
      "5\n",
      "6\n",
      "7\n",
      "8\n"
     ]
    }
   ],
   "source": [
    "for current_count in Counter2():\n",
    "    print(current_count)"
   ]
  },
  {
   "cell_type": "markdown",
   "metadata": {
    "id": "F5EjaYegFtQf"
   },
   "source": [
    "Бесконечный итератор"
   ]
  },
  {
   "cell_type": "code",
   "execution_count": null,
   "metadata": {
    "id": "1K9r-t9jFvZB"
   },
   "outputs": [],
   "source": [
    "class FibIterator:\n",
    "    \"\"\"Бесконечный Итератор.\n",
    "\n",
    "    Генерирует последовательность целых чисел, начиная с 0.\n",
    "    \"\"\"\n",
    "\n",
    "    def __init__(self) -> None:\n",
    "        \"\"\"Инициализирует итератор.\"\"\"\n",
    "        self._idx = 0\n",
    "        self._current = 0\n",
    "        self._next = 1\n",
    "\n",
    "    def __iter__(self) -> \"FibIterator\":\n",
    "        \"\"\"Возвращает сам объект как итератор.\"\"\"\n",
    "        return self\n",
    "\n",
    "    def __next__(self) -> int:\n",
    "        \"\"\"Возвращает следующее значение в последовательности.\"\"\"\n",
    "        self._idx += 1\n",
    "        self._current, self._next = (self._next, self._current + self._next)\n",
    "        return self._current"
   ]
  },
  {
   "cell_type": "code",
   "execution_count": null,
   "metadata": {
    "colab": {
     "base_uri": "https://localhost:8080/"
    },
    "id": "13nuDa2SG2sK",
    "outputId": "de87755e-ed16-447f-9a2b-cefc0fc7a12a"
   },
   "outputs": [
    {
     "name": "stdout",
     "output_type": "stream",
     "text": [
      "1\n",
      "1\n",
      "2\n",
      "3\n",
      "5\n",
      "8\n",
      "13\n",
      "21\n",
      "34\n",
      "55\n"
     ]
    }
   ],
   "source": [
    "limit = 10\n",
    "\n",
    "for item_f in FibIterator():\n",
    "    print(item_f)\n",
    "    limit -= 1\n",
    "    if limit == 0:\n",
    "        break"
   ]
  },
  {
   "cell_type": "markdown",
   "metadata": {
    "id": "i4lNIXO_Edk7"
   },
   "source": [
    "### Генератор"
   ]
  },
  {
   "cell_type": "markdown",
   "metadata": {
    "id": "CWU2zNr6-1AZ"
   },
   "source": [
    "#### Простой пример"
   ]
  },
  {
   "cell_type": "code",
   "execution_count": null,
   "metadata": {
    "id": "g38UdGuA9TRD"
   },
   "outputs": [],
   "source": [
    "def sequence(end: int) -> list[int]:\n",
    "    \"\"\"Возвращает список целых чисел от 1 до n включительно.\"\"\"\n",
    "    res = [num for num in range(1, end + 1)]\n",
    "    return res"
   ]
  },
  {
   "cell_type": "code",
   "execution_count": null,
   "metadata": {
    "colab": {
     "base_uri": "https://localhost:8080/"
    },
    "id": "Qk2gw-wH9dUa",
    "outputId": "13911636-550d-4ff0-81a6-95a8ee420a52"
   },
   "outputs": [
    {
     "data": {
      "text/plain": [
       "[1, 2, 3, 4, 5]"
      ]
     },
     "execution_count": 26,
     "metadata": {},
     "output_type": "execute_result"
    }
   ],
   "source": [
    "print(sequence(5))"
   ]
  },
  {
   "cell_type": "code",
   "execution_count": null,
   "metadata": {
    "id": "kX__mcgp8WJm"
   },
   "outputs": [],
   "source": [
    "def sequence_gen(num_arg: int) -> Generator[int, None, None]:\n",
    "    \"\"\"Генератор, возвращающий целые числа от 1 до n включительно.\"\"\"\n",
    "    yield from range(1, num_arg + 1)"
   ]
  },
  {
   "cell_type": "code",
   "execution_count": null,
   "metadata": {
    "colab": {
     "base_uri": "https://localhost:8080/"
    },
    "id": "Cajg_qXU8oPt",
    "outputId": "66943925-5e95-42c8-8b93-d5cdd7b53a85"
   },
   "outputs": [
    {
     "data": {
      "text/plain": [
       "<generator object sequence_gen at 0x7ec755cae7a0>"
      ]
     },
     "execution_count": 28,
     "metadata": {},
     "output_type": "execute_result"
    }
   ],
   "source": [
    "print(sequence_gen(5))"
   ]
  },
  {
   "cell_type": "code",
   "execution_count": null,
   "metadata": {
    "colab": {
     "base_uri": "https://localhost:8080/"
    },
    "id": "rOKU_bf68uP8",
    "outputId": "253bc200-2441-4cab-f7a5-b0f0308b13a0"
   },
   "outputs": [
    {
     "name": "stdout",
     "output_type": "stream",
     "text": [
      "1\n",
      "2\n"
     ]
    }
   ],
   "source": [
    "seq_5 = sequence_gen(5)\n",
    "\n",
    "print(next(seq_5))\n",
    "print(next(seq_5))"
   ]
  },
  {
   "cell_type": "code",
   "execution_count": null,
   "metadata": {
    "colab": {
     "base_uri": "https://localhost:8080/"
    },
    "id": "d573ZcOZ8yty",
    "outputId": "2f2cb9ef-7348-44ac-ebb0-fd47642f93e2"
   },
   "outputs": [
    {
     "name": "stdout",
     "output_type": "stream",
     "text": [
      "3\n",
      "4\n",
      "5\n"
     ]
    }
   ],
   "source": [
    "for item_s in seq_5:\n",
    "    print(item_s)"
   ]
  },
  {
   "cell_type": "code",
   "execution_count": null,
   "metadata": {
    "id": "9iW5ZNZuORsE"
   },
   "outputs": [],
   "source": [
    "# next(seq_5)"
   ]
  },
  {
   "cell_type": "markdown",
   "metadata": {
    "id": "mFFbJfjvD27P"
   },
   "source": [
    "#### Generator comprehension"
   ]
  },
  {
   "cell_type": "code",
   "execution_count": null,
   "metadata": {
    "colab": {
     "base_uri": "https://localhost:8080/"
    },
    "id": "xGCSq8C4BLDQ",
    "outputId": "e7c42fd1-39a5-4394-b844-28197b61c6c0"
   },
   "outputs": [
    {
     "data": {
      "text/plain": [
       "<generator object <genexpr> at 0x7ec755ccfe00>"
      ]
     },
     "execution_count": 32,
     "metadata": {},
     "output_type": "execute_result"
    }
   ],
   "source": [
    "print(num for num in range(1, 5 + 1))"
   ]
  },
  {
   "cell_type": "code",
   "execution_count": null,
   "metadata": {
    "colab": {
     "base_uri": "https://localhost:8080/"
    },
    "id": "33g4ikqqFcKJ",
    "outputId": "4e36c66e-6fe5-4162-fc81-1acf2c15bc61"
   },
   "outputs": [
    {
     "data": {
      "text/plain": [
       "[1, 2, 3, 4, 5]"
      ]
     },
     "execution_count": 33,
     "metadata": {},
     "output_type": "execute_result"
    }
   ],
   "source": [
    "print(list(num for num in range(1, 5 + 1)))"
   ]
  },
  {
   "cell_type": "code",
   "execution_count": null,
   "metadata": {
    "colab": {
     "base_uri": "https://localhost:8080/"
    },
    "id": "DyOGWjE2LrWx",
    "outputId": "91736c7b-c50a-4990-cbc5-b81593c40586"
   },
   "outputs": [
    {
     "data": {
      "text/plain": [
       "15"
      ]
     },
     "execution_count": 34,
     "metadata": {},
     "output_type": "execute_result"
    }
   ],
   "source": [
    "print(sum(num for num in range(1, 5 + 1)))"
   ]
  },
  {
   "cell_type": "code",
   "execution_count": null,
   "metadata": {
    "colab": {
     "base_uri": "https://localhost:8080/"
    },
    "id": "nzxrUQmEMR27",
    "outputId": "f60aaee5-4be5-4905-f85e-4487d6d683b3"
   },
   "outputs": [
    {
     "data": {
      "text/plain": [
       "True"
      ]
     },
     "execution_count": 35,
     "metadata": {},
     "output_type": "execute_result"
    }
   ],
   "source": [
    "print(5 in (num for num in range(1, 5 + 1)))"
   ]
  },
  {
   "cell_type": "markdown",
   "metadata": {
    "id": "dh__pqr-ImTX"
   },
   "source": [
    "### Модуль itertools"
   ]
  },
  {
   "cell_type": "markdown",
   "metadata": {
    "id": "zKzMJtVeLHp0"
   },
   "source": [
    "#### Функция `count()`"
   ]
  },
  {
   "cell_type": "code",
   "execution_count": null,
   "metadata": {
    "colab": {
     "base_uri": "https://localhost:8080/"
    },
    "id": "MzPekSQWJBPi",
    "outputId": "46fd6fd0-3129-4109-dad8-e4939e62bf0c"
   },
   "outputs": [
    {
     "name": "stdout",
     "output_type": "stream",
     "text": [
      "1\n",
      "1.5\n",
      "2.0\n"
     ]
    }
   ],
   "source": [
    "natural_numbers = count(start=1, step=0.5)\n",
    "\n",
    "for num in natural_numbers:\n",
    "    print(num)\n",
    "    if num == 2:\n",
    "        break"
   ]
  },
  {
   "cell_type": "code",
   "execution_count": null,
   "metadata": {
    "colab": {
     "base_uri": "https://localhost:8080/"
    },
    "id": "DbmVDVFKnTlx",
    "outputId": "4d7874e9-96fc-4e36-f445-55f4fc341c79"
   },
   "outputs": [
    {
     "name": "stdout",
     "output_type": "stream",
     "text": [
      "(0, 'A')\n",
      "(1, 'B')\n",
      "(2, 'C')\n",
      "(3, 'D')\n"
     ]
    }
   ],
   "source": [
    "list_: list[str] = [\"A\", \"B\", \"C\", \"D\"]\n",
    "for item_1 in zip(count(), list_):\n",
    "    print(item_1)"
   ]
  },
  {
   "cell_type": "code",
   "execution_count": null,
   "metadata": {
    "colab": {
     "base_uri": "https://localhost:8080/"
    },
    "id": "nKQCJ_hhoJaH",
    "outputId": "a9cdc460-6cd9-4595-de7a-a8525207d65a"
   },
   "outputs": [
    {
     "data": {
      "text/plain": [
       "-2"
      ]
     },
     "execution_count": 39,
     "metadata": {},
     "output_type": "execute_result"
    }
   ],
   "source": [
    "def quadratic_poly(num_arg: int) -> int:\n",
    "    \"\"\"Вычисляет значение квадратичной функции f(x) = x² + x - 2.\"\"\"\n",
    "    return num_arg**2 + num_arg - 2\n",
    "\n",
    "\n",
    "f_x = map(quadratic_poly, count())\n",
    "next(f_x)"
   ]
  },
  {
   "cell_type": "code",
   "execution_count": null,
   "metadata": {
    "colab": {
     "base_uri": "https://localhost:8080/"
    },
    "id": "nmLgF8Xio_Kd",
    "outputId": "8c8407b8-8043-4ef5-b12c-13402ac22752"
   },
   "outputs": [
    {
     "name": "stdout",
     "output_type": "stream",
     "text": [
      "0\n",
      "4\n",
      "10\n",
      "18\n"
     ]
    }
   ],
   "source": [
    "for value in f_x:\n",
    "    print(value)\n",
    "    if value > 10:\n",
    "        break"
   ]
  },
  {
   "cell_type": "markdown",
   "metadata": {
    "id": "_G5eWGYGmYMp"
   },
   "source": [
    "#### Функция `cycle()`"
   ]
  },
  {
   "cell_type": "code",
   "execution_count": null,
   "metadata": {
    "colab": {
     "base_uri": "https://localhost:8080/"
    },
    "id": "_kC3VssumbF5",
    "outputId": "7aea461d-18b5-4454-9837-86f65c7280a0"
   },
   "outputs": [
    {
     "name": "stdout",
     "output_type": "stream",
     "text": [
      "1\n",
      "2\n",
      "3\n",
      "1\n",
      "2\n"
     ]
    }
   ],
   "source": [
    "list_1: list[int] = [1, 2, 3]\n",
    "iterator_d = cycle(list_1)\n",
    "\n",
    "limit = 5\n",
    "for item_2 in iterator_d:\n",
    "    print(item_2)\n",
    "    limit -= 1\n",
    "    if limit == 0:\n",
    "        break"
   ]
  },
  {
   "cell_type": "code",
   "execution_count": null,
   "metadata": {
    "colab": {
     "base_uri": "https://localhost:8080/"
    },
    "id": "-IqqesXxrT9M",
    "outputId": "8877b29b-24f7-4a4a-eaae-c24bc64786ef"
   },
   "outputs": [
    {
     "name": "stdout",
     "output_type": "stream",
     "text": [
      "P\n",
      "y\n",
      "t\n",
      "h\n",
      "o\n",
      "n\n",
      "P\n",
      "y\n",
      "t\n",
      "h\n"
     ]
    }
   ],
   "source": [
    "string = \"Python\"\n",
    "iterator_e = cycle(string)\n",
    "\n",
    "limit = 10\n",
    "for item_3 in iterator_e:\n",
    "    print(item_3)\n",
    "    limit -= 1\n",
    "    if limit == 0:\n",
    "        break"
   ]
  },
  {
   "cell_type": "markdown",
   "metadata": {
    "id": "ih5bXVq9sGh6"
   },
   "source": [
    "#### Функция `chain()`"
   ]
  },
  {
   "cell_type": "code",
   "execution_count": null,
   "metadata": {
    "colab": {
     "base_uri": "https://localhost:8080/"
    },
    "id": "EzUlrbwZrmG4",
    "outputId": "86f0b35e-e9dc-4749-d987-f02b86d88485"
   },
   "outputs": [
    {
     "data": {
      "text/plain": [
       "<itertools.chain at 0x7ec755d0f670>"
      ]
     },
     "execution_count": 43,
     "metadata": {},
     "output_type": "execute_result"
    }
   ],
   "source": [
    "iterator_f = chain([\"abc\", \"d\", \"e\", \"f\"], \"abc\", [1, 2, 3])\n",
    "print(iterator_f)"
   ]
  },
  {
   "cell_type": "code",
   "execution_count": null,
   "metadata": {
    "colab": {
     "base_uri": "https://localhost:8080/"
    },
    "id": "Uzij2-C2ttuk",
    "outputId": "6895d222-7929-47f6-c8b1-0891648b34ac"
   },
   "outputs": [
    {
     "data": {
      "text/plain": [
       "['abc', 'd', 'e', 'f', 'a', 'b', 'c', 1, 2, 3]"
      ]
     },
     "execution_count": 44,
     "metadata": {},
     "output_type": "execute_result"
    }
   ],
   "source": [
    "print(list(iterator))"
   ]
  },
  {
   "cell_type": "code",
   "execution_count": null,
   "metadata": {
    "colab": {
     "base_uri": "https://localhost:8080/"
    },
    "id": "exjJKXZjvZJb",
    "outputId": "7c677fcf-7cad-45b4-b4c6-6e61ff8d15f2"
   },
   "outputs": [
    {
     "data": {
      "text/plain": [
       "['a', 'b', 'c', 'd', 'e', 'f']"
      ]
     },
     "execution_count": 45,
     "metadata": {},
     "output_type": "execute_result"
    }
   ],
   "source": [
    "print(list(chain.from_iterable([\"abc\", \"def\"])))"
   ]
  },
  {
   "cell_type": "code",
   "execution_count": null,
   "metadata": {
    "colab": {
     "base_uri": "https://localhost:8080/"
    },
    "id": "qE3YDv6SufLi",
    "outputId": "9e2037bc-b04e-4cf2-d8ba-9b9d7e045ce7"
   },
   "outputs": [
    {
     "data": {
      "text/plain": [
       "45"
      ]
     },
     "execution_count": 46,
     "metadata": {},
     "output_type": "execute_result"
    }
   ],
   "source": [
    "result_1 = sum(chain.from_iterable([[1, 2, 3], [4, 5, 6], [7, 8, 9]]))"
   ]
  },
  {
   "cell_type": "code",
   "execution_count": null,
   "metadata": {
    "id": "HApgWQJPyGPa"
   },
   "outputs": [],
   "source": []
  }
 ],
 "metadata": {
  "colab": {
   "provenance": [],
   "toc_visible": true
  },
  "kernelspec": {
   "display_name": "Python 3",
   "name": "python3"
  },
  "language_info": {
   "name": "python"
  }
 },
 "nbformat": 4,
 "nbformat_minor": 0
}
