{
 "cells": [
  {
   "cell_type": "code",
   "execution_count": null,
   "metadata": {},
   "outputs": [],
   "source": [
    "\"\"\"Макаров.\n",
    "\n",
    "Декораторы.\n",
    "\"\"\""
   ]
  },
  {
   "cell_type": "markdown",
   "metadata": {
    "id": "uj3W4pZ3dgXv"
   },
   "source": [
    "# Декораторы"
   ]
  },
  {
   "cell_type": "markdown",
   "metadata": {
    "id": "UWUu0aaT-u4B"
   },
   "source": [
    "### Объекты первого класса"
   ]
  },
  {
   "cell_type": "markdown",
   "metadata": {
    "id": "IXifYlrj_YbX"
   },
   "source": [
    "Присвоение функции переменной"
   ]
  },
  {
   "cell_type": "code",
   "execution_count": null,
   "metadata": {
    "id": "ahhHl0zTdfxX"
   },
   "outputs": [],
   "source": [
    "import functools\n",
    "import time\n",
    "from typing import Callable, ParamSpec, TypeVar\n",
    "\n",
    "# ParamSpec - это переменная типа для сигнатуры функции: она «запоминает»\n",
    "# все аргументы (позиционные и именованные) функции,\n",
    "# чтобы их можно было точно передать дальше с сохранением типобезопасности.\n",
    "# Основное применение - функции высшего порядка (в отм числе декораторы)\n",
    "Params = ParamSpec(\"Params\")\n",
    "\n",
    "# TypeVar - это переменная типа, которая позволяет писать обобщённые (generic)\n",
    "# функции и классы, сохраняя связь между входными и выходными типами.\n",
    "Return = TypeVar(\"Return\")\n",
    "\n",
    "# объявим функцию\n",
    "\n",
    "\n",
    "def say_hello(name: str) -> None:\n",
    "    \"\"\"Выводит приветствие.\"\"\"\n",
    "    print(f\"Привет, {name}!\")"
   ]
  },
  {
   "cell_type": "code",
   "execution_count": 4,
   "metadata": {
    "colab": {
     "base_uri": "https://localhost:8080/"
    },
    "id": "VKrmngnh-xqg",
    "outputId": "43f26846-32a2-4a7c-ab74-ac3066ddbd57"
   },
   "outputs": [
    {
     "name": "stdout",
     "output_type": "stream",
     "text": [
      "Привет, Алексей!\n"
     ]
    }
   ],
   "source": [
    "# присвоим эту функцию переменной (без скобок)\n",
    "say_hello_function = say_hello\n",
    "# вызовем функцию из новой переменной\n",
    "say_hello_function(\"Алексей\")"
   ]
  },
  {
   "cell_type": "markdown",
   "metadata": {
    "id": "INxKkQT__c41"
   },
   "source": [
    "Передача функции в качестве аргумента другой функции"
   ]
  },
  {
   "cell_type": "code",
   "execution_count": null,
   "metadata": {
    "id": "YEwkUtPu_Iaf"
   },
   "outputs": [],
   "source": [
    "def simple_calculator(\n",
    "    operation: Callable[[int, int], int | float], a_arg: int, b_arg: int\n",
    ") -> int | float:\n",
    "    \"\"\"Функция обертка.\n",
    "\n",
    "    Вызывает переданную функцию с переданными аргументами.\n",
    "    \"\"\"\n",
    "    return operation(a_arg, b_arg)\n",
    "\n",
    "\n",
    "def add(a_arg: int, b_arg: int) -> int:\n",
    "    \"\"\"Возвращает сумму двух аргументов.\"\"\"\n",
    "    return a_arg + b_arg\n",
    "\n",
    "\n",
    "def subtract(a_arg: int, b_arg: int) -> int:\n",
    "    \"\"\"Возвращает разность двух аргументов.\"\"\"\n",
    "    return a_arg - b_arg\n",
    "\n",
    "\n",
    "def multiply(a_arg: int, b_arg: int) -> int:\n",
    "    \"\"\"Возвращает произведение двух аргументов.\"\"\"\n",
    "    return a_arg * b_arg\n",
    "\n",
    "\n",
    "def divide(a_arg: int, b_arg: int) -> float:\n",
    "    \"\"\"Возвращает частное от деления первого аргумента на второй аргумент.\"\"\"\n",
    "    return a_arg / b_arg"
   ]
  },
  {
   "cell_type": "code",
   "execution_count": 6,
   "metadata": {
    "colab": {
     "base_uri": "https://localhost:8080/"
    },
    "id": "C0tKH9zgACpY",
    "outputId": "73672462-f6be-4036-f019-628a3d0e23c0"
   },
   "outputs": [
    {
     "data": {
      "text/plain": [
       "0.3333333333333333"
      ]
     },
     "execution_count": 6,
     "metadata": {},
     "output_type": "execute_result"
    }
   ],
   "source": [
    "simple_calculator(divide, 1, 3)"
   ]
  },
  {
   "cell_type": "markdown",
   "metadata": {
    "id": "jU0WfJWIN-cs"
   },
   "source": [
    "### Внутренние функции"
   ]
  },
  {
   "cell_type": "markdown",
   "metadata": {
    "id": "uOl-kzspPzwv"
   },
   "source": [
    "Вызов внутренней функции"
   ]
  },
  {
   "cell_type": "code",
   "execution_count": 7,
   "metadata": {
    "id": "wom-NUQnOZYs"
   },
   "outputs": [],
   "source": [
    "def outer() -> None:\n",
    "    \"\"\"Внешняя функция.\"\"\"\n",
    "    print(\"Вызов внешней функции.\")\n",
    "\n",
    "    # обратите внимание, мы объявляем, а затем\n",
    "    def inner() -> None:\n",
    "        \"\"\"Внутренняя функция.\"\"\"\n",
    "        print(\"Вызов внутренней функции.\")\n",
    "\n",
    "    # вызываем внутреннюю функцию\n",
    "    inner()"
   ]
  },
  {
   "cell_type": "code",
   "execution_count": 8,
   "metadata": {
    "colab": {
     "base_uri": "https://localhost:8080/"
    },
    "id": "EG7HyDpGOpqF",
    "outputId": "7afd2d51-8199-4eb9-8a4c-27afe15b655d"
   },
   "outputs": [
    {
     "name": "stdout",
     "output_type": "stream",
     "text": [
      "Вызов внешней функции.\n",
      "Вызов внутренней функции.\n"
     ]
    }
   ],
   "source": [
    "outer()"
   ]
  },
  {
   "cell_type": "code",
   "execution_count": null,
   "metadata": {
    "id": "lq8mXyyFPmNi"
   },
   "outputs": [],
   "source": [
    "# inner()"
   ]
  },
  {
   "cell_type": "markdown",
   "metadata": {
    "id": "ggx5eY1BP2E_"
   },
   "source": [
    "Возвращение функции из функции и замыкание"
   ]
  },
  {
   "cell_type": "code",
   "execution_count": null,
   "metadata": {
    "id": "f92IsJmiAGEm"
   },
   "outputs": [],
   "source": [
    "def create_multiplier(factor: int) -> Callable[[int], int]:\n",
    "    \"\"\"Создает функцию-умножитель.\"\"\"\n",
    "\n",
    "    def multiplier(number: int) -> int:\n",
    "        return number * factor\n",
    "\n",
    "    return multiplier"
   ]
  },
  {
   "cell_type": "code",
   "execution_count": null,
   "metadata": {
    "id": "RKJh1YXZPfvy"
   },
   "outputs": [],
   "source": [
    "double = create_multiplier(factor=2)\n",
    "triple = create_multiplier(factor=3)"
   ]
  },
  {
   "cell_type": "code",
   "execution_count": 11,
   "metadata": {
    "colab": {
     "base_uri": "https://localhost:8080/",
     "height": 103
    },
    "id": "n3gfeRpjQJv7",
    "outputId": "cf19c87f-2159-40cb-93a8-476f8954e477"
   },
   "outputs": [
    {
     "name": "stdout",
     "output_type": "stream",
     "text": [
      "<function create_multiplier.<locals>.multiplier at 0x000002DBFA7B39C0>\n"
     ]
    }
   ],
   "source": [
    "print(double)"
   ]
  },
  {
   "cell_type": "code",
   "execution_count": null,
   "metadata": {
    "colab": {
     "base_uri": "https://localhost:8080/"
    },
    "id": "8e_BM_ZbPSrL",
    "outputId": "e2e72c8d-1599-4a9b-8c9a-895845021852"
   },
   "outputs": [
    {
     "data": {
      "text/plain": [
       "(4, 6)"
      ]
     },
     "execution_count": 56,
     "metadata": {},
     "output_type": "execute_result"
    }
   ],
   "source": [
    "print(double(2), triple(2))"
   ]
  },
  {
   "cell_type": "code",
   "execution_count": null,
   "metadata": {
    "id": "iiyiBcU8dAqM"
   },
   "outputs": [],
   "source": [
    "def create_multiplier_1(factor: int) -> Callable[[int], int]:\n",
    "    \"\"\"Создает функцию-умножитель.\"\"\"\n",
    "    return lambda number: factor * number"
   ]
  },
  {
   "cell_type": "code",
   "execution_count": null,
   "metadata": {
    "colab": {
     "base_uri": "https://localhost:8080/"
    },
    "id": "VuEd1WLtdMVY",
    "outputId": "779967db-9a33-42e6-9f29-1f9b57b098a6"
   },
   "outputs": [
    {
     "data": {
      "text/plain": [
       "6"
      ]
     },
     "execution_count": 58,
     "metadata": {},
     "output_type": "execute_result"
    }
   ],
   "source": [
    "triple_1 = create_multiplier_1(factor=3)\n",
    "triple_1(2)"
   ]
  },
  {
   "cell_type": "markdown",
   "metadata": {
    "id": "jOxX3byTQcvZ"
   },
   "source": [
    "### Знакомство с декораторами"
   ]
  },
  {
   "cell_type": "markdown",
   "metadata": {
    "id": "fl2py8bY_MGw"
   },
   "source": [
    "Простой декоратор"
   ]
  },
  {
   "cell_type": "code",
   "execution_count": null,
   "metadata": {
    "id": "DqWzDydyPdS6"
   },
   "outputs": [],
   "source": [
    "def simple_decorator(\n",
    "    func: Callable[Params, Return],\n",
    ") -> Callable[Params, Return]:\n",
    "    \"\"\"Простой декоратор.\"\"\"\n",
    "\n",
    "    def wrapper(*args: Params.args, **kwargs: Params.kwargs) -> Return:\n",
    "        \"\"\"Функция-обертка.\"\"\"\n",
    "        print(\"Текст до вызова функции func().\")\n",
    "        result = func(*args, **kwargs)\n",
    "        print(\"Текст после вызова функции func().\")\n",
    "\n",
    "        return result\n",
    "\n",
    "    return wrapper\n",
    "\n",
    "\n",
    "def say_hello_1() -> None:\n",
    "    \"\"\"Функция-приветствие.\"\"\"\n",
    "    print(\"Привет!\")"
   ]
  },
  {
   "cell_type": "code",
   "execution_count": null,
   "metadata": {
    "id": "YeZqM0Ri-0cE"
   },
   "outputs": [],
   "source": [
    "say_hello_var = simple_decorator(say_hello_1)"
   ]
  },
  {
   "cell_type": "code",
   "execution_count": 14,
   "metadata": {
    "colab": {
     "base_uri": "https://localhost:8080/"
    },
    "id": "bRD44QdeTtbL",
    "outputId": "26d50e1d-8dac-422f-a4b1-7250cd64f8c3"
   },
   "outputs": [
    {
     "name": "stdout",
     "output_type": "stream",
     "text": [
      "Текст до вызова функции func().\n",
      "Привет!\n",
      "Текст после вызова функции func().\n"
     ]
    }
   ],
   "source": [
    "say_hello_var()"
   ]
  },
  {
   "cell_type": "markdown",
   "metadata": {
    "id": "3_n1GHNRDn-u"
   },
   "source": [
    "Конструкция @decorator"
   ]
  },
  {
   "cell_type": "code",
   "execution_count": 15,
   "metadata": {
    "id": "aPTsoheWUyqO"
   },
   "outputs": [],
   "source": [
    "@simple_decorator\n",
    "def say_hi() -> None:\n",
    "    \"\"\"Функция повторного приветствия.\"\"\"\n",
    "    print(\"Снова, привет!\")"
   ]
  },
  {
   "cell_type": "code",
   "execution_count": 16,
   "metadata": {
    "colab": {
     "base_uri": "https://localhost:8080/"
    },
    "id": "8FRvX4NEUl6T",
    "outputId": "85a01dca-c68d-41b9-ea86-a489a8d45d50"
   },
   "outputs": [
    {
     "name": "stdout",
     "output_type": "stream",
     "text": [
      "Текст до вызова функции func().\n",
      "Снова, привет!\n",
      "Текст после вызова функции func().\n"
     ]
    }
   ],
   "source": [
    "say_hi()"
   ]
  },
  {
   "cell_type": "markdown",
   "metadata": {
    "id": "JaGa8Qwr_N-5"
   },
   "source": [
    "Функции с аргументами"
   ]
  },
  {
   "cell_type": "code",
   "execution_count": null,
   "metadata": {
    "id": "fKHekNgUHFLo"
   },
   "outputs": [],
   "source": [
    "@simple_decorator\n",
    "def say_hello_with_name(name_arg: str) -> None:\n",
    "    \"\"\"Приветствие с именем.\"\"\"\n",
    "    print(f\"Привет, {name_arg}!\")"
   ]
  },
  {
   "cell_type": "code",
   "execution_count": null,
   "metadata": {
    "id": "EeW8G0LsHPJu"
   },
   "outputs": [],
   "source": [
    "# say_hello_with_name('Алексей')"
   ]
  },
  {
   "cell_type": "code",
   "execution_count": null,
   "metadata": {
    "id": "WLoje-LpU_tJ"
   },
   "outputs": [],
   "source": [
    "def decorator_with_name_argument(\n",
    "    func: Callable[[str], None],\n",
    ") -> Callable[[str], None]:\n",
    "    \"\"\"Декоратор, принимающий имя.\"\"\"\n",
    "\n",
    "    def wrapper(name: str) -> None:\n",
    "        \"\"\"Функция-обертка.\"\"\"\n",
    "        print(\"Текст до вызова функции func().\")\n",
    "        func(name)\n",
    "        print(\"Текст после вызова функции func().\")\n",
    "\n",
    "    return wrapper"
   ]
  },
  {
   "cell_type": "code",
   "execution_count": null,
   "metadata": {
    "id": "HcQaW7IAVm5Q"
   },
   "outputs": [],
   "source": [
    "@decorator_with_name_argument\n",
    "def say_hello_with_name_1(name: str) -> None:\n",
    "    \"\"\"Приветствие с именем.\"\"\"\n",
    "    print(f\"Привет, {name}!\")"
   ]
  },
  {
   "cell_type": "code",
   "execution_count": 19,
   "metadata": {
    "colab": {
     "base_uri": "https://localhost:8080/"
    },
    "id": "Ps96hpvjV9Ra",
    "outputId": "95ea1054-a1e0-49ee-cc9b-a93fa8075804"
   },
   "outputs": [
    {
     "name": "stdout",
     "output_type": "stream",
     "text": [
      "Текст до вызова функции func().\n",
      "Привет, Алексей!\n",
      "Текст после вызова функции func().\n"
     ]
    }
   ],
   "source": [
    "say_hello_with_name_1(\"Алексей\")"
   ]
  },
  {
   "cell_type": "code",
   "execution_count": null,
   "metadata": {
    "id": "XLO10uz8jTgf"
   },
   "outputs": [],
   "source": [
    "def decorator_with_arguments(\n",
    "    func: Callable[Params, Return],\n",
    ") -> Callable[Params, Return]:\n",
    "    \"\"\"Декоратор с аргументами.\"\"\"\n",
    "\n",
    "    def wrapper(*args: Params.args, **kwargs: Params.kwargs) -> Return:\n",
    "        \"\"\"Функция-обертка.\"\"\"\n",
    "        print(\"Текст до вызова функции func().\")\n",
    "\n",
    "        result = func(*args, **kwargs)\n",
    "\n",
    "        print(\"Текст после вызова функции func().\")\n",
    "\n",
    "        return result\n",
    "\n",
    "    return wrapper"
   ]
  },
  {
   "cell_type": "code",
   "execution_count": null,
   "metadata": {
    "id": "mmkQw_NeQgDo"
   },
   "outputs": [],
   "source": [
    "@decorator_with_arguments\n",
    "def say_hello_with_argument(name: str) -> None:\n",
    "    \"\"\"Функция-приветствие, принимающая имя.\"\"\"\n",
    "    print(f\"Привет, {name}!\")"
   ]
  },
  {
   "cell_type": "code",
   "execution_count": null,
   "metadata": {
    "colab": {
     "base_uri": "https://localhost:8080/"
    },
    "id": "6an3iiFLQjhx",
    "outputId": "709e6c14-596e-4feb-ffd3-f8c3d0ef796f"
   },
   "outputs": [
    {
     "name": "stdout",
     "output_type": "stream",
     "text": [
      "Текст до вызова функции func().\n",
      "Привет, Алексей!\n",
      "Текст после вызова функции func().\n"
     ]
    }
   ],
   "source": [
    "say_hello_with_argument(\"Алексей\")"
   ]
  },
  {
   "cell_type": "markdown",
   "metadata": {
    "id": "nYfQs9qTTvpx"
   },
   "source": [
    "Возвращение значения декорируемой функции"
   ]
  },
  {
   "cell_type": "code",
   "execution_count": null,
   "metadata": {
    "id": "n3O_bUeDcd6H"
   },
   "outputs": [],
   "source": [
    "def another_decorator(\n",
    "    func: Callable[Params, Return],\n",
    ") -> Callable[Params, Return]:\n",
    "    \"\"\"Другой декоратор с аргументами.\"\"\"\n",
    "\n",
    "    def wrapper(*args: Params.args, **kwargs: Params.kwargs) -> Return:\n",
    "        \"\"\"Функция-обертка.\"\"\"\n",
    "        print(\"Текст внутренней функции.\")\n",
    "\n",
    "        return func(*args, **kwargs)\n",
    "\n",
    "    return wrapper"
   ]
  },
  {
   "cell_type": "code",
   "execution_count": null,
   "metadata": {
    "id": "0QfyEIQ0Tyo1"
   },
   "outputs": [],
   "source": [
    "@another_decorator\n",
    "def return_name_1(name: str) -> str:\n",
    "    \"\"\"Возвращает переданное имя.\"\"\"\n",
    "    return name"
   ]
  },
  {
   "cell_type": "code",
   "execution_count": null,
   "metadata": {
    "colab": {
     "base_uri": "https://localhost:8080/"
    },
    "id": "Odulil-rT_6L",
    "outputId": "c87fc41e-03c5-4af8-d8eb-4cc98e3a7db3"
   },
   "outputs": [
    {
     "name": "stdout",
     "output_type": "stream",
     "text": [
      "Текст внутренней функции.\n"
     ]
    }
   ],
   "source": [
    "returned_value = return_name_1(\"Алексей\")"
   ]
  },
  {
   "cell_type": "code",
   "execution_count": null,
   "metadata": {
    "colab": {
     "base_uri": "https://localhost:8080/"
    },
    "id": "Z4mn1aNqUItV",
    "outputId": "c86cc40d-161b-4196-8fa5-640d6ad05008"
   },
   "outputs": [
    {
     "name": "stdout",
     "output_type": "stream",
     "text": [
      "None\n"
     ]
    }
   ],
   "source": [
    "print(returned_value)"
   ]
  },
  {
   "cell_type": "code",
   "execution_count": null,
   "metadata": {
    "id": "vY4KoCEpUWPF"
   },
   "outputs": [],
   "source": [
    "def another_decorator_1(\n",
    "    func: Callable[Params, Return],\n",
    ") -> Callable[Params, Return]:\n",
    "    \"\"\"Другой декоратор.\"\"\"\n",
    "\n",
    "    def wrapper(*args: Params.args, **kwargs: Params.kwargs) -> Return:\n",
    "        \"\"\"Функция-обертка.\"\"\"\n",
    "        print(\"Текст внутренней функции.\")\n",
    "        return func(*args, **kwargs)  # внутренняя функция возвращает func()\n",
    "\n",
    "    return wrapper"
   ]
  },
  {
   "cell_type": "code",
   "execution_count": null,
   "metadata": {
    "id": "pdBi1JIgUfbA"
   },
   "outputs": [],
   "source": [
    "@another_decorator_1\n",
    "def return_name(name_arg: str) -> str:\n",
    "    \"\"\"Возвращает переданное имя.\"\"\"\n",
    "    return name_arg"
   ]
  },
  {
   "cell_type": "code",
   "execution_count": null,
   "metadata": {
    "colab": {
     "base_uri": "https://localhost:8080/"
    },
    "id": "DgmF5Y80UhxE",
    "outputId": "fe7a2730-8dec-4c6e-9cba-3b6e16a71c04"
   },
   "outputs": [
    {
     "name": "stdout",
     "output_type": "stream",
     "text": [
      "Текст внутренней функции.\n"
     ]
    }
   ],
   "source": [
    "returned_value = return_name(\"Алексей\")"
   ]
  },
  {
   "cell_type": "code",
   "execution_count": null,
   "metadata": {
    "colab": {
     "base_uri": "https://localhost:8080/"
    },
    "id": "C2pBMz0WcDdL",
    "outputId": "76d1d18f-d81e-49c9-eecc-9bcfddcf88ff"
   },
   "outputs": [
    {
     "name": "stdout",
     "output_type": "stream",
     "text": [
      "Алексей\n"
     ]
    }
   ],
   "source": [
    "print(returned_value)"
   ]
  },
  {
   "cell_type": "markdown",
   "metadata": {
    "id": "96f9wVE9V9Vr"
   },
   "source": [
    "Декоратор @functools.wraps"
   ]
  },
  {
   "cell_type": "code",
   "execution_count": null,
   "metadata": {
    "id": "MdPnhLh7UjM8"
   },
   "outputs": [],
   "source": [
    "def square(num: int) -> int:\n",
    "    \"\"\"Squares a number.\"\"\"\n",
    "    return num * num"
   ]
  },
  {
   "cell_type": "code",
   "execution_count": null,
   "metadata": {
    "colab": {
     "base_uri": "https://localhost:8080/"
    },
    "id": "V4UwZvebVvGN",
    "outputId": "2fd308ec-95f3-4dad-e197-8c77a432f69c"
   },
   "outputs": [
    {
     "data": {
      "text/plain": [
       "('square', 'Squares a number')"
      ]
     },
     "execution_count": 81,
     "metadata": {},
     "output_type": "execute_result"
    }
   ],
   "source": [
    "print(square.__name__, square.__doc__)"
   ]
  },
  {
   "cell_type": "code",
   "execution_count": null,
   "metadata": {
    "id": "0iKP_IpEWNnn"
   },
   "outputs": [],
   "source": [
    "def repeat_twice(\n",
    "    func: Callable[Params, Return],\n",
    ") -> Callable[Params, None]:\n",
    "    \"\"\"Декоратор, который дважды вызывает функция.\"\"\"\n",
    "\n",
    "    def wrapper(*args: Params.args, **kwargs: Params.kwargs) -> None:\n",
    "        \"\"\"Функция-обертка.\"\"\"\n",
    "        func(*args, **kwargs)\n",
    "        func(*args, **kwargs)\n",
    "\n",
    "    return wrapper"
   ]
  },
  {
   "cell_type": "code",
   "execution_count": 25,
   "metadata": {
    "id": "XQPua1yJVwWl"
   },
   "outputs": [],
   "source": [
    "@repeat_twice\n",
    "def square_1(num: int) -> int:\n",
    "    \"\"\"Squares a number.\"\"\"\n",
    "    result = num * num\n",
    "\n",
    "    print(result)\n",
    "\n",
    "    return result"
   ]
  },
  {
   "cell_type": "code",
   "execution_count": 26,
   "metadata": {
    "id": "Xp1b9jLebCpC"
   },
   "outputs": [
    {
     "name": "stdout",
     "output_type": "stream",
     "text": [
      "9\n",
      "9\n"
     ]
    }
   ],
   "source": [
    "square_1(3)"
   ]
  },
  {
   "cell_type": "code",
   "execution_count": null,
   "metadata": {
    "colab": {
     "base_uri": "https://localhost:8080/"
    },
    "id": "g5Ijk3fvXDtD",
    "outputId": "c0680c69-21fa-47c6-c89d-22c5083f7a2b"
   },
   "outputs": [
    {
     "data": {
      "text/plain": [
       "('wrapper', None)"
      ]
     },
     "execution_count": 85,
     "metadata": {},
     "output_type": "execute_result"
    }
   ],
   "source": [
    "square.__name__, square.__doc__"
   ]
  },
  {
   "cell_type": "code",
   "execution_count": null,
   "metadata": {
    "id": "TlJNvigxXMZE"
   },
   "outputs": [],
   "source": [
    "def repeat_twice_1(\n",
    "    func: Callable[Params, Return],\n",
    ") -> Callable[Params, None]:\n",
    "    \"\"\"Декоратор, который дважды вызывает функция.\"\"\"\n",
    "\n",
    "    @functools.wraps(func)\n",
    "    def wrapper(*args: Params.args, **kwargs: Params.kwargs) -> None:\n",
    "        \"\"\"Функция-обертка.\"\"\"\n",
    "        func(*args, **kwargs)\n",
    "        func(*args, **kwargs)\n",
    "\n",
    "    return wrapper"
   ]
  },
  {
   "cell_type": "code",
   "execution_count": 37,
   "metadata": {
    "id": "DpxKd94oXQlA"
   },
   "outputs": [],
   "source": [
    "@repeat_twice_1\n",
    "def square_2(num: int) -> int:\n",
    "    \"\"\"Squares a number.\"\"\"\n",
    "    result = num * num\n",
    "\n",
    "    print(result)\n",
    "\n",
    "    return result"
   ]
  },
  {
   "cell_type": "code",
   "execution_count": 38,
   "metadata": {
    "colab": {
     "base_uri": "https://localhost:8080/"
    },
    "id": "YsaelJl3YVA0",
    "outputId": "9e453de0-6370-41d4-ac20-1d060b0592f3"
   },
   "outputs": [
    {
     "name": "stdout",
     "output_type": "stream",
     "text": [
      "square_2 Squares a number.\n"
     ]
    }
   ],
   "source": [
    "print(square_2.__name__, square_2.__doc__)"
   ]
  },
  {
   "cell_type": "code",
   "execution_count": null,
   "metadata": {
    "colab": {
     "base_uri": "https://localhost:8080/",
     "height": 103
    },
    "id": "Wvl0I71Oh4dc",
    "outputId": "3ce27822-0bbe-4008-f36e-3d5a9d9807db"
   },
   "outputs": [
    {
     "name": "stdout",
     "output_type": "stream",
     "text": [
      "<function square_2 at 0x000002DBFB520360>\n"
     ]
    }
   ],
   "source": [
    "print(square_2.__wrapped__)  # type: ignore"
   ]
  },
  {
   "cell_type": "code",
   "execution_count": null,
   "metadata": {
    "id": "tNFRtACYf2Ik"
   },
   "outputs": [],
   "source": [
    "def repeat_twice_2(\n",
    "    func: Callable[Params, Return],\n",
    ") -> Callable[Params, None]:\n",
    "    \"\"\"Декоратор, который дважды вызывает функция.\"\"\"\n",
    "\n",
    "    def wrapper(*args: Params.args, **kwargs: Params.kwargs) -> None:\n",
    "        \"\"\"Функция-обертка.\"\"\"\n",
    "        func(*args, **kwargs)\n",
    "        func(*args, **kwargs)\n",
    "        functools.update_wrapper(wrapper, func)\n",
    "\n",
    "    return wrapper"
   ]
  },
  {
   "cell_type": "code",
   "execution_count": null,
   "metadata": {
    "id": "OqtPbkS0f-Ox"
   },
   "outputs": [],
   "source": [
    "@repeat_twice_2\n",
    "def power(num: int, pow_arg: int) -> None:\n",
    "    \"\"\"Raise to a power.\"\"\"\n",
    "    print(num**pow_arg)"
   ]
  },
  {
   "cell_type": "code",
   "execution_count": null,
   "metadata": {
    "colab": {
     "base_uri": "https://localhost:8080/"
    },
    "id": "cUOkkwwdgFHh",
    "outputId": "898e551c-b7bc-4f4f-a647-5342b1d174f5"
   },
   "outputs": [
    {
     "name": "stdout",
     "output_type": "stream",
     "text": [
      "8\n",
      "8\n"
     ]
    }
   ],
   "source": [
    "power(2, 3)"
   ]
  },
  {
   "cell_type": "code",
   "execution_count": null,
   "metadata": {
    "colab": {
     "base_uri": "https://localhost:8080/",
     "height": 37
    },
    "id": "HZvDG-hRgHbZ",
    "outputId": "258e9681-6bac-4d0f-c4bd-7f639e2ff18b"
   },
   "outputs": [
    {
     "data": {
      "application/vnd.google.colaboratory.intrinsic+json": {
       "type": "string"
      },
      "text/plain": [
       "'Raises to a power'"
      ]
     },
     "execution_count": 93,
     "metadata": {},
     "output_type": "execute_result"
    }
   ],
   "source": [
    "print(power.__doc__)"
   ]
  },
  {
   "cell_type": "markdown",
   "metadata": {
    "id": "DRNFII11hPme"
   },
   "source": [
    "### Примеры декораторов"
   ]
  },
  {
   "cell_type": "markdown",
   "metadata": {
    "id": "90ciKrTXhR4y"
   },
   "source": [
    "Создание логов"
   ]
  },
  {
   "cell_type": "code",
   "execution_count": null,
   "metadata": {
    "id": "PjrkD7rTgQZh"
   },
   "outputs": [],
   "source": [
    "def logging(\n",
    "    func: Callable[Params, Return],\n",
    ") -> Callable[Params, Return]:\n",
    "    \"\"\"Логирование вызовов функции.\"\"\"\n",
    "\n",
    "    def wrapper(*args: Params.args, **kwargs: Params.kwargs) -> Return:\n",
    "        \"\"\"Функция-обертка.\"\"\"\n",
    "        print(f\"Calling {func.__name__} with args: {args}, kwargs: {kwargs}\")\n",
    "\n",
    "        result = func(*args, **kwargs)\n",
    "\n",
    "        print(f\"{func.__name__} returned: {result}\")\n",
    "\n",
    "        return result\n",
    "\n",
    "    return wrapper"
   ]
  },
  {
   "cell_type": "code",
   "execution_count": null,
   "metadata": {
    "colab": {
     "base_uri": "https://localhost:8080/"
    },
    "id": "q5a47uz5iDcE",
    "outputId": "f98c0fa3-3b97-4247-a5ae-cbc0da48e92a"
   },
   "outputs": [
    {
     "name": "stdout",
     "output_type": "stream",
     "text": [
      "Calling power_1 with args: (5, 3), kwargs: {}\n",
      "power_1 returned: 125\n"
     ]
    },
    {
     "data": {
      "text/plain": [
       "125"
      ]
     },
     "execution_count": 42,
     "metadata": {},
     "output_type": "execute_result"
    }
   ],
   "source": [
    "@logging\n",
    "def power_1(num: int, pow_arg: int) -> int:\n",
    "    \"\"\"Raise to a power.\"\"\"\n",
    "    return int(num**pow_arg)\n",
    "\n",
    "\n",
    "power_1(5, 3)"
   ]
  },
  {
   "cell_type": "markdown",
   "metadata": {
    "id": "BATiTOZch5Hd"
   },
   "source": [
    "Время исполнения функции"
   ]
  },
  {
   "cell_type": "code",
   "execution_count": null,
   "metadata": {
    "id": "JzUr3gBrhgsg"
   },
   "outputs": [],
   "source": [
    "def timer(\n",
    "    func: Callable[Params, Return],\n",
    ") -> Callable[Params, Return]:\n",
    "    \"\"\"Декоратор для вычисления времени выполнения функции.\"\"\"\n",
    "\n",
    "    def wrapper(*args: Params.args, **kwargs: Params.kwargs) -> Return:\n",
    "        \"\"\"Функция-обертка.\"\"\"\n",
    "        start_time = time.time()\n",
    "\n",
    "        result = func(*args, **kwargs)\n",
    "\n",
    "        end_time = time.time()\n",
    "\n",
    "        print(\n",
    "            f\"{func.__name__} executed in {end_time - start_time:.4f} seconds\"\n",
    "        )\n",
    "\n",
    "        return result\n",
    "\n",
    "    return wrapper"
   ]
  },
  {
   "cell_type": "code",
   "execution_count": 47,
   "metadata": {
    "colab": {
     "base_uri": "https://localhost:8080/",
     "height": 55
    },
    "id": "MvgB0y7IiKEJ",
    "outputId": "35bdcec2-a698-40c0-8357-d49bf741c4fb"
   },
   "outputs": [
    {
     "name": "stdout",
     "output_type": "stream",
     "text": [
      "delayed_function executed in 2.0012 seconds\n"
     ]
    },
    {
     "data": {
      "text/plain": [
       "'execution completed'"
      ]
     },
     "execution_count": 47,
     "metadata": {},
     "output_type": "execute_result"
    }
   ],
   "source": [
    "@timer\n",
    "def delayed_function(delay: int) -> str:\n",
    "    \"\"\"Функция с задержкой выполнения.\"\"\"\n",
    "    time.sleep(delay)\n",
    "    return \"execution completed\"\n",
    "\n",
    "\n",
    "delayed_function(2)"
   ]
  },
  {
   "cell_type": "markdown",
   "metadata": {
    "id": "Far9nIP_lBcV"
   },
   "source": [
    "### Типы методов"
   ]
  },
  {
   "cell_type": "markdown",
   "metadata": {
    "id": "yiBHRhX0mr1X"
   },
   "source": [
    "Методы экземпляра"
   ]
  },
  {
   "cell_type": "code",
   "execution_count": null,
   "metadata": {
    "id": "uMswH5MoiBQg"
   },
   "outputs": [],
   "source": [
    "class CatClass:\n",
    "    \"\"\"Класс кот.\"\"\"\n",
    "\n",
    "    def __init__(self, color: str) -> None:\n",
    "        \"\"\"Инициализация кота с цветом.\"\"\"\n",
    "        self.color = color\n",
    "        self.type_ = \"cat\"\n",
    "\n",
    "    def info(self) -> None:\n",
    "        \"\"\"Вывод информации о коте.\"\"\"\n",
    "        print(self.color, self.type_, sep=\", \")"
   ]
  },
  {
   "cell_type": "code",
   "execution_count": null,
   "metadata": {
    "colab": {
     "base_uri": "https://localhost:8080/"
    },
    "id": "ORHkpRULnV48",
    "outputId": "5fab4183-8729-4a02-8996-a35b50a330fd"
   },
   "outputs": [
    {
     "name": "stdout",
     "output_type": "stream",
     "text": [
      "black, cat\n"
     ]
    }
   ],
   "source": [
    "cat = CatClass(color=\"black\")\n",
    "cat.info()"
   ]
  },
  {
   "cell_type": "code",
   "execution_count": null,
   "metadata": {
    "id": "VUKAK7pIO0OU"
   },
   "outputs": [],
   "source": [
    "# CatClass.info()"
   ]
  },
  {
   "cell_type": "code",
   "execution_count": null,
   "metadata": {
    "id": "mXPMkHLjQn_i"
   },
   "outputs": [],
   "source": [
    "# CatClass.color"
   ]
  },
  {
   "cell_type": "markdown",
   "metadata": {
    "id": "Ny5x6rT7o3sN"
   },
   "source": [
    "Методы класса"
   ]
  },
  {
   "cell_type": "code",
   "execution_count": 48,
   "metadata": {
    "id": "CIn4oi0TniKB"
   },
   "outputs": [],
   "source": [
    "class CatClass1:\n",
    "    \"\"\"Класс кот.\"\"\"\n",
    "\n",
    "    species = \"кошка\"  # переменная класса доступна всем экземплярам\n",
    "\n",
    "    def __init__(self, color: str) -> None:\n",
    "        \"\"\"Инициализация кота с цветом.\"\"\"\n",
    "        self.color = color\n",
    "\n",
    "    def info(self) -> None:\n",
    "        \"\"\"Вывод информации о коте.\"\"\"\n",
    "        print(self.color)\n",
    "\n",
    "    @classmethod\n",
    "    def get_species(cls) -> None:\n",
    "        \"\"\"Вывод значения аттрибута класса species.\"\"\"\n",
    "        print(cls.species)\n",
    "        # нет доступа к переменным color и type_"
   ]
  },
  {
   "cell_type": "code",
   "execution_count": null,
   "metadata": {
    "colab": {
     "base_uri": "https://localhost:8080/",
     "height": 37
    },
    "id": "OeiyzIrgoJnW",
    "outputId": "f7cd1440-f237-4aa4-cff6-e2d35fa3be4d"
   },
   "outputs": [
    {
     "data": {
      "text/plain": [
       "'кошка'"
      ]
     },
     "execution_count": 49,
     "metadata": {},
     "output_type": "execute_result"
    }
   ],
   "source": [
    "print(CatClass1.species)"
   ]
  },
  {
   "cell_type": "code",
   "execution_count": 50,
   "metadata": {
    "colab": {
     "base_uri": "https://localhost:8080/"
    },
    "id": "qq-lk-R1nInf",
    "outputId": "764649e5-7dcb-4178-c46c-b11d81724efe"
   },
   "outputs": [
    {
     "name": "stdout",
     "output_type": "stream",
     "text": [
      "кошка\n"
     ]
    }
   ],
   "source": [
    "CatClass1.get_species()"
   ]
  },
  {
   "cell_type": "markdown",
   "metadata": {
    "id": "ksfgajzZo9wu"
   },
   "source": [
    "Статические методы"
   ]
  },
  {
   "cell_type": "code",
   "execution_count": null,
   "metadata": {
    "id": "JuPIH3Z7o0n2"
   },
   "outputs": [],
   "source": [
    "class CatClass2:\n",
    "    \"\"\"Класс кот.\"\"\"\n",
    "\n",
    "    species = \"кошка\"\n",
    "\n",
    "    def __init__(self, color: str) -> None:\n",
    "        \"\"\"Инициализация кота с цветом.\"\"\"\n",
    "        self.color = color\n",
    "        self.type_ = \"cat\"\n",
    "\n",
    "    def info(self) -> None:\n",
    "        \"\"\"Вывод информации о коте.\"\"\"\n",
    "        print(self.color, self.type_)\n",
    "\n",
    "    @classmethod\n",
    "    def get_species(cls) -> None:\n",
    "        \"\"\"Вывод значения аттрибута класса species.\"\"\"\n",
    "        print(cls.species)\n",
    "        # нет доступа к переменным color и type_\n",
    "\n",
    "    @staticmethod\n",
    "    def convert_to_pounds(kg: int) -> None:\n",
    "        \"\"\"Конвертирует килограммы в фунты.\"\"\"\n",
    "        print(f\"{kg} kg is approximately {kg * 2.205} pounds\")\n",
    "        # нет доступа к переменным species, color и type_"
   ]
  },
  {
   "cell_type": "code",
   "execution_count": null,
   "metadata": {
    "colab": {
     "base_uri": "https://localhost:8080/"
    },
    "id": "bfz6Wubqp-AO",
    "outputId": "d42fac14-e6b5-4be2-ab69-66b1e7e7c049"
   },
   "outputs": [
    {
     "name": "stdout",
     "output_type": "stream",
     "text": [
      "4 kg is approximately 8.82 pounds\n"
     ]
    }
   ],
   "source": [
    "CatClass2.convert_to_pounds(4)"
   ]
  },
  {
   "cell_type": "code",
   "execution_count": null,
   "metadata": {
    "colab": {
     "base_uri": "https://localhost:8080/"
    },
    "id": "DaLLVoiEqEQF",
    "outputId": "486cda8c-a04f-4e3c-db24-13281f3cee9e"
   },
   "outputs": [
    {
     "name": "stdout",
     "output_type": "stream",
     "text": [
      "5 kg is approximately 11.025 pounds\n"
     ]
    }
   ],
   "source": [
    "cat2 = CatClass2(\"gray\")\n",
    "cat2.convert_to_pounds(5)"
   ]
  },
  {
   "cell_type": "markdown",
   "metadata": {
    "id": "xy2HkzH6ZrRG"
   },
   "source": [
    "### Декорирование класса"
   ]
  },
  {
   "cell_type": "markdown",
   "metadata": {
    "id": "zKj05Fh06Sm_"
   },
   "source": [
    "Декорирование методов"
   ]
  },
  {
   "cell_type": "code",
   "execution_count": 51,
   "metadata": {
    "id": "G9MuM7PCZs8-"
   },
   "outputs": [],
   "source": [
    "class CatClass3:\n",
    "    \"\"\"Класс кот.\"\"\"\n",
    "\n",
    "    @logging\n",
    "    def __init__(self, color: str) -> None:\n",
    "        \"\"\"Инициализация кота с цветом.\"\"\"\n",
    "        self.color = color\n",
    "        self.type_ = \"cat\"\n",
    "\n",
    "    @timer\n",
    "    def info(self) -> None:\n",
    "        \"\"\"Вывод информации о коте.\"\"\"\n",
    "        time.sleep(2)\n",
    "        print(self.color, self.type_, sep=\", \")"
   ]
  },
  {
   "cell_type": "code",
   "execution_count": 52,
   "metadata": {
    "colab": {
     "base_uri": "https://localhost:8080/"
    },
    "id": "3fiHjwEJ4cTV",
    "outputId": "cd8d8c29-666c-44c3-a103-087093a1db83"
   },
   "outputs": [
    {
     "name": "stdout",
     "output_type": "stream",
     "text": [
      "Calling __init__ with args: (<__main__.CatClass3 object at 0x000002DBFA7C5550>, 'black'), kwargs: {}\n",
      "__init__ returned: None\n"
     ]
    }
   ],
   "source": [
    "cat3 = CatClass3(\"black\")"
   ]
  },
  {
   "cell_type": "code",
   "execution_count": 53,
   "metadata": {
    "colab": {
     "base_uri": "https://localhost:8080/"
    },
    "id": "Kt7-LubB4y6g",
    "outputId": "ee6e78e7-6269-4b3d-8a7b-075938562c9d"
   },
   "outputs": [
    {
     "name": "stdout",
     "output_type": "stream",
     "text": [
      "black, cat\n",
      "info executed in 2.0005 seconds\n"
     ]
    }
   ],
   "source": [
    "cat3.info()"
   ]
  },
  {
   "cell_type": "markdown",
   "metadata": {
    "id": "epmndsSc6Uvh"
   },
   "source": [
    "Декорирование всего класса"
   ]
  },
  {
   "cell_type": "code",
   "execution_count": 56,
   "metadata": {
    "id": "0cXQX0004174"
   },
   "outputs": [],
   "source": [
    "@timer\n",
    "class CatClass4:\n",
    "    \"\"\"Класс кот.\"\"\"\n",
    "\n",
    "    def __init__(self, color: str) -> None:\n",
    "        \"\"\"Инициализация кота с цветом.\"\"\"\n",
    "        self.color = color\n",
    "        self.type_ = \"cat\"\n",
    "\n",
    "    def info(self) -> None:\n",
    "        \"\"\"Вывод информации о коте.\"\"\"\n",
    "        time.sleep(2)\n",
    "        print(self.color, self.type_, sep=\", \")"
   ]
  },
  {
   "cell_type": "code",
   "execution_count": 57,
   "metadata": {
    "colab": {
     "base_uri": "https://localhost:8080/"
    },
    "id": "P6aIA7_a6gZh",
    "outputId": "c40ae050-d7dc-4488-a3ec-cfdf93be806b"
   },
   "outputs": [
    {
     "name": "stdout",
     "output_type": "stream",
     "text": [
      "CatClass4 executed in 0.0000 seconds\n"
     ]
    }
   ],
   "source": [
    "cat4 = CatClass4(\"gray\")"
   ]
  },
  {
   "cell_type": "code",
   "execution_count": 58,
   "metadata": {
    "colab": {
     "base_uri": "https://localhost:8080/"
    },
    "id": "-HqSIPFG6jo2",
    "outputId": "bc78ba12-4f6c-4a8f-9499-96b6feb5a561"
   },
   "outputs": [
    {
     "name": "stdout",
     "output_type": "stream",
     "text": [
      "gray, cat\n"
     ]
    }
   ],
   "source": [
    "cat4.info()"
   ]
  },
  {
   "cell_type": "code",
   "execution_count": 60,
   "metadata": {
    "id": "wN17-w_s7WI7"
   },
   "outputs": [],
   "source": [
    "setattr(cat4, \"weight\", 5)"
   ]
  },
  {
   "cell_type": "code",
   "execution_count": 61,
   "metadata": {
    "colab": {
     "base_uri": "https://localhost:8080/"
    },
    "id": "w-3c9Vny7d4f",
    "outputId": "81981202-4e38-491b-8078-1100747bf04b"
   },
   "outputs": [
    {
     "name": "stdout",
     "output_type": "stream",
     "text": [
      "5 5\n"
     ]
    }
   ],
   "source": [
    "print(\n",
    "    cat4.weight,  # type: ignore # pylint: disable=E1101\n",
    "    getattr(cat4, \"weight\"),\n",
    ")"
   ]
  },
  {
   "cell_type": "code",
   "execution_count": null,
   "metadata": {
    "id": "suehA7UO6ldC"
   },
   "outputs": [],
   "source": [
    "# TypeVar - это переменная типа, которая позволяет писать обобщённые (generic)\n",
    "# функции и классы, сохраняя связь между входными и выходными типами.\n",
    "Class = TypeVar(\"Class\", bound=type)\n",
    "\n",
    "\n",
    "def add_attribute(\n",
    "    attribute_name: str, attribute_value: str\n",
    ") -> Callable[[Class], Class]:\n",
    "    \"\"\"Декоратор класса, добавляющий указанный атрибут к классу.\"\"\"\n",
    "\n",
    "    def wrapper(cls: Class) -> Class:\n",
    "        \"\"\"Функция-обертка.\"\"\"\n",
    "        setattr(cls, attribute_name, attribute_value)\n",
    "        return cls\n",
    "\n",
    "    return wrapper"
   ]
  },
  {
   "cell_type": "code",
   "execution_count": 63,
   "metadata": {
    "id": "ra4O3lsm62RO"
   },
   "outputs": [],
   "source": [
    "@add_attribute(\"species\", \"кошка\")\n",
    "class CatClass5:\n",
    "    \"\"\"Класс кот.\"\"\"\n",
    "\n",
    "    def __init__(self, color: str) -> None:\n",
    "        \"\"\"Инициализация кота с цветом.\"\"\"\n",
    "        self.color = color\n",
    "        self.type_ = \"cat\""
   ]
  },
  {
   "cell_type": "code",
   "execution_count": null,
   "metadata": {
    "colab": {
     "base_uri": "https://localhost:8080/",
     "height": 37
    },
    "id": "VRPuN3Wk75y4",
    "outputId": "201d5a8f-811b-4812-e834-2874b53ccd8d"
   },
   "outputs": [
    {
     "name": "stdout",
     "output_type": "stream",
     "text": [
      "кошка\n"
     ]
    }
   ],
   "source": [
    "print(CatClass5.species)  # type: ignore # pylint: disable=E1101"
   ]
  },
  {
   "cell_type": "markdown",
   "metadata": {
    "id": "D9EuxH7p8Tcz"
   },
   "source": [
    "### Несколько декораторов"
   ]
  },
  {
   "cell_type": "code",
   "execution_count": null,
   "metadata": {
    "id": "NqYf_Co077ii"
   },
   "outputs": [],
   "source": [
    "@logging\n",
    "@timer\n",
    "def delayed_function_1(delay: int) -> str:\n",
    "    \"\"\"Функция с задержкой выполнения.\"\"\"\n",
    "    time.sleep(delay)\n",
    "    return \"execution completed\""
   ]
  },
  {
   "cell_type": "code",
   "execution_count": null,
   "metadata": {
    "colab": {
     "base_uri": "https://localhost:8080/",
     "height": 91
    },
    "id": "Px_2Rz_Z8goN",
    "outputId": "7f998623-0dd3-4a0f-e8dd-27eab7506d4a"
   },
   "outputs": [
    {
     "name": "stdout",
     "output_type": "stream",
     "text": [
      "Calling wrapper with args: (2,), kwargs: {}\n",
      "delayed_function executed in 2.0001 seconds\n",
      "wrapper returned: execution completed\n"
     ]
    },
    {
     "data": {
      "application/vnd.google.colaboratory.intrinsic+json": {
       "type": "string"
      },
      "text/plain": [
       "'execution completed'"
      ]
     },
     "execution_count": 120,
     "metadata": {},
     "output_type": "execute_result"
    }
   ],
   "source": [
    "delayed_function_1(2)"
   ]
  },
  {
   "cell_type": "code",
   "execution_count": null,
   "metadata": {
    "id": "6vA85Et4Gs4v"
   },
   "outputs": [],
   "source": [
    "# не забудем заново объявить функцию без декораторов\n",
    "\n",
    "\n",
    "def delayed_function_3(delay: int) -> str:\n",
    "    \"\"\"Функция с задержкой выполнения.\"\"\"\n",
    "    time.sleep(delay)\n",
    "    return \"execution completed\""
   ]
  },
  {
   "cell_type": "code",
   "execution_count": null,
   "metadata": {
    "colab": {
     "base_uri": "https://localhost:8080/",
     "height": 91
    },
    "id": "oBdmnqV18ifq",
    "outputId": "91a5a86a-5090-49ae-8476-8c7c6b4bf981"
   },
   "outputs": [
    {
     "name": "stdout",
     "output_type": "stream",
     "text": [
      "Calling wrapper with args: (2,), kwargs: {}\n",
      "delayed_function executed in 2.0001 seconds\n",
      "wrapper returned: execution completed\n"
     ]
    },
    {
     "data": {
      "application/vnd.google.colaboratory.intrinsic+json": {
       "type": "string"
      },
      "text/plain": [
       "'execution completed'"
      ]
     },
     "execution_count": 122,
     "metadata": {},
     "output_type": "execute_result"
    }
   ],
   "source": [
    "delayed_function_4 = logging(timer(delayed_function))\n",
    "delayed_function_4(2)"
   ]
  },
  {
   "cell_type": "markdown",
   "metadata": {
    "id": "drHaoUEXEPfP"
   },
   "source": [
    "### Декораторы с аргументами"
   ]
  },
  {
   "cell_type": "code",
   "execution_count": null,
   "metadata": {
    "id": "wrew14E2Fm2L"
   },
   "outputs": [],
   "source": [
    "def repeat(\n",
    "    n_times: int,\n",
    ") -> Callable[[Callable[Params, Return]], Callable[Params, None]]:\n",
    "    \"\"\"Декоратор, вызывающий функцию указанное количество раз.\"\"\"\n",
    "\n",
    "    def inner_decorator(\n",
    "        func: Callable[Params, Return],\n",
    "    ) -> Callable[Params, None]:\n",
    "        \"\"\"Внутренний декоратор.\"\"\"\n",
    "\n",
    "        @functools.wraps(func)\n",
    "        def wrapper(*args: Params.args, **kwargs: Params.kwargs) -> None:\n",
    "            \"\"\"Функция-обертка.\"\"\"\n",
    "            for _ in range(n_times):\n",
    "                func(*args, **kwargs)\n",
    "\n",
    "        return wrapper\n",
    "\n",
    "    return inner_decorator"
   ]
  },
  {
   "cell_type": "code",
   "execution_count": null,
   "metadata": {
    "id": "1KdWR3viIeBk"
   },
   "outputs": [],
   "source": [
    "@repeat(n_times=3)\n",
    "def say_hello_3(name: str) -> None:\n",
    "    \"\"\"Функция-обертка.\"\"\"\n",
    "    print(f\"Привет, {name}!\")"
   ]
  },
  {
   "cell_type": "code",
   "execution_count": 71,
   "metadata": {
    "colab": {
     "base_uri": "https://localhost:8080/"
    },
    "id": "N2zEUb1IIiJ6",
    "outputId": "542eff2e-1641-421f-a208-12a53e98037e"
   },
   "outputs": [
    {
     "name": "stdout",
     "output_type": "stream",
     "text": [
      "Привет, Алексей!\n",
      "Привет, Алексей!\n",
      "Привет, Алексей!\n"
     ]
    }
   ],
   "source": [
    "say_hello_3(\"Алексей\")"
   ]
  }
 ],
 "metadata": {
  "colab": {
   "provenance": [],
   "toc_visible": true
  },
  "kernelspec": {
   "display_name": "base",
   "language": "python",
   "name": "python3"
  },
  "language_info": {
   "codemirror_mode": {
    "name": "ipython",
    "version": 3
   },
   "file_extension": ".py",
   "mimetype": "text/x-python",
   "name": "python",
   "nbconvert_exporter": "python",
   "pygments_lexer": "ipython3",
   "version": "3.13.5"
  }
 },
 "nbformat": 4,
 "nbformat_minor": 0
}
