{
 "cells": [
  {
   "cell_type": "code",
   "execution_count": null,
   "metadata": {},
   "outputs": [],
   "source": [
    "\"\"\"Макаров.\n",
    "\n",
    "Словарь в Питоне\n",
    "\"\"\""
   ]
  },
  {
   "cell_type": "markdown",
   "metadata": {
    "id": "0AoPSXyUTTLc"
   },
   "source": [
    "## Словарь в Питоне"
   ]
  },
  {
   "cell_type": "markdown",
   "metadata": {
    "id": "lIM5gFo4TbUg"
   },
   "source": [
    "### Понятие словаря"
   ]
  },
  {
   "cell_type": "markdown",
   "metadata": {
    "id": "AEHY4SW_3mIj"
   },
   "source": [
    "#### Создание словаря"
   ]
  },
  {
   "cell_type": "code",
   "execution_count": null,
   "metadata": {
    "colab": {
     "base_uri": "https://localhost:8080/"
    },
    "id": "x3wxNu5jthst",
    "outputId": "eedbd51a-e6ce-4a0f-ac35-7d57c4cc59ef"
   },
   "outputs": [
    {
     "name": "stdout",
     "output_type": "stream",
     "text": [
      "{} {}\n"
     ]
    }
   ],
   "source": [
    "# пустой словарь можно создать с помощью {} или функции dict()\n",
    "# импортируем класс Counter\n",
    "from collections import Counter\n",
    "\n",
    "# импортируем функцию pprint() из модуля pprint\n",
    "# некоторые структуры данных она выводит лучше, чем обычная print()\n",
    "from pprint import pprint\n",
    "\n",
    "import numpy as np\n",
    "\n",
    "dict_1: dict[str, str] = {}\n",
    "dict_2: dict[str, str] = dict()  # pylint: disable=R1735\n",
    "print(dict_1, dict_2)"
   ]
  },
  {
   "cell_type": "code",
   "execution_count": null,
   "metadata": {
    "colab": {
     "base_uri": "https://localhost:8080/"
    },
    "id": "tLWO1t--thwP",
    "outputId": "c802fcb0-3757-40ab-94c2-44fae324b0db"
   },
   "outputs": [
    {
     "data": {
      "text/plain": [
       "{'name': 'Toyota', 'founded': 1937, 'founder': 'Kiichiro Toyoda'}"
      ]
     },
     "execution_count": 2,
     "metadata": {},
     "output_type": "execute_result"
    }
   ],
   "source": [
    "# словарь можно сразу заполнить ключами и значениями\n",
    "company: dict[str, str | int] = {\n",
    "    \"name\": \"Toyota\",\n",
    "    \"founded\": 1937,\n",
    "    \"founder\": \"Kiichiro Toyoda\",\n",
    "}\n",
    "company"
   ]
  },
  {
   "cell_type": "code",
   "execution_count": null,
   "metadata": {
    "colab": {
     "base_uri": "https://localhost:8080/"
    },
    "id": "pBONkfBYZRkZ",
    "outputId": "f364cd9b-bbac-4011-e7f4-069889ac14df"
   },
   "outputs": [
    {
     "data": {
      "text/plain": [
       "{'TYO': 'Toyota', 'TSLA': 'Tesla', 'F': 'Ford'}"
      ]
     },
     "execution_count": 3,
     "metadata": {},
     "output_type": "execute_result"
    }
   ],
   "source": [
    "# словарь можно создать из вложенных списков\n",
    "tickers: dict[str, str] = dict(\n",
    "    [[\"TYO\", \"Toyota\"], [\"TSLA\", \"Tesla\"], [\"F\", \"Ford\"]]\n",
    ")\n",
    "tickers"
   ]
  },
  {
   "cell_type": "code",
   "execution_count": null,
   "metadata": {
    "colab": {
     "base_uri": "https://localhost:8080/"
    },
    "id": "y5zC4qKWbUn3",
    "outputId": "becdc0ee-1018-4dee-d6e9-9a861791c5c7"
   },
   "outputs": [
    {
     "data": {
      "text/plain": [
       "{'k1': 0, 'k2': 0, 'k3': 0}"
      ]
     },
     "execution_count": 4,
     "metadata": {},
     "output_type": "execute_result"
    }
   ],
   "source": [
    "# если поместить ключи в кортеж\n",
    "keys: tuple[str, ...] = (\"k1\", \"k2\", \"k3\")\n",
    "# и задать значение\n",
    "value_global = 0\n",
    "\n",
    "# то с помощью метода .fromkeys() можно создать словарь\n",
    "# с этими ключами и заданным значением для каждого из них\n",
    "empty_values = dict.fromkeys(keys, value_global)\n",
    "empty_values"
   ]
  },
  {
   "cell_type": "markdown",
   "metadata": {
    "id": "SdW5ePii6BGZ"
   },
   "source": [
    "#### Ключи и значения словаря"
   ]
  },
  {
   "cell_type": "markdown",
   "metadata": {
    "id": "W9vaAXb2zKVb"
   },
   "source": [
    "Виды значений словаря"
   ]
  },
  {
   "cell_type": "code",
   "execution_count": null,
   "metadata": {
    "colab": {
     "base_uri": "https://localhost:8080/"
    },
    "id": "d0bh3eRu6EAy",
    "outputId": "ef5c819c-8445-4b53-d843-19154d4f3e47"
   },
   "outputs": [
    {
     "data": {
      "text/plain": [
       "{'k1': 123,\n",
       " 'k2': 'string',\n",
       " 'k3': nan,\n",
       " 'k4': True,\n",
       " 'k5': None,\n",
       " 'k6': [1, 2, 3],\n",
       " 'k7': array([1, 2, 3]),\n",
       " 'k8': {1: 'v1', 2: 'v2', 3: 'v3'}}"
      ]
     },
     "execution_count": 5,
     "metadata": {},
     "output_type": "execute_result"
    }
   ],
   "source": [
    "# приведем пример того, какими могут быть значения словаря\n",
    "value_types: dict[\n",
    "    str, int | str | bool | None | list[int] | object | float\n",
    "] = {\n",
    "    \"k1\": 123,\n",
    "    \"k2\": \"string\",\n",
    "    \"k3\": np.nan,  # тип \"Пропущенное значение\"\n",
    "    \"k4\": True,  # логическое значение\n",
    "    \"k5\": None,\n",
    "    \"k6\": [1, 2, 3],\n",
    "    \"k7\": np.array([1, 2, 3]),\n",
    "    \"k8\": {1: \"v1\", 2: \"v2\", 3: \"v3\"},\n",
    "}\n",
    "\n",
    "value_types"
   ]
  },
  {
   "cell_type": "markdown",
   "metadata": {
    "id": "AktD-qd772bs"
   },
   "source": [
    "Методы .keys(), .values() и .items()"
   ]
  },
  {
   "cell_type": "code",
   "execution_count": null,
   "metadata": {
    "id": "FoLHc64C716M"
   },
   "outputs": [],
   "source": [
    "# создадим несложный словарь с информацией о сотруднике\n",
    "person: dict[str, str | int | list[str]] = {\n",
    "    \"first name\": \"Иван\",\n",
    "    \"last name\": \"Иванов\",\n",
    "    \"born\": 1980,\n",
    "    \"dept\": \"IT\",\n",
    "}"
   ]
  },
  {
   "cell_type": "code",
   "execution_count": null,
   "metadata": {
    "colab": {
     "base_uri": "https://localhost:8080/"
    },
    "id": "8Gl7ZMqt8wuZ",
    "outputId": "708807b9-c8e5-478c-ac25-baee23c1a0ad"
   },
   "outputs": [
    {
     "data": {
      "text/plain": [
       "dict_keys(['first name', 'last name', 'born', 'dept'])"
      ]
     },
     "execution_count": 7,
     "metadata": {},
     "output_type": "execute_result"
    }
   ],
   "source": [
    "# посмотрим на ключи и\n",
    "print(person.keys())"
   ]
  },
  {
   "cell_type": "code",
   "execution_count": null,
   "metadata": {
    "colab": {
     "base_uri": "https://localhost:8080/"
    },
    "id": "j3mruPRR8xgX",
    "outputId": "06bbf715-5091-45c5-d84a-8bfcdefdcf76"
   },
   "outputs": [
    {
     "data": {
      "text/plain": [
       "dict_values(['Иван', 'Иванов', 1980, 'IT'])"
      ]
     },
     "execution_count": 8,
     "metadata": {},
     "output_type": "execute_result"
    }
   ],
   "source": [
    "# значения\n",
    "print(person.values())"
   ]
  },
  {
   "cell_type": "code",
   "execution_count": null,
   "metadata": {
    "colab": {
     "base_uri": "https://localhost:8080/"
    },
    "id": "wfmjr1bu81Ay",
    "outputId": "53c39b8e-dc1f-4be5-800b-97f534efc66c"
   },
   "outputs": [
    {
     "data": {
      "text/plain": [
       "dict_items([('first name', 'Иван'), ('last name', 'Иванов'), ('born', 1980), ('dept', 'IT')])"
      ]
     },
     "execution_count": 9,
     "metadata": {},
     "output_type": "execute_result"
    }
   ],
   "source": [
    "# а также на пары ключ-значение в виде списка из кортежей\n",
    "print(person.items())"
   ]
  },
  {
   "cell_type": "markdown",
   "metadata": {
    "id": "YxrdHML389v4"
   },
   "source": [
    "Использование цикла for"
   ]
  },
  {
   "cell_type": "code",
   "execution_count": null,
   "metadata": {
    "colab": {
     "base_uri": "https://localhost:8080/"
    },
    "id": "ssN6LrjO83h8",
    "outputId": "1d079d55-69b3-4f88-8f58-d34896f7945e"
   },
   "outputs": [
    {
     "name": "stdout",
     "output_type": "stream",
     "text": [
      "first name Иван\n",
      "last name Иванов\n",
      "born 1980\n",
      "dept IT\n"
     ]
    }
   ],
   "source": [
    "# ключи и значения можно вывести в цикле for\n",
    "for key, value_p in person.items():\n",
    "    print(key, value_p)"
   ]
  },
  {
   "cell_type": "markdown",
   "metadata": {
    "id": "zU-JtgYJ-vyO"
   },
   "source": [
    "Доступ по ключу и метод .get()"
   ]
  },
  {
   "cell_type": "code",
   "execution_count": null,
   "metadata": {
    "colab": {
     "base_uri": "https://localhost:8080/",
     "height": 35
    },
    "id": "Au-MDTwZ-tGI",
    "outputId": "3ba22481-65b9-43b9-8be3-e68bc38d87a1"
   },
   "outputs": [
    {
     "data": {
      "application/vnd.google.colaboratory.intrinsic+json": {
       "type": "string"
      },
      "text/plain": [
       "'Иванов'"
      ]
     },
     "execution_count": 11,
     "metadata": {},
     "output_type": "execute_result"
    }
   ],
   "source": [
    "# значение можно посмотреть по ключу\n",
    "person[\"last name\"]"
   ]
  },
  {
   "cell_type": "code",
   "execution_count": null,
   "metadata": {
    "colab": {
     "base_uri": "https://localhost:8080/",
     "height": 159
    },
    "id": "XwWDSYzH-O0l",
    "outputId": "dbc6b773-bbcd-45f9-c0ac-bab705e05338"
   },
   "outputs": [
    {
     "ename": "KeyError",
     "evalue": "'education'",
     "output_type": "error",
     "traceback": [
      "\u001b[0;31m---------------------------------------------------------------------------\u001b[0m",
      "\u001b[0;31mKeyError\u001b[0m                                  Traceback (most recent call last)",
      "\u001b[0;32m<ipython-input-12-392bafbecf80>\u001b[0m in \u001b[0;36m<cell line: 0>\u001b[0;34m()\u001b[0m\n\u001b[1;32m      1\u001b[0m \u001b[0;31m# если такого ключа нет, Питон выдаст ошибку\u001b[0m\u001b[0;34m\u001b[0m\u001b[0;34m\u001b[0m\u001b[0m\n\u001b[0;32m----> 2\u001b[0;31m \u001b[0mperson\u001b[0m\u001b[0;34m[\u001b[0m\u001b[0;34m'education'\u001b[0m\u001b[0;34m]\u001b[0m\u001b[0;34m\u001b[0m\u001b[0;34m\u001b[0m\u001b[0m\n\u001b[0m",
      "\u001b[0;31mKeyError\u001b[0m: 'education'"
     ]
    }
   ],
   "source": [
    "# если такого ключа нет, Питон выдаст ошибку\n",
    "# person['education'] --> Error"
   ]
  },
  {
   "cell_type": "code",
   "execution_count": null,
   "metadata": {
    "colab": {
     "base_uri": "https://localhost:8080/"
    },
    "id": "dx2nFVH7eils",
    "outputId": "b9ff14d3-4bea-41c7-b838-4560ddd3d228"
   },
   "outputs": [
    {
     "name": "stdout",
     "output_type": "stream",
     "text": [
      "None\n"
     ]
    }
   ],
   "source": [
    "# чтобы этого не произошло, можно использовать метод .get()\n",
    "# по умолчанию при отсутствии ключа он выводит значение None\n",
    "print(person.get(\"education\"))"
   ]
  },
  {
   "cell_type": "code",
   "execution_count": null,
   "metadata": {
    "colab": {
     "base_uri": "https://localhost:8080/"
    },
    "id": "qTovRCnIb1ei",
    "outputId": "e0bbb24f-00fb-4c43-f611-fc4ad8866598"
   },
   "outputs": [
    {
     "data": {
      "text/plain": [
       "1980"
      ]
     },
     "execution_count": 14,
     "metadata": {},
     "output_type": "execute_result"
    }
   ],
   "source": [
    "# если ключ все-таки есть, .get() выведет соответствующее значение\n",
    "print(person.get(\"born\"))"
   ]
  },
  {
   "cell_type": "markdown",
   "metadata": {
    "id": "IBgf5Al-aCOK"
   },
   "source": [
    "Проверка вхождения ключа и значения в словарь"
   ]
  },
  {
   "cell_type": "code",
   "execution_count": null,
   "metadata": {
    "colab": {
     "base_uri": "https://localhost:8080/"
    },
    "id": "XbRxj_nPaHJU",
    "outputId": "faa46646-4e20-432b-dbe8-c68e06ff9699"
   },
   "outputs": [
    {
     "data": {
      "text/plain": [
       "True"
      ]
     },
     "execution_count": 15,
     "metadata": {},
     "output_type": "execute_result"
    }
   ],
   "source": [
    "# проверим есть ли такой ключ\n",
    "print(\"born\" in person)"
   ]
  },
  {
   "cell_type": "code",
   "execution_count": null,
   "metadata": {
    "colab": {
     "base_uri": "https://localhost:8080/"
    },
    "id": "sAKfv79KbC1p",
    "outputId": "3f9562bd-fab8-4a29-abee-ec82d9d85fae"
   },
   "outputs": [
    {
     "data": {
      "text/plain": [
       "True"
      ]
     },
     "execution_count": 16,
     "metadata": {},
     "output_type": "execute_result"
    }
   ],
   "source": [
    "# и такое значение\n",
    "print(1980 in person.values())"
   ]
  },
  {
   "cell_type": "code",
   "execution_count": null,
   "metadata": {
    "colab": {
     "base_uri": "https://localhost:8080/"
    },
    "id": "UelKiVrybH30",
    "outputId": "0f5eacb2-eb21-4ef2-b818-9e66500e1227"
   },
   "outputs": [
    {
     "data": {
      "text/plain": [
       "True"
      ]
     },
     "execution_count": 17,
     "metadata": {},
     "output_type": "execute_result"
    }
   ],
   "source": [
    "# можно также проверить наличие и ключа, и значения одновременно\n",
    "print((\"born\", 1980) in person.items())"
   ]
  },
  {
   "cell_type": "markdown",
   "metadata": {
    "id": "kY91ANMfXeRG"
   },
   "source": [
    "### Операции со словарями"
   ]
  },
  {
   "cell_type": "markdown",
   "metadata": {
    "id": "ebptqYBRcrJp"
   },
   "source": [
    "#### Добавление и изменение элементов"
   ]
  },
  {
   "cell_type": "code",
   "execution_count": null,
   "metadata": {
    "colab": {
     "base_uri": "https://localhost:8080/"
    },
    "id": "qVBaa3SrtlYB",
    "outputId": "83fbde38-1fff-4e8c-c2c5-5de94465eca9"
   },
   "outputs": [
    {
     "data": {
      "text/plain": [
       "{'first name': 'Иван',\n",
       " 'last name': 'Иванов',\n",
       " 'born': 1980,\n",
       " 'dept': 'IT',\n",
       " 'languages': ['Python', 'C++']}"
      ]
     },
     "execution_count": 18,
     "metadata": {},
     "output_type": "execute_result"
    }
   ],
   "source": [
    "# добавить элемент можно, передав новому ключу новое значение\n",
    "# обратите внимание, в данном случае новое значение - это список\n",
    "person[\"languages\"] = [\"Python\", \"C++\"]\n",
    "person"
   ]
  },
  {
   "cell_type": "code",
   "execution_count": null,
   "metadata": {
    "colab": {
     "base_uri": "https://localhost:8080/"
    },
    "id": "Vv-okCt8tlau",
    "outputId": "74f5f097-72cc-4539-ba8c-f4baf7223a83"
   },
   "outputs": [
    {
     "data": {
      "text/plain": [
       "{'first name': 'Иван',\n",
       " 'last name': 'Иванов',\n",
       " 'born': 1980,\n",
       " 'dept': 'IT',\n",
       " 'languages': ['Python']}"
      ]
     },
     "execution_count": 19,
     "metadata": {},
     "output_type": "execute_result"
    }
   ],
   "source": [
    "# изменить элемент можно, передав существующему ключу новое значение,\n",
    "# значение - это по-прежнему список, но из одного элемента\n",
    "person[\"languages\"] = [\"Python\"]\n",
    "person"
   ]
  },
  {
   "cell_type": "code",
   "execution_count": null,
   "metadata": {
    "colab": {
     "base_uri": "https://localhost:8080/"
    },
    "id": "FBO1GOoDHXjc",
    "outputId": "87efcd08-cdd8-47cb-ac39-52807319d17c"
   },
   "outputs": [
    {
     "data": {
      "text/plain": [
       "{'first name': 'Иван',\n",
       " 'last name': 'Иванов',\n",
       " 'born': 1980,\n",
       " 'dept': 'IT',\n",
       " 'languages': ['Python'],\n",
       " 'job': 'программист',\n",
       " 'experience': 7}"
      ]
     },
     "execution_count": 20,
     "metadata": {},
     "output_type": "execute_result"
    }
   ],
   "source": [
    "# возьмем еще один словарь\n",
    "new_elements: dict[str, str | int] = {\"job\": \"программист\", \"experience\": 7}\n",
    "\n",
    "# и присоединим его к существующему словарю с помощью метода .update()\n",
    "person.update(new_elements)\n",
    "person"
   ]
  },
  {
   "cell_type": "code",
   "execution_count": null,
   "metadata": {
    "colab": {
     "base_uri": "https://localhost:8080/"
    },
    "id": "8ABSReiDS86F",
    "outputId": "f7c2c895-86fc-451c-a619-56514d1b4ad2"
   },
   "outputs": [
    {
     "data": {
      "text/plain": [
       "{'first name': 'Иван',\n",
       " 'last name': 'Иванов',\n",
       " 'born': 1980,\n",
       " 'dept': 'IT',\n",
       " 'languages': ['Python'],\n",
       " 'job': 'программист',\n",
       " 'experience': 7}"
      ]
     },
     "execution_count": 21,
     "metadata": {},
     "output_type": "execute_result"
    }
   ],
   "source": [
    "# метод .setdefault() проверит есть ли ключ в словаре,\n",
    "# если \"да\", значение не изменится\n",
    "person.setdefault(\"last name\", \"Петров\")\n",
    "person"
   ]
  },
  {
   "cell_type": "code",
   "execution_count": null,
   "metadata": {
    "colab": {
     "base_uri": "https://localhost:8080/"
    },
    "id": "uq1eR4FEYIFx",
    "outputId": "b9ca0002-c8bc-458c-b978-c86413159dfb"
   },
   "outputs": [
    {
     "data": {
      "text/plain": [
       "{'first name': 'Иван',\n",
       " 'last name': 'Иванов',\n",
       " 'born': 1980,\n",
       " 'dept': 'IT',\n",
       " 'languages': ['Python'],\n",
       " 'job': 'программист',\n",
       " 'experience': 7,\n",
       " 'f_languages': ['русский', 'английский']}"
      ]
     },
     "execution_count": 22,
     "metadata": {},
     "output_type": "execute_result"
    }
   ],
   "source": [
    "# если нет, будет добавлен новый ключ и соответствующее значение\n",
    "person.setdefault(\"f_languages\", [\"русский\", \"английский\"])\n",
    "person"
   ]
  },
  {
   "cell_type": "markdown",
   "metadata": {
    "id": "wUMTWNK-fFsd"
   },
   "source": [
    "#### Удаление элементов"
   ]
  },
  {
   "cell_type": "code",
   "execution_count": null,
   "metadata": {
    "colab": {
     "base_uri": "https://localhost:8080/",
     "height": 35
    },
    "id": "AKViA8ItfIye",
    "outputId": "037a5a8d-0b08-4c4a-aec2-29e4eea7e49e"
   },
   "outputs": [
    {
     "data": {
      "application/vnd.google.colaboratory.intrinsic+json": {
       "type": "string"
      },
      "text/plain": [
       "'IT'"
      ]
     },
     "execution_count": 23,
     "metadata": {},
     "output_type": "execute_result"
    }
   ],
   "source": [
    "# метод .pop() удаляет элемент по ключу и выводит удаляемое значение\n",
    "print(person.pop(\"dept\"))"
   ]
  },
  {
   "cell_type": "code",
   "execution_count": null,
   "metadata": {
    "colab": {
     "base_uri": "https://localhost:8080/"
    },
    "id": "anOK_5RVh8eG",
    "outputId": "9a696c51-117c-42cc-aa12-3049452b3111"
   },
   "outputs": [
    {
     "data": {
      "text/plain": [
       "{'first name': 'Иван',\n",
       " 'last name': 'Иванов',\n",
       " 'born': 1980,\n",
       " 'languages': ['Python'],\n",
       " 'job': 'программист',\n",
       " 'experience': 7,\n",
       " 'f_languages': ['русский', 'английский']}"
      ]
     },
     "execution_count": 24,
     "metadata": {},
     "output_type": "execute_result"
    }
   ],
   "source": [
    "# мы видим, что пары 'dept' : 'IT' больше нет\n",
    "person"
   ]
  },
  {
   "cell_type": "code",
   "execution_count": null,
   "metadata": {
    "id": "t6flk9z_fluM"
   },
   "outputs": [],
   "source": [
    "# ключевое слово del также удаляет элемент по ключу\n",
    "# удаляемое значение не выводится\n",
    "del person[\"born\"]"
   ]
  },
  {
   "cell_type": "code",
   "execution_count": null,
   "metadata": {
    "colab": {
     "base_uri": "https://localhost:8080/"
    },
    "id": "6aruZx9MKBUK",
    "outputId": "0334ba54-fb22-460f-a83a-99ce528947be"
   },
   "outputs": [
    {
     "data": {
      "text/plain": [
       "('f_languages', ['русский', 'английский'])"
      ]
     },
     "execution_count": 26,
     "metadata": {},
     "output_type": "execute_result"
    }
   ],
   "source": [
    "# метод .popitem() удаляет последний добавленный элемент и выводит его\n",
    "person.popitem()"
   ]
  },
  {
   "cell_type": "code",
   "execution_count": null,
   "metadata": {
    "colab": {
     "base_uri": "https://localhost:8080/"
    },
    "id": "tH_TmTAgf1Qc",
    "outputId": "77b794f7-1026-4973-b30b-835773e2aa9d"
   },
   "outputs": [
    {
     "data": {
      "text/plain": [
       "{}"
      ]
     },
     "execution_count": 27,
     "metadata": {},
     "output_type": "execute_result"
    }
   ],
   "source": [
    "# метод .clear() удаляет все элементы словаря\n",
    "person.clear()\n",
    "person"
   ]
  },
  {
   "cell_type": "code",
   "execution_count": null,
   "metadata": {
    "id": "KQzvF_SmHFYa"
   },
   "outputs": [],
   "source": [
    "# ключевое слово del также позволяет удалить словарь целиком\n",
    "del person"
   ]
  },
  {
   "cell_type": "code",
   "execution_count": null,
   "metadata": {
    "colab": {
     "base_uri": "https://localhost:8080/",
     "height": 159
    },
    "id": "41jpFZaGA3U3",
    "outputId": "659769e5-c524-40b6-cc40-e0253b2ab52f"
   },
   "outputs": [
    {
     "ename": "NameError",
     "evalue": "name 'person' is not defined",
     "output_type": "error",
     "traceback": [
      "\u001b[0;31m---------------------------------------------------------------------------\u001b[0m",
      "\u001b[0;31mNameError\u001b[0m                                 Traceback (most recent call last)",
      "\u001b[0;32m<ipython-input-29-fda803c25d9b>\u001b[0m in \u001b[0;36m<cell line: 0>\u001b[0;34m()\u001b[0m\n\u001b[1;32m      1\u001b[0m \u001b[0;31m# убедимся, что такого словаря больше нет\u001b[0m\u001b[0;34m\u001b[0m\u001b[0;34m\u001b[0m\u001b[0m\n\u001b[0;32m----> 2\u001b[0;31m \u001b[0mperson\u001b[0m\u001b[0;34m\u001b[0m\u001b[0;34m\u001b[0m\u001b[0m\n\u001b[0m",
      "\u001b[0;31mNameError\u001b[0m: name 'person' is not defined"
     ]
    }
   ],
   "source": [
    "# убедимся, что такого словаря больше нет\n",
    "person"
   ]
  },
  {
   "cell_type": "markdown",
   "metadata": {
    "id": "VS8k8X8kwAhj"
   },
   "source": [
    "#### Сортировка словарей"
   ]
  },
  {
   "cell_type": "code",
   "execution_count": null,
   "metadata": {
    "id": "u3rg89UKwE1e"
   },
   "outputs": [],
   "source": [
    "# возьмем несложный словарь\n",
    "dict_to_sort: dict[str, int] = {\"k2\": 30, \"k1\": 20, \"k3\": 10}"
   ]
  },
  {
   "cell_type": "code",
   "execution_count": null,
   "metadata": {
    "colab": {
     "base_uri": "https://localhost:8080/"
    },
    "id": "bTwIep0qwFW8",
    "outputId": "117cde36-cd88-49b3-ba59-7b52cb3e70d1"
   },
   "outputs": [
    {
     "data": {
      "text/plain": [
       "['k1', 'k2', 'k3']"
      ]
     },
     "execution_count": 31,
     "metadata": {},
     "output_type": "execute_result"
    }
   ],
   "source": [
    "# отсортируем ключи\n",
    "sorted(dict_to_sort)"
   ]
  },
  {
   "cell_type": "code",
   "execution_count": null,
   "metadata": {
    "colab": {
     "base_uri": "https://localhost:8080/"
    },
    "id": "tnJvCeBxna2q",
    "outputId": "544cdf21-7661-4fb1-cdcb-c1d39fec5eab"
   },
   "outputs": [
    {
     "data": {
      "text/plain": [
       "[10, 20, 30]"
      ]
     },
     "execution_count": 32,
     "metadata": {},
     "output_type": "execute_result"
    }
   ],
   "source": [
    "# и значения\n",
    "sorted(dict_to_sort.values())"
   ]
  },
  {
   "cell_type": "code",
   "execution_count": null,
   "metadata": {
    "colab": {
     "base_uri": "https://localhost:8080/"
    },
    "id": "jYQNHiJrMhSA",
    "outputId": "cbfcc983-24f9-4c9f-bea1-f2c5dcfd806d"
   },
   "outputs": [
    {
     "data": {
      "text/plain": [
       "dict_items([('k2', 30), ('k1', 20), ('k3', 10)])"
      ]
     },
     "execution_count": 33,
     "metadata": {},
     "output_type": "execute_result"
    }
   ],
   "source": [
    "# посмотрим на пары ключ : значение\n",
    "dict_to_sort.items()"
   ]
  },
  {
   "cell_type": "code",
   "execution_count": null,
   "metadata": {
    "colab": {
     "base_uri": "https://localhost:8080/"
    },
    "id": "2Lbe96f0nh85",
    "outputId": "3a86244b-ab49-4aad-b350-58d7abd88883"
   },
   "outputs": [
    {
     "data": {
      "text/plain": [
       "[('k1', 20), ('k2', 30), ('k3', 10)]"
      ]
     },
     "execution_count": 34,
     "metadata": {},
     "output_type": "execute_result"
    }
   ],
   "source": [
    "# для их сортировки по ключу (индекс [0])\n",
    "# воспользуемся методом .items() и lambda-функцией\n",
    "sorted(dict_to_sort.items(), key=lambda item: item[0])"
   ]
  },
  {
   "cell_type": "code",
   "execution_count": null,
   "metadata": {
    "colab": {
     "base_uri": "https://localhost:8080/"
    },
    "id": "Vl9gs9fVoE-A",
    "outputId": "bd90cb3f-4e6a-4c6f-91e8-77b84df8b85f"
   },
   "outputs": [
    {
     "data": {
      "text/plain": [
       "[('k3', 10), ('k1', 20), ('k2', 30)]"
      ]
     },
     "execution_count": 35,
     "metadata": {},
     "output_type": "execute_result"
    }
   ],
   "source": [
    "# сортировка по значению выполняется так же, однако\n",
    "# lambda-функции мы передаем индекс [1]\n",
    "sorted(dict_to_sort.items(), key=lambda item: item[1])"
   ]
  },
  {
   "cell_type": "markdown",
   "metadata": {
    "id": "v9aK8-q2CdXO"
   },
   "source": [
    "#### Копирование словарей"
   ]
  },
  {
   "cell_type": "code",
   "execution_count": null,
   "metadata": {
    "id": "ysVmXSyVFZMU"
   },
   "outputs": [],
   "source": [
    "# создадим исходный словарь с количеством студентов на первом и втором курсах университета\n",
    "original: dict[str, int] = {\"Первый курс\": 174, \"Второй курс\": 131}"
   ]
  },
  {
   "cell_type": "markdown",
   "metadata": {
    "id": "DYkMoaN3GL1X"
   },
   "source": [
    "Копирование с помощью метода .copy()"
   ]
  },
  {
   "cell_type": "code",
   "execution_count": null,
   "metadata": {
    "colab": {
     "base_uri": "https://localhost:8080/"
    },
    "id": "-t7mXlsUCc2p",
    "outputId": "877c2f4b-629f-48d4-cca6-3a0fa71151f1"
   },
   "outputs": [
    {
     "name": "stdout",
     "output_type": "stream",
     "text": [
      "{'Первый курс': 174, 'Второй курс': 131}\n",
      "{'Первый курс': 174, 'Второй курс': 131, 'Третий курс': 117}\n"
     ]
    }
   ],
   "source": [
    "# создадим копию этого словаря с помощью метода .copy()\n",
    "new_1 = original.copy()\n",
    "\n",
    "# добавим информацию о третьем курсе в новый словарь\n",
    "new_1[\"Третий курс\"] = 117\n",
    "\n",
    "# исходный словарь не изменился\n",
    "print(original)\n",
    "print(new_1)"
   ]
  },
  {
   "cell_type": "markdown",
   "metadata": {
    "id": "h9IslECkGSsr"
   },
   "source": [
    "Копирование через оператор присваивания `=` (так делать не стоит!)"
   ]
  },
  {
   "cell_type": "code",
   "execution_count": null,
   "metadata": {
    "colab": {
     "base_uri": "https://localhost:8080/"
    },
    "id": "cQZ-uDDpEvkO",
    "outputId": "99f751ae-396c-4a2c-ffd8-f06a75b6bb57"
   },
   "outputs": [
    {
     "name": "stdout",
     "output_type": "stream",
     "text": [
      "{}\n",
      "{}\n"
     ]
    }
   ],
   "source": [
    "# передадим исходный словарь в новую переменную\n",
    "new_2 = original\n",
    "\n",
    "# удалим элементы нового словаря\n",
    "new_2.clear()\n",
    "\n",
    "# из исходного словаря данные также удалились\n",
    "print(original)\n",
    "print(new_2)"
   ]
  },
  {
   "cell_type": "markdown",
   "metadata": {
    "id": "3iDksQfFNiux"
   },
   "source": [
    "### Функция `dir()`"
   ]
  },
  {
   "cell_type": "code",
   "execution_count": null,
   "metadata": {
    "colab": {
     "base_uri": "https://localhost:8080/"
    },
    "id": "nv3sToYdNmTd",
    "outputId": "10c4048b-b1b3-471f-838d-9d211546fee3"
   },
   "outputs": [
    {
     "data": {
      "text/plain": [
       "['__class__',\n",
       " '__class_getitem__',\n",
       " '__contains__',\n",
       " '__delattr__',\n",
       " '__delitem__',\n",
       " '__dir__',\n",
       " '__doc__',\n",
       " '__eq__',\n",
       " '__format__',\n",
       " '__ge__',\n",
       " '__getattribute__']"
      ]
     },
     "execution_count": 39,
     "metadata": {},
     "output_type": "execute_result"
    }
   ],
   "source": [
    "# функция dir() возвращает все методы передаваемого ей объекта\n",
    "some_dict = {\"k\": 1}\n",
    "\n",
    "# вначале идут специальные методы,\n",
    "# они начинаются и заканчиваются символом '__'\n",
    "# выведем первые 11 элементов\n",
    "print(dir(some_dict)[:11])"
   ]
  },
  {
   "cell_type": "code",
   "execution_count": null,
   "metadata": {
    "colab": {
     "base_uri": "https://localhost:8080/"
    },
    "id": "UkqCOYF0su5e",
    "outputId": "7074b3c3-e901-44d7-bd5a-9b8d3d865a3a"
   },
   "outputs": [
    {
     "name": "stdout",
     "output_type": "stream",
     "text": [
      "{'k': 1}\n"
     ]
    }
   ],
   "source": [
    "# когда мы передаем наш словарь функции print(),\n",
    "print(some_dict)"
   ]
  },
  {
   "cell_type": "code",
   "execution_count": null,
   "metadata": {
    "colab": {
     "base_uri": "https://localhost:8080/",
     "height": 35
    },
    "id": "BGLlQ1PhqEKF",
    "outputId": "cf166c59-ba9f-4f1c-d1ac-6b7ec6ce0a57"
   },
   "outputs": [
    {
     "data": {
      "application/vnd.google.colaboratory.intrinsic+json": {
       "type": "string"
      },
      "text/plain": [
       "\"{'k': 1}\""
      ]
     },
     "execution_count": 41,
     "metadata": {},
     "output_type": "execute_result"
    }
   ],
   "source": [
    "# на самом деле мы применяем к объекту метод .__str__()\n",
    "some_dict.__str__()  # pylint: disable=C2801"
   ]
  },
  {
   "cell_type": "code",
   "execution_count": null,
   "metadata": {
    "colab": {
     "base_uri": "https://localhost:8080/"
    },
    "id": "s2PqsanmtAE4",
    "outputId": "eb3b4328-96cf-4339-8c4b-365948c4834c"
   },
   "outputs": [
    {
     "data": {
      "text/plain": [
       "['clear',\n",
       " 'copy',\n",
       " 'fromkeys',\n",
       " 'get',\n",
       " 'items',\n",
       " 'keys',\n",
       " 'pop',\n",
       " 'popitem',\n",
       " 'setdefault',\n",
       " 'update',\n",
       " 'values']"
      ]
     },
     "execution_count": 42,
     "metadata": {},
     "output_type": "execute_result"
    }
   ],
   "source": [
    "# в большинстве случаев нас будут интересовать методы без '__'\n",
    "methods = dir(some_dict)[-11:]\n",
    "\n",
    "print(methods)"
   ]
  },
  {
   "cell_type": "markdown",
   "metadata": {
    "id": "7fi2zJoGvh5v"
   },
   "source": [
    "### Dict comprehension"
   ]
  },
  {
   "cell_type": "code",
   "execution_count": null,
   "metadata": {
    "id": "Qr-HfxbHv_if"
   },
   "outputs": [],
   "source": [
    "# создадим еще один несложный словарь\n",
    "source_dict: dict[str, int] = {\"k1\": 2, \"k2\": 4, \"k3\": 6}"
   ]
  },
  {
   "cell_type": "code",
   "execution_count": null,
   "metadata": {
    "colab": {
     "base_uri": "https://localhost:8080/"
    },
    "id": "wqP1P4EcwAC4",
    "outputId": "af999e25-fed2-4303-e69a-182fdab468f5"
   },
   "outputs": [
    {
     "data": {
      "text/plain": [
       "{'k1': 4, 'k2': 8, 'k3': 12}"
      ]
     },
     "execution_count": 44,
     "metadata": {},
     "output_type": "execute_result"
    }
   ],
   "source": [
    "# с помощью dict comprehension умножим каждое значение на два\n",
    "new_source_dict = {key: value * 2 for (key, value) in source_dict.items()}"
   ]
  },
  {
   "cell_type": "code",
   "execution_count": null,
   "metadata": {
    "colab": {
     "base_uri": "https://localhost:8080/"
    },
    "id": "l1w42uT0Kf1b",
    "outputId": "906ee62e-c5d0-498c-d6ff-ba99c4352f14"
   },
   "outputs": [
    {
     "data": {
      "text/plain": [
       "{'K1': 2, 'K2': 4, 'K3': 6}"
      ]
     },
     "execution_count": 45,
     "metadata": {},
     "output_type": "execute_result"
    }
   ],
   "source": [
    "# сделаем символы всех ключей заглавными\n",
    "new_source_dict = {key.upper(): value for (key, value) in source_dict.items()}"
   ]
  },
  {
   "cell_type": "code",
   "execution_count": null,
   "metadata": {
    "colab": {
     "base_uri": "https://localhost:8080/"
    },
    "id": "XKoh7SUJ5S8z",
    "outputId": "785a0735-56eb-4599-8a1c-ac788c8f7dce"
   },
   "outputs": [
    {
     "data": {
      "text/plain": [
       "{'k2': 4}"
      ]
     },
     "execution_count": 46,
     "metadata": {},
     "output_type": "execute_result"
    }
   ],
   "source": [
    "# добавим условие, что значение должно быть больше двух И меньше шести\n",
    "new_dict_1 = {\n",
    "    key: value\n",
    "    for (key, value) in source_dict.items()\n",
    "    if value > 2\n",
    "    if value < 6\n",
    "}\n",
    "\n",
    "print(new_dict_1)"
   ]
  },
  {
   "cell_type": "code",
   "execution_count": null,
   "metadata": {
    "colab": {
     "base_uri": "https://localhost:8080/"
    },
    "id": "I1nyzDSi6V3Y",
    "outputId": "72f66774-7065-4815-d211-ef06ebd318ee"
   },
   "outputs": [
    {
     "data": {
      "text/plain": [
       "{'k2': 4}"
      ]
     },
     "execution_count": 47,
     "metadata": {},
     "output_type": "execute_result"
    }
   ],
   "source": [
    "new_dict: dict[str, int] = {}\n",
    "\n",
    "# при решении этой же задачи в цикле for\n",
    "for key, value in source_dict.items():\n",
    "\n",
    "    # мы бы использовали логическое И (and)\n",
    "    if 2 < value < 6:\n",
    "\n",
    "        # если условия верны, записываем ключ и значение в новый словарь\n",
    "        new_dict[key] = value\n",
    "\n",
    "new_dict"
   ]
  },
  {
   "cell_type": "code",
   "execution_count": null,
   "metadata": {
    "colab": {
     "base_uri": "https://localhost:8080/"
    },
    "id": "-rJUlsr563N7",
    "outputId": "00c0b343-8ccb-4cfb-9ef3-f5568de87730"
   },
   "outputs": [
    {
     "data": {
      "text/plain": [
       "{'k1': 'even', 'k2': 'even', 'k3': 'even'}"
      ]
     },
     "execution_count": 48,
     "metadata": {},
     "output_type": "execute_result"
    }
   ],
   "source": [
    "# условие с if-else ставится в самом начале схемы dict comprehension\n",
    "# заменим значение на слово even, если оно четное, и odd, если нечетное\n",
    "even_odd_dict: dict[str, str] = {\n",
    "    key: (\"even\" if value % 2 == 0 else \"odd\")\n",
    "    for (key, value) in source_dict.items()\n",
    "}"
   ]
  },
  {
   "cell_type": "code",
   "execution_count": null,
   "metadata": {
    "colab": {
     "base_uri": "https://localhost:8080/"
    },
    "id": "3sCsWyonkkGM",
    "outputId": "3dacd13e-10d3-44a7-8f23-3898e5840d13"
   },
   "outputs": [
    {
     "data": {
      "text/plain": [
       "{'k1': 0, 'k2': 0, 'k3': 0}"
      ]
     },
     "execution_count": 49,
     "metadata": {},
     "output_type": "execute_result"
    }
   ],
   "source": [
    "# dict comprehension можно использовать вместо метода .fromkeys()\n",
    "keys = (\"k1\", \"k2\", \"k3\")\n",
    "\n",
    "# передадим словарю ключи из кортежа keys и зададим значение 0 каждому из них\n",
    "zeros_dict = {key: 0 for key in keys}"
   ]
  },
  {
   "cell_type": "markdown",
   "metadata": {
    "id": "HplemEzXwNw0"
   },
   "source": [
    "### Дополнительные примеры"
   ]
  },
  {
   "cell_type": "markdown",
   "metadata": {
    "id": "9I3D7qej8JFO"
   },
   "source": [
    "#### lambda-функции, функции `map()` и `zip()`"
   ]
  },
  {
   "cell_type": "markdown",
   "metadata": {
    "id": "NQxOQz-_jilk"
   },
   "source": [
    "Пример со списком"
   ]
  },
  {
   "cell_type": "code",
   "execution_count": null,
   "metadata": {
    "id": "ZXoJ1TMsh13z"
   },
   "outputs": [],
   "source": [
    "# возьмем список слов\n",
    "words: list[str] = [\"apple\", \"banana\", \"fig\", \"blackberry\"]"
   ]
  },
  {
   "cell_type": "code",
   "execution_count": null,
   "metadata": {
    "colab": {
     "base_uri": "https://localhost:8080/"
    },
    "id": "BSyuvd278UPf",
    "outputId": "4e410273-cca8-475f-e132-b2809c9ee789"
   },
   "outputs": [
    {
     "data": {
      "text/plain": [
       "[5, 6, 3, 10]"
      ]
     },
     "execution_count": 51,
     "metadata": {},
     "output_type": "execute_result"
    }
   ],
   "source": [
    "# создадим lambda-функцию, которая посчитает длину передаваемого ей слова\n",
    "# с помощью функции map() применим lambda-функцию\n",
    "# к каждому элементу списка words\n",
    "# и поместим длины слов в новый список length с помощью функции list()\n",
    "length = list(map(len, words))\n",
    "length"
   ]
  },
  {
   "cell_type": "code",
   "execution_count": null,
   "metadata": {
    "colab": {
     "base_uri": "https://localhost:8080/"
    },
    "id": "b0JRdAJHh2df",
    "outputId": "5eda6227-fd0c-4170-c487-81c10956a8db"
   },
   "outputs": [
    {
     "data": {
      "text/plain": [
       "{'apple': 5, 'banana': 6, 'fig': 3, 'blackberry': 10}"
      ]
     },
     "execution_count": 52,
     "metadata": {},
     "output_type": "execute_result"
    }
   ],
   "source": [
    "# с помощью функции zip() поэлементно соединим оба списка и\n",
    "# преобразуем в словарь\n",
    "from_zip_dict = dict(zip(words, length))"
   ]
  },
  {
   "cell_type": "code",
   "execution_count": null,
   "metadata": {
    "colab": {
     "base_uri": "https://localhost:8080/"
    },
    "id": "kYNYaOQ-9-V6",
    "outputId": "f3887c5f-3134-4c9f-cba7-9e55f340e20d"
   },
   "outputs": [
    {
     "data": {
      "text/plain": [
       "{'apple': 5, 'banana': 6, 'fig': 3, 'blackberry': 10}"
      ]
     },
     "execution_count": 53,
     "metadata": {},
     "output_type": "execute_result"
    }
   ],
   "source": [
    "# то же самое можно сделать с помощью функции zip() и list comprehension\n",
    "zip_length_dict = dict(zip(words, [len(word) for word in words]))"
   ]
  },
  {
   "cell_type": "markdown",
   "metadata": {
    "id": "PUs12XYyjmBh"
   },
   "source": [
    "Пример со словарем"
   ]
  },
  {
   "cell_type": "code",
   "execution_count": null,
   "metadata": {
    "id": "0ZVWDzRMjo-6"
   },
   "outputs": [],
   "source": [
    "# возьмем словарь с ростом людей в футах\n",
    "height_feet: dict[str, float] = {\"Alex\": 6.1, \"Jerry\": 5.4, \"Ben\": 5.8}"
   ]
  },
  {
   "cell_type": "code",
   "execution_count": null,
   "metadata": {
    "colab": {
     "base_uri": "https://localhost:8080/"
    },
    "id": "irwOj3Rt_M1e",
    "outputId": "3f5be590-39ab-4dbf-b475-4ab6afc82d7a"
   },
   "outputs": [
    {
     "data": {
      "text/plain": [
       "[1.85928, 1.6459200000000003, 1.76784]"
      ]
     },
     "execution_count": 55,
     "metadata": {},
     "output_type": "execute_result"
    }
   ],
   "source": [
    "# для преобразования футов в метры создадим lambda-функцию lambda m: m * 0.3048\n",
    "# применим эту функцию к значениям словаря с помощью функции map()\n",
    "# преобразуем в список\n",
    "metres = list(map(lambda m: m * 0.3048, height_feet.values()))\n",
    "metres"
   ]
  },
  {
   "cell_type": "code",
   "execution_count": null,
   "metadata": {
    "colab": {
     "base_uri": "https://localhost:8080/"
    },
    "id": "RcqkuR4WjsnB",
    "outputId": "74026d78-3508-4898-9502-70f84f556a5d"
   },
   "outputs": [
    {
     "data": {
      "text/plain": [
       "{'Alex': 1.86, 'Jerry': 1.65, 'Ben': 1.77}"
      ]
     },
     "execution_count": 56,
     "metadata": {},
     "output_type": "execute_result"
    }
   ],
   "source": [
    "# с помощью функции zip() соединим ключи исходного словаря с элементами списка metres\n",
    "dict(zip(height_feet.keys(), np.round(metres, 2)))"
   ]
  },
  {
   "cell_type": "code",
   "execution_count": null,
   "metadata": {
    "colab": {
     "base_uri": "https://localhost:8080/"
    },
    "id": "pxqmUJG7CEtO",
    "outputId": "b3ee3331-c47a-42ac-ac3c-17f82987d4d3"
   },
   "outputs": [
    {
     "data": {
      "text/plain": [
       "{'Alex': 1.86, 'Jerry': 1.65, 'Ben': 1.77}"
      ]
     },
     "execution_count": 57,
     "metadata": {},
     "output_type": "execute_result"
    }
   ],
   "source": [
    "# то же самое можно выполнить с помощью dict comprehensions\n",
    "# всего в одну строчку\n",
    "# мы просто преобразуем значения словаря в метры\n",
    "students_heights_dict = {\n",
    "    key: np.round(value * 0.3048, 2) for (key, value) in height_feet.items()\n",
    "}"
   ]
  },
  {
   "cell_type": "markdown",
   "metadata": {
    "id": "I-UUEhQNvezN"
   },
   "source": [
    "#### Вложенные словари"
   ]
  },
  {
   "cell_type": "code",
   "execution_count": null,
   "metadata": {
    "id": "OA69rLjwwTAc"
   },
   "outputs": [],
   "source": [
    "# возьмем словарь, ключами которого будут id сотрудников\n",
    "employees: dict[str, dict[str, str | int | float]] = {\n",
    "    \"id1\": {\n",
    "        \"first name\": \"Александр\",\n",
    "        \"last name\": \"Иванов\",\n",
    "        \"age\": 30,\n",
    "        \"job\": \"программист\",\n",
    "    },\n",
    "    \"id2\": {\n",
    "        \"first name\": \"Ольга\",\n",
    "        \"last name\": \"Петрова\",\n",
    "        \"age\": 35,\n",
    "        \"job\": \"ML-engineer\",\n",
    "    },\n",
    "}"
   ]
  },
  {
   "cell_type": "code",
   "execution_count": null,
   "metadata": {
    "colab": {
     "base_uri": "https://localhost:8080/"
    },
    "id": "8UNwQKCANq0J",
    "outputId": "a9831ab9-878a-4201-dc20-1d0a741eca26"
   },
   "outputs": [
    {
     "name": "stdout",
     "output_type": "stream",
     "text": [
      "{'first name': 'Александр', 'last name': 'Иванов', 'age': 30, 'job': 'программист'}\n",
      "{'first name': 'Ольга', 'last name': 'Петрова', 'age': 35, 'job': 'ML-engineer'}\n"
     ]
    }
   ],
   "source": [
    "# а значениями - вложенные словари с информацией о них\n",
    "for value_e in employees.values():\n",
    "    print(value_e)"
   ]
  },
  {
   "cell_type": "markdown",
   "metadata": {
    "id": "xBRzL0hdkF95"
   },
   "source": [
    "##### Базовый операции"
   ]
  },
  {
   "cell_type": "code",
   "execution_count": null,
   "metadata": {
    "colab": {
     "base_uri": "https://localhost:8080/"
    },
    "id": "0Hx_jDxnOBF3",
    "outputId": "c7767b24-5831-436b-cd71-d04d2917a9aa"
   },
   "outputs": [
    {
     "data": {
      "text/plain": [
       "30"
      ]
     },
     "execution_count": 60,
     "metadata": {},
     "output_type": "execute_result"
    }
   ],
   "source": [
    "# для того чтобы вывести значение элемента вложенного словаря,\n",
    "# воспользуемся двойным ключом\n",
    "print(employees[\"id1\"][\"age\"])"
   ]
  },
  {
   "cell_type": "code",
   "execution_count": null,
   "metadata": {
    "colab": {
     "base_uri": "https://localhost:8080/"
    },
    "id": "iUNy0ji7ORNC",
    "outputId": "8e0c2822-2aac-4c93-9998-3c9547edf06e"
   },
   "outputs": [
    {
     "name": "stdout",
     "output_type": "stream",
     "text": [
      "{'id1': {'age': 30,\n",
      "         'first name': 'Александр',\n",
      "         'job': 'программист',\n",
      "         'last name': 'Иванов'},\n",
      " 'id2': {'age': 35,\n",
      "         'first name': 'Ольга',\n",
      "         'job': 'ML-engineer',\n",
      "         'last name': 'Петрова'},\n",
      " 'id3': {'age': 27,\n",
      "         'first name': 'Дарья',\n",
      "         'job': 'веб-дизайнер',\n",
      "         'last name': 'Некрасова'}}\n"
     ]
    }
   ],
   "source": [
    "# добавим информацию о новом сотруднике\n",
    "employees[\"id3\"] = {\n",
    "    \"first name\": \"Дарья\",\n",
    "    \"last name\": \"Некрасова\",\n",
    "    \"age\": 27,\n",
    "    \"job\": \"веб-дизайнер\",\n",
    "}\n",
    "\n",
    "# и выведем обновленный словарь с помощью функции pprint()\n",
    "pprint(employees)"
   ]
  },
  {
   "cell_type": "code",
   "execution_count": null,
   "metadata": {
    "colab": {
     "base_uri": "https://localhost:8080/"
    },
    "id": "mHmC4hPGwTC_",
    "outputId": "897b5449-4fed-4df6-a538-be532c3c6fcf"
   },
   "outputs": [
    {
     "name": "stdout",
     "output_type": "stream",
     "text": [
      "{'id1': {'age': 30,\n",
      "         'first name': 'Александр',\n",
      "         'job': 'программист',\n",
      "         'last name': 'Иванов'},\n",
      " 'id2': {'age': 35,\n",
      "         'first name': 'Ольга',\n",
      "         'job': 'ML-engineer',\n",
      "         'last name': 'Петрова'},\n",
      " 'id3': {'age': 26,\n",
      "         'first name': 'Дарья',\n",
      "         'job': 'веб-дизайнер',\n",
      "         'last name': 'Некрасова'}}\n"
     ]
    }
   ],
   "source": [
    "# изменить значение вложенного словаря можно также с помощью двойного ключа\n",
    "employees[\"id3\"][\"age\"] = 26\n",
    "pprint(employees)"
   ]
  },
  {
   "cell_type": "markdown",
   "metadata": {
    "id": "kP8KzxtckMf0"
   },
   "source": [
    "##### Циклы `for`"
   ]
  },
  {
   "cell_type": "code",
   "execution_count": null,
   "metadata": {
    "colab": {
     "base_uri": "https://localhost:8080/"
    },
    "id": "rfKMVzEGlUf1",
    "outputId": "7567b97d-4963-4dc8-eb09-73d2c84d9775"
   },
   "outputs": [
    {
     "name": "stdout",
     "output_type": "stream",
     "text": [
      "{'id1': {'age': 30.0,\n",
      "         'first name': 'Александр',\n",
      "         'job': 'программист',\n",
      "         'last name': 'Иванов'},\n",
      " 'id2': {'age': 35.0,\n",
      "         'first name': 'Ольга',\n",
      "         'job': 'ML-engineer',\n",
      "         'last name': 'Петрова'},\n",
      " 'id3': {'age': 26.0,\n",
      "         'first name': 'Дарья',\n",
      "         'job': 'веб-дизайнер',\n",
      "         'last name': 'Некрасова'}}\n"
     ]
    }
   ],
   "source": [
    "# заменим тип данных в информации о возрасте с int на float\n",
    "\n",
    "# для этого вначале пройдемся по вложенным словарям,\n",
    "# т.е. по значениям info внешнего словаря employees\n",
    "for info in employees.values():\n",
    "\n",
    "    # затем по ключам и значениям вложенного словаря info\n",
    "    for key_info, value_info in info.items():\n",
    "\n",
    "        # если ключ совпадет со словом 'age'\n",
    "        if key_info == \"age\":\n",
    "\n",
    "            # преобразуем значение в тип float\n",
    "            info[key_info] = float(value_info)\n",
    "\n",
    "pprint(employees)"
   ]
  },
  {
   "cell_type": "markdown",
   "metadata": {
    "id": "HO97JxkUkZyR"
   },
   "source": [
    "##### Вложенные словари и dict comprehension"
   ]
  },
  {
   "cell_type": "code",
   "execution_count": null,
   "metadata": {
    "colab": {
     "base_uri": "https://localhost:8080/"
    },
    "id": "-lBSDGLtm62e",
    "outputId": "11b6677f-5514-4a7f-c868-7959c26b0e3a"
   },
   "outputs": [
    {
     "name": "stdout",
     "output_type": "stream",
     "text": [
      "{'id1': {'age': 30.0,\n",
      "         'first name': 'Александр',\n",
      "         'job': 'программист',\n",
      "         'last name': 'Иванов'},\n",
      " 'id2': {'age': 35.0,\n",
      "         'first name': 'Ольга',\n",
      "         'job': 'ML-engineer',\n",
      "         'last name': 'Петрова'},\n",
      " 'id3': {'age': 26.0,\n",
      "         'first name': 'Дарья',\n",
      "         'job': 'веб-дизайнер',\n",
      "         'last name': 'Некрасова'}}\n"
     ]
    }
   ],
   "source": [
    "# преоразуем обратно из float в int, но уже через dict comprehension\n",
    "# для начала просто выведем словарь employees без изменений\n",
    "pprint({id: info for id, info in employees.items()})"
   ]
  },
  {
   "cell_type": "code",
   "execution_count": null,
   "metadata": {
    "colab": {
     "base_uri": "https://localhost:8080/"
    },
    "id": "qaPZCn-PnHpn",
    "outputId": "38d50011-d70a-4cc0-b366-21a5fb6dc926"
   },
   "outputs": [
    {
     "name": "stdout",
     "output_type": "stream",
     "text": [
      "{'id1': {'age': 30,\n",
      "         'first name': 'Александр',\n",
      "         'job': 'программист',\n",
      "         'last name': 'Иванов'},\n",
      " 'id2': {'age': 35,\n",
      "         'first name': 'Ольга',\n",
      "         'job': 'ML-engineer',\n",
      "         'last name': 'Петрова'},\n",
      " 'id3': {'age': 26,\n",
      "         'first name': 'Дарья',\n",
      "         'job': 'веб-дизайнер',\n",
      "         'last name': 'Некрасова'}}\n"
     ]
    }
   ],
   "source": [
    "# а затем заменим значение внешнего словаря info (т.е. вложенный словарь)\n",
    "# на еще один dict comprehension с условием if-else\n",
    "pprint(\n",
    "    {\n",
    "        id: {\n",
    "            key: (int(value_i) if key == \"age\" else value_i)\n",
    "            for key, value_i in info.items()\n",
    "        }\n",
    "        for id, info in employees.items()\n",
    "    }\n",
    ")"
   ]
  },
  {
   "cell_type": "markdown",
   "metadata": {
    "id": "KQw8_33YMLU2"
   },
   "source": [
    "#### Частота слов в тексте"
   ]
  },
  {
   "cell_type": "code",
   "execution_count": null,
   "metadata": {
    "id": "ysL5RwJEMO7M"
   },
   "outputs": [],
   "source": [
    "# возьмем знакомый нам текст\n",
    "corpus = (\n",
    "    \"When we were in Paris we visited a lot of museums. \"\n",
    "    \"We first went to the Louvre, the largest art museum in the world.\"\n",
    "    \"I have always been interested in art so I spent many hours there. \"\n",
    "    \"The museum is enormous, so a week there would not be enough.\"\n",
    ")"
   ]
  },
  {
   "cell_type": "markdown",
   "metadata": {
    "id": "vu3yQDqNRb9o"
   },
   "source": [
    "##### Предварительная обработка текста"
   ]
  },
  {
   "cell_type": "code",
   "execution_count": 3,
   "metadata": {
    "colab": {
     "base_uri": "https://localhost:8080/"
    },
    "id": "Y0Q0RhvlRRqJ",
    "outputId": "d3ec9c90-e0b7-430b-b636-4bc33801ff6b"
   },
   "outputs": [
    {
     "name": "stdout",
     "output_type": "stream",
     "text": [
      "['When', 'we', 'were', 'in', 'Paris', 'we', 'visited', 'a', 'lot', 'of', 'museums.', 'We', 'first', 'went', 'to', 'the', 'Louvre,', 'the', 'largest', 'art', 'museum', 'in', 'the', 'world.', 'I', 'have', 'always', 'been', 'interested', 'in', 'art', 'so', 'I', 'spent', 'many', 'hours', 'there.', 'The', 'museum', 'is', 'enourmous,', 'so', 'a', 'week', 'there', 'would', 'not', 'be', 'enough.']\n"
     ]
    }
   ],
   "source": [
    "# разделим его на слова\n",
    "words = corpus.split()\n",
    "print(words)"
   ]
  },
  {
   "cell_type": "code",
   "execution_count": null,
   "metadata": {
    "colab": {
     "base_uri": "https://localhost:8080/"
    },
    "id": "VPFYOtFWXmm2",
    "outputId": "c3c416a3-d537-40d8-e823-6c81c3f4b72e"
   },
   "outputs": [
    {
     "name": "stdout",
     "output_type": "stream",
     "text": [
      "['when', 'we', 'were', 'in', 'paris', 'we', 'visited', 'a', 'lot', 'of', 'museums', 'we', 'first', 'went', 'to', 'the', 'louvre', 'the', 'largest', 'art', 'museum', 'in', 'the', 'world', 'i', 'have', 'always', 'been', 'interested', 'in', 'art', 'so', 'i', 'spent', 'many', 'hours', 'there', 'the', 'museum', 'is', 'enourmous', 'so', 'a', 'week', 'there', 'would', 'not', 'be', 'enough']\n"
     ]
    }
   ],
   "source": [
    "# с помощью list comprehension удалим точки, запятые\n",
    "# и переведем все слова в нижний регистр\n",
    "words = [word.strip(\".\").strip(\",\").lower() for word in words]\n",
    "print(words)"
   ]
  },
  {
   "cell_type": "markdown",
   "metadata": {
    "id": "JvApRTwkRfaS"
   },
   "source": [
    "##### Способ 1. Условие if-else"
   ]
  },
  {
   "cell_type": "code",
   "execution_count": null,
   "metadata": {
    "colab": {
     "base_uri": "https://localhost:8080/"
    },
    "id": "0FbwZ4ODSlxH",
    "outputId": "8c0b1ea0-041d-4ee3-cae7-46a191f0a546"
   },
   "outputs": [
    {
     "data": {
      "text/plain": [
       "[('the', 4), ('we', 3), ('in', 3), ('a', 2), ('art', 2), ('museum', 2)]"
      ]
     },
     "execution_count": 70,
     "metadata": {},
     "output_type": "execute_result"
    }
   ],
   "source": [
    "# создадим пустой словарь для мешка слов bow\n",
    "bow_1: dict[str, int] = {}\n",
    "\n",
    "# пройдемся по словам текста\n",
    "for word in words:\n",
    "\n",
    "    # если нам встретилось слово, которое уже есть в словаре\n",
    "    if word in bow_1:\n",
    "\n",
    "        # увеличим его значение (частоту) на 1\n",
    "        bow_1[word] = bow_1[word] + 1\n",
    "\n",
    "    # в противном случае, если слово встречается впервые\n",
    "    else:\n",
    "\n",
    "        # зададим ему значение 1\n",
    "        bow_1[word] = 1\n",
    "\n",
    "# отсортируем словарь по значению в убываюем порядке (reverse = True)\n",
    "# и выведем шесть наиболее частотных слов\n",
    "print(sorted(bow_1.items(), key=lambda item: item[1], reverse=True)[:6])"
   ]
  },
  {
   "cell_type": "markdown",
   "metadata": {
    "id": "DckCYLgvaF3D"
   },
   "source": [
    "##### Способ 2. Метод .get()"
   ]
  },
  {
   "cell_type": "code",
   "execution_count": null,
   "metadata": {
    "colab": {
     "base_uri": "https://localhost:8080/"
    },
    "id": "-cfKJK7dUx6E",
    "outputId": "01b035d5-f1cb-4e1d-d455-d6175a15b9c3"
   },
   "outputs": [
    {
     "data": {
      "text/plain": [
       "[('the', 4), ('we', 3), ('in', 3), ('a', 2), ('art', 2), ('museum', 2)]"
      ]
     },
     "execution_count": 71,
     "metadata": {},
     "output_type": "execute_result"
    }
   ],
   "source": [
    "bow_2: dict[str, int] = {}\n",
    "\n",
    "# снова пройдемся в цикле по словам\n",
    "for word in words:\n",
    "\n",
    "    # если слова еще нет в словаре, .get() выведет значение 0,\n",
    "    # к которому мы прибавим единицу\n",
    "    # если слово есть, метод .get() выведет существующее значение,\n",
    "    # например, 2 или 3,\n",
    "    # и мы также увеличим счетчик на 1\n",
    "    bow_2[word] = bow_2.get(word, 0) + 1\n",
    "\n",
    "# выведем наиболее популярные слова\n",
    "print(sorted(bow_2.items(), key=lambda item: item[1], reverse=True)[:6])"
   ]
  },
  {
   "cell_type": "markdown",
   "metadata": {
    "id": "p9pnHw9JdTDb"
   },
   "source": [
    "##### Способ 3. Модуль collections"
   ]
  },
  {
   "cell_type": "code",
   "execution_count": null,
   "metadata": {
    "colab": {
     "base_uri": "https://localhost:8080/"
    },
    "id": "DBxI0C6GMO-P",
    "outputId": "b688998c-0316-40a1-a3eb-38839afd60fd"
   },
   "outputs": [
    {
     "data": {
      "text/plain": [
       "[('the', 4), ('we', 3), ('in', 3), ('a', 2), ('art', 2), ('museum', 2)]"
      ]
     },
     "execution_count": 72,
     "metadata": {},
     "output_type": "execute_result"
    }
   ],
   "source": [
    "# создадим объект этого класса, передав ему список слов\n",
    "bow_3 = Counter(words)\n",
    "\n",
    "# выведем шесть наиболее часто встречающихся слов с помощью метода .most_common()\n",
    "bow_3.most_common(6)"
   ]
  },
  {
   "cell_type": "markdown",
   "metadata": {
    "id": "Encet8AUTxaK"
   },
   "source": [
    "### Дополнительные материалы"
   ]
  },
  {
   "cell_type": "markdown",
   "metadata": {
    "id": "PMf-4k76T17z"
   },
   "source": [
    "#### Изменяемые и неизменяемые типы данных"
   ]
  },
  {
   "cell_type": "markdown",
   "metadata": {
    "id": "YSZEqdoqZPFJ"
   },
   "source": [
    "Неизменяемый тип данных"
   ]
  },
  {
   "cell_type": "code",
   "execution_count": null,
   "metadata": {
    "colab": {
     "base_uri": "https://localhost:8080/"
    },
    "id": "evIywP2QteRj",
    "outputId": "41dc2190-2e36-4393-d42d-594a8c8c0a86"
   },
   "outputs": [
    {
     "data": {
      "text/plain": [
       "(9739968, str, 'Python')"
      ]
     },
     "execution_count": 73,
     "metadata": {},
     "output_type": "execute_result"
    }
   ],
   "source": [
    "# создадим строковый объект\n",
    "string = \"Python\"\n",
    "\n",
    "# посмотрим на identity, type и value\n",
    "# функция id() выводит адрес объекта в памяти компьютера\n",
    "print(id(string), type(string), string)"
   ]
  },
  {
   "cell_type": "code",
   "execution_count": null,
   "metadata": {
    "colab": {
     "base_uri": "https://localhost:8080/"
    },
    "id": "ddda36SbVNP3",
    "outputId": "1efe542a-2076-48b7-d8ff-f38f526ca50f"
   },
   "outputs": [
    {
     "data": {
      "text/plain": [
       "(132833144673840, str, 'Python is cool')"
      ]
     },
     "execution_count": 74,
     "metadata": {},
     "output_type": "execute_result"
    }
   ],
   "source": [
    "# попробуем изменить этот объект\n",
    "string = string + \" is cool\"\n",
    "\n",
    "# посмотрим на identity, type и value\n",
    "print(id(string), type(string), string)"
   ]
  },
  {
   "cell_type": "markdown",
   "metadata": {
    "id": "zD5pA-shZS9y"
   },
   "source": [
    "Изменяемый тип данных"
   ]
  },
  {
   "cell_type": "code",
   "execution_count": null,
   "metadata": {
    "colab": {
     "base_uri": "https://localhost:8080/"
    },
    "id": "m3v7sz66WaG2",
    "outputId": "79bed439-00cc-4d22-ff23-ea2ac933869b"
   },
   "outputs": [
    {
     "data": {
      "text/plain": [
       "(132833144305664, list, [1, 2, 3])"
      ]
     },
     "execution_count": 75,
     "metadata": {},
     "output_type": "execute_result"
    }
   ],
   "source": [
    "# создадим список\n",
    "lst: list[int] = [1, 2, 3]\n",
    "\n",
    "# посмотрим на identity, type и value\n",
    "print(id(lst), type(lst), lst)"
   ]
  },
  {
   "cell_type": "code",
   "execution_count": null,
   "metadata": {
    "colab": {
     "base_uri": "https://localhost:8080/"
    },
    "id": "MwsfBPKuY44t",
    "outputId": "e68fe4a2-9de8-4649-aab7-284c6868c3df"
   },
   "outputs": [
    {
     "data": {
      "text/plain": [
       "(132833144305664, list, [1, 2, 3, 4])"
      ]
     },
     "execution_count": 76,
     "metadata": {},
     "output_type": "execute_result"
    }
   ],
   "source": [
    "# добавим элемент в список\n",
    "lst.append(4)\n",
    "\n",
    "# снова выведем identity, type и value\n",
    "print(id(lst), type(lst), lst)"
   ]
  },
  {
   "cell_type": "markdown",
   "metadata": {
    "id": "RN5eo53UcJ8v"
   },
   "source": [
    "Копирование объектов"
   ]
  },
  {
   "cell_type": "code",
   "execution_count": null,
   "metadata": {
    "colab": {
     "base_uri": "https://localhost:8080/"
    },
    "id": "WHkQSdiHe7z6",
    "outputId": "3214f311-d3a7-4f47-b029-413b6f76729c"
   },
   "outputs": [
    {
     "data": {
      "text/plain": [
       "('Python', 'Python is cool')"
      ]
     },
     "execution_count": 77,
     "metadata": {},
     "output_type": "execute_result"
    }
   ],
   "source": [
    "# вновь создадим строку\n",
    "string = \"Python\"\n",
    "\n",
    "# скопируем через присваивание\n",
    "string2 = string\n",
    "\n",
    "# изменим копию\n",
    "string2 = string2 + \" is cool\"\n",
    "\n",
    "# посмотрим на результат\n",
    "print(string, string2)"
   ]
  },
  {
   "cell_type": "code",
   "execution_count": null,
   "metadata": {
    "colab": {
     "base_uri": "https://localhost:8080/"
    },
    "id": "4acHz97ajcSH",
    "outputId": "4cff9e9d-be08-41b3-9a3d-6883e02d0a71"
   },
   "outputs": [
    {
     "data": {
      "text/plain": [
       "(False, False)"
      ]
     },
     "execution_count": 78,
     "metadata": {},
     "output_type": "execute_result"
    }
   ],
   "source": [
    "# оператор == сравнивает значения (values)\n",
    "# оператор is сравнивает identities\n",
    "print(string == string2, string is string2)"
   ]
  },
  {
   "cell_type": "code",
   "execution_count": null,
   "metadata": {
    "colab": {
     "base_uri": "https://localhost:8080/"
    },
    "id": "LHQ7dLSjbLiF",
    "outputId": "d24c9d3f-af32-4d65-9219-7336ad8b5cae"
   },
   "outputs": [
    {
     "data": {
      "text/plain": [
       "([1, 2, 3, 4], [1, 2, 3, 4])"
      ]
     },
     "execution_count": 79,
     "metadata": {},
     "output_type": "execute_result"
    }
   ],
   "source": [
    "# создадим список\n",
    "lst = [1, 2, 3]\n",
    "\n",
    "# скопируем его в новую переменную через присваивание\n",
    "lst2 = lst\n",
    "\n",
    "# добавим новый элемент в скопированный список\n",
    "lst2.append(4)\n",
    "\n",
    "# выведем исходный список и копию\n",
    "print(lst, lst2)"
   ]
  },
  {
   "cell_type": "code",
   "execution_count": null,
   "metadata": {
    "colab": {
     "base_uri": "https://localhost:8080/"
    },
    "id": "Oje2eXOYjQwq",
    "outputId": "750ce99e-09f8-42a1-f584-da308d4a4b51"
   },
   "outputs": [
    {
     "data": {
      "text/plain": [
       "(True, True)"
      ]
     },
     "execution_count": 80,
     "metadata": {},
     "output_type": "execute_result"
    }
   ],
   "source": [
    "# убедимся, что речь идет об одном и том же объекте\n",
    "print(lst == lst2, lst is lst2)"
   ]
  },
  {
   "cell_type": "code",
   "execution_count": null,
   "metadata": {
    "colab": {
     "base_uri": "https://localhost:8080/"
    },
    "id": "bMxYXjZ1fwwV",
    "outputId": "a4da24b7-1247-4586-a96f-b461ad1f9d47"
   },
   "outputs": [
    {
     "data": {
      "text/plain": [
       "([1, 2, 3], [1, 2, 3, 4])"
      ]
     },
     "execution_count": 81,
     "metadata": {},
     "output_type": "execute_result"
    }
   ],
   "source": [
    "# вновь создадим список\n",
    "lst = [1, 2, 3]\n",
    "\n",
    "# скопируем с помощью метода .copy()\n",
    "lst2 = lst.copy()\n",
    "\n",
    "# добавим новый элемент в скопированный список\n",
    "lst2.append(4)\n",
    "\n",
    "# выведем исходный список и копию\n",
    "print(lst, lst2)"
   ]
  },
  {
   "cell_type": "code",
   "execution_count": null,
   "metadata": {
    "colab": {
     "base_uri": "https://localhost:8080/"
    },
    "id": "uajQvKK5gN2x",
    "outputId": "17e77160-2826-4cdf-9328-06c7844b6dfd"
   },
   "outputs": [
    {
     "data": {
      "text/plain": [
       "([1, 2, 3, 4], [1, 2, 3, 4], True, False)"
      ]
     },
     "execution_count": 82,
     "metadata": {},
     "output_type": "execute_result"
    }
   ],
   "source": [
    "# теперь сделаем значения списков одинаковыми\n",
    "lst.append(4)\n",
    "\n",
    "# и убедимся, что это по-прежнему разные объекты\n",
    "print(lst, lst2, lst == lst2, lst is lst2)"
   ]
  },
  {
   "cell_type": "code",
   "execution_count": null,
   "metadata": {
    "id": "Etf2OVxIsK7R"
   },
   "outputs": [],
   "source": []
  }
 ],
 "metadata": {
  "colab": {
   "provenance": [],
   "toc_visible": true
  },
  "kernelspec": {
   "display_name": "base",
   "language": "python",
   "name": "python3"
  },
  "language_info": {
   "codemirror_mode": {
    "name": "ipython",
    "version": 3
   },
   "file_extension": ".py",
   "mimetype": "text/x-python",
   "name": "python",
   "nbconvert_exporter": "python",
   "pygments_lexer": "ipython3",
   "version": "3.13.5"
  }
 },
 "nbformat": 4,
 "nbformat_minor": 0
}
