{
 "cells": [
  {
   "cell_type": "code",
   "execution_count": null,
   "metadata": {},
   "outputs": [],
   "source": [
    "\"\"\"Макаров. Условия и циклы.\"\"\""
   ]
  },
  {
   "cell_type": "markdown",
   "metadata": {
    "id": "D4hEPtRhhMqh"
   },
   "source": [
    "## Условия и циклы. Продолжение\n"
   ]
  },
  {
   "cell_type": "markdown",
   "metadata": {
    "id": "-vawFsPhhRgI"
   },
   "source": [
    "### Еще раз про условия с if\n"
   ]
  },
  {
   "cell_type": "markdown",
   "metadata": {
    "id": "rWIA_xr5Cq6K"
   },
   "source": [
    "Множественные условия (multi-way decisions)\n"
   ]
  },
  {
   "cell_type": "code",
   "execution_count": null,
   "metadata": {
    "colab": {
     "base_uri": "https://localhost:8080/"
    },
    "id": "KCMYjV0Cg3Zx",
    "outputId": "2d3c5d62-2e77-4b09-c5fc-8a1a7471198a"
   },
   "outputs": [
    {
     "name": "stdout",
     "output_type": "stream",
     "text": [
      "Medium\n"
     ]
    }
   ],
   "source": [
    "# напишем программу, которая разобьет все числа на малые, средние и большие\n",
    "# импортируем библиотеку numpy\n",
    "import numpy as np\n",
    "\n",
    "x_1 = 42  # зададим число\n",
    "\n",
    "# и пропишем условия (не забывайте про двоеточие и отступ)\n",
    "if x_1 < 10:\n",
    "    print(\"Small\")\n",
    "elif x_1 < 100:\n",
    "    print(\"Medium\")\n",
    "else:\n",
    "    print(\"Large\")"
   ]
  },
  {
   "cell_type": "code",
   "execution_count": null,
   "metadata": {
    "colab": {
     "base_uri": "https://localhost:8080/"
    },
    "id": "Jik8GB36UWgh",
    "outputId": "abb6e9a2-7d04-4a63-d59b-1312b36144e3"
   },
   "outputs": [
    {
     "name": "stdout",
     "output_type": "stream",
     "text": [
      "Medium\n"
     ]
    }
   ],
   "source": [
    "# запросим число у пользователя\n",
    "x_str = input(\"Введите число: \")\n",
    "\n",
    "# преобразуем в тип int\n",
    "x_2 = int(x_str)\n",
    "\n",
    "# и наконец классифицируем\n",
    "if x_2 < 10:\n",
    "    print(\"Small\")\n",
    "elif x_2 < 100:\n",
    "    print(\"Medium\")\n",
    "else:\n",
    "    print(\"Large\")"
   ]
  },
  {
   "cell_type": "markdown",
   "metadata": {
    "id": "7i-2ADtRCv-Z"
   },
   "source": [
    "Вложенные условия (nested decisions)\n"
   ]
  },
  {
   "cell_type": "code",
   "execution_count": 1,
   "metadata": {
    "colab": {
     "base_uri": "https://localhost:8080/"
    },
    "id": "G45V7GOfUoKw",
    "outputId": "51061495-88b6-499c-b263-95edd749b950"
   },
   "outputs": [
    {
     "name": "stdout",
     "output_type": "stream",
     "text": [
      "Medium\n"
     ]
    }
   ],
   "source": [
    "# запрашиваем число\n",
    "y_str = input(\"Введите число: \")\n",
    "\n",
    "# проверяем первое условие (не пустая ли строка), если оно выполняется\n",
    "if len(y_str) != 0:\n",
    "\n",
    "    # преобразуем в тип int\n",
    "    y_int = int(y_str)\n",
    "\n",
    "    # и классифицируем\n",
    "    if y_int < 10:\n",
    "        print(\"Small\")\n",
    "    elif y_int < 100:\n",
    "        print(\"Medium\")\n",
    "    else:\n",
    "        print(\"Large\")\n",
    "\n",
    "# в противном, говорим, что ввод пустой\n",
    "else:\n",
    "    print(\"Ввод пустой\")"
   ]
  },
  {
   "cell_type": "markdown",
   "metadata": {
    "id": "M72PQIj48Igc"
   },
   "source": [
    "Несколько условий в одном выражении с операторами and или or\n"
   ]
  },
  {
   "cell_type": "code",
   "execution_count": null,
   "metadata": {
    "colab": {
     "base_uri": "https://localhost:8080/"
    },
    "id": "ktlZYzKDE8Vr",
    "outputId": "5b8ff016-c384-4023-a6c6-70202508f021"
   },
   "outputs": [
    {
     "name": "stdout",
     "output_type": "stream",
     "text": [
      "Medium\n"
     ]
    }
   ],
   "source": [
    "# пример с and (логическим И)\n",
    "z_int = 42\n",
    "\n",
    "# если z больше 10 и одновременно меньше 100\n",
    "if 10 < z_int < 100:\n",
    "\n",
    "    # у нас среднее число\n",
    "    print(\"Medium\")\n",
    "\n",
    "# в противном случае оно либо маленькое либо большое\n",
    "else:\n",
    "    print(\"Small or Large\")"
   ]
  },
  {
   "cell_type": "code",
   "execution_count": null,
   "metadata": {
    "colab": {
     "base_uri": "https://localhost:8080/"
    },
    "id": "BfUvmSq5E3m9",
    "outputId": "1113ad79-e15d-4187-b635-3e091b070a59"
   },
   "outputs": [
    {
     "name": "stdout",
     "output_type": "stream",
     "text": [
      "Small or Large\n"
     ]
    }
   ],
   "source": [
    "# пример с or (логическим ИЛИ)\n",
    "z_int = 2\n",
    "\n",
    "# если z меньше 10 или больше 100\n",
    "if z_int < 10 or z_int > 100:\n",
    "\n",
    "    # оно либо маленькое либо большое\n",
    "    print(\"Small or Large\")\n",
    "\n",
    "# в противном случае оно среднее\n",
    "else:\n",
    "    print(\"Medium\")"
   ]
  },
  {
   "cell_type": "markdown",
   "metadata": {
    "id": "EGZZNNr-9Fn-"
   },
   "source": [
    "Проверка вхождения элемента в объект с in / not in\n"
   ]
  },
  {
   "cell_type": "code",
   "execution_count": null,
   "metadata": {
    "colab": {
     "base_uri": "https://localhost:8080/"
    },
    "id": "LOpo6gje9Q-C",
    "outputId": "a5c228ea-5f37-4907-dcdf-0eb6ee1140f3"
   },
   "outputs": [
    {
     "name": "stdout",
     "output_type": "stream",
     "text": [
      "Слово найдено\n"
     ]
    }
   ],
   "source": [
    "# можно проверить вхождение слова в строку\n",
    "sentence = \"To be, or not to be, that is the question\"\n",
    "word = \"question\"\n",
    "\n",
    "if word in sentence:\n",
    "    print(\"Слово найдено\")"
   ]
  },
  {
   "cell_type": "code",
   "execution_count": null,
   "metadata": {
    "colab": {
     "base_uri": "https://localhost:8080/"
    },
    "id": "mHq-uEI4K2AI",
    "outputId": "196d6df3-3d03-4edb-83af-7576dc68e844"
   },
   "outputs": [
    {
     "name": "stdout",
     "output_type": "stream",
     "text": [
      "Такого числа в списке нет\n"
     ]
    }
   ],
   "source": [
    "# или отсутствие элемента в списке\n",
    "number_list = [2, 3, 4, 6, 7]\n",
    "number = 5\n",
    "\n",
    "if number not in number_list:\n",
    "    print(\"Такого числа в списке нет\")"
   ]
  },
  {
   "cell_type": "code",
   "execution_count": null,
   "metadata": {
    "id": "gWjobfPGNzwg"
   },
   "outputs": [],
   "source": [
    "# кроме того, можно проверить вхождение ключа и значения в словарь\n",
    "\n",
    "# возьмем очень простой словарь\n",
    "d_dict = {\"apple\": 3, \"tomato\": 6, \"carrot\": 2}"
   ]
  },
  {
   "cell_type": "code",
   "execution_count": null,
   "metadata": {
    "colab": {
     "base_uri": "https://localhost:8080/"
    },
    "id": "Z92L7WSTPF-P",
    "outputId": "5306ceb6-18a2-4af0-aeb8-317444a088de"
   },
   "outputs": [
    {
     "name": "stdout",
     "output_type": "stream",
     "text": [
      "Нашлись\n"
     ]
    }
   ],
   "source": [
    "# вначале поищем яблоки среди ключей словаря\n",
    "if \"apple\" in d_dict:\n",
    "    print(\"Нашлись\")"
   ]
  },
  {
   "cell_type": "code",
   "execution_count": null,
   "metadata": {
    "colab": {
     "base_uri": "https://localhost:8080/"
    },
    "id": "YhUXxjsUPTl2",
    "outputId": "4c62a3e8-6b70-48c5-d79d-9df71d26809c"
   },
   "outputs": [
    {
     "name": "stdout",
     "output_type": "stream",
     "text": [
      "Есть\n"
     ]
    }
   ],
   "source": [
    "# а затем посмотрим, нет ли числа 6 среди его значений\n",
    "# с помощью метода .values()\n",
    "if 6 in d_dict.values():\n",
    "    print(\"Есть\")"
   ]
  },
  {
   "cell_type": "markdown",
   "metadata": {
    "id": "fsCZohlkYH7k"
   },
   "source": [
    "### Циклы в Питоне\n"
   ]
  },
  {
   "cell_type": "markdown",
   "metadata": {
    "id": "z7-hyiTDYOv8"
   },
   "source": [
    "#### Цикл for\n"
   ]
  },
  {
   "cell_type": "markdown",
   "metadata": {
    "id": "SOp17Yl-fWhG"
   },
   "source": [
    "##### Основные операции\n"
   ]
  },
  {
   "cell_type": "code",
   "execution_count": null,
   "metadata": {
    "colab": {
     "base_uri": "https://localhost:8080/"
    },
    "id": "A3GWvb12a6Ra",
    "outputId": "c07c70f8-82e6-41b8-db48-1b5980e8ef35"
   },
   "outputs": [
    {
     "name": "stdout",
     "output_type": "stream",
     "text": [
      "1\n",
      "2\n",
      "3\n"
     ]
    }
   ],
   "source": [
    "# поочередно выведем элементы списка\n",
    "number_list = [1, 2, 3]\n",
    "\n",
    "# не забывая про двоеточие и отступ\n",
    "for number in number_list:\n",
    "    print(number)"
   ]
  },
  {
   "cell_type": "code",
   "execution_count": null,
   "metadata": {
    "id": "nIrD5ArAb8ih"
   },
   "outputs": [],
   "source": [
    "# создадим словарь, значениями которого будут списки из двух элементов\n",
    "fruits_dict = {\"apple\": [3, \"kg\"], \"tomato\": [6, \"pcs\"], \"carrot\": [2, \"kg\"]}"
   ]
  },
  {
   "cell_type": "code",
   "execution_count": null,
   "metadata": {
    "colab": {
     "base_uri": "https://localhost:8080/"
    },
    "id": "QD9h9pplgDVI",
    "outputId": "f20d59a5-5ab5-4af9-c7ae-ebd1b3549141"
   },
   "outputs": [
    {
     "name": "stdout",
     "output_type": "stream",
     "text": [
      "apple [3, 'kg']\n",
      "tomato [6, 'pcs']\n",
      "carrot [2, 'kg']\n"
     ]
    }
   ],
   "source": [
    "# затем создадим две переменные-контейнера и применим метод .items()\n",
    "for key, value in fruits_dict.items():\n",
    "    print(key, value)"
   ]
  },
  {
   "cell_type": "code",
   "execution_count": null,
   "metadata": {
    "colab": {
     "base_uri": "https://localhost:8080/"
    },
    "id": "QV1uyoe0gFLh",
    "outputId": "126701f4-c8c6-4ba5-bbcd-778c837dc5fd"
   },
   "outputs": [
    {
     "name": "stdout",
     "output_type": "stream",
     "text": [
      "3\n",
      "6\n",
      "2\n"
     ]
    }
   ],
   "source": [
    "# возьмем только одну переменную и применим метод .values()\n",
    "for value in fruits_dict.values():\n",
    "    # значение представляет собой список, выведем его первый элемент с индексом [0]\n",
    "    print(value[0])"
   ]
  },
  {
   "cell_type": "code",
   "execution_count": null,
   "metadata": {
    "colab": {
     "base_uri": "https://localhost:8080/"
    },
    "id": "4L5ktimCcbbJ",
    "outputId": "7c17e543-7ff5-4eaf-d8a4-1cf3ca8372b2"
   },
   "outputs": [
    {
     "name": "stdout",
     "output_type": "stream",
     "text": [
      "1\n",
      "2\n",
      "3\n"
     ]
    }
   ],
   "source": [
    "# создадим массив и поместим в переменную number_array\n",
    "number_array = np.array([1, 2, 3])\n",
    "\n",
    "# пройдемся по нему с помощью цикла for\n",
    "for number in number_array:\n",
    "    print(number)"
   ]
  },
  {
   "cell_type": "code",
   "execution_count": null,
   "metadata": {
    "id": "8WzO673x-n7b"
   },
   "outputs": [],
   "source": [
    "# предположим, что у нас есть следующая база данных клиентов\n",
    "clients_2: dict[int, dict[str, int | str]] = {\n",
    "    1: {\"name\": \"Анна\", \"age\": 24, \"sex\": \"male\", \"revenue\": 12000},\n",
    "    2: {\"name\": \"Илья\", \"age\": 18, \"sex\": \"female\", \"revenue\": 8000},\n",
    "}"
   ]
  },
  {
   "cell_type": "code",
   "execution_count": null,
   "metadata": {
    "colab": {
     "base_uri": "https://localhost:8080/"
    },
    "id": "zYoothSRM7T9",
    "outputId": "9485789d-3e10-4ffe-a990-63eb8249826d"
   },
   "outputs": [
    {
     "name": "stdout",
     "output_type": "stream",
     "text": [
      "client ID: 1\n",
      "name: Анна\n",
      "age: 24\n",
      "sex: male\n",
      "revenue: 12000\n",
      "\n",
      "client ID: 2\n",
      "name: Илья\n",
      "age: 18\n",
      "sex: female\n",
      "revenue: 8000\n",
      "\n"
     ]
    }
   ],
   "source": [
    "# в первом цикле for поместим id и информацию о клиентах в переменные id и info\n",
    "for client_id, info in clients_2.items():\n",
    "\n",
    "    # выведем id клиента\n",
    "    print(\"client ID: \" + str(client_id))\n",
    "\n",
    "    # во втором цикле возьмем информацию об этом клиенте (это тоже словарь)\n",
    "    for client_key, client_value in info.items():\n",
    "\n",
    "        # и выведем каждый ключ (название поля) и значение (саму информацию)\n",
    "        print(client_key + \": \" + str(client_value))\n",
    "\n",
    "    # добавим пустую строку после того, как выведем информацию об одном клиенте\n",
    "    print()"
   ]
  },
  {
   "cell_type": "markdown",
   "metadata": {
    "id": "Q3CB7PzqYZ_L"
   },
   "source": [
    "##### Функция range()\n"
   ]
  },
  {
   "cell_type": "code",
   "execution_count": null,
   "metadata": {
    "colab": {
     "base_uri": "https://localhost:8080/"
    },
    "id": "HtJWgzs2OEG_",
    "outputId": "c82a607f-6477-4361-d7d7-a607a4ba6bdf"
   },
   "outputs": [
    {
     "name": "stdout",
     "output_type": "stream",
     "text": [
      "0\n",
      "1\n",
      "2\n",
      "3\n",
      "4\n"
     ]
    }
   ],
   "source": [
    "# создадим последовательность от 0 до 4\n",
    "for index in range(5):\n",
    "    print(index)"
   ]
  },
  {
   "cell_type": "code",
   "execution_count": null,
   "metadata": {
    "colab": {
     "base_uri": "https://localhost:8080/"
    },
    "id": "UI24as2nYzR1",
    "outputId": "07ac7689-d18c-4267-8b47-986c10086d33"
   },
   "outputs": [
    {
     "name": "stdout",
     "output_type": "stream",
     "text": [
      "1\n",
      "2\n",
      "3\n",
      "4\n",
      "5\n"
     ]
    }
   ],
   "source": [
    "# от 1 до 5\n",
    "for index in range(1, 6):\n",
    "    print(index)"
   ]
  },
  {
   "cell_type": "code",
   "execution_count": 5,
   "metadata": {
    "colab": {
     "base_uri": "https://localhost:8080/"
    },
    "id": "qN0SAaPXdILc",
    "outputId": "b72a44c1-3c52-4f67-b635-4619ffae5366"
   },
   "outputs": [
    {
     "name": "stdout",
     "output_type": "stream",
     "text": [
      "0\n",
      "2\n",
      "4\n"
     ]
    }
   ],
   "source": [
    "# и от 0 до 5 с шагом 2 (то есть будем выводить числа через одно)\n",
    "for index in range(0, 6, 2):\n",
    "    print(index)"
   ]
  },
  {
   "cell_type": "code",
   "execution_count": 6,
   "metadata": {
    "colab": {
     "base_uri": "https://localhost:8080/"
    },
    "id": "8dUjujIG3cph",
    "outputId": "e1ea261c-c714-4b25-a1c9-1b4a119fa550"
   },
   "outputs": [
    {
     "name": "stdout",
     "output_type": "stream",
     "text": [
      "Январь 47\n",
      "Февраль 75\n",
      "Март 79\n",
      "Апрель 94\n",
      "Май 123\n",
      "Июнь 209\n",
      "Июль 233\n",
      "Август 214\n",
      "Сентябрь 197\n",
      "Октябрь 130\n",
      "Ноябрь 87\n",
      "Декабрь 55\n"
     ]
    }
   ],
   "source": [
    "# возьмем месяцы года\n",
    "months = [\n",
    "    \"Январь\",\n",
    "    \"Февраль\",\n",
    "    \"Март\",\n",
    "    \"Апрель\",\n",
    "    \"Май\",\n",
    "    \"Июнь\",\n",
    "    \"Июль\",\n",
    "    \"Август\",\n",
    "    \"Сентябрь\",\n",
    "    \"Октябрь\",\n",
    "    \"Ноябрь\",\n",
    "    \"Декабрь\",\n",
    "]\n",
    "\n",
    "# и продажи мороженого в тыс. рублей в каждый из месяцев\n",
    "sales = [47, 75, 79, 94, 123, 209, 233, 214, 197, 130, 87, 55]\n",
    "\n",
    "length = len(months)\n",
    "# задав последовательность через range(len()),\n",
    "for index in range(length):\n",
    "    # мы можем вывести каждый из элементов обоих списков в одном цикле\n",
    "    print(months[index], sales[index])"
   ]
  },
  {
   "cell_type": "markdown",
   "metadata": {
    "id": "0CFgV73qgUSd"
   },
   "source": [
    "Последовательность в обратном порядке\n"
   ]
  },
  {
   "cell_type": "markdown",
   "metadata": {
    "id": "Jw0cFT6tgiPX"
   },
   "source": [
    "**Способ 1**. Функция reversed()\n"
   ]
  },
  {
   "cell_type": "code",
   "execution_count": null,
   "metadata": {
    "colab": {
     "base_uri": "https://localhost:8080/"
    },
    "id": "l51JXd5Egk8o",
    "outputId": "ea9e0431-0789-4716-a272-479a95293e7d"
   },
   "outputs": [
    {
     "name": "stdout",
     "output_type": "stream",
     "text": [
      "4\n",
      "3\n",
      "2\n",
      "1\n",
      "0\n"
     ]
    }
   ],
   "source": [
    "# создадим список\n",
    "my_list = [0, 1, 2, 3, 4]\n",
    "\n",
    "# передадим его функции reversed() и\n",
    "# выведем каждый из элементов списка с помощью цикла for\n",
    "for index in reversed(my_list):\n",
    "    print(index)"
   ]
  },
  {
   "cell_type": "code",
   "execution_count": null,
   "metadata": {
    "colab": {
     "base_uri": "https://localhost:8080/"
    },
    "id": "Dj4vHmXnhGZ1",
    "outputId": "56b9b18b-a7fe-4242-a2e4-232aa351e880"
   },
   "outputs": [
    {
     "name": "stdout",
     "output_type": "stream",
     "text": [
      "4\n",
      "3\n",
      "2\n",
      "1\n",
      "0\n"
     ]
    }
   ],
   "source": [
    "for index in reversed(range(5)):\n",
    "    print(index)"
   ]
  },
  {
   "cell_type": "markdown",
   "metadata": {
    "id": "p_p9pohzgnXz"
   },
   "source": [
    "**Способ 2**. Указать $-1$ в качестве параметра шага\n"
   ]
  },
  {
   "cell_type": "code",
   "execution_count": null,
   "metadata": {
    "colab": {
     "base_uri": "https://localhost:8080/"
    },
    "id": "cgL29MGlgzaa",
    "outputId": "44596ce6-aef4-4625-88e3-8d5249d1f07a"
   },
   "outputs": [
    {
     "name": "stdout",
     "output_type": "stream",
     "text": [
      "4\n",
      "3\n",
      "2\n",
      "1\n"
     ]
    }
   ],
   "source": [
    "# первым параметром укажем конечный элемент списка,\n",
    "# а вторым - начальный\n",
    "for index in range(4, 0, -1):\n",
    "    print(index)"
   ]
  },
  {
   "cell_type": "code",
   "execution_count": null,
   "metadata": {
    "colab": {
     "base_uri": "https://localhost:8080/"
    },
    "id": "IZ6veVNThxIV",
    "outputId": "7ecce7ec-e249-4f43-8960-edd4cb746fe6"
   },
   "outputs": [
    {
     "name": "stdout",
     "output_type": "stream",
     "text": [
      "4\n",
      "3\n",
      "2\n",
      "1\n",
      "0\n"
     ]
    }
   ],
   "source": [
    "# чтобы вывести 0, вторым параметром нужно указать -1\n",
    "for index in range(4, -1, -1):\n",
    "    print(index)"
   ]
  },
  {
   "cell_type": "markdown",
   "metadata": {
    "id": "pKTDUkY3gz7-"
   },
   "source": [
    "**Способ 3**. Функция sorted()\n"
   ]
  },
  {
   "cell_type": "code",
   "execution_count": null,
   "metadata": {
    "colab": {
     "base_uri": "https://localhost:8080/"
    },
    "id": "l_FnBDBEg7dG",
    "outputId": "cd1f0812-2641-450a-ef31-8282076a4c3c"
   },
   "outputs": [
    {
     "name": "stdout",
     "output_type": "stream",
     "text": [
      "4\n",
      "3\n",
      "2\n",
      "1\n",
      "0\n"
     ]
    }
   ],
   "source": [
    "# создадим последовательность от 0 до 4\n",
    "my_range = range(5)\n",
    "\n",
    "# отсортируем ее по убыванию\n",
    "sorted_values = sorted(my_range, reverse=True)\n",
    "\n",
    "# выведем элементы отсортированной последовательности\n",
    "for index in sorted_values:\n",
    "    print(index)"
   ]
  },
  {
   "cell_type": "markdown",
   "metadata": {
    "id": "c4X4Nw2Yf2IH"
   },
   "source": [
    "##### Функция enumerate()\n"
   ]
  },
  {
   "cell_type": "code",
   "execution_count": 7,
   "metadata": {
    "colab": {
     "base_uri": "https://localhost:8080/"
    },
    "id": "5a3gqF7-foJY",
    "outputId": "358e0f57-cffa-434d-ef50-e811b2c822a2"
   },
   "outputs": [
    {
     "name": "stdout",
     "output_type": "stream",
     "text": [
      "0 Понедельник\n",
      "1 Вторник\n",
      "2 Среда\n",
      "3 Четверг\n",
      "4 Пятница\n",
      "5 Суббота\n",
      "6 Воскресенье\n"
     ]
    }
   ],
   "source": [
    "# пусть дан список с днями недели\n",
    "days = [\n",
    "    \"Понедельник\",\n",
    "    \"Вторник\",\n",
    "    \"Среда\",\n",
    "    \"Четверг\",\n",
    "    \"Пятница\",\n",
    "    \"Суббота\",\n",
    "    \"Воскресенье\",\n",
    "]\n",
    "\n",
    "# выведем индекс (index) и сами элементы списка (day)\n",
    "for index, day in enumerate(days):\n",
    "    print(index, day)"
   ]
  },
  {
   "cell_type": "code",
   "execution_count": null,
   "metadata": {
    "colab": {
     "base_uri": "https://localhost:8080/"
    },
    "id": "qrn0qMjWlgg4",
    "outputId": "7719b163-557d-4d68-9367-53e13d8cf714"
   },
   "outputs": [
    {
     "name": "stdout",
     "output_type": "stream",
     "text": [
      "1 Понедельник\n",
      "2 Вторник\n",
      "3 Среда\n",
      "4 Четверг\n",
      "5 Пятница\n",
      "6 Суббота\n",
      "7 Воскресенье\n"
     ]
    }
   ],
   "source": [
    "# так же выведем индекс и элементы списка, но начнем с 1\n",
    "for index, day in enumerate(days, 1):\n",
    "    print(index, day)"
   ]
  },
  {
   "cell_type": "markdown",
   "metadata": {
    "id": "Nw5Km-XapZni"
   },
   "source": [
    "#### Цикл while\n"
   ]
  },
  {
   "cell_type": "code",
   "execution_count": 8,
   "metadata": {
    "colab": {
     "base_uri": "https://localhost:8080/"
    },
    "id": "7dWKX2p8pZCl",
    "outputId": "b20690f5-36ff-464c-e3b2-ab185409b74a"
   },
   "outputs": [
    {
     "name": "stdout",
     "output_type": "stream",
     "text": [
      "Текущее значение счетчика:  0\n",
      "Новое значение счетчика:    1\n",
      "\n",
      "Текущее значение счетчика:  1\n",
      "Новое значение счетчика:    2\n",
      "\n",
      "Текущее значение счетчика:  2\n",
      "Новое значение счетчика:    3\n",
      "\n"
     ]
    }
   ],
   "source": [
    "# зададим начальное значение счетчика\n",
    "index = 0\n",
    "\n",
    "# пока счетчик меньше трех\n",
    "while index < 3:\n",
    "\n",
    "    # в каждом цикле будем выводить его текущее значение\n",
    "    print(\"Текущее значение счетчика:  \" + str(index))\n",
    "\n",
    "    # внутри цикла не забудем \"нарастить\" счетчик\n",
    "    index = index + 1\n",
    "\n",
    "    # и выведем новое значение\n",
    "    print(\"Новое значение счетчика:    \" + str(index))\n",
    "\n",
    "    # добавим пустую строку\n",
    "    print()"
   ]
  },
  {
   "cell_type": "code",
   "execution_count": null,
   "metadata": {
    "colab": {
     "base_uri": "https://localhost:8080/"
    },
    "id": "AsLYv9o-mpy2",
    "outputId": "ca5a8611-81a4-45e1-f242-c1e6243b2a50"
   },
   "outputs": [
    {
     "name": "stdout",
     "output_type": "stream",
     "text": [
      "0\n",
      "1\n",
      "2\n"
     ]
    }
   ],
   "source": [
    "# тот же код можно упростить\n",
    "index = 0\n",
    "\n",
    "while index < 3:\n",
    "    print(index)\n",
    "    # в частности, оператор += сразу увеличивает и присваивает новое значение\n",
    "    index += 1"
   ]
  },
  {
   "cell_type": "markdown",
   "metadata": {
    "id": "N6Djl9Shdkxh"
   },
   "source": [
    "#### Break, continue\n"
   ]
  },
  {
   "cell_type": "markdown",
   "metadata": {
    "id": "ZCW-rwAFggXA"
   },
   "source": [
    "Оператор break\n"
   ]
  },
  {
   "cell_type": "code",
   "execution_count": null,
   "metadata": {
    "colab": {
     "base_uri": "https://localhost:8080/"
    },
    "id": "RBHU-9AMtfWx",
    "outputId": "8fb98266-36f9-417b-df63-956053999ae7"
   },
   "outputs": [
    {
     "name": "stdout",
     "output_type": "stream",
     "text": [
      "1 {'name': 'Анна', 'age': 24, 'sex': 'male', 'revenue': 12000}\n"
     ]
    }
   ],
   "source": [
    "# вновь возьмем словарь clients\n",
    "clients_1: dict[int, dict[str, int | str]] = {\n",
    "    1: {\"name\": \"Анна\", \"age\": 24, \"sex\": \"male\", \"revenue\": 12000},\n",
    "    2: {\"name\": \"Илья\", \"age\": 18, \"sex\": \"female\", \"revenue\": 8000},\n",
    "}\n",
    "\n",
    "# в цикле пройдемся по ключам и значениям словаря\n",
    "for client_id, info in clients_1.items():\n",
    "\n",
    "    # и выведем их\n",
    "    print(client_id, info)\n",
    "\n",
    "    # однако уже после первого исполнения цикла, прервем его\n",
    "    break"
   ]
  },
  {
   "cell_type": "code",
   "execution_count": null,
   "metadata": {
    "colab": {
     "base_uri": "https://localhost:8080/"
    },
    "id": "SFqkq_3lfqrn",
    "outputId": "8a818f11-8359-4c0f-ad96-41b15f5f168c"
   },
   "outputs": [
    {
     "name": "stdout",
     "output_type": "stream",
     "text": [
      "6\n",
      "5\n",
      "4\n"
     ]
    }
   ],
   "source": [
    "# начальное значение счетчика\n",
    "x_int = 6\n",
    "\n",
    "# будем исполнять цикл пока x не равен нулю\n",
    "while x_int != 0:\n",
    "\n",
    "    # выведем текущее значение счетчика\n",
    "    print(x_int)\n",
    "\n",
    "    # и уменьшим (!) его на 1\n",
    "    x_int -= 1\n",
    "\n",
    "    # если значение счетчика станет равным 3, прервем цикл\n",
    "    if x_int == 3:\n",
    "        break"
   ]
  },
  {
   "cell_type": "markdown",
   "metadata": {
    "id": "L3Mf_VrMjX_9"
   },
   "source": [
    "Оператор continue\n"
   ]
  },
  {
   "cell_type": "code",
   "execution_count": null,
   "metadata": {
    "colab": {
     "base_uri": "https://localhost:8080/"
    },
    "id": "fQOiiMyTjdic",
    "outputId": "3eaceef2-657a-4bfc-bcdf-d0585ebbf851"
   },
   "outputs": [
    {
     "name": "stdout",
     "output_type": "stream",
     "text": [
      "2\n",
      "4\n",
      "6\n",
      "8\n",
      "10\n"
     ]
    }
   ],
   "source": [
    "# выведем все четные числа в диапазоне от 1 до 10 включительно.\n",
    "\n",
    "# с помощью функции range() создадим последовательность от 1 до 10\n",
    "for index in range(1, 11):\n",
    "\n",
    "    # если остаток от деления на два не равен нулю (то есть число нечетное)\n",
    "    if index % 2 != 0:\n",
    "\n",
    "        # идем к следующему числу последовательности\n",
    "        continue\n",
    "\n",
    "    # в противном случае выводим число\n",
    "    print(index)"
   ]
  },
  {
   "cell_type": "markdown",
   "metadata": {
    "id": "9mv5pBDHX3zT"
   },
   "source": [
    "#### Форматирование строк через f-строки и метод .format()\n"
   ]
  },
  {
   "cell_type": "code",
   "execution_count": 9,
   "metadata": {
    "colab": {
     "base_uri": "https://localhost:8080/",
     "height": 35
    },
    "id": "T3-9SwA5oyBw",
    "outputId": "975ffcc1-101d-4849-bbab-f1819d3d2c3c"
   },
   "outputs": [
    {
     "data": {
      "text/plain": [
       "'Понедельник'"
      ]
     },
     "execution_count": 9,
     "metadata": {},
     "output_type": "execute_result"
    }
   ],
   "source": [
    "# снова возьмем список с днями недели\n",
    "days = [\n",
    "    \"Понедельник\",\n",
    "    \"Вторник\",\n",
    "    \"Среда\",\n",
    "    \"Четверг\",\n",
    "    \"Пятница\",\n",
    "    \"Суббота\",\n",
    "    \"Воскресенье\",\n",
    "]\n",
    "\n",
    "# и для простоты поместим слово \"Понедельник\" в переменную Monday\n",
    "Monday = days[0]\n",
    "Monday"
   ]
  },
  {
   "cell_type": "code",
   "execution_count": null,
   "metadata": {
    "colab": {
     "base_uri": "https://localhost:8080/"
    },
    "id": "sDm0FLLzYyqM",
    "outputId": "0af15dd1-b565-485a-9010-8813efd8dfec"
   },
   "outputs": [
    {
     "name": "stdout",
     "output_type": "stream",
     "text": [
      "Понедельник - день тяжелый\n"
     ]
    }
   ],
   "source": [
    "# теперь напишем фразу \"Понедельник - день тяжелый\" следующим образом\n",
    "print(f\"{Monday} - день тяжелый\")"
   ]
  },
  {
   "cell_type": "code",
   "execution_count": null,
   "metadata": {
    "colab": {
     "base_uri": "https://localhost:8080/"
    },
    "id": "p85bCPM7Z2yz",
    "outputId": "1f7f7c62-a86c-4a16-c234-e4d09d98eb98"
   },
   "outputs": [
    {
     "name": "stdout",
     "output_type": "stream",
     "text": [
      "Понедельник - день тяжелый\n"
     ]
    }
   ],
   "source": [
    "# то же самое можно вывести с помощью метода .format()\n",
    "print(\"{} - день тяжелый\".format(Monday))  # pylint: disable=C0209"
   ]
  },
  {
   "cell_type": "markdown",
   "metadata": {
    "id": "EYzsssCDwI5u"
   },
   "source": [
    "### Ответы на вопросы к занятию\n"
   ]
  },
  {
   "cell_type": "markdown",
   "metadata": {
    "id": "O8weTrT8w7qh"
   },
   "source": [
    "**Вопрос**. Можно ли использовать цикл while с функцией range()?\n"
   ]
  },
  {
   "cell_type": "code",
   "execution_count": null,
   "metadata": {
    "colab": {
     "base_uri": "https://localhost:8080/"
    },
    "id": "SZXmOJa7hI6K",
    "outputId": "67589a76-8a23-419e-d30a-d2de8a2e393d"
   },
   "outputs": [
    {
     "name": "stdout",
     "output_type": "stream",
     "text": [
      "Значение счетчика  1\n",
      "Значение счетчика  2\n",
      "Значение счетчика  3\n",
      "Значение счетчика  4\n",
      "Значение счетчика  5\n",
      "Значение счетчика  6\n",
      "Значение счетчика  7\n",
      "Значение счетчика  8\n",
      "Значение счетчика  9\n",
      "Значение счетчика  10\n"
     ]
    }
   ],
   "source": [
    "# с функцией range() можно использовать цикл while, но такое решение не оптимально\n",
    "# приведем пример с while\n",
    "\n",
    "index = 1  # создадим счетчик\n",
    "\n",
    "while index in range(1, 11):  # пока счетчик в диапазоне от 1 до 10\n",
    "    print(\"Значение счетчика \", index)  # выведем его значение и\n",
    "    index += 1  # увеличим счетчик на 1"
   ]
  },
  {
   "cell_type": "code",
   "execution_count": null,
   "metadata": {
    "colab": {
     "base_uri": "https://localhost:8080/"
    },
    "id": "T-7jFKw9wp0o",
    "outputId": "6696e461-f0c5-451e-bcc3-8cdbd7f50f8e"
   },
   "outputs": [
    {
     "name": "stdout",
     "output_type": "stream",
     "text": [
      "Значение счетчика  1\n",
      "Значение счетчика  2\n",
      "Значение счетчика  3\n",
      "Значение счетчика  4\n",
      "Значение счетчика  5\n",
      "Значение счетчика  6\n",
      "Значение счетчика  7\n",
      "Значение счетчика  8\n",
      "Значение счетчика  9\n",
      "Значение счетчика  10\n"
     ]
    }
   ],
   "source": [
    "# более оптимальный код\n",
    "for index in range(1, 11):\n",
    "    print(\"Значение счетчика \", index)"
   ]
  },
  {
   "cell_type": "markdown",
   "metadata": {
    "id": "yrouXtHk2BiB"
   },
   "source": [
    "**Вопрос**. Можно ли обойтись без оператора continue в приведенном на занятии примере?\n"
   ]
  },
  {
   "cell_type": "code",
   "execution_count": null,
   "metadata": {
    "colab": {
     "base_uri": "https://localhost:8080/"
    },
    "id": "g-0ophfr2QXH",
    "outputId": "f220b20b-6480-4bb5-978a-99c3c388821e"
   },
   "outputs": [
    {
     "name": "stdout",
     "output_type": "stream",
     "text": [
      "2\n",
      "4\n",
      "6\n",
      "8\n",
      "10\n"
     ]
    }
   ],
   "source": [
    "for index in range(1, 11):\n",
    "    # если число четное, выведем его\n",
    "    if index % 2 == 0:\n",
    "        print(index)"
   ]
  },
  {
   "cell_type": "code",
   "execution_count": null,
   "metadata": {
    "id": "61Ih4ELB2gaC"
   },
   "outputs": [],
   "source": []
  }
 ],
 "metadata": {
  "colab": {
   "provenance": [],
   "toc_visible": true
  },
  "kernelspec": {
   "display_name": "base",
   "language": "python",
   "name": "python3"
  },
  "language_info": {
   "codemirror_mode": {
    "name": "ipython",
    "version": 3
   },
   "file_extension": ".py",
   "mimetype": "text/x-python",
   "name": "python",
   "nbconvert_exporter": "python",
   "pygments_lexer": "ipython3",
   "version": "3.13.5"
  }
 },
 "nbformat": 4,
 "nbformat_minor": 0
}
