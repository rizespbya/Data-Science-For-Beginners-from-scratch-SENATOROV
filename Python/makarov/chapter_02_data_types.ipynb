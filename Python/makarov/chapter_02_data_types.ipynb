{
 "cells": [
  {
   "cell_type": "code",
   "execution_count": null,
   "metadata": {},
   "outputs": [],
   "source": [
    "\"\"\"Макаров. Типы данных в Питоне.\"\"\""
   ]
  },
  {
   "cell_type": "markdown",
   "metadata": {
    "id": "1GRQZRRMUhNV"
   },
   "source": [
    "## Типы данных в Питоне"
   ]
  },
  {
   "cell_type": "markdown",
   "metadata": {
    "id": "xVFt9DcGSfUI"
   },
   "source": [
    "### Работа с числами"
   ]
  },
  {
   "cell_type": "code",
   "execution_count": null,
   "metadata": {
    "id": "ltvcAbzLSfFp"
   },
   "outputs": [],
   "source": [
    "a_1 = 25  # целое число (int)\n",
    "b_1 = 2.5  # число с плавающей точкой (float)\n",
    "c_1 = 3 + 25j  # комплексное число (complex)"
   ]
  },
  {
   "cell_type": "code",
   "execution_count": null,
   "metadata": {
    "colab": {
     "base_uri": "https://localhost:8080/"
    },
    "id": "kpljlPxmUdR5",
    "outputId": "ba97e614-4316-4762-c3c2-b38613b75234"
   },
   "outputs": [
    {
     "name": "stdout",
     "output_type": "stream",
     "text": [
      "2000.0\n",
      "<class 'float'>\n"
     ]
    }
   ],
   "source": [
    "# экспоненциальная запись, 2 умножить на 10 в степени 3\n",
    "d_1 = 2e3\n",
    "print(d_1)  # 2000.0\n",
    "print(type(d_1))  # <class 'float'>"
   ]
  },
  {
   "cell_type": "markdown",
   "metadata": {
    "id": "0ybsQNkWWgLB"
   },
   "source": [
    "Арифметические операции"
   ]
  },
  {
   "cell_type": "code",
   "execution_count": null,
   "metadata": {
    "colab": {
     "base_uri": "https://localhost:8080/"
    },
    "id": "rdedKxrFWiO8",
    "outputId": "57c5ebb5-5847-48b4-b2cd-56697a8def77"
   },
   "outputs": [
    {
     "name": "stdout",
     "output_type": "stream",
     "text": [
      "4 2 4 2.0 8\n"
     ]
    }
   ],
   "source": [
    "# сложение, вычитание, умножение, деление, возведение в степень\n",
    "print(2 + 2, 4 - 2, 2 * 2, 4 / 2, 2**3)"
   ]
  },
  {
   "cell_type": "code",
   "execution_count": null,
   "metadata": {
    "colab": {
     "base_uri": "https://localhost:8080/"
    },
    "id": "5fqcD1AGagad",
    "outputId": "9cf95ea4-9d1b-419e-d4d1-00753f81a1ad"
   },
   "outputs": [
    {
     "name": "stdout",
     "output_type": "stream",
     "text": [
      "3\n",
      "1\n"
     ]
    }
   ],
   "source": [
    "# новая для нас операция: разделим 7 на 2, и найдем целую часть и остаток\n",
    "\n",
    "# целая часть\n",
    "print(7 // 2)\n",
    "\n",
    "# остаток от деления\n",
    "print(7 % 2)"
   ]
  },
  {
   "cell_type": "markdown",
   "metadata": {
    "id": "kl1h7PY4u518"
   },
   "source": [
    "Операторы сравнения"
   ]
  },
  {
   "cell_type": "code",
   "execution_count": null,
   "metadata": {
    "colab": {
     "base_uri": "https://localhost:8080/"
    },
    "id": "wsMv0ssQuyVQ",
    "outputId": "95ff82a4-754a-4d34-cfaa-e20724ab5e4b"
   },
   "outputs": [
    {
     "name": "stdout",
     "output_type": "stream",
     "text": [
      "True False True False\n"
     ]
    }
   ],
   "source": [
    "# больше, меньше, больше или равно и меньше или равно\n",
    "# print(4 > 2, 4 < 2, 4 >= 2, 4 <= 2)"
   ]
  },
  {
   "cell_type": "code",
   "execution_count": null,
   "metadata": {
    "colab": {
     "base_uri": "https://localhost:8080/"
    },
    "id": "RU5Qy8Cjvd8Y",
    "outputId": "954465b0-d5f3-4f2c-cdb3-52a8a559ef31"
   },
   "outputs": [
    {
     "name": "stdout",
     "output_type": "stream",
     "text": [
      "False\n",
      "True\n"
     ]
    }
   ],
   "source": [
    "# равенство\n",
    "# print(2 == 4)\n",
    "\n",
    "# # и новый для нас оператор неравенства\n",
    "# print(2 != 4)"
   ]
  },
  {
   "cell_type": "markdown",
   "metadata": {
    "id": "UjKVC1j_xQAm"
   },
   "source": [
    "Логические операции"
   ]
  },
  {
   "cell_type": "code",
   "execution_count": null,
   "metadata": {
    "colab": {
     "base_uri": "https://localhost:8080/"
    },
    "id": "Vnne0pLlxSs8",
    "outputId": "125788c3-1d6b-42d9-c375-c471179a1fca"
   },
   "outputs": [
    {
     "name": "stdout",
     "output_type": "stream",
     "text": [
      "True\n",
      "True\n",
      "False\n"
     ]
    }
   ],
   "source": [
    "# логическое И, обе операции должны быть истинны\n",
    "# print(4 > 2 and 2 != 3)\n",
    "\n",
    "# # логическое ИЛИ, хотя бы одна из операций должна быть истинна\n",
    "# print(4 < 2 or 2 == 2)\n",
    "\n",
    "# # логическое НЕ, перевод истинного значения в ложное и наоборот\n",
    "# print(not 4 == 4)"
   ]
  },
  {
   "cell_type": "markdown",
   "metadata": {
    "id": "v6CkmudbVfRm"
   },
   "source": [
    "Перевод чисел в другую систему счисления"
   ]
  },
  {
   "cell_type": "code",
   "execution_count": null,
   "metadata": {
    "colab": {
     "base_uri": "https://localhost:8080/"
    },
    "id": "VyooghwrT1Ak",
    "outputId": "922ad58a-684a-4fe4-c8ed-2789bbefd3ae"
   },
   "outputs": [
    {
     "name": "stdout",
     "output_type": "stream",
     "text": [
      "0b11001\n",
      "25\n"
     ]
    }
   ],
   "source": [
    "# создадим число в десятичной системе\n",
    "d_2 = 25\n",
    "\n",
    "# переведем в двоичную (binary)\n",
    "bin_d = bin(d_2)\n",
    "print(bin_d)\n",
    "\n",
    "# переведем обратно в десятичную\n",
    "print(int(bin_d, 2))"
   ]
  },
  {
   "cell_type": "code",
   "execution_count": null,
   "metadata": {
    "colab": {
     "base_uri": "https://localhost:8080/"
    },
    "id": "yflOiI0SWCYt",
    "outputId": "80cb7b54-9e0c-4432-d7c0-170d88c8adc0"
   },
   "outputs": [
    {
     "name": "stdout",
     "output_type": "stream",
     "text": [
      "0o31\n",
      "25\n"
     ]
    }
   ],
   "source": [
    "# создадим число в десятичной системе\n",
    "d_3 = 25\n",
    "\n",
    "# переведем в восьмеричную (octal)\n",
    "oct_d = oct(d_3)\n",
    "print(oct_d)\n",
    "\n",
    "# переведем обратно в десятичную\n",
    "print(int(oct_d, 8))"
   ]
  },
  {
   "cell_type": "code",
   "execution_count": null,
   "metadata": {
    "colab": {
     "base_uri": "https://localhost:8080/"
    },
    "id": "8h2UB8UgXh_U",
    "outputId": "905b1600-620d-433b-8c9e-a57cfe38fafa"
   },
   "outputs": [
    {
     "name": "stdout",
     "output_type": "stream",
     "text": [
      "0x19\n",
      "25\n"
     ]
    }
   ],
   "source": [
    "# создадим число в десятичной системе\n",
    "d_4 = 25\n",
    "\n",
    "# переведем в шестандцатеричную (hexadecimal)\n",
    "hex_d = hex(d_4)\n",
    "print(hex_d)\n",
    "\n",
    "# переведем обратно в десятичную\n",
    "print(int(hex_d, 16))"
   ]
  },
  {
   "cell_type": "markdown",
   "metadata": {
    "id": "nwD7zwn7cJ6w"
   },
   "source": [
    "### Строковые данные"
   ]
  },
  {
   "cell_type": "code",
   "execution_count": null,
   "metadata": {
    "id": "huuYgDFWYARX"
   },
   "outputs": [],
   "source": [
    "string_1 = \"это строка\"\n",
    "string_2 = \"это тоже строка\""
   ]
  },
  {
   "cell_type": "code",
   "execution_count": null,
   "metadata": {
    "id": "vHSc9dlqdDiB"
   },
   "outputs": [],
   "source": [
    "multi_string = \"\"\"Мы все учились понемногу\n",
    "Чему-нибудь и как-нибудь,\n",
    "Так воспитаньем, слава богу,\n",
    "У нас немудрено блеснуть.\"\"\""
   ]
  },
  {
   "cell_type": "markdown",
   "metadata": {
    "id": "cVbPttEL1EV-"
   },
   "source": [
    "Длина строки"
   ]
  },
  {
   "cell_type": "code",
   "execution_count": null,
   "metadata": {
    "colab": {
     "base_uri": "https://localhost:8080/"
    },
    "id": "KcUZOvBg1GIv",
    "outputId": "fb268850-07a5-4fef-b76e-df1450a939ba"
   },
   "outputs": [
    {
     "data": {
      "text/plain": [
       "105"
      ]
     },
     "execution_count": 13,
     "metadata": {},
     "output_type": "execute_result"
    }
   ],
   "source": [
    "# воспользуемся функцией len()\n",
    "len(multi_string)"
   ]
  },
  {
   "cell_type": "markdown",
   "metadata": {
    "id": "EvqrYLrKaflu"
   },
   "source": [
    "Объединение строк"
   ]
  },
  {
   "cell_type": "code",
   "execution_count": null,
   "metadata": {
    "colab": {
     "base_uri": "https://localhost:8080/",
     "height": 35
    },
    "id": "oi3I2oQ7ahUA",
    "outputId": "347f00e1-7876-4b1d-e61e-4b46d0601aae"
   },
   "outputs": [
    {
     "data": {
      "application/vnd.google.colaboratory.intrinsic+json": {
       "type": "string"
      },
      "text/plain": [
       "'Программирование на Питоне'"
      ]
     },
     "execution_count": 14,
     "metadata": {},
     "output_type": "execute_result"
    }
   ],
   "source": [
    "# создадим три строки\n",
    "a_5, b_5, c_5 = \"Программирование\", \"на\", \"Питоне\"\n",
    "\n",
    "# соединим с помощью + и добавим пробелы ' '\n",
    "a_5 + \" \" + b_5 + \" \" + c_5"
   ]
  },
  {
   "cell_type": "markdown",
   "metadata": {
    "id": "8yuChtkZzAsv"
   },
   "source": [
    "Индекс символа в строке"
   ]
  },
  {
   "cell_type": "code",
   "execution_count": null,
   "metadata": {
    "colab": {
     "base_uri": "https://localhost:8080/"
    },
    "id": "6cG3PEPDdyVK",
    "outputId": "eebc2370-326a-41c8-c894-eeb144dc22f1"
   },
   "outputs": [
    {
     "name": "stdout",
     "output_type": "stream",
     "text": [
      "М\n",
      ".\n"
     ]
    }
   ],
   "source": [
    "# выведем первый элемент строки multi_string\n",
    "print(multi_string[0])\n",
    "\n",
    "# теперь выведем последний элемент\n",
    "print(multi_string[-1])"
   ]
  },
  {
   "cell_type": "markdown",
   "metadata": {
    "id": "6G8gnYfOQf7K"
   },
   "source": [
    "Срезы строк"
   ]
  },
  {
   "cell_type": "code",
   "execution_count": null,
   "metadata": {
    "colab": {
     "base_uri": "https://localhost:8080/"
    },
    "id": "BjDd8-4nz_8j",
    "outputId": "179c02b0-2569-4af8-b216-611278fa5969"
   },
   "outputs": [
    {
     "name": "stdout",
     "output_type": "stream",
     "text": [
      "все\n"
     ]
    }
   ],
   "source": [
    "# выберем элементы с четвертого по шестой\n",
    "print(multi_string[3:6])"
   ]
  },
  {
   "cell_type": "code",
   "execution_count": null,
   "metadata": {
    "colab": {
     "base_uri": "https://localhost:8080/"
    },
    "id": "IOl7IswZQtsD",
    "outputId": "29283cd4-f801-4be1-8dab-c0ad02a4f347"
   },
   "outputs": [
    {
     "name": "stdout",
     "output_type": "stream",
     "text": [
      "Мы\n",
      "все учились понемногу\n",
      "Чему-нибудь и как-нибудь,\n",
      "Так воспитаньем, слава богу,\n",
      "У нас немудрено блеснуть.\n"
     ]
    }
   ],
   "source": [
    "# выведем все элементы вплоть до второго\n",
    "print(multi_string[:2])\n",
    "\n",
    "# а также все элементы, начиная с четвертого\n",
    "print(multi_string[3:])"
   ]
  },
  {
   "cell_type": "markdown",
   "metadata": {
    "id": "Y2mpyCwPTd2w"
   },
   "source": [
    "Циклы в строках"
   ]
  },
  {
   "cell_type": "code",
   "execution_count": null,
   "metadata": {
    "colab": {
     "base_uri": "https://localhost:8080/"
    },
    "id": "VAwdI6KoSWOp",
    "outputId": "bb6fd38c-ed8e-4fa6-f140-35fd84ef3a1f"
   },
   "outputs": [
    {
     "name": "stdout",
     "output_type": "stream",
     "text": [
      "П\n",
      "и\n",
      "т\n",
      "о\n",
      "н\n"
     ]
    }
   ],
   "source": [
    "# выведем буквы в слове Питон\n",
    "for char in \"Питон\":\n",
    "    print(char)"
   ]
  },
  {
   "cell_type": "markdown",
   "metadata": {
    "id": "B-_cckdsT364"
   },
   "source": [
    "Методы .strip() и .split()"
   ]
  },
  {
   "cell_type": "code",
   "execution_count": null,
   "metadata": {
    "colab": {
     "base_uri": "https://localhost:8080/"
    },
    "id": "nrgI904PTo4s",
    "outputId": "aeba88e0-25df-4e4c-bdb9-0490e72d1368"
   },
   "outputs": [
    {
     "name": "stdout",
     "output_type": "stream",
     "text": [
      "15 849 302\n",
      "15 849 302\n"
     ]
    }
   ],
   "source": [
    "# применим метод .strip(), чтобы удалить *\n",
    "print(\"***15 849 302*****\".strip(\"*\"))\n",
    "\n",
    "# если ничего не указать в качестве аргумента, то удаляются пробелы по краям строки\n",
    "print(\" 15 849 302 \".strip())"
   ]
  },
  {
   "cell_type": "code",
   "execution_count": null,
   "metadata": {
    "colab": {
     "base_uri": "https://localhost:8080/"
    },
    "id": "YbyPzzWtW-I8",
    "outputId": "3f2e9650-81e9-4623-db58-aa4669df4aad"
   },
   "outputs": [
    {
     "name": "stdout",
     "output_type": "stream",
     "text": [
      "['Мы', 'все', 'учились', 'понемногу', 'Чему-нибудь', 'и', 'как-нибудь,', 'Так', 'воспитаньем,', 'слава', 'богу,', 'У', 'нас', 'немудрено', 'блеснуть.']\n"
     ]
    }
   ],
   "source": [
    "# применим метод .split(), чтобы разделить строку на части\n",
    "print(multi_string.split())"
   ]
  },
  {
   "cell_type": "code",
   "execution_count": null,
   "metadata": {
    "colab": {
     "base_uri": "https://localhost:8080/"
    },
    "id": "eVgqVyWAX8ks",
    "outputId": "a702189a-0dfe-45a8-c836-069b6c9f5a47"
   },
   "outputs": [
    {
     "data": {
      "text/plain": [
       "15"
      ]
     },
     "execution_count": 21,
     "metadata": {},
     "output_type": "execute_result"
    }
   ],
   "source": [
    "# посчитаем количество слов в тексте (длину списка)\n",
    "len(multi_string.split())"
   ]
  },
  {
   "cell_type": "markdown",
   "metadata": {
    "id": "da7PAlJSem_e"
   },
   "source": [
    "Замена символа в строке"
   ]
  },
  {
   "cell_type": "code",
   "execution_count": null,
   "metadata": {
    "colab": {
     "base_uri": "https://localhost:8080/"
    },
    "id": "zUPjDpc9eogI",
    "outputId": "48967de1-04fe-4767-d9c1-6b3c819a2cf8"
   },
   "outputs": [
    {
     "name": "stdout",
     "output_type": "stream",
     "text": [
      "20.25\n",
      "<class 'float'>\n"
     ]
    }
   ],
   "source": [
    "# предположим данные содержатся вот в таком формате\n",
    "data = \"20,25\"\n",
    "\n",
    "# теперь заменим ',' на '.'\n",
    "data = data.replace(\",\", \".\")\n",
    "\n",
    "# и преобразуем в число\n",
    "data_str = float(data)\n",
    "print(data_str)\n",
    "print(type(data_str))"
   ]
  },
  {
   "cell_type": "markdown",
   "metadata": {
    "id": "kBxByInXf3xv"
   },
   "source": [
    "### Логические значения"
   ]
  },
  {
   "cell_type": "code",
   "execution_count": null,
   "metadata": {
    "colab": {
     "base_uri": "https://localhost:8080/"
    },
    "id": "jnMQ3TTYfMDS",
    "outputId": "09c91c15-c4b8-4087-8348-2bd2d1658eb9"
   },
   "outputs": [
    {
     "data": {
      "text/plain": [
       "bool"
      ]
     },
     "execution_count": 23,
     "metadata": {},
     "output_type": "execute_result"
    }
   ],
   "source": [
    "# создадим переменную и запишем в нее логическое значение True\n",
    "# (обязательно с большой буквы)\n",
    "my_var = False\n",
    "type(my_var)"
   ]
  },
  {
   "cell_type": "code",
   "execution_count": null,
   "metadata": {
    "colab": {
     "base_uri": "https://localhost:8080/"
    },
    "id": "2faKLkNYfQWh",
    "outputId": "499e99c5-671d-45cc-ce3e-c9a9a91537a6"
   },
   "outputs": [
    {
     "name": "stdout",
     "output_type": "stream",
     "text": [
      "Значение переменной ложно\n"
     ]
    }
   ],
   "source": [
    "# напишем небольшую программу, которая будет показывать,\n",
    "# какое значение содержится в переменной var\n",
    "\n",
    "if my_var is True:\n",
    "    print(\"Значение переменной истинно\")\n",
    "else:\n",
    "    print(\"Значение переменной ложно\")"
   ]
  }
 ],
 "metadata": {
  "colab": {
   "provenance": [],
   "toc_visible": true
  },
  "kernelspec": {
   "display_name": "Python 3",
   "name": "python3"
  },
  "language_info": {
   "name": "python"
  }
 },
 "nbformat": 4,
 "nbformat_minor": 0
}
