{
 "cells": [
  {
   "cell_type": "code",
   "execution_count": null,
   "id": "863a352a",
   "metadata": {},
   "outputs": [],
   "source": [
    "\"\"\"Задания к главе 2.3 \"Циклы\" из хендбука Яндекс \"Основы Python\".\"\"\""
   ]
  },
  {
   "cell_type": "markdown",
   "id": "52663735",
   "metadata": {},
   "source": [
    "A"
   ]
  },
  {
   "cell_type": "code",
   "execution_count": null,
   "id": "020c0eea",
   "metadata": {},
   "outputs": [],
   "source": [
    "from typing import List\n",
    "\n",
    "while value := input() != \"Три!\":\n",
    "    print(\"Режим ожидания...\")\n",
    "\n",
    "print(\"Ёлочка, гори!\")"
   ]
  },
  {
   "cell_type": "markdown",
   "id": "9a7c198d",
   "metadata": {},
   "source": [
    "B"
   ]
  },
  {
   "cell_type": "code",
   "execution_count": null,
   "id": "dc34bc16",
   "metadata": {},
   "outputs": [],
   "source": [
    "counter = 0\n",
    "\n",
    "while (value_b := input()) != \"Приехали!\":\n",
    "    if \"зайка\" in value_b:\n",
    "        counter += 1\n",
    "\n",
    "print(counter)"
   ]
  },
  {
   "cell_type": "markdown",
   "id": "6688b968",
   "metadata": {},
   "source": [
    "C"
   ]
  },
  {
   "cell_type": "code",
   "execution_count": null,
   "id": "d6115c69",
   "metadata": {},
   "outputs": [],
   "source": [
    "start = int(input())\n",
    "finish = int(input())\n",
    "\n",
    "result = []\n",
    "\n",
    "for index in range(start, finish + 1):\n",
    "    result.append(index)\n",
    "\n",
    "\n",
    "print(\" \".join(map(str, result)))"
   ]
  },
  {
   "cell_type": "markdown",
   "id": "db1f0d7b",
   "metadata": {},
   "source": [
    "D"
   ]
  },
  {
   "cell_type": "code",
   "execution_count": null,
   "id": "018edb4e",
   "metadata": {},
   "outputs": [
    {
     "name": "stdout",
     "output_type": "stream",
     "text": [
      "95.0\n"
     ]
    }
   ],
   "source": [
    "start = int(input())\n",
    "finish = int(input())\n",
    "\n",
    "one = 1 if finish > start else -1\n",
    "\n",
    "for i in range(start, finish + one, one):\n",
    "    print(i, end=\" \")"
   ]
  },
  {
   "cell_type": "markdown",
   "id": "5b31b2d1",
   "metadata": {},
   "source": [
    "E"
   ]
  },
  {
   "cell_type": "code",
   "execution_count": null,
   "id": "090b27b8",
   "metadata": {},
   "outputs": [],
   "source": [
    "total = 0.0\n",
    "\n",
    "while (price := float(input())) != 0:\n",
    "    total += price * 0.9 if price >= 500 else price\n",
    "\n",
    "print(total)"
   ]
  },
  {
   "cell_type": "markdown",
   "id": "9f625dc1",
   "metadata": {},
   "source": [
    "F"
   ]
  },
  {
   "cell_type": "code",
   "execution_count": null,
   "id": "5c6ea8d8",
   "metadata": {},
   "outputs": [],
   "source": [
    "a_variable = int(input())\n",
    "b_variable = int(input())\n",
    "\n",
    "while b_variable:\n",
    "    a_variable, b_variable = b_variable, a_variable % b_variable\n",
    "\n",
    "print(a_variable)"
   ]
  },
  {
   "cell_type": "markdown",
   "id": "50954764",
   "metadata": {},
   "source": [
    "G"
   ]
  },
  {
   "cell_type": "code",
   "execution_count": null,
   "id": "b479afd6",
   "metadata": {},
   "outputs": [],
   "source": [
    "a_coef = int(input())\n",
    "b_coef = int(input())\n",
    "\n",
    "x_coef = a_coef\n",
    "y_coef = b_coef\n",
    "\n",
    "while y_coef:\n",
    "    x_coef, y_coef = y_coef, x_coef % y_coef\n",
    "\n",
    "print(int(a_coef * b_coef / x_coef))"
   ]
  },
  {
   "cell_type": "markdown",
   "id": "2b47c9f4",
   "metadata": {},
   "source": [
    "H"
   ]
  },
  {
   "cell_type": "code",
   "execution_count": null,
   "id": "bc032881",
   "metadata": {},
   "outputs": [],
   "source": [
    "text_h = input()\n",
    "num_h = int(input())\n",
    "\n",
    "for i in range(0, num_h, 1):\n",
    "    print(text_h)"
   ]
  },
  {
   "cell_type": "markdown",
   "id": "d9028306",
   "metadata": {},
   "source": [
    "I"
   ]
  },
  {
   "cell_type": "code",
   "execution_count": null,
   "id": "ecd002ff",
   "metadata": {},
   "outputs": [],
   "source": [
    "input_x = int(input())\n",
    "\n",
    "result_i = 1\n",
    "\n",
    "for i in range(1, input_x + 1):\n",
    "    result_i *= i\n",
    "\n",
    "print(result_i)"
   ]
  },
  {
   "cell_type": "markdown",
   "id": "942bcb6f",
   "metadata": {},
   "source": [
    "J"
   ]
  },
  {
   "cell_type": "code",
   "execution_count": null,
   "id": "24d58461",
   "metadata": {},
   "outputs": [],
   "source": [
    "x_coord = y_coord = 0\n",
    "\n",
    "while (direction := input()) != \"СТОП\":\n",
    "    num = int(input())\n",
    "\n",
    "    match direction:\n",
    "        case \"СЕВЕР\":\n",
    "            y_coord += num\n",
    "        case \"ЮГ\":\n",
    "            y_coord -= num\n",
    "        case \"ВОСТОК\":\n",
    "            x_coord += num\n",
    "        case \"ЗАПАД\":\n",
    "            x_coord -= num\n",
    "\n",
    "print(y_coord)\n",
    "print(x_coord)"
   ]
  },
  {
   "cell_type": "markdown",
   "id": "eb8f2ac3",
   "metadata": {},
   "source": [
    "K"
   ]
  },
  {
   "cell_type": "code",
   "execution_count": null,
   "id": "57e55079",
   "metadata": {},
   "outputs": [],
   "source": [
    "string = input()\n",
    "\n",
    "i = 0\n",
    "\n",
    "total_sum = 0\n",
    "\n",
    "while i < len(string):\n",
    "    total_sum += int(string[i])\n",
    "    i += 1\n",
    "\n",
    "print(total_sum)"
   ]
  },
  {
   "cell_type": "markdown",
   "id": "e3a265ac",
   "metadata": {},
   "source": [
    "L"
   ]
  },
  {
   "cell_type": "code",
   "execution_count": null,
   "id": "66aebe14",
   "metadata": {},
   "outputs": [],
   "source": [
    "string = input()\n",
    "\n",
    "res = 0\n",
    "\n",
    "for digit in string:\n",
    "    res = max(res, int(digit)) if res is not None else int(digit)\n",
    "\n",
    "print(res)"
   ]
  },
  {
   "cell_type": "markdown",
   "id": "e87348a8",
   "metadata": {},
   "source": [
    "M"
   ]
  },
  {
   "cell_type": "code",
   "execution_count": null,
   "id": "b33b32b4",
   "metadata": {},
   "outputs": [],
   "source": [
    "num = int(input())\n",
    "\n",
    "names = [input() for _ in range(0, num)]\n",
    "\n",
    "result_m = names[0]\n",
    "\n",
    "for name in names[1::]:\n",
    "    result_m = name if name < result_m else result_m\n",
    "\n",
    "print(result_m)"
   ]
  },
  {
   "cell_type": "markdown",
   "id": "4634b00e",
   "metadata": {},
   "source": [
    "N"
   ]
  },
  {
   "cell_type": "code",
   "execution_count": null,
   "id": "7a5e96b1",
   "metadata": {},
   "outputs": [],
   "source": [
    "num = int(input())\n",
    "\n",
    "if num < 2:\n",
    "    print(\"NO\")\n",
    "else:\n",
    "    for i in range(2, round(num / 2) + 1):\n",
    "        if num % i == 0:\n",
    "            print(\"NO\")\n",
    "            break\n",
    "    else:\n",
    "        print(\"YES\")"
   ]
  },
  {
   "cell_type": "markdown",
   "id": "dfb2012e",
   "metadata": {},
   "source": [
    "O"
   ]
  },
  {
   "cell_type": "code",
   "execution_count": null,
   "id": "09758100",
   "metadata": {},
   "outputs": [],
   "source": [
    "num = int(input())\n",
    "\n",
    "my_list = [input() for _ in range(num)]\n",
    "\n",
    "print(len(list(filter(lambda string: \"зайка\" in string, my_list))))"
   ]
  },
  {
   "cell_type": "markdown",
   "id": "fe4b7049",
   "metadata": {},
   "source": [
    "P"
   ]
  },
  {
   "cell_type": "code",
   "execution_count": null,
   "id": "28908b74",
   "metadata": {},
   "outputs": [],
   "source": [
    "num_p = input()\n",
    "\n",
    "left_p = 0\n",
    "right_p = len(num_p) - 1\n",
    "\n",
    "while left_p < right_p:\n",
    "    if num_p[left_p] != num_p[right_p]:\n",
    "        print(\"NO\")\n",
    "\n",
    "        break\n",
    "    left_p += 1\n",
    "    right_p -= 1\n",
    "else:\n",
    "    print(\"YES\")"
   ]
  },
  {
   "cell_type": "markdown",
   "id": "0219bb20",
   "metadata": {},
   "source": [
    "Q"
   ]
  },
  {
   "cell_type": "code",
   "execution_count": null,
   "id": "15948e37",
   "metadata": {},
   "outputs": [],
   "source": [
    "num_q = input()\n",
    "\n",
    "print(\"\".join(filter(lambda digit: int(digit) % 2 != 0, num_q)))"
   ]
  },
  {
   "cell_type": "markdown",
   "id": "984fcee7",
   "metadata": {},
   "source": [
    "R"
   ]
  },
  {
   "cell_type": "code",
   "execution_count": null,
   "id": "9a58a58b",
   "metadata": {},
   "outputs": [],
   "source": [
    "num = int(input())\n",
    "\n",
    "rest = num\n",
    "\n",
    "result_int: List[int] = []\n",
    "\n",
    "divider = 1\n",
    "\n",
    "while rest > 1:\n",
    "    divider += 1\n",
    "\n",
    "    if rest % divider != 0:\n",
    "        continue\n",
    "\n",
    "    result_int.append(divider)\n",
    "\n",
    "    rest //= divider\n",
    "\n",
    "    divider -= 1\n",
    "\n",
    "result_str = \" * \".join(map(str, result_int))\n",
    "\n",
    "print(result_str if num > 1 else num)"
   ]
  },
  {
   "cell_type": "markdown",
   "id": "ab65767b",
   "metadata": {},
   "source": [
    "S"
   ]
  },
  {
   "cell_type": "code",
   "execution_count": null,
   "id": "82ab0eb5",
   "metadata": {},
   "outputs": [],
   "source": [
    "left = 1\n",
    "right = 1001\n",
    "\n",
    "print((left + right) // 2)\n",
    "\n",
    "while (response := input()) != \"Угадал!\":\n",
    "    if response == \"Больше\":\n",
    "        left = (left + right) // 2 + 1\n",
    "    else:\n",
    "        right = (left + right) // 2 - 1\n",
    "\n",
    "    print((left + right) // 2)"
   ]
  },
  {
   "cell_type": "markdown",
   "id": "61f9f74e",
   "metadata": {},
   "source": [
    "T"
   ]
  },
  {
   "cell_type": "code",
   "execution_count": null,
   "id": "07c79c6b",
   "metadata": {},
   "outputs": [],
   "source": []
  }
 ],
 "metadata": {
  "kernelspec": {
   "display_name": "base",
   "language": "python",
   "name": "python3"
  },
  "language_info": {
   "codemirror_mode": {
    "name": "ipython",
    "version": 3
   },
   "file_extension": ".py",
   "mimetype": "text/x-python",
   "name": "python",
   "nbconvert_exporter": "python",
   "pygments_lexer": "ipython3",
   "version": "3.12.7"
  }
 },
 "nbformat": 4,
 "nbformat_minor": 5
}
