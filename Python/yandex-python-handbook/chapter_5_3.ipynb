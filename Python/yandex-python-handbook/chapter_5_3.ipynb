{
 "cells": [
  {
   "cell_type": "code",
   "execution_count": null,
   "id": "144d3bac",
   "metadata": {},
   "outputs": [],
   "source": [
    "\"\"\"\n",
    "Задания к главе 5.3.\n",
    "\n",
    "Модель исключений Python. Try, except, else, finally. Модули\n",
    "\n",
    "Хендбук Яндекс \"Основы Python\".\n",
    "\"\"\""
   ]
  },
  {
   "cell_type": "markdown",
   "id": "d9028306",
   "metadata": {},
   "source": [
    "A"
   ]
  },
  {
   "cell_type": "code",
   "execution_count": null,
   "id": "ecd002ff",
   "metadata": {},
   "outputs": [],
   "source": [
    "from hashlib import sha256\n",
    "from re import fullmatch\n",
    "from typing import Any, Callable\n",
    "\n",
    "\n",
    "def func(*args: Any) -> None:  # type: ignore\n",
    "    \"\"\"Функция-заглушка.\"\"\"\n",
    "    print(args)\n",
    "\n",
    "\n",
    "try:\n",
    "    func()\n",
    "except ValueError:\n",
    "    print(ValueError.__name__)\n",
    "except TypeError:\n",
    "    print(TypeError.__name__)\n",
    "except SystemError:\n",
    "    print(SystemError.__name__)\n",
    "else:\n",
    "    print(\"No Exceptions\")"
   ]
  },
  {
   "cell_type": "markdown",
   "id": "942bcb6f",
   "metadata": {},
   "source": [
    "B"
   ]
  },
  {
   "cell_type": "code",
   "execution_count": null,
   "id": "24d58461",
   "metadata": {},
   "outputs": [],
   "source": [
    "# Предложите вызов функции, который гарантированно породит ошибку внутри функции.\n",
    "func(1, None)"
   ]
  },
  {
   "cell_type": "markdown",
   "id": "c44ac8ab",
   "metadata": {},
   "source": [
    "C"
   ]
  },
  {
   "cell_type": "code",
   "execution_count": null,
   "id": "e8006a6c",
   "metadata": {},
   "outputs": [],
   "source": [
    "class EmptyClass:\n",
    "    \"\"\"Класс-заглушка.\n",
    "\n",
    "    Генерирует ошибку при попытке приведения к строке\n",
    "    \"\"\"\n",
    "\n",
    "    def __repr__(self) -> str:\n",
    "        \"\"\"\n",
    "        Возвращает строковое представление объекта.\n",
    "\n",
    "        Raises:\n",
    "            TypeError: Всегда вызывается, чтобы сигнализировать, что метод\n",
    "            не реализован в текущем классе.\n",
    "        \"\"\"\n",
    "        raise TypeError()\n",
    "\n",
    "\n",
    "obj = EmptyClass()\n",
    "func(obj)"
   ]
  },
  {
   "cell_type": "markdown",
   "id": "bd2004d4",
   "metadata": {},
   "source": [
    "D"
   ]
  },
  {
   "cell_type": "code",
   "execution_count": null,
   "id": "1287244b",
   "metadata": {},
   "outputs": [],
   "source": [
    "def only_positive_even_sum(num1: int, num2: int) -> int:\n",
    "    \"\"\"Функция возвращает сумму двух переданных аргументов.\n",
    "\n",
    "    Ожидает целые положительные четные числа.\n",
    "\n",
    "    Args:\n",
    "        num1 (int): Целое число.\n",
    "        num2 (int): Целое число.\n",
    "\n",
    "    Returns:\n",
    "        int: Сумма аргументов.\n",
    "\n",
    "    Raises:\n",
    "        TypeError: Если один из параметров не является целым числом.\n",
    "        ValueError: Если один из параметров не является положительным\n",
    "        чётным числом.\n",
    "    \"\"\"\n",
    "    args = [num1, num2]\n",
    "\n",
    "    if any(not isinstance(arg, int) for arg in args):\n",
    "        raise TypeError()\n",
    "\n",
    "    if any(arg % 2 == 1 or arg <= 0 for arg in args):\n",
    "        raise ValueError()\n",
    "\n",
    "    return num1 + num2"
   ]
  },
  {
   "cell_type": "markdown",
   "id": "a14327ea",
   "metadata": {},
   "source": [
    "E"
   ]
  },
  {
   "cell_type": "code",
   "execution_count": null,
   "id": "246e3cd1",
   "metadata": {},
   "outputs": [],
   "source": [
    "def merge(tuple1: tuple[int, ...], tuple2: tuple[int, ...]) -> tuple[int, ...]:\n",
    "    \"\"\"Объединяет два отсортированных кортежа в один отсортированный.\n",
    "\n",
    "    Args:\n",
    "        tuple1 (tuple[int, ...]): Первый кортеж отсортированных чисел.\n",
    "        tuple1 (tuple[int, ...]): Второй кортеж отсортированных чисел.\n",
    "\n",
    "    Returns:\n",
    "        tuple[int, ...]: Отсортированный по возрастанию Кортеж целых чисел,\n",
    "        содержащий все числа из первого и второго кортежа\n",
    "\n",
    "    Raises:\n",
    "        StopIteration: Если один из параметров не является итерируемым\n",
    "        объектом.\n",
    "        TypeError: Если значения входных параметров содержат «неоднородные»\n",
    "        данные.\n",
    "        ValueError: Если один из параметров не отсортирован.\n",
    "    \"\"\"\n",
    "    args = [tuple1, tuple2]\n",
    "    if any(not hasattr(arg, \"__iter__\") for arg in args):\n",
    "        raise StopIteration()\n",
    "\n",
    "    if any(sorted(arg) != list(arg) for arg in args):\n",
    "        raise ValueError()\n",
    "\n",
    "    list1 = list(tuple1)\n",
    "    list2 = list(tuple2)\n",
    "\n",
    "    result: list[int] = []\n",
    "\n",
    "    while list1 and list2:\n",
    "        if list1[0] < list2[0]:\n",
    "            result.append(list1.pop(0))\n",
    "        else:\n",
    "            result.append(list2.pop(0))\n",
    "\n",
    "    result.extend(list1)\n",
    "    result.extend(list2)\n",
    "\n",
    "    expected_type = type(result[0])\n",
    "    if any(not isinstance(item, expected_type) for item in result):\n",
    "        raise TypeError()\n",
    "\n",
    "    return tuple(result)"
   ]
  },
  {
   "cell_type": "markdown",
   "id": "2df858d8",
   "metadata": {},
   "source": [
    "F"
   ]
  },
  {
   "cell_type": "code",
   "execution_count": null,
   "id": "d71637b0",
   "metadata": {},
   "outputs": [],
   "source": [
    "class NoSolutionsError(Exception):\n",
    "    \"\"\"Ошибка отсутствия корней квадратного уравнения.\"\"\"\n",
    "\n",
    "\n",
    "class InfiniteSolutionsError(Exception):\n",
    "    \"\"\"Ошибка: бесконечное количество корней квадратного уравнения.\"\"\"\n",
    "\n",
    "\n",
    "def find_roots(\n",
    "    a_coef: float | int,\n",
    "    b_coef: float | int,\n",
    "    c_coef: float | int,\n",
    ") -> tuple[float, ...]:\n",
    "    \"\"\"Функция для поиска корней квадратного уравнения.\n",
    "\n",
    "    Принимает коэффициенты квадратного уравнения.\n",
    "\n",
    "    Args:\n",
    "        a_coef (float | int): коэффициент a.\n",
    "        b_coef (float | int): коэффициент b.\n",
    "        c_coef (float | int): коэффициент c.\n",
    "\n",
    "    Raises:\n",
    "        TypeError: Если переданные коэффициенты не являются рациональными\n",
    "        числами.\n",
    "        InfiniteSolutionsError: Бесконечное количества решений.\n",
    "        NoSolutionsError: Отсутствие решений.\n",
    "\n",
    "    Returns:\n",
    "        tuple[float, ...]: Отсортированный кортеж корней квадратного уравнения.\n",
    "    \"\"\"\n",
    "    args = [a_coef, b_coef, c_coef]\n",
    "    if not all(type(arg) in (int, float) for arg in args):\n",
    "        raise TypeError()\n",
    "\n",
    "    if a_coef == b_coef == c_coef == 0:\n",
    "        raise InfiniteSolutionsError()\n",
    "\n",
    "    if a_coef == 0 and b_coef != 0 and c_coef != 0:\n",
    "        root = -c_coef / b_coef\n",
    "\n",
    "        return (root, root)\n",
    "\n",
    "    discriminant = b_coef**2 - 4 * a_coef * c_coef\n",
    "\n",
    "    if discriminant < 0 or a_coef == b_coef == 0:\n",
    "        raise NoSolutionsError()\n",
    "\n",
    "    if discriminant == 0:\n",
    "        root = -b_coef / (2 * a_coef)\n",
    "\n",
    "        return (root, root)\n",
    "\n",
    "    result1 = (-b_coef + discriminant**0.5) / (2 * a_coef)\n",
    "    result2 = (-b_coef - discriminant**0.5) / (2 * a_coef)\n",
    "\n",
    "    min_result = min(result1, result2)\n",
    "    max_result = max(result1, result2)\n",
    "\n",
    "    return (min_result, max_result)"
   ]
  },
  {
   "cell_type": "markdown",
   "id": "719a93df",
   "metadata": {},
   "source": [
    "G"
   ]
  },
  {
   "cell_type": "code",
   "execution_count": null,
   "id": "cca8ef95",
   "metadata": {},
   "outputs": [],
   "source": [
    "class CyrillicError(Exception):\n",
    "    \"\"\"Ошибка: если строка состоит не только из кириллицы.\"\"\"\n",
    "\n",
    "\n",
    "class CapitalError(Exception):\n",
    "    \"\"\"Ошибка: заглавной буквы.\n",
    "\n",
    "    Если значение не начинается с заглавной буквы или найдена заглавная буква\n",
    "    не в начале значения.\n",
    "    \"\"\"\n",
    "\n",
    "\n",
    "def name_validation(value: str) -> str:\n",
    "    \"\"\"Функция валидации имени пользователя.\"\"\"\n",
    "    if not isinstance(value, str):\n",
    "        raise TypeError\n",
    "\n",
    "    if not fullmatch(r\"[а-яА-ЯёЁ]+\", value):\n",
    "        raise CyrillicError\n",
    "\n",
    "    if not value[0].isupper() or any(char.isupper() for char in value[1::]):\n",
    "        raise CapitalError\n",
    "\n",
    "    return value"
   ]
  },
  {
   "cell_type": "markdown",
   "id": "3317df58",
   "metadata": {},
   "source": [
    "H"
   ]
  },
  {
   "cell_type": "code",
   "execution_count": null,
   "id": "cb48aa02",
   "metadata": {},
   "outputs": [],
   "source": [
    "class BadCharacterError(Exception):\n",
    "    \"\"\"Ошибка: неправильный символ.\n",
    "\n",
    "    Если значение состоит не только из латинских букв, цифр и символа нижнего\n",
    "    подчёркивания.\n",
    "    \"\"\"\n",
    "\n",
    "\n",
    "class StartsWithDigitError(Exception):\n",
    "    \"\"\"Ошибка: если значение начинается с цифры.\"\"\"\n",
    "\n",
    "\n",
    "def username_validation(value: str) -> str:\n",
    "    \"\"\"Функция валидации имени пользователя.\"\"\"\n",
    "    if not isinstance(value, str):\n",
    "        raise TypeError\n",
    "\n",
    "    if not fullmatch(r\"[a-zA-Z0-9_]+$\", value):\n",
    "        raise BadCharacterError\n",
    "\n",
    "    if value[0].isdigit():\n",
    "        raise StartsWithDigitError\n",
    "\n",
    "    return value"
   ]
  },
  {
   "cell_type": "markdown",
   "id": "44a2f213",
   "metadata": {},
   "source": [
    "I"
   ]
  },
  {
   "cell_type": "code",
   "execution_count": null,
   "id": "342d1f05",
   "metadata": {},
   "outputs": [],
   "source": [
    "valid_keys = [\"last_name\", \"first_name\", \"username\"]\n",
    "\n",
    "\n",
    "def user_validation(**kwargs: str) -> object:\n",
    "    \"\"\"Функция валидации данных пользователя.\"\"\"\n",
    "    if sorted(valid_keys) != sorted(kwargs.keys()):\n",
    "        raise KeyError\n",
    "\n",
    "    if not all(kwargs.values()):\n",
    "        raise KeyError\n",
    "\n",
    "    name_validation(kwargs[\"last_name\"])\n",
    "    name_validation(kwargs[\"first_name\"])\n",
    "    username_validation(kwargs[\"username\"])\n",
    "\n",
    "    return kwargs"
   ]
  },
  {
   "cell_type": "markdown",
   "id": "2574d9c7",
   "metadata": {},
   "source": [
    "J"
   ]
  },
  {
   "cell_type": "code",
   "execution_count": null,
   "id": "87e43170",
   "metadata": {},
   "outputs": [],
   "source": [
    "class MinLengthError(Exception):\n",
    "    \"\"\"Ошибка: если пароль меньше заданной длины.\"\"\"\n",
    "\n",
    "\n",
    "class PossibleCharError(Exception):\n",
    "    \"\"\"Ошибка: в пароле используется недопустимый символ.\"\"\"\n",
    "\n",
    "\n",
    "class NeedCharError(Exception):\n",
    "    \"\"\"Ошибка: в пароле не найдено ни одного обязательного символа.\"\"\"\n",
    "\n",
    "\n",
    "default_valid_chars = \"abcdefzhiklmnopqrstvxABCDEFZHIKLMNOPQRSTVX0123456789\"\n",
    "\n",
    "\n",
    "def password_validation(\n",
    "    password: str,\n",
    "    min_length: int = 8,\n",
    "    possible_chars: str = default_valid_chars,\n",
    "    at_least_one: Callable[[str], bool] = str.isdigit,\n",
    ") -> str:\n",
    "    \"\"\"Функция валидации пароля пользователя.\"\"\"\n",
    "    if not isinstance(password, str):\n",
    "        raise TypeError\n",
    "\n",
    "    if len(password) < min_length:\n",
    "        raise MinLengthError\n",
    "\n",
    "    if any(char not in possible_chars for char in password):\n",
    "        raise PossibleCharError\n",
    "\n",
    "    if all(not at_least_one(char) for char in password):\n",
    "        raise NeedCharError\n",
    "\n",
    "    hash_object = sha256()\n",
    "    hash_object.update(password.encode())\n",
    "    hex_hash = hash_object.hexdigest()\n",
    "\n",
    "    return hex_hash\n",
    "\n",
    "\n",
    "print(password_validation(\"Hello12345\"))"
   ]
  }
 ],
 "metadata": {
  "kernelspec": {
   "display_name": "base",
   "language": "python",
   "name": "python3"
  },
  "language_info": {
   "codemirror_mode": {
    "name": "ipython",
    "version": 3
   },
   "file_extension": ".py",
   "mimetype": "text/x-python",
   "name": "python",
   "nbconvert_exporter": "python",
   "pygments_lexer": "ipython3",
   "version": "3.12.7"
  }
 },
 "nbformat": 4,
 "nbformat_minor": 5
}
