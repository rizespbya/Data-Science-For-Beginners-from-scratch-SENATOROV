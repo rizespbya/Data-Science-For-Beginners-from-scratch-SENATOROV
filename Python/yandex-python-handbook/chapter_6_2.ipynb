{
 "cells": [
  {
   "cell_type": "code",
   "execution_count": null,
   "id": "144d3bac",
   "metadata": {},
   "outputs": [],
   "source": [
    "\"\"\"\n",
    "Задания к главе 6.2.\n",
    "\n",
    "Модуль pandas\n",
    "\n",
    "Хендбук Яндекс \"Основы Python\".\n",
    "\"\"\""
   ]
  },
  {
   "cell_type": "markdown",
   "id": "d9028306",
   "metadata": {},
   "source": [
    "A"
   ]
  },
  {
   "cell_type": "code",
   "execution_count": null,
   "id": "ecd002ff",
   "metadata": {},
   "outputs": [],
   "source": [
    "from typing import Callable\n",
    "\n",
    "import numpy as np\n",
    "import pandas as pd\n",
    "\n",
    "\n",
    "def length_stats_a(text: str) -> pd.Series:  # type: ignore\n",
    "    \"\"\"Функция преобразует текст в Series с длинами слов.\"\"\"\n",
    "    words = \"\".join(char for char in text if char.isalpha() or char.isspace())\n",
    "\n",
    "    sorted_words = sorted(set(words.lower().split()))\n",
    "\n",
    "    return pd.Series((len(word) for word in sorted_words), index=sorted_words)"
   ]
  },
  {
   "cell_type": "markdown",
   "id": "942bcb6f",
   "metadata": {},
   "source": [
    "B"
   ]
  },
  {
   "cell_type": "code",
   "execution_count": null,
   "id": "24d58461",
   "metadata": {},
   "outputs": [],
   "source": [
    "def length_stats_b(text: str) -> tuple[pd.Series, pd.Series]:  # type: ignore\n",
    "    \"\"\"Функция преобразует текст в Series с длинами слов.\n",
    "\n",
    "    Возвращает два объекта: с четными и нечетными длинами слов.\n",
    "    \"\"\"\n",
    "    words = \"\".join(char for char in text if char.isalpha() or char.isspace())\n",
    "\n",
    "    sorted_words = sorted(set(words.lower().split()))\n",
    "\n",
    "    even: dict[str, int] = {}\n",
    "    odd: dict[str, int] = {}\n",
    "\n",
    "    for word in sorted_words:\n",
    "        length = len(word)\n",
    "\n",
    "        if length % 2 == 0:\n",
    "            even[word] = length\n",
    "        else:\n",
    "            odd[word] = length\n",
    "\n",
    "    return (pd.Series(odd, dtype=\"int64\"), pd.Series(even, dtype=\"int64\"))"
   ]
  },
  {
   "cell_type": "markdown",
   "id": "c44ac8ab",
   "metadata": {},
   "source": [
    "C"
   ]
  },
  {
   "cell_type": "code",
   "execution_count": null,
   "id": "e8006a6c",
   "metadata": {},
   "outputs": [],
   "source": [
    "# mypy: ignore-errors\n",
    "\n",
    "\n",
    "def cheque(price_list: pd.Series, **kwargs: int) -> pd.DataFrame:\n",
    "    \"\"\"Формирует DataFrame с данными о продуктах.\"\"\"\n",
    "    products: list[str] = sorted(name for name in kwargs)\n",
    "    prices: list[int] = [price_list[name].item() for name in products]\n",
    "    numbers: list[int] = [kwargs[name] for name in products]\n",
    "    costs: list[int] = [\n",
    "        prices[index] * numbers[index] for index in range(len(products))\n",
    "    ]\n",
    "\n",
    "    return pd.DataFrame(\n",
    "        {\n",
    "            \"product\": products,\n",
    "            \"price\": prices,\n",
    "            \"number\": numbers,\n",
    "            \"cost\": costs,\n",
    "        }\n",
    "    )"
   ]
  },
  {
   "cell_type": "markdown",
   "id": "bd2004d4",
   "metadata": {},
   "source": [
    "D"
   ]
  },
  {
   "cell_type": "code",
   "execution_count": null,
   "id": "1287244b",
   "metadata": {},
   "outputs": [],
   "source": [
    "def discount(products: pd.DataFrame) -> pd.DataFrame:\n",
    "    \"\"\"Применяет скидку, если товаров больше двух.\"\"\"\n",
    "    copy = products.copy()\n",
    "\n",
    "    mask = copy[\"number\"] > 2\n",
    "    copy.loc[mask, \"cost\"] = copy.loc[mask, \"cost\"] / 2\n",
    "\n",
    "    return copy"
   ]
  },
  {
   "cell_type": "markdown",
   "id": "a14327ea",
   "metadata": {},
   "source": [
    "E"
   ]
  },
  {
   "cell_type": "code",
   "execution_count": null,
   "id": "246e3cd1",
   "metadata": {},
   "outputs": [],
   "source": [
    "# fmt: off\n",
    "def get_long(\n",
    "    words: pd.Series,  # type: ignore\n",
    "    min_length: int = 5\n",
    ") -> pd.Series:  # type: ignore\n",
    "    \"\"\"Возвращает Series со словами не короче min_length.\"\"\"\n",
    "    return words[words >= min_length]\n",
    "# fmt: on"
   ]
  },
  {
   "cell_type": "markdown",
   "id": "2df858d8",
   "metadata": {},
   "source": [
    "F"
   ]
  },
  {
   "cell_type": "code",
   "execution_count": null,
   "id": "d71637b0",
   "metadata": {},
   "outputs": [],
   "source": [
    "def best(journal: pd.DataFrame) -> pd.DataFrame:\n",
    "    \"\"\"Функция отфильтровывает ударников из переданного DataFrame.\"\"\"\n",
    "    columns = [\"maths\", \"physics\", \"computer science\"]\n",
    "\n",
    "    mask = (journal[columns] > 3).all(axis=1)\n",
    "    return journal[mask]"
   ]
  },
  {
   "cell_type": "markdown",
   "id": "719a93df",
   "metadata": {},
   "source": [
    "G"
   ]
  },
  {
   "cell_type": "code",
   "execution_count": null,
   "id": "cca8ef95",
   "metadata": {},
   "outputs": [],
   "source": [
    "def need_to_work_better(journal: pd.DataFrame) -> pd.DataFrame:\n",
    "    \"\"\"Функция отфильтровывает тех, у кого есть 2.\"\"\"\n",
    "    columns = [\"maths\", \"physics\", \"computer science\"]\n",
    "\n",
    "    mask = (journal[columns] == 2).any(axis=1)\n",
    "    return journal.loc[mask]"
   ]
  },
  {
   "cell_type": "markdown",
   "id": "3317df58",
   "metadata": {},
   "source": [
    "H"
   ]
  },
  {
   "cell_type": "code",
   "execution_count": null,
   "id": "cb48aa02",
   "metadata": {},
   "outputs": [],
   "source": [
    "def update(journal: pd.DataFrame) -> pd.DataFrame:\n",
    "    \"\"\"Считает средний балл и сортирует студентов.\"\"\"\n",
    "    columns = [\"maths\", \"physics\", \"computer science\"]\n",
    "\n",
    "    copy = journal.copy()\n",
    "\n",
    "    copy[\"average\"] = copy[columns].mean(axis=1)\n",
    "\n",
    "    return copy.sort_values([\"average\", \"name\"], ascending=(False, True))"
   ]
  },
  {
   "cell_type": "markdown",
   "id": "44a2f213",
   "metadata": {},
   "source": [
    "I"
   ]
  },
  {
   "cell_type": "code",
   "execution_count": null,
   "id": "342d1f05",
   "metadata": {},
   "outputs": [],
   "source": [
    "x1, y1 = map(int, input().split())\n",
    "x2, y2 = map(int, input().split())\n",
    "\n",
    "max_x = x2\n",
    "max_y = y1\n",
    "min_x = x1\n",
    "min_y = y2\n",
    "\n",
    "shots = pd.read_csv(\"data.csv\")\n",
    "\n",
    "filtered = shots[\n",
    "    all(\n",
    "        [\n",
    "            (shots[\"x\"] <= max_x),\n",
    "            (shots[\"x\"] >= min_x),\n",
    "            (shots[\"y\"] <= max_y),\n",
    "            (shots[\"y\"] >= min_y),\n",
    "        ]\n",
    "    )\n",
    "]\n",
    "\n",
    "print(filtered)"
   ]
  },
  {
   "cell_type": "markdown",
   "id": "2574d9c7",
   "metadata": {},
   "source": [
    "J"
   ]
  },
  {
   "cell_type": "code",
   "execution_count": null,
   "id": "87e43170",
   "metadata": {},
   "outputs": [],
   "source": [
    "def values(\n",
    "    func: Callable[[float], float],\n",
    "    start: float,\n",
    "    end: float,\n",
    "    step: float,\n",
    ") -> pd.Series:  # type: ignore\n",
    "    \"\"\"Возвращает Series значений функции в точках диапазона.\"\"\"\n",
    "    indexes = np.arange(start, end + step, step)\n",
    "\n",
    "    stpes = (func(index) for index in indexes)\n",
    "\n",
    "    return pd.Series(stpes, indexes)\n",
    "\n",
    "\n",
    "def min_extremum(data: pd.Series) -> float:  # type: ignore\n",
    "    \"\"\"Возвращает минимум из Series.\"\"\"\n",
    "    return float(data.idxmin())\n",
    "\n",
    "\n",
    "def max_extremum(data: pd.Series) -> float:  # type: ignore\n",
    "    \"\"\"Возвращает максимум из Series.\"\"\"\n",
    "    return data[data == data.max()].index.max()"
   ]
  }
 ],
 "metadata": {
  "kernelspec": {
   "display_name": "base",
   "language": "python",
   "name": "python3"
  },
  "language_info": {
   "codemirror_mode": {
    "name": "ipython",
    "version": 3
   },
   "file_extension": ".py",
   "mimetype": "text/x-python",
   "name": "python",
   "nbconvert_exporter": "python",
   "pygments_lexer": "ipython3",
   "version": "3.12.7"
  }
 },
 "nbformat": 4,
 "nbformat_minor": 5
}
