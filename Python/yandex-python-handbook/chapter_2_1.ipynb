{
 "cells": [
  {
   "cell_type": "code",
   "execution_count": null,
   "id": "144d3bac",
   "metadata": {},
   "outputs": [],
   "source": [
    "\"\"\"\n",
    "Задания к главе 2.1 Ввод и вывод данных.\n",
    "\n",
    "Операции с числами, строками.\n",
    "Форматирование. из хендбука Яндекс Основы Python.\n",
    "\"\"\""
   ]
  },
  {
   "cell_type": "markdown",
   "id": "52663735",
   "metadata": {},
   "source": [
    "A"
   ]
  },
  {
   "cell_type": "code",
   "execution_count": null,
   "id": "020c0eea",
   "metadata": {},
   "outputs": [],
   "source": [
    "print(\"Привет, Яндекс!\")"
   ]
  },
  {
   "cell_type": "markdown",
   "id": "9a7c198d",
   "metadata": {},
   "source": [
    "B"
   ]
  },
  {
   "cell_type": "code",
   "execution_count": null,
   "id": "dc34bc16",
   "metadata": {},
   "outputs": [],
   "source": [
    "name = input(\"Как Вас зовут?\")\n",
    "print(f\"Привет, {name}\")"
   ]
  },
  {
   "cell_type": "markdown",
   "id": "6688b968",
   "metadata": {},
   "source": [
    "C"
   ]
  },
  {
   "cell_type": "code",
   "execution_count": null,
   "id": "d6115c69",
   "metadata": {},
   "outputs": [],
   "source": [
    "string = input()\n",
    "for _ in range(3):\n",
    "    print(string)"
   ]
  },
  {
   "cell_type": "markdown",
   "id": "db1f0d7b",
   "metadata": {},
   "source": [
    "D"
   ]
  },
  {
   "cell_type": "code",
   "execution_count": null,
   "id": "018edb4e",
   "metadata": {},
   "outputs": [],
   "source": [
    "money = int(input())\n",
    "\n",
    "price = 38 * 5 // 2\n",
    "\n",
    "rest = money - price\n",
    "\n",
    "print(rest)"
   ]
  },
  {
   "cell_type": "markdown",
   "id": "5b31b2d1",
   "metadata": {},
   "source": [
    "E"
   ]
  },
  {
   "cell_type": "code",
   "execution_count": null,
   "id": "090b27b8",
   "metadata": {},
   "outputs": [],
   "source": [
    "price = int(input())\n",
    "weight = int(input())\n",
    "money = int(input())\n",
    "\n",
    "print(money - price * weight)"
   ]
  },
  {
   "cell_type": "markdown",
   "id": "9f625dc1",
   "metadata": {},
   "source": [
    "F"
   ]
  },
  {
   "cell_type": "code",
   "execution_count": null,
   "id": "5c6ea8d8",
   "metadata": {},
   "outputs": [],
   "source": [
    "title = input()\n",
    "price = int(input())\n",
    "weight = int(input())\n",
    "money = int(input())\n",
    "\n",
    "total_price = price * weight\n",
    "rest = money - total_price\n",
    "\n",
    "print(\"Чек\")\n",
    "print(f\"{title} - {weight}кг - {price}руб/кг\")\n",
    "print(f\"Итого: {total_price}руб\")\n",
    "print(f\"Внесено: {money}руб\")\n",
    "print(f\"Сдача: {rest}руб\")"
   ]
  },
  {
   "cell_type": "markdown",
   "id": "50954764",
   "metadata": {},
   "source": [
    "G"
   ]
  },
  {
   "cell_type": "code",
   "execution_count": null,
   "id": "b479afd6",
   "metadata": {},
   "outputs": [],
   "source": [
    "num = int(input())\n",
    "\n",
    "for _ in range(num):\n",
    "    print(\"Купи слона!\")"
   ]
  },
  {
   "cell_type": "markdown",
   "id": "2b47c9f4",
   "metadata": {},
   "source": [
    "H"
   ]
  },
  {
   "cell_type": "code",
   "execution_count": null,
   "id": "bc032881",
   "metadata": {},
   "outputs": [],
   "source": [
    "num = int(input())\n",
    "\n",
    "title = input()\n",
    "\n",
    "for _ in range(num):\n",
    "    print(f'Я больше никогда не буду писать \"{title}\"!')"
   ]
  },
  {
   "cell_type": "markdown",
   "id": "d9028306",
   "metadata": {},
   "source": [
    "I"
   ]
  },
  {
   "cell_type": "code",
   "execution_count": null,
   "id": "ecd002ff",
   "metadata": {},
   "outputs": [],
   "source": [
    "children = int(input())\n",
    "minutes = int(input())\n",
    "\n",
    "child_eat_per_minute = 2 / 2 / 2\n",
    "\n",
    "result = int(children * minutes * child_eat_per_minute)\n",
    "print(result)"
   ]
  },
  {
   "cell_type": "markdown",
   "id": "942bcb6f",
   "metadata": {},
   "source": [
    "J"
   ]
  },
  {
   "cell_type": "code",
   "execution_count": null,
   "id": "24d58461",
   "metadata": {},
   "outputs": [],
   "source": [
    "name = input()\n",
    "locker_number = int(input())\n",
    "\n",
    "group_number = locker_number // 100\n",
    "child_number = locker_number % 10\n",
    "bed_number = (locker_number // 10) % 10\n",
    "\n",
    "\n",
    "print(\"Группа №{group_number}.\")\n",
    "print(\"{child_number}. {name}.\")\n",
    "print(\"Шкафчик: {locker_number}.\")\n",
    "print(\"Кроватка: {bed_number}.\")"
   ]
  },
  {
   "cell_type": "markdown",
   "id": "eb8f2ac3",
   "metadata": {},
   "source": [
    "K"
   ]
  },
  {
   "cell_type": "code",
   "execution_count": null,
   "id": "57e55079",
   "metadata": {},
   "outputs": [],
   "source": [
    "number = int(input())\n",
    "\n",
    "first = number // 1000\n",
    "second = (number // 100) % 10\n",
    "third = (number // 10) % 10\n",
    "fourth = number % 10\n",
    "\n",
    "result = second * 1000 + first * 100 + fourth * 10 + third\n",
    "\n",
    "print(result)"
   ]
  },
  {
   "cell_type": "markdown",
   "id": "e3a265ac",
   "metadata": {},
   "source": [
    "L"
   ]
  },
  {
   "cell_type": "code",
   "execution_count": null,
   "id": "66aebe14",
   "metadata": {},
   "outputs": [],
   "source": [
    "first_value = input().zfill(3)\n",
    "second_value = input().zfill(3)\n",
    "\n",
    "result_str: str = \"\"\n",
    "\n",
    "for index in range(2, -1, -1):\n",
    "    current_sum = (int(first_value[index]) + int(second_value[index])) % 10\n",
    "    result_str = f\"{current_sum}{result}\"\n",
    "\n",
    "print(result_str.lstrip(\"0\"))"
   ]
  },
  {
   "cell_type": "markdown",
   "id": "e87348a8",
   "metadata": {},
   "source": [
    "M"
   ]
  },
  {
   "cell_type": "code",
   "execution_count": null,
   "id": "b33b32b4",
   "metadata": {},
   "outputs": [],
   "source": [
    "children = int(input())\n",
    "candies = int(input())\n",
    "\n",
    "for_each = candies // children\n",
    "rest = candies % children\n",
    "\n",
    "print(for_each)\n",
    "print(rest)"
   ]
  },
  {
   "cell_type": "markdown",
   "id": "4634b00e",
   "metadata": {},
   "source": [
    "N"
   ]
  },
  {
   "cell_type": "code",
   "execution_count": null,
   "id": "7a5e96b1",
   "metadata": {},
   "outputs": [],
   "source": [
    "red = int(input())\n",
    "green = int(input())\n",
    "blue = int(input())\n",
    "\n",
    "print(red + blue + 1)"
   ]
  },
  {
   "cell_type": "markdown",
   "id": "dfb2012e",
   "metadata": {},
   "source": [
    "O"
   ]
  },
  {
   "cell_type": "code",
   "execution_count": null,
   "id": "09758100",
   "metadata": {},
   "outputs": [],
   "source": [
    "hours = int(input())\n",
    "minutes = int(input())\n",
    "time = int(input())\n",
    "\n",
    "time_hours = time // 60\n",
    "time_minutes = time % 60\n",
    "\n",
    "result_minutes = (minutes + time_minutes) % 60\n",
    "result_hours = (hours + time_hours + (minutes + time_minutes) // 60) % 24\n",
    "\n",
    "print(f\"{str(result_hours).zfill(2)}:{str(result_minutes).zfill(2)}\")"
   ]
  },
  {
   "cell_type": "markdown",
   "id": "fe4b7049",
   "metadata": {},
   "source": [
    "P"
   ]
  },
  {
   "cell_type": "code",
   "execution_count": null,
   "id": "28908b74",
   "metadata": {},
   "outputs": [],
   "source": [
    "start = int(input())\n",
    "finish = int(input())\n",
    "speed = int(input())\n",
    "\n",
    "result_time: float = (finish - start) / speed\n",
    "\n",
    "print(f\"{result_time:.2f}\")"
   ]
  },
  {
   "cell_type": "markdown",
   "id": "0219bb20",
   "metadata": {},
   "source": [
    "Q"
   ]
  },
  {
   "cell_type": "code",
   "execution_count": null,
   "id": "15948e37",
   "metadata": {},
   "outputs": [],
   "source": [
    "rest = int(input())\n",
    "last = int(input(), 2)\n",
    "\n",
    "print(rest + last)"
   ]
  },
  {
   "cell_type": "markdown",
   "id": "984fcee7",
   "metadata": {},
   "source": [
    "R"
   ]
  },
  {
   "cell_type": "code",
   "execution_count": null,
   "id": "9a58a58b",
   "metadata": {},
   "outputs": [],
   "source": [
    "price = int(input(), 2)\n",
    "money = int(input())\n",
    "\n",
    "print(money - price)"
   ]
  },
  {
   "cell_type": "markdown",
   "id": "ab65767b",
   "metadata": {},
   "source": [
    "S"
   ]
  },
  {
   "cell_type": "code",
   "execution_count": null,
   "id": "82ab0eb5",
   "metadata": {},
   "outputs": [],
   "source": [
    "title = input()\n",
    "price = int(input())\n",
    "weight = int(input())\n",
    "money = int(input())\n",
    "\n",
    "total_price = weight * price\n",
    "change = money - total_price\n",
    "\n",
    "weight_with_price_display = f\"{weight}кг * {price}руб/кг\"\n",
    "total_price_display = f\"{total_price}руб\"\n",
    "money_display = f\"{money}руб\"\n",
    "change_display = f\"{change}руб\"\n",
    "\n",
    "LENGTH = 35\n",
    "\n",
    "line1 = \"Чек\".center(LENGTH, \"=\")\n",
    "line2 = f\"{'Товар:': <10}{title: >25}\"\n",
    "line3 = f\"{'Цена:': <10}{weight_with_price_display: >25}\"\n",
    "line4 = f\"{'Итого:': <10}{total_price_display: >25}\"\n",
    "line5 = f\"{'Внесено:': <10}{money_display: >25}\"\n",
    "line6 = f\"{'Сдача:': <10}{change_display: >25}\"\n",
    "line7 = \"=\" * LENGTH\n",
    "\n",
    "print(line1)\n",
    "print(line2)\n",
    "print(line3)\n",
    "print(line4)\n",
    "print(line5)\n",
    "print(line6)\n",
    "print(line7)"
   ]
  },
  {
   "cell_type": "markdown",
   "id": "61f9f74e",
   "metadata": {},
   "source": [
    "T"
   ]
  },
  {
   "cell_type": "code",
   "execution_count": null,
   "id": "07c79c6b",
   "metadata": {},
   "outputs": [],
   "source": [
    "weight = int(input())\n",
    "price = int(input())\n",
    "price1 = int(input())\n",
    "price2 = int(input())\n",
    "\n",
    "# Составим систему уравнений с двумя неизвестными weight1 и weight2\n",
    "# weight1 * price1 + weight2 * price2 = weight * price\n",
    "# weight1 + weight2 = weight\n",
    "#\n",
    "# weight1 = weight - weight2\n",
    "#\n",
    "# (weight - weight2) * price1 + weight2 * price2 = weight * price\n",
    "# weight * price1 - weight2 * price1 + weight2 * price2  = weight * price\n",
    "# weight2 * (price2 - price1) = weight * price - weight * price1\n",
    "# weight2 = (weight * price - weight * price1) / (price2 - price1)\n",
    "\n",
    "weight2 = (weight * price - weight * price1) / (price2 - price1)\n",
    "\n",
    "weight1 = weight - weight2\n",
    "\n",
    "\n",
    "print(int(weight1), int(weight2))"
   ]
  }
 ],
 "metadata": {
  "kernelspec": {
   "display_name": "base",
   "language": "python",
   "name": "python3"
  },
  "language_info": {
   "codemirror_mode": {
    "name": "ipython",
    "version": 3
   },
   "file_extension": ".py",
   "mimetype": "text/x-python",
   "name": "python",
   "nbconvert_exporter": "python",
   "pygments_lexer": "ipython3",
   "version": "3.12.7"
  }
 },
 "nbformat": 4,
 "nbformat_minor": 5
}
