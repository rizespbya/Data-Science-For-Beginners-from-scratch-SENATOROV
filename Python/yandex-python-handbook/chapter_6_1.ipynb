{
 "cells": [
  {
   "cell_type": "code",
   "execution_count": null,
   "id": "144d3bac",
   "metadata": {},
   "outputs": [],
   "source": [
    "\"\"\"\n",
    "Задания к главе 6.1.\n",
    "\n",
    "Модули math и numpy\n",
    "\n",
    "Хендбук Яндекс \"Основы Python\".\n",
    "\"\"\""
   ]
  },
  {
   "cell_type": "markdown",
   "id": "d9028306",
   "metadata": {},
   "source": [
    "A"
   ]
  },
  {
   "cell_type": "code",
   "execution_count": null,
   "id": "ecd002ff",
   "metadata": {},
   "outputs": [],
   "source": [
    "import math\n",
    "import sys\n",
    "from typing import Literal\n",
    "\n",
    "import numpy as np\n",
    "from numpy.typing import NDArray  # type: ignore\n",
    "\n",
    "x_var = float(input())\n",
    "\n",
    "a_el = math.log(math.pow(x_var, 3 / 16), 32)\n",
    "b_el = math.pow(x_var, math.cos(math.pi * x_var / (2 * math.e)))\n",
    "c_el = math.pow(math.sin(x_var / math.pi), 2)\n",
    "\n",
    "result = a_el + b_el - c_el\n",
    "\n",
    "print(result)"
   ]
  },
  {
   "cell_type": "markdown",
   "id": "942bcb6f",
   "metadata": {},
   "source": [
    "B"
   ]
  },
  {
   "cell_type": "code",
   "execution_count": null,
   "id": "24d58461",
   "metadata": {},
   "outputs": [],
   "source": [
    "for row in sys.stdin:\n",
    "    array_b = map(int, row[0:-1].split(\" \"))\n",
    "    result = math.gcd(*array_b)\n",
    "    print(result)"
   ]
  },
  {
   "cell_type": "markdown",
   "id": "c44ac8ab",
   "metadata": {},
   "source": [
    "C"
   ]
  },
  {
   "cell_type": "code",
   "execution_count": null,
   "id": "e8006a6c",
   "metadata": {},
   "outputs": [],
   "source": [
    "members, seats = map(int, input().split(\" \"))\n",
    "\n",
    "combinations = math.comb(members, seats)\n",
    "in_place_combinations = combinations * seats // members\n",
    "\n",
    "print(in_place_combinations, combinations)"
   ]
  },
  {
   "cell_type": "markdown",
   "id": "bd2004d4",
   "metadata": {},
   "source": [
    "D"
   ]
  },
  {
   "cell_type": "code",
   "execution_count": null,
   "id": "1287244b",
   "metadata": {},
   "outputs": [],
   "source": [
    "array_d = list(map(float, input().split(\" \")))\n",
    "\n",
    "print(math.pow(math.prod(array_d), 1 / len(array_d)))"
   ]
  },
  {
   "cell_type": "markdown",
   "id": "a14327ea",
   "metadata": {},
   "source": [
    "E"
   ]
  },
  {
   "cell_type": "code",
   "execution_count": null,
   "id": "246e3cd1",
   "metadata": {},
   "outputs": [],
   "source": [
    "x1, y1 = map(float, input().split(\" \"))\n",
    "\n",
    "p_x2, p_y2 = map(float, input().split(\" \"))\n",
    "\n",
    "x2 = p_x2 * math.cos(p_y2)\n",
    "y2 = p_x2 * math.sin(p_y2)\n",
    "\n",
    "distance = math.dist((x1, y2), (x2, y2))\n",
    "\n",
    "print(distance)"
   ]
  },
  {
   "cell_type": "markdown",
   "id": "2df858d8",
   "metadata": {},
   "source": [
    "F"
   ]
  },
  {
   "cell_type": "code",
   "execution_count": null,
   "id": "d71637b0",
   "metadata": {},
   "outputs": [],
   "source": [
    "def multiplication_matrix(size: int) -> NDArray[np.int_]:\n",
    "    \"\"\"Построение таблицы умножения.\"\"\"\n",
    "    numbers = np.arange(1, size + 1)\n",
    "    matrix: NDArray[np.int_] = np.outer(numbers, numbers)\n",
    "\n",
    "    return matrix"
   ]
  },
  {
   "cell_type": "markdown",
   "id": "719a93df",
   "metadata": {},
   "source": [
    "G"
   ]
  },
  {
   "cell_type": "code",
   "execution_count": null,
   "id": "cca8ef95",
   "metadata": {},
   "outputs": [],
   "source": [
    "def make_board(size: int) -> NDArray[np.int8]:\n",
    "    \"\"\"Создает шахматную доску размера size * size.\n",
    "\n",
    "    Белые клетки - 1, чернные - 0.\n",
    "    В левом верхнем углу белая клетка.\n",
    "    \"\"\"\n",
    "    board = np.zeros((size, size), dtype=np.int8)\n",
    "\n",
    "    board[::2, ::2] = 1\n",
    "    board[1::2, 1::2] = 1\n",
    "\n",
    "    return board\n"
   ]
  },
  {
   "cell_type": "markdown",
   "id": "3317df58",
   "metadata": {},
   "source": [
    "H"
   ]
  },
  {
   "cell_type": "code",
   "execution_count": null,
   "id": "cb48aa02",
   "metadata": {},
   "outputs": [],
   "source": [
    "def snake(\n",
    "    width: int, height: int, direction: Literal[\"H\", \"V\"] = \"H\"\n",
    ") -> NDArray[np.int16]:\n",
    "    \"\"\"Создает змейку размера width * height.\"\"\"\n",
    "    matrix = np.zeros((height, width), dtype=np.int16)\n",
    "\n",
    "    if direction == \"H\":\n",
    "        for index in range(height):\n",
    "            matrix[index] = np.arange(\n",
    "                index * width + 1, index * width + width + 1\n",
    "            )\n",
    "\n",
    "        matrix[1::2, ::] = matrix[1::2, ::-1]\n",
    "    else:\n",
    "        for index in range(height):\n",
    "            matrix[index] = np.arange(index + 1, width * height + 1, height)\n",
    "\n",
    "        matrix[::, 1::2] = matrix[::-1, 1::2]\n",
    "\n",
    "    return matrix"
   ]
  },
  {
   "cell_type": "markdown",
   "id": "44a2f213",
   "metadata": {},
   "source": [
    "I"
   ]
  },
  {
   "cell_type": "code",
   "execution_count": null,
   "id": "342d1f05",
   "metadata": {},
   "outputs": [],
   "source": [
    "def rotate(matrix: NDArray[np.int_], degrees: int) -> NDArray[np.int_]:\n",
    "    \"\"\"Поворачивает матрицу на заданное число градусов.\n",
    "\n",
    "    Число градусов должно быть кратно 90.\n",
    "    Поворот происходит по часовой стрелке.\n",
    "    \"\"\"\n",
    "    rotated_matrix: NDArray[np.int_] = np.rot90(\n",
    "        matrix, k=(360 - degrees) // 90\n",
    "    )\n",
    "\n",
    "    return rotated_matrix"
   ]
  },
  {
   "cell_type": "markdown",
   "id": "2574d9c7",
   "metadata": {},
   "source": [
    "J"
   ]
  },
  {
   "cell_type": "code",
   "execution_count": null,
   "id": "87e43170",
   "metadata": {},
   "outputs": [],
   "source": [
    "def stairs(array: NDArray[np.int_]) -> NDArray[np.int_]:\n",
    "    \"\"\"Создает матрицу по вектору.\n",
    "\n",
    "    Каждая строка является копией вектора со смещение.\n",
    "    \"\"\"\n",
    "    size = array.size\n",
    "    matrix: NDArray[np.int_] = np.tile(array, (size, 1))\n",
    "\n",
    "    for index in range(1, size):\n",
    "        matrix[index] = np.roll(matrix[index], index)\n",
    "\n",
    "    return matrix"
   ]
  }
 ],
 "metadata": {
  "kernelspec": {
   "display_name": "base",
   "language": "python",
   "name": "python3"
  },
  "language_info": {
   "codemirror_mode": {
    "name": "ipython",
    "version": 3
   },
   "file_extension": ".py",
   "mimetype": "text/x-python",
   "name": "python",
   "nbconvert_exporter": "python",
   "pygments_lexer": "ipython3",
   "version": "3.12.7"
  }
 },
 "nbformat": 4,
 "nbformat_minor": 5
}
