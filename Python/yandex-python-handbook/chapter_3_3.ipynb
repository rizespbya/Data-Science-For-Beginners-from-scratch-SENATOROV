{
 "cells": [
  {
   "cell_type": "code",
   "execution_count": null,
   "id": "144d3bac",
   "metadata": {},
   "outputs": [],
   "source": [
    "\"\"\"\n",
    "Задания к главе 3.3.\n",
    "\n",
    "\"Списочные выражения. Модель памяти для типов языка Python\".\n",
    "\n",
    "Хендбук Яндекс \"Основы Python\".\n",
    "\"\"\""
   ]
  },
  {
   "cell_type": "markdown",
   "id": "52663735",
   "metadata": {},
   "source": [
    "A"
   ]
  },
  {
   "cell_type": "code",
   "execution_count": null,
   "id": "020c0eea",
   "metadata": {},
   "outputs": [],
   "source": [
    "start_a = int(input())\n",
    "start_b = int(input())\n",
    "result = [num**2 for num in range(start_a, start_b + 1)]"
   ]
  },
  {
   "cell_type": "markdown",
   "id": "9a7c198d",
   "metadata": {},
   "source": [
    "B"
   ]
  },
  {
   "cell_type": "code",
   "execution_count": null,
   "id": "dc34bc16",
   "metadata": {},
   "outputs": [],
   "source": [
    "start_a = int(input())\n",
    "finish_b = int(input())\n",
    "result_b = [\n",
    "    number**2\n",
    "    for number in range(\n",
    "        start_a,\n",
    "        finish_b + 1 if start_a < finish_b else finish_b - 1,\n",
    "        1 if start_a < finish_b else -1,\n",
    "    )\n",
    "]"
   ]
  },
  {
   "cell_type": "markdown",
   "id": "6688b968",
   "metadata": {},
   "source": [
    "C"
   ]
  },
  {
   "cell_type": "code",
   "execution_count": null,
   "id": "d6115c69",
   "metadata": {},
   "outputs": [],
   "source": [
    "start_c = int(input())\n",
    "finish_c = int(input())\n",
    "divider_c = int(input())\n",
    "\n",
    "range_c = range(start_c, finish_c + 1)\n",
    "\n",
    "result_c = [num for num in range_c if num % divider_c == 0]"
   ]
  },
  {
   "cell_type": "markdown",
   "id": "db1f0d7b",
   "metadata": {},
   "source": [
    "D"
   ]
  },
  {
   "cell_type": "code",
   "execution_count": null,
   "id": "018edb4e",
   "metadata": {},
   "outputs": [],
   "source": [
    "numbers_d = [1, 2, 3, 4, 5]\n",
    "\n",
    "result_d = {num for num in numbers_d if num % 2 == 1}"
   ]
  },
  {
   "cell_type": "markdown",
   "id": "5b31b2d1",
   "metadata": {},
   "source": [
    "E"
   ]
  },
  {
   "cell_type": "code",
   "execution_count": null,
   "id": "090b27b8",
   "metadata": {},
   "outputs": [],
   "source": [
    "numbers_e = [1, 2, 3, 4, 5]\n",
    "\n",
    "result_e = {num for num in numbers_e if num**0.5 // 1 == num**0.5}"
   ]
  },
  {
   "cell_type": "markdown",
   "id": "9f625dc1",
   "metadata": {},
   "source": [
    "F"
   ]
  },
  {
   "cell_type": "code",
   "execution_count": null,
   "id": "5c6ea8d8",
   "metadata": {},
   "outputs": [],
   "source": [
    "sentence = \"Мама мыла раму\"\n",
    "\n",
    "result_f = [len(x) for x in sentence.split()]"
   ]
  },
  {
   "cell_type": "markdown",
   "id": "50954764",
   "metadata": {},
   "source": [
    "G"
   ]
  },
  {
   "cell_type": "code",
   "execution_count": null,
   "id": "b479afd6",
   "metadata": {},
   "outputs": [],
   "source": [
    "text = \"2 + 2 = 4\"\n",
    "\n",
    "\"\".join([char for char in text if char.isdigit()])"
   ]
  },
  {
   "cell_type": "markdown",
   "id": "2b47c9f4",
   "metadata": {},
   "source": [
    "H"
   ]
  },
  {
   "cell_type": "code",
   "execution_count": null,
   "id": "bc032881",
   "metadata": {},
   "outputs": [],
   "source": [
    "string = \"Российская Федерация\"\n",
    "\n",
    "\"\".join([word[0].upper() for word in string.split()])"
   ]
  },
  {
   "cell_type": "markdown",
   "id": "d9028306",
   "metadata": {},
   "source": [
    "I"
   ]
  },
  {
   "cell_type": "code",
   "execution_count": null,
   "id": "ecd002ff",
   "metadata": {},
   "outputs": [],
   "source": [
    "numbers_i = [3, 1, 2, 3, 2, 2, 1]\n",
    "\n",
    "\" - \".join(map(str, sorted(set(numbers_i))))"
   ]
  },
  {
   "cell_type": "markdown",
   "id": "942bcb6f",
   "metadata": {},
   "source": [
    "J"
   ]
  },
  {
   "cell_type": "code",
   "execution_count": null,
   "id": "24d58461",
   "metadata": {},
   "outputs": [],
   "source": [
    "words_j = \"Ехали медведи на велосипеде\"\n",
    "\n",
    "vowels = \"аяуюоёэеиыaeiouy\"\n",
    "\n",
    "\n",
    "def is_valid(word: str) -> bool:\n",
    "    \"\"\"\n",
    "    Функция для проверки количества гласных в слове.\n",
    "\n",
    "    Args:\n",
    "        word (str): слово для проверки\n",
    "\n",
    "    Returns:\n",
    "        bool: True, если гласных 3 или больше. Иначе False\n",
    "    \"\"\"\n",
    "    return len([letter for letter in word if letter.lower() in vowels]) >= 3\n",
    "\n",
    "\n",
    "result_j = [word for word in words_j.split() if is_valid(word)]"
   ]
  },
  {
   "cell_type": "markdown",
   "id": "eb8f2ac3",
   "metadata": {},
   "source": [
    "K"
   ]
  },
  {
   "cell_type": "code",
   "execution_count": null,
   "id": "57e55079",
   "metadata": {},
   "outputs": [],
   "source": [
    "numbers_k = [1, 2, 1, 3, 1, 2, 2, 4, 1, 2, 5, 1, 2]\n",
    "\n",
    "result_k = {num for num in numbers_k if numbers_k.count(num) == 1}"
   ]
  },
  {
   "cell_type": "markdown",
   "id": "e3a265ac",
   "metadata": {},
   "source": [
    "L"
   ]
  },
  {
   "cell_type": "code",
   "execution_count": null,
   "id": "66aebe14",
   "metadata": {},
   "outputs": [],
   "source": [
    "numbers_l = {2, 4, 5, 7, -10, -8, 10, -9, -1}\n",
    "\n",
    "max({num1 * num2 for num1 in numbers_l for num2 in numbers_l if num1 != num2})"
   ]
  },
  {
   "cell_type": "markdown",
   "id": "e87348a8",
   "metadata": {},
   "source": [
    "M"
   ]
  },
  {
   "cell_type": "code",
   "execution_count": null,
   "id": "b33b32b4",
   "metadata": {},
   "outputs": [],
   "source": [
    "data_m = {\"a\": [1, 2, 3], \"b\": [2, 3, 4, 5]}\n",
    "\n",
    "result_m = min((sum(nums), letter) for letter, nums in data_m.items())[1]"
   ]
  },
  {
   "cell_type": "markdown",
   "id": "4634b00e",
   "metadata": {},
   "source": [
    "N"
   ]
  },
  {
   "cell_type": "code",
   "execution_count": null,
   "id": "7a5e96b1",
   "metadata": {},
   "outputs": [],
   "source": [
    "data_n = {\"a\": [1, 2, 1], \"b\": [2, 3, 2, 5, 1]}\n",
    "\n",
    "items_n = data_n.items()\n",
    "\n",
    "result_n = {letter for letter, nums in items_n if len(nums) != len(set(nums))}"
   ]
  },
  {
   "cell_type": "markdown",
   "id": "dfb2012e",
   "metadata": {},
   "source": [
    "O"
   ]
  },
  {
   "cell_type": "code",
   "execution_count": null,
   "id": "09758100",
   "metadata": {},
   "outputs": [],
   "source": [
    "text_o = \"Мама мыла раму!\"\n",
    "\n",
    "result_o = {\n",
    "    letter: text_o.lower().count(letter)\n",
    "    for letter in text_o.lower()\n",
    "    if letter.isalpha()\n",
    "}"
   ]
  },
  {
   "cell_type": "markdown",
   "id": "fe4b7049",
   "metadata": {},
   "source": [
    "P"
   ]
  },
  {
   "cell_type": "code",
   "execution_count": null,
   "id": "28908b74",
   "metadata": {},
   "outputs": [],
   "source": [
    "rle = [(\"a\", 2), (\"b\", 3), (\"c\", 1)]\n",
    "\n",
    "\"\".join(letter * count for letter, count in rle)"
   ]
  },
  {
   "cell_type": "markdown",
   "id": "0219bb20",
   "metadata": {},
   "source": [
    "Q"
   ]
  },
  {
   "cell_type": "code",
   "execution_count": null,
   "id": "15948e37",
   "metadata": {},
   "outputs": [],
   "source": [
    "num_q = 3\n",
    "\n",
    "range_q = range(1, num_q + 1)\n",
    "\n",
    "result_q = [[column * row for column in range_q] for row in range_q]"
   ]
  },
  {
   "cell_type": "markdown",
   "id": "984fcee7",
   "metadata": {},
   "source": [
    "R"
   ]
  },
  {
   "cell_type": "code",
   "execution_count": null,
   "id": "9a58a58b",
   "metadata": {},
   "outputs": [],
   "source": [
    "numbers_r = {1, 2, 3, 4, 5}\n",
    "\n",
    "result_r = {\n",
    "    num: [divider for divider in range(1, num + 1) if num % divider == 0]\n",
    "    for num in numbers_r\n",
    "}"
   ]
  },
  {
   "cell_type": "markdown",
   "id": "ab65767b",
   "metadata": {},
   "source": [
    "S"
   ]
  },
  {
   "cell_type": "code",
   "execution_count": null,
   "id": "82ab0eb5",
   "metadata": {},
   "outputs": [],
   "source": [
    "numbers_s = {1, 2, 3, 4, 5}\n",
    "\n",
    "\n",
    "def is_prime(num: int) -> bool:\n",
    "    \"\"\"\n",
    "    Функция для проверки простого числа.\n",
    "\n",
    "    Args:\n",
    "        num (int): слово для проверки\n",
    "\n",
    "    Returns:\n",
    "        bool: True, если число простое. Иначе False\n",
    "    \"\"\"\n",
    "    if num <= 1:\n",
    "        return False\n",
    "\n",
    "    dividers_range = range(2, int(num**0.5 + 1))\n",
    "\n",
    "    return len([div for div in dividers_range if not num % div]) == 0\n",
    "\n",
    "\n",
    "result_s = {num for num in numbers_s if is_prime(num)}"
   ]
  },
  {
   "cell_type": "markdown",
   "id": "61f9f74e",
   "metadata": {},
   "source": [
    "T"
   ]
  },
  {
   "cell_type": "code",
   "execution_count": null,
   "id": "07c79c6b",
   "metadata": {},
   "outputs": [],
   "source": [
    "text_t = \"ехали медведи на велосипеде\"\n",
    "\n",
    "result_t = {\n",
    "    tuple(sorted([word1, word2]))\n",
    "    for word1 in text_t.split()\n",
    "    for word2 in text_t.split()\n",
    "    if word1 != word2 and len(set(word1) & set(word2)) >= 3\n",
    "}"
   ]
  }
 ],
 "metadata": {
  "kernelspec": {
   "display_name": "base",
   "language": "python",
   "name": "python3"
  },
  "language_info": {
   "codemirror_mode": {
    "name": "ipython",
    "version": 3
   },
   "file_extension": ".py",
   "mimetype": "text/x-python",
   "name": "python",
   "nbconvert_exporter": "python",
   "pygments_lexer": "ipython3",
   "version": "3.12.7"
  }
 },
 "nbformat": 4,
 "nbformat_minor": 5
}
