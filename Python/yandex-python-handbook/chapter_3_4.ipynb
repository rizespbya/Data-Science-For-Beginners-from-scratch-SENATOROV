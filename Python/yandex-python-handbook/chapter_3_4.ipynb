{
 "cells": [
  {
   "cell_type": "code",
   "execution_count": null,
   "id": "144d3bac",
   "metadata": {},
   "outputs": [],
   "source": [
    "\"\"\"\n",
    "Задания к главе 3.4.\n",
    "\n",
    "\"Встроенные возможности по работе с коллекциями\".\n",
    "\n",
    "Хендбук Яндекс \"Основы Python\".\n",
    "\"\"\""
   ]
  },
  {
   "cell_type": "markdown",
   "id": "52663735",
   "metadata": {},
   "source": [
    "A"
   ]
  },
  {
   "cell_type": "code",
   "execution_count": null,
   "id": "020c0eea",
   "metadata": {},
   "outputs": [],
   "source": [
    "from itertools import (\n",
    "    accumulate,\n",
    "    chain,\n",
    "    combinations,\n",
    "    count,\n",
    "    cycle,\n",
    "    permutations,\n",
    "    product,\n",
    ")\n",
    "\n",
    "items_list = input().split()\n",
    "\n",
    "for index, item in enumerate(items_list):\n",
    "    print(f\"{index + 1}. {item}\")"
   ]
  },
  {
   "cell_type": "markdown",
   "id": "9a7c198d",
   "metadata": {},
   "source": [
    "B"
   ]
  },
  {
   "cell_type": "code",
   "execution_count": null,
   "id": "dc34bc16",
   "metadata": {},
   "outputs": [],
   "source": [
    "colunm1 = input().split(\", \")\n",
    "colunm2 = input().split(\", \")\n",
    "\n",
    "for child1, child2 in zip(colunm1, colunm2):\n",
    "    print(f\"{child1} - {child2}\")"
   ]
  },
  {
   "cell_type": "markdown",
   "id": "6688b968",
   "metadata": {},
   "source": [
    "C"
   ]
  },
  {
   "cell_type": "code",
   "execution_count": null,
   "id": "d6115c69",
   "metadata": {},
   "outputs": [],
   "source": [
    "nums = list(map(float, input().split()))\n",
    "\n",
    "for num in count(nums[0], nums[2]):\n",
    "    rounded = round(num, 2)\n",
    "\n",
    "    if rounded > nums[1]:\n",
    "        break\n",
    "\n",
    "    print(rounded)"
   ]
  },
  {
   "cell_type": "markdown",
   "id": "db1f0d7b",
   "metadata": {},
   "source": [
    "D"
   ]
  },
  {
   "cell_type": "code",
   "execution_count": null,
   "id": "018edb4e",
   "metadata": {},
   "outputs": [],
   "source": [
    "words = input().split()\n",
    "\n",
    "for word in accumulate(map(lambda x: \" \" + x, words)):\n",
    "    print(word[1:])"
   ]
  },
  {
   "cell_type": "markdown",
   "id": "5b31b2d1",
   "metadata": {},
   "source": [
    "E"
   ]
  },
  {
   "cell_type": "code",
   "execution_count": null,
   "id": "090b27b8",
   "metadata": {},
   "outputs": [],
   "source": [
    "list1 = input().split(\", \")\n",
    "list2 = input().split(\", \")\n",
    "list3 = input().split(\", \")\n",
    "\n",
    "\n",
    "main_list = sorted(chain(list1, list2, list3))\n",
    "\n",
    "for index, item in enumerate(main_list):\n",
    "    print(f\"{index + 1}. {item}\")"
   ]
  },
  {
   "cell_type": "markdown",
   "id": "9f625dc1",
   "metadata": {},
   "source": [
    "F"
   ]
  },
  {
   "cell_type": "code",
   "execution_count": null,
   "id": "5c6ea8d8",
   "metadata": {},
   "outputs": [],
   "source": [
    "suits_f = [\"пик\", \"треф\", \"бубен\", \"червей\"]\n",
    "weights_f = [2, 3, 4, 5, 6, 7, 8, 9, 10, \"валет\", \"дама\", \"король\", \"туз\"]\n",
    "\n",
    "suit_to_exclude = input()\n",
    "\n",
    "suits_f.remove(suit_to_exclude)\n",
    "\n",
    "for weight, suit in product(weights_f, suits_f):\n",
    "    print(weight, suit)"
   ]
  },
  {
   "cell_type": "markdown",
   "id": "50954764",
   "metadata": {},
   "source": [
    "G"
   ]
  },
  {
   "cell_type": "code",
   "execution_count": null,
   "id": "b479afd6",
   "metadata": {},
   "outputs": [],
   "source": [
    "students = [input() for _ in range(int(input()))]\n",
    "\n",
    "for student1, student2 in combinations(students, r=2):\n",
    "    print(f\"{student1} - {student2}\")"
   ]
  },
  {
   "cell_type": "markdown",
   "id": "2b47c9f4",
   "metadata": {},
   "source": [
    "H"
   ]
  },
  {
   "cell_type": "code",
   "execution_count": null,
   "id": "bc032881",
   "metadata": {},
   "outputs": [],
   "source": [
    "porridges = [input() for _ in range(int(input()))]\n",
    "days_amount = int(input())\n",
    "\n",
    "counter = 1\n",
    "\n",
    "for porridge in cycle(porridges):\n",
    "    if counter > days_amount:\n",
    "        break\n",
    "\n",
    "    print(porridge)\n",
    "    counter += 1"
   ]
  },
  {
   "cell_type": "markdown",
   "id": "d9028306",
   "metadata": {},
   "source": [
    "I"
   ]
  },
  {
   "cell_type": "code",
   "execution_count": null,
   "id": "ecd002ff",
   "metadata": {},
   "outputs": [],
   "source": [
    "size = int(input())\n",
    "\n",
    "table = [x * y for x, y in product(range(1, size + 1), repeat=2)]\n",
    "\n",
    "for index in range(0, size * size):\n",
    "    end = \" \" if (index + 1) % size != 0 else \"\\n\"\n",
    "\n",
    "    print(table[index], end=end)"
   ]
  },
  {
   "cell_type": "markdown",
   "id": "942bcb6f",
   "metadata": {},
   "source": [
    "J"
   ]
  },
  {
   "cell_type": "code",
   "execution_count": null,
   "id": "24d58461",
   "metadata": {},
   "outputs": [],
   "source": [
    "slices = int(input())\n",
    "\n",
    "print(\"А Б В\")\n",
    "\n",
    "for value1, value2 in product(range(1, slices), repeat=2):\n",
    "    value3 = slices - value1 - value2\n",
    "\n",
    "    if value3 > 0:\n",
    "        print(value1, value2, value3)"
   ]
  },
  {
   "cell_type": "markdown",
   "id": "eb8f2ac3",
   "metadata": {},
   "source": [
    "K"
   ]
  },
  {
   "cell_type": "code",
   "execution_count": null,
   "id": "57e55079",
   "metadata": {},
   "outputs": [],
   "source": [
    "height_k = int(input())\n",
    "width_k = int(input())\n",
    "\n",
    "max_length = len(str(height_k * width_k))\n",
    "\n",
    "for row, column in product(range(1, height_k + 1), range(1, width_k + 1)):\n",
    "    print(f\"{column + width_k * (row - 1):>{max_length}}\", end=\" \")\n",
    "\n",
    "    if column == width_k:\n",
    "        print()"
   ]
  },
  {
   "cell_type": "markdown",
   "id": "e3a265ac",
   "metadata": {},
   "source": [
    "L"
   ]
  },
  {
   "cell_type": "code",
   "execution_count": null,
   "id": "66aebe14",
   "metadata": {},
   "outputs": [],
   "source": [
    "products_list = []\n",
    "\n",
    "for _ in range(int(input())):\n",
    "    products_list.append(input().split(\", \"))\n",
    "\n",
    "for index, value in enumerate(sorted(chain.from_iterable(products_list))):\n",
    "    print(f\"{index + 1}. {value}\")"
   ]
  },
  {
   "cell_type": "markdown",
   "id": "e87348a8",
   "metadata": {},
   "source": [
    "M"
   ]
  },
  {
   "cell_type": "code",
   "execution_count": null,
   "id": "b33b32b4",
   "metadata": {},
   "outputs": [],
   "source": [
    "athlete_list = []\n",
    "\n",
    "for _ in range(int(input())):\n",
    "    athlete_list.append(input())\n",
    "\n",
    "athlete_list.sort()\n",
    "\n",
    "for combination in permutations(athlete_list, len(athlete_list)):\n",
    "    print(\", \".join(combination))"
   ]
  },
  {
   "cell_type": "markdown",
   "id": "4634b00e",
   "metadata": {},
   "source": [
    "N"
   ]
  },
  {
   "cell_type": "code",
   "execution_count": null,
   "id": "7a5e96b1",
   "metadata": {},
   "outputs": [],
   "source": [
    "winners_list = []\n",
    "\n",
    "for _ in range(int(input())):\n",
    "    winners_list.append(input())\n",
    "\n",
    "winners_permutations = permutations(sorted(winners_list), r=3)\n",
    "\n",
    "for winners in winners_permutations:\n",
    "    print(\", \".join(winners))"
   ]
  },
  {
   "cell_type": "markdown",
   "id": "dfb2012e",
   "metadata": {},
   "source": [
    "O"
   ]
  },
  {
   "cell_type": "code",
   "execution_count": null,
   "id": "09758100",
   "metadata": {},
   "outputs": [],
   "source": [
    "purchases_list = []\n",
    "\n",
    "for _ in range(int(input())):\n",
    "    purchases_list.extend(input().split(\", \"))\n",
    "\n",
    "\n",
    "purchases_list.sort()\n",
    "\n",
    "purchases_permutations = permutations(purchases_list, r=3)\n",
    "\n",
    "for purchases in purchases_permutations:\n",
    "    print(\" \".join(purchases))"
   ]
  },
  {
   "cell_type": "markdown",
   "id": "fe4b7049",
   "metadata": {},
   "source": [
    "P"
   ]
  },
  {
   "cell_type": "code",
   "execution_count": null,
   "id": "28908b74",
   "metadata": {},
   "outputs": [],
   "source": [
    "suits: list[str] = [\"бубен\", \"пик\", \"треф\", \"червей\"]\n",
    "weights: list[str] = [\n",
    "    \"10\",\n",
    "    \"2\",\n",
    "    \"3\",\n",
    "    \"4\",\n",
    "    \"5\",\n",
    "    \"6\",\n",
    "    \"7\",\n",
    "    \"8\",\n",
    "    \"9\",\n",
    "    \"валет\",\n",
    "    \"дама\",\n",
    "    \"король\",\n",
    "    \"туз\",\n",
    "]\n",
    "\n",
    "suits_dict: dict[str, str] = {\n",
    "    \"буби\": \"бубен\",\n",
    "    \"пики\": \"пик\",\n",
    "    \"трефы\": \"треф\",\n",
    "    \"черви\": \"червей\",\n",
    "}\n",
    "\n",
    "required_suit = input()\n",
    "weight_to_exclude = input()\n",
    "\n",
    "weights.remove(weight_to_exclude)\n",
    "\n",
    "card_products = product(weights, suits)\n",
    "\n",
    "card_combinations = combinations(card_products, r=3)\n",
    "\n",
    "counter = 0\n",
    "\n",
    "\n",
    "for combination_p in card_combinations:\n",
    "    if counter >= 10:\n",
    "        break\n",
    "\n",
    "    current = \", \".join(map(\" \".join, chain(combination_p)))\n",
    "\n",
    "    if suits_dict[required_suit] not in current:\n",
    "        continue\n",
    "\n",
    "    print(current)\n",
    "\n",
    "    counter += 1"
   ]
  },
  {
   "cell_type": "markdown",
   "id": "0219bb20",
   "metadata": {},
   "source": [
    "Q"
   ]
  },
  {
   "cell_type": "code",
   "execution_count": null,
   "id": "15948e37",
   "metadata": {},
   "outputs": [],
   "source": [
    "suits_q: list[str] = [\"бубен\", \"пик\", \"треф\", \"червей\"]\n",
    "weights_q: list[str] = [\n",
    "    \"10\",\n",
    "    \"2\",\n",
    "    \"3\",\n",
    "    \"4\",\n",
    "    \"5\",\n",
    "    \"6\",\n",
    "    \"7\",\n",
    "    \"8\",\n",
    "    \"9\",\n",
    "    \"валет\",\n",
    "    \"дама\",\n",
    "    \"король\",\n",
    "    \"туз\",\n",
    "]\n",
    "\n",
    "suits_dict_q: dict[str, str] = {\n",
    "    \"буби\": \"бубен\",\n",
    "    \"пики\": \"пик\",\n",
    "    \"трефы\": \"треф\",\n",
    "    \"черви\": \"червей\",\n",
    "}\n",
    "\n",
    "required_suit = input()\n",
    "weight_to_exclude = input()\n",
    "previous = input()\n",
    "\n",
    "weights_q.remove(weight_to_exclude)\n",
    "\n",
    "card_products = product(weights_q, suits_q)\n",
    "\n",
    "card_combinations_q = combinations(card_products, r=3)\n",
    "\n",
    "is_last = False\n",
    "\n",
    "for combination_q in card_combinations_q:\n",
    "\n",
    "    current = \", \".join(map(\" \".join, chain(combination_q)))\n",
    "\n",
    "    if suits_dict_q[required_suit] not in current:\n",
    "        continue\n",
    "\n",
    "    if is_last:\n",
    "        print(current)\n",
    "        break\n",
    "\n",
    "    if current == previous:\n",
    "        is_last = True"
   ]
  },
  {
   "cell_type": "markdown",
   "id": "984fcee7",
   "metadata": {},
   "source": [
    "R"
   ]
  },
  {
   "cell_type": "code",
   "execution_count": null,
   "id": "9a58a58b",
   "metadata": {},
   "outputs": [],
   "source": [
    "values_list_r: list[int] = [0, 1]\n",
    "\n",
    "triples = product(values_list_r, repeat=3)\n",
    "\n",
    "expression = input()\n",
    "\n",
    "# Из-за того, что линтер не разрешает имена вида a, b, c\n",
    "# заменим все однобуквенные имена на более длинные\n",
    "expression_list = expression.split()\n",
    "\n",
    "for index, word in enumerate(expression_list):\n",
    "    match word:\n",
    "        case \"a\":\n",
    "            expression_list[index] = \"a_value\"\n",
    "        case \"b\":\n",
    "            expression_list[index] = \"b_value\"\n",
    "        case \"c\":\n",
    "            expression_list[index] = \"c_value\"\n",
    "\n",
    "expression = \" \".join(expression_list)\n",
    "\n",
    "print(\"a b c f\")\n",
    "\n",
    "for triple in triples:\n",
    "    a_value, b_value, c_value = triple\n",
    "\n",
    "    # pylint: disable=eval-used\n",
    "    result = int(eval(expression))\n",
    "\n",
    "    print(a_value, b_value, c_value, result)\n"
   ]
  },
  {
   "cell_type": "markdown",
   "id": "ab65767b",
   "metadata": {},
   "source": [
    "S"
   ]
  },
  {
   "cell_type": "code",
   "execution_count": null,
   "id": "82ab0eb5",
   "metadata": {},
   "outputs": [],
   "source": [
    "upper_letters = [chr(i) for i in range(ord(\"A\"), ord(\"Z\") + 1)]\n",
    "\n",
    "expression = input()\n",
    "\n",
    "count_uppers = len({word for word in expression.split() if word.isupper()})\n",
    "\n",
    "values_list: list[str] = [\"0\", \"1\"]\n",
    "\n",
    "digit_sets = product(values_list, repeat=count_uppers)\n",
    "\n",
    "print(\" \".join(upper_letters[:count_uppers]), \"F\")\n",
    "\n",
    "for digit_set in digit_sets:\n",
    "    current = expression\n",
    "\n",
    "    for index, value in enumerate(digit_set):\n",
    "        current = current.replace(upper_letters[index], value)\n",
    "\n",
    "    # Условие задачи требует использовать eval\n",
    "    # pylint: disable=eval-used\n",
    "    result = int(eval(current))\n",
    "\n",
    "    print(\" \".join(list(digit_set)), result)"
   ]
  },
  {
   "cell_type": "markdown",
   "id": "61f9f74e",
   "metadata": {},
   "source": [
    "T"
   ]
  },
  {
   "cell_type": "code",
   "execution_count": null,
   "id": "07c79c6b",
   "metadata": {},
   "outputs": [],
   "source": []
  }
 ],
 "metadata": {
  "kernelspec": {
   "display_name": "base",
   "language": "python",
   "name": "python3"
  },
  "language_info": {
   "codemirror_mode": {
    "name": "ipython",
    "version": 3
   },
   "file_extension": ".py",
   "mimetype": "text/x-python",
   "name": "python",
   "nbconvert_exporter": "python",
   "pygments_lexer": "ipython3",
   "version": "3.12.7"
  }
 },
 "nbformat": 4,
 "nbformat_minor": 5
}
