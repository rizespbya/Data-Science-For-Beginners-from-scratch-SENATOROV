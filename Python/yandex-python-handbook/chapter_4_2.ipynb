{
 "cells": [
  {
   "cell_type": "code",
   "execution_count": null,
   "id": "144d3bac",
   "metadata": {},
   "outputs": [],
   "source": [
    "\"\"\"\n",
    "Задания к главе 4.2.\n",
    "\n",
    "Позиционные и именованные аргументы.\n",
    "Функции высших порядков.\n",
    "Лямбда-функции\n",
    "\n",
    "Хендбук Яндекс \"Основы Python\".\n",
    "\"\"\""
   ]
  },
  {
   "cell_type": "markdown",
   "id": "52663735",
   "metadata": {},
   "source": [
    "A"
   ]
  },
  {
   "cell_type": "code",
   "execution_count": null,
   "id": "020c0eea",
   "metadata": {},
   "outputs": [],
   "source": [
    "import operator\n",
    "from datetime import datetime\n",
    "from itertools import cycle\n",
    "from typing import Callable, Literal, TypeVar\n",
    "\n",
    "\n",
    "def make_list(length: int, value: int = 0) -> list[int]:\n",
    "    \"\"\"\n",
    "    Создает список указанной длины, заполненный переданным значением.\n",
    "\n",
    "    Args:\n",
    "        length (int): Длина списка.\n",
    "        value (int): Элемент для заполнения.\n",
    "\n",
    "    Returns:\n",
    "        list[int]: Список длины length, заполненный значением value.\n",
    "    \"\"\"\n",
    "    return [value] * length"
   ]
  },
  {
   "cell_type": "markdown",
   "id": "9a7c198d",
   "metadata": {},
   "source": [
    "B"
   ]
  },
  {
   "cell_type": "code",
   "execution_count": null,
   "id": "dc34bc16",
   "metadata": {},
   "outputs": [],
   "source": [
    "Size = int | tuple[int, int]\n",
    "Matrix = list[list[int]]\n",
    "\n",
    "\n",
    "def make_matrix(size: Size, value: int = 0) -> Matrix:\n",
    "    \"\"\"\n",
    "    Создает матрицу указанного размера, заполненную переданным значением.\n",
    "\n",
    "    Args:\n",
    "        size (int | tuple[int, int]): Размер матрицы. Если кортеж, то\n",
    "        (ширина, высота). Если одно значение, то создаем квадратную матрицу\n",
    "        value (int): Элемент для заполнения.\n",
    "\n",
    "    Returns:\n",
    "        list[int]: Матрица размера size, заполненная значением value.\n",
    "    \"\"\"\n",
    "    if isinstance(size, int):\n",
    "        width = size\n",
    "        height = size\n",
    "    else:\n",
    "        width = size[0]\n",
    "        height = size[1]\n",
    "\n",
    "    return [[value] * width for _ in range(height)]"
   ]
  },
  {
   "cell_type": "markdown",
   "id": "6688b968",
   "metadata": {},
   "source": [
    "C"
   ]
  },
  {
   "cell_type": "code",
   "execution_count": null,
   "id": "d6115c69",
   "metadata": {},
   "outputs": [],
   "source": [
    "def gcd(*numbers: int) -> int:\n",
    "    \"\"\"\n",
    "    Вычисляет НОД для переданных чисел.\n",
    "\n",
    "    Args:\n",
    "        *numbers (int): Одно или более целое число. Не должно быть пустым.\n",
    "\n",
    "    Returns:\n",
    "        int: НОД переданных чисел.\n",
    "    \"\"\"\n",
    "    divider = numbers[0]\n",
    "\n",
    "    for index in range(1, len(numbers), 1):\n",
    "        next_var = numbers[index]\n",
    "\n",
    "        while next_var:\n",
    "            divider, next_var = next_var, divider % next_var\n",
    "\n",
    "    return divider"
   ]
  },
  {
   "cell_type": "markdown",
   "id": "db1f0d7b",
   "metadata": {},
   "source": [
    "D"
   ]
  },
  {
   "cell_type": "code",
   "execution_count": null,
   "id": "018edb4e",
   "metadata": {},
   "outputs": [],
   "source": [
    "months: dict[str, list[str]] = {\n",
    "    \"ru\": [\n",
    "        \"Январь\",\n",
    "        \"Февраль\",\n",
    "        \"Март\",\n",
    "        \"Апрель\",\n",
    "        \"Май\",\n",
    "        \"Июнь\",\n",
    "        \"Июль\",\n",
    "        \"Август\",\n",
    "        \"Сентябрь\",\n",
    "        \"Октябрь\",\n",
    "        \"Ноябрь\",\n",
    "        \"Декабрь\",\n",
    "    ],\n",
    "    \"en\": [\n",
    "        \"January\",\n",
    "        \"February\",\n",
    "        \"March\",\n",
    "        \"April\",\n",
    "        \"May\",\n",
    "        \"June\",\n",
    "        \"July\",\n",
    "        \"August\",\n",
    "        \"September\",\n",
    "        \"October\",\n",
    "        \"November\",\n",
    "        \"December\",\n",
    "    ],\n",
    "}\n",
    "\n",
    "\n",
    "def month(number: int, language: Literal[\"ru\", \"en\"] = \"ru\") -> str:\n",
    "    \"\"\"\n",
    "    Функция для получения названия месяца.\n",
    "\n",
    "    Функция возвращает имя месяца в соответствии с переданными номером месяца\n",
    "    и языком\n",
    "\n",
    "    Args:\n",
    "        number (int): Номер месяца от 1 до 12.\n",
    "        language (Literal[\"ru\", \"en\"]): Язык.\n",
    "\n",
    "    Returns:\n",
    "        str: Название месяца.\n",
    "    \"\"\"\n",
    "    return months[language][number - 1]"
   ]
  },
  {
   "cell_type": "markdown",
   "id": "5b31b2d1",
   "metadata": {},
   "source": [
    "E"
   ]
  },
  {
   "cell_type": "code",
   "execution_count": null,
   "id": "090b27b8",
   "metadata": {},
   "outputs": [],
   "source": [
    "def to_string(*items: object, sep: str = \" \", end: str = \"\\n\") -> str:\n",
    "    r\"\"\"\n",
    "    Функция возвращает строку из переданных элементов.\n",
    "\n",
    "    Элементы разделены сепаратором sep. Заканчивается строкой end.\n",
    "\n",
    "    Args:\n",
    "        *items (object): Элементы, которые надо объединить в строку.\n",
    "        sep (str, optional): Разделитель элементов в строке. По умолчанию \" \".\n",
    "        end (str, optional): Окончание строки. По умолчанию  \"\\n\".\n",
    "\n",
    "    Returns:\n",
    "        str: _description_\n",
    "    \"\"\"\n",
    "    return f\"{sep.join(map(str, items))}{end}\""
   ]
  },
  {
   "cell_type": "markdown",
   "id": "9f625dc1",
   "metadata": {},
   "source": [
    "F"
   ]
  },
  {
   "cell_type": "code",
   "execution_count": null,
   "id": "5c6ea8d8",
   "metadata": {},
   "outputs": [],
   "source": [
    "Operator = Literal[\"+\", \"-\", \"*\", \"//\", \"**\"]\n",
    "OperatorFn = Callable[[int, int], int]\n",
    "\n",
    "\n",
    "def get_operator_fn(operator_f: Operator) -> OperatorFn:\n",
    "    \"\"\"\n",
    "    Возвращает функцию-оператор для двух целых чисел.\n",
    "\n",
    "    Args:\n",
    "        operator_f (Operator): Математическая операция.\n",
    "\n",
    "    Returns:\n",
    "       OperatorFn: Функция, принимающая два int и возвращающая int.\n",
    "    \"\"\"\n",
    "    match operator_f:\n",
    "        case \"+\":\n",
    "            return lambda operand1, operand2: operand1 + operand2\n",
    "        case \"-\":\n",
    "            return lambda operand1, operand2: operand1 - operand2\n",
    "        case \"*\":\n",
    "            return lambda operand1, operand2: operand1 * operand2\n",
    "        case \"//\":\n",
    "            return lambda operand1, operand2: operand1 // operand2\n",
    "        case \"**\":\n",
    "            return lambda operand1, operand2: operand1**operand2"
   ]
  },
  {
   "cell_type": "markdown",
   "id": "50954764",
   "metadata": {},
   "source": [
    "G"
   ]
  },
  {
   "cell_type": "code",
   "execution_count": null,
   "id": "b479afd6",
   "metadata": {},
   "outputs": [],
   "source": [
    "T = TypeVar(\"T\")\n",
    "\n",
    "OperatorFnG = Callable[[tuple[object, ...]], str]\n",
    "\n",
    "\n",
    "def get_formatter(sep: str = \" \", end: str = \"\") -> OperatorFnG:\n",
    "    \"\"\"\n",
    "    Возвращает функцию, которая объединяет аргументы в строку.\n",
    "\n",
    "    Args:\n",
    "        sep (str, optional): Разделитель элементов в строке. По умолчанию \" \".\n",
    "        end (str, optional): Окончание строки. По умолчанию \"\".\n",
    "\n",
    "    Returns:\n",
    "       OperatorFnG: Функция, принимающая не определенное количество аргументов.\n",
    "       Возвращает строку, объединяющую эти аргументы через sep и оканчивающуюся\n",
    "       строкой end.\n",
    "    \"\"\"\n",
    "    return lambda *args: f\"{sep.join(map(str, args))}{end}\""
   ]
  },
  {
   "cell_type": "markdown",
   "id": "2b47c9f4",
   "metadata": {},
   "source": [
    "H"
   ]
  },
  {
   "cell_type": "code",
   "execution_count": null,
   "id": "bc032881",
   "metadata": {},
   "outputs": [],
   "source": [
    "def grow(*numbers: int, **kwargs: int) -> tuple[int, ...]:\n",
    "    \"\"\"\n",
    "    Преобразует позиционные аргументы.\n",
    "\n",
    "    Функция принимает не определенное количество позиционных аргументов.\n",
    "    И не определенное количество именованных аргументов.\n",
    "\n",
    "    Возвращает кортеж, состоящий из по аргументов, увеличенных на значение\n",
    "    именованных параметров, если значение позиционного аргумента кратно\n",
    "    длине имени именованного аргумента.\n",
    "\n",
    "    Args:\n",
    "        *numbers (int): Целые числа.\n",
    "        **kwargs (int): Целые числа.\n",
    "\n",
    "    Returns:\n",
    "       tuple[int, ...]: Кортеж целых чисел.\n",
    "    \"\"\"\n",
    "    result = []\n",
    "\n",
    "    for number in numbers:\n",
    "        updated = number\n",
    "\n",
    "        for key, value in kwargs.items():\n",
    "            if number % len(key) == 0:\n",
    "                updated += value\n",
    "\n",
    "        result.append(updated)\n",
    "\n",
    "    return tuple(result)"
   ]
  },
  {
   "cell_type": "markdown",
   "id": "d9028306",
   "metadata": {},
   "source": [
    "I"
   ]
  },
  {
   "cell_type": "code",
   "execution_count": null,
   "id": "ecd002ff",
   "metadata": {},
   "outputs": [],
   "source": [
    "def product_i(*items: str, **kwargs: int) -> tuple[int, ...]:\n",
    "    \"\"\"\n",
    "    Заменяет каждую строку на произведение значений именованных параметров.\n",
    "\n",
    "    Если ни одно имя не найдено — строка игнорируется.\n",
    "\n",
    "    Args:\n",
    "        *args (str): Строки, которые нужно обработать.\n",
    "        **kwargs (int): Именованные параметры.\n",
    "\n",
    "    Returns:\n",
    "        tuple[int, ...]: Кортеж произведений для строк, где нашлись совпадения.\n",
    "    \"\"\"\n",
    "    result = []\n",
    "\n",
    "    for item in items:\n",
    "        product: None | int = None\n",
    "\n",
    "        for key, value in kwargs.items():\n",
    "            if key in item:\n",
    "                product = product * value if product is not None else value\n",
    "\n",
    "        if product is not None:\n",
    "            result.append(product)\n",
    "\n",
    "    return tuple(result)"
   ]
  },
  {
   "cell_type": "markdown",
   "id": "942bcb6f",
   "metadata": {},
   "source": [
    "J"
   ]
  },
  {
   "cell_type": "code",
   "execution_count": null,
   "id": "24d58461",
   "metadata": {},
   "outputs": [],
   "source": [
    "def choice(*numbers: int, **kwargs: Callable[[int], int]) -> int:\n",
    "    \"\"\"\n",
    "    Применяет переданную функцию ко всем позиционным аргументам.\n",
    "\n",
    "    Если передан именованный параметр min, то возвращает минимальное значение\n",
    "    из результатов выполнения функции min. Иначе - максимальное из результатов\n",
    "    выполнения функции max.\n",
    "\n",
    "    Args:\n",
    "        *numbers (int): Целые числа.\n",
    "        **kwargs (Function): Функция. Параметр может иметь имя min или max\n",
    "\n",
    "    Returns:\n",
    "        (int): Целое число\n",
    "    \"\"\"\n",
    "    if \"min\" in kwargs:\n",
    "        return min(map(kwargs[\"min\"], numbers))\n",
    "\n",
    "    return max(map(kwargs[\"max\"], numbers))"
   ]
  },
  {
   "cell_type": "markdown",
   "id": "eb8f2ac3",
   "metadata": {},
   "source": [
    "K"
   ]
  },
  {
   "cell_type": "code",
   "execution_count": null,
   "id": "57e55079",
   "metadata": {},
   "outputs": [],
   "source": [
    "in_stock: dict[str, int] = {}\n",
    "\n",
    "\n",
    "def order(*coffees: str) -> str:\n",
    "    \"\"\"\n",
    "    Функция возвращает название напитка, который можно приготовить.\n",
    "\n",
    "    Если ни одиннапиток нельзя приготовить, функция возвращает строку:\n",
    "    \"К сожалению, не можем предложить Вам напиток\"\n",
    "\n",
    "    Args:\n",
    "        *coffees (str): Список напитков.\n",
    "\n",
    "    Returns:\n",
    "        (str): Название напитка. Если напиток нельзя приготовить, то строка:\n",
    "        \"К сожалению, не можем предложить Вам напиток\"\n",
    "    \"\"\"\n",
    "    ingidients: dict[str, dict[str, int]] = {\n",
    "        \"Эспрессо\": {\"coffee\": 1},\n",
    "        \"Капучино\": {\"coffee\": 1, \"milk\": 3},\n",
    "        \"Макиато\": {\"coffee\": 2, \"milk\": 1},\n",
    "        \"Кофе по-венски\": {\"coffee\": 1, \"cream\": 2},\n",
    "        \"Латте Макиато\": {\"coffee\": 1, \"milk\": 2, \"cream\": 1},\n",
    "        \"Кон Панна\": {\"coffee\": 1, \"cream\": 1},\n",
    "    }\n",
    "\n",
    "    for coffee in coffees:\n",
    "        for ingidient, amount in ingidients[coffee].items():\n",
    "            if in_stock[ingidient] < amount:\n",
    "                break\n",
    "        else:\n",
    "            for ingidient, amount in ingidients[coffee].items():\n",
    "                in_stock[ingidient] -= amount\n",
    "\n",
    "            return coffee\n",
    "\n",
    "    return \"К сожалению, не можем предложить Вам напиток\""
   ]
  },
  {
   "cell_type": "markdown",
   "id": "e3a265ac",
   "metadata": {},
   "source": [
    "L"
   ]
  },
  {
   "cell_type": "code",
   "execution_count": null,
   "id": "66aebe14",
   "metadata": {},
   "outputs": [],
   "source": [
    "DATA: dict[Literal[\"even\", \"odd\"], list[int]] = {\"even\": [], \"odd\": []}\n",
    "\n",
    "\n",
    "def enter_results(*numbers: int) -> None:\n",
    "    \"\"\"\n",
    "    Функция сохраняет переданные данные в переменную DATA.\n",
    "\n",
    "    Нечетные числа сохранются в массив DATA['odd'], четные - в DATA['even']\n",
    "\n",
    "    Args:\n",
    "        *numbers (int): Список целых чисел.\n",
    "\n",
    "    Returns:\n",
    "        None: Функция ничего не возвращает.\n",
    "    \"\"\"\n",
    "    DATA[\"odd\"].extend(numbers[::2])\n",
    "    DATA[\"even\"].extend(numbers[1::2])\n",
    "\n",
    "\n",
    "def get_sum() -> tuple[int, int]:\n",
    "    \"\"\"\n",
    "    Возвращает пару целых чисел: сумма всех нечетных и всех четных чисел.\n",
    "\n",
    "    Returns:\n",
    "        tuple[int, int]: Кортеж из двух целых чисел.\n",
    "    \"\"\"\n",
    "    return (sum(DATA[\"odd\"]), sum(DATA[\"even\"]))\n",
    "\n",
    "\n",
    "def get_average() -> tuple[float, float]:\n",
    "    \"\"\"\n",
    "    Возвращает пару целых чисел.\n",
    "\n",
    "    Пара числе - среднее арифметическое всех нечетных и всех четных чисел.\n",
    "\n",
    "    Returns:\n",
    "        tuple[int, int]: Кортеж из двух чисел с плавающей точкой.\n",
    "    \"\"\"\n",
    "    average_odd = round(sum(DATA[\"odd\"]) / len(DATA[\"odd\"]), 2)\n",
    "    average_even = round(sum(DATA[\"even\"]) / len(DATA[\"even\"]), 2)\n",
    "\n",
    "    return (average_odd, average_even)"
   ]
  },
  {
   "cell_type": "markdown",
   "id": "e87348a8",
   "metadata": {},
   "source": [
    "M"
   ]
  },
  {
   "cell_type": "code",
   "execution_count": null,
   "id": "f80533cb",
   "metadata": {},
   "outputs": [],
   "source": [
    "FnM = Callable[[str], tuple[int, str]]\n",
    "\n",
    "fn_m: FnM = lambda string: (len(string), string.lower())"
   ]
  },
  {
   "cell_type": "code",
   "execution_count": null,
   "id": "b33b32b4",
   "metadata": {},
   "outputs": [],
   "source": [
    "SortFn = Callable[[str], tuple[int, str]]\n",
    "\n",
    "sort_fn: SortFn = lambda string: (len(string), string.lower())"
   ]
  },
  {
   "cell_type": "markdown",
   "id": "4634b00e",
   "metadata": {},
   "source": [
    "N"
   ]
  },
  {
   "cell_type": "code",
   "execution_count": null,
   "id": "7a5e96b1",
   "metadata": {},
   "outputs": [],
   "source": [
    "FilterFn = Callable[[int], bool]\n",
    "filter_fn: FilterFn = lambda num: sum(map(int, str(num))) % 2 == 0"
   ]
  },
  {
   "cell_type": "markdown",
   "id": "dfb2012e",
   "metadata": {},
   "source": [
    "O"
   ]
  },
  {
   "cell_type": "code",
   "execution_count": null,
   "id": "09758100",
   "metadata": {},
   "outputs": [],
   "source": [
    "Repeater = Callable[[int], int]\n",
    "\n",
    "\n",
    "def get_repeater(func: Callable[[int], int], count: int) -> Repeater:\n",
    "    \"\"\"\n",
    "    Возвращает функцию, которая вызовет func count раз.\n",
    "\n",
    "    Args:\n",
    "        func (Callable[[int], int]): Функция, которую надо вызывать.\n",
    "        count (int): Количество раз вывзова функции.\n",
    "\n",
    "    Returns:\n",
    "        Repeater: Функция, которая вызовет func count раз.\n",
    "    \"\"\"\n",
    "\n",
    "    def repeater(num: int) -> int:\n",
    "        current: int = num\n",
    "\n",
    "        for _ in range(count):\n",
    "            current = func(current)\n",
    "\n",
    "        return current\n",
    "\n",
    "    return repeater"
   ]
  },
  {
   "cell_type": "markdown",
   "id": "fe4b7049",
   "metadata": {},
   "source": [
    "P"
   ]
  },
  {
   "cell_type": "code",
   "execution_count": null,
   "id": "28908b74",
   "metadata": {},
   "outputs": [],
   "source": [
    "Cb = Callable[[str], None]\n",
    "\n",
    "\n",
    "def login(name: str, password: str, on_login: Cb, on_fail: Cb) -> None:\n",
    "    \"\"\"\n",
    "        Вызывает on_login в случае успешной авторизации, иначе - on_fail.\n",
    "\n",
    "    Args:\n",
    "        name (str): Имя пользователя.\n",
    "        password (str): Пароль.\n",
    "        on_login (Cb): Функция, вызываемая в случае успешной авторизации.\n",
    "        on_fail (Cb): Функция, вызываемая в случае неуспешной авторизации.\n",
    "    Returns:\n",
    "        None: Функция ничего не возвращает.\n",
    "    \"\"\"\n",
    "    expected = f\"{sum(ord(char) for char in name) * len(name):x}\"\n",
    "\n",
    "    if expected[::-1].lower() == password.lower():\n",
    "        on_login(name)\n",
    "    else:\n",
    "        on_fail(name)"
   ]
  },
  {
   "cell_type": "markdown",
   "id": "0219bb20",
   "metadata": {},
   "source": [
    "Q"
   ]
  },
  {
   "cell_type": "code",
   "execution_count": null,
   "id": "15948e37",
   "metadata": {},
   "outputs": [],
   "source": [
    "FilterFnQ = Callable[[tuple[str, list[int]]], bool]\n",
    "\n",
    "filter_fn_q: FilterFnQ = lambda item: isinstance(item[1], list) and any(\n",
    "    num % 2 == 0 for num in item[1]\n",
    ")"
   ]
  },
  {
   "cell_type": "markdown",
   "id": "984fcee7",
   "metadata": {},
   "source": [
    "R"
   ]
  },
  {
   "cell_type": "code",
   "execution_count": null,
   "id": "9a58a58b",
   "metadata": {},
   "outputs": [],
   "source": [
    "Fn = Callable[[tuple[str, object]], tuple[str, object]]\n",
    "\n",
    "fn: Fn = lambda item: (\n",
    "    \"\".join([char.lower() for char in item[0] if char.isalpha()]),\n",
    "    sum(item[1]) if hasattr(item[1], \"__iter__\") else item[1],\n",
    ")"
   ]
  },
  {
   "cell_type": "markdown",
   "id": "ab65767b",
   "metadata": {},
   "source": [
    "S"
   ]
  },
  {
   "cell_type": "code",
   "execution_count": null,
   "id": "82ab0eb5",
   "metadata": {},
   "outputs": [],
   "source": [
    "def secret_replace(text: str, **kwargs: tuple[str, ...]) -> str:\n",
    "    \"\"\"\n",
    "        Возвращает строку, зашифрованную на основе переданных параметров.\n",
    "\n",
    "    Args:\n",
    "        text (str): Строка, которую надо зашифровать.\n",
    "        **kwargs (tuple[str, ...]): Параметры шифрования\n",
    "    Returns:\n",
    "        str: Зашифрованная строка.\n",
    "    \"\"\"\n",
    "    my_dict = {key: cycle(value) for key, value in kwargs.items()}\n",
    "\n",
    "    result = \"\".join(\n",
    "        [next(my_dict[char]) if char in my_dict else char for char in text]\n",
    "    )\n",
    "\n",
    "    return result"
   ]
  },
  {
   "cell_type": "markdown",
   "id": "61f9f74e",
   "metadata": {},
   "source": [
    "T"
   ]
  },
  {
   "cell_type": "code",
   "execution_count": null,
   "id": "07c79c6b",
   "metadata": {},
   "outputs": [],
   "source": [
    "User = dict[str, str | datetime | int]\n",
    "\n",
    "\n",
    "DATA_BASE: list[User] = []\n",
    "\n",
    "\n",
    "def insert(*users: User) -> None:\n",
    "    \"\"\"\n",
    "    Функция добавляет пользователя в базу данных DATA_BASE.\n",
    "\n",
    "    Args:\n",
    "        *users (User): Произвольное количество пользователей.\n",
    "\n",
    "    Returns:\n",
    "        None: Функция ничего не возвращает.\n",
    "    \"\"\"\n",
    "    for user in users:\n",
    "        formatted_user: User = {**user}\n",
    "\n",
    "        if isinstance(user[\"birth\"], str):\n",
    "            formatted_date = datetime.strptime(user[\"birth\"], \"%d.%m.%Y\")\n",
    "            formatted_user[\"date\"] = formatted_date\n",
    "\n",
    "        DATA_BASE.append(formatted_user)\n",
    "\n",
    "\n",
    "def delete_date(users: list[User]) -> list[User]:\n",
    "    \"\"\"\n",
    "    Создает копию массива пользователей.\n",
    "\n",
    "    У каждого пользователя удаляет ключ date\n",
    "\n",
    "    Args:\n",
    "        users (list[User]): Массив пользователей.\n",
    "\n",
    "    Returns:\n",
    "        list[User]: Массив пользователей, у которых удален ключ date.\n",
    "    \"\"\"\n",
    "    result: list[User] = []\n",
    "\n",
    "    for user in users:\n",
    "        copy: User = {key: val for key, val in user.items() if key != \"date\"}\n",
    "        result.append(copy)\n",
    "\n",
    "    return result\n",
    "\n",
    "\n",
    "Comparator = Callable[[str | datetime | int, str | datetime | int], bool]\n",
    "\n",
    "operators: dict[str, Comparator] = {\n",
    "    \"<\": operator.lt,\n",
    "    \"<=\": operator.le,\n",
    "    \"==\": operator.eq,\n",
    "    \"!=\": operator.ne,\n",
    "    \">\": operator.gt,\n",
    "    \">=\": operator.ge,\n",
    "}\n",
    "\n",
    "\n",
    "def select(request: str | None = None) -> list[User]:\n",
    "    \"\"\"\n",
    "    Возвращает массив пользователей, удовлетворяющих запросу request.\n",
    "\n",
    "    Args:\n",
    "        request (str | None, optional): Строка запроса.\n",
    "        Имеет формат \"<ключ> <оператор> <значение>\" По умолчанию None.\n",
    "\n",
    "    Returns:\n",
    "        list[User]: Список пользователей, удовлетворяющий переданной строке\n",
    "        запроса\n",
    "    \"\"\"\n",
    "    if request is None:\n",
    "        return delete_date(DATA_BASE)\n",
    "\n",
    "    key, operator_sign, condition = request.split()\n",
    "\n",
    "    formatted_condition: str | datetime | int\n",
    "\n",
    "    if key == \"birth\":\n",
    "        formatted_condition = datetime.strptime(condition, \"%d.%m.%Y\")\n",
    "    elif condition.isdigit():\n",
    "        formatted_condition = int(condition)\n",
    "    else:\n",
    "        formatted_condition = condition\n",
    "\n",
    "    result: list[User] = []\n",
    "\n",
    "    for user in DATA_BASE:\n",
    "        compare_key = \"date\" if key == \"birth\" else key\n",
    "\n",
    "        if operators[operator_sign](user[compare_key], formatted_condition):\n",
    "            result.append(user)\n",
    "\n",
    "    return sorted(\n",
    "        delete_date(result),\n",
    "        key=lambda user: user[\"id\"],\n",
    "    )"
   ]
  }
 ],
 "metadata": {
  "kernelspec": {
   "display_name": "base",
   "language": "python",
   "name": "python3"
  },
  "language_info": {
   "codemirror_mode": {
    "name": "ipython",
    "version": 3
   },
   "file_extension": ".py",
   "mimetype": "text/x-python",
   "name": "python",
   "nbconvert_exporter": "python",
   "pygments_lexer": "ipython3",
   "version": "3.12.7"
  }
 },
 "nbformat": 4,
 "nbformat_minor": 5
}
