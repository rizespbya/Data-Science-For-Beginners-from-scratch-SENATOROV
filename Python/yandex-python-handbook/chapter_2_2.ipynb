{
 "cells": [
  {
   "cell_type": "code",
   "execution_count": 1,
   "id": "82e62497",
   "metadata": {},
   "outputs": [
    {
     "data": {
      "text/plain": [
       "'\\nЗадания к главе 2.2 \"Условный оператор\".\\n\\nХендбук Яндекс \"Основы Python\".\\n'"
      ]
     },
     "execution_count": 1,
     "metadata": {},
     "output_type": "execute_result"
    }
   ],
   "source": [
    "\"\"\"\n",
    "Задания к главе 2.2 \"Условный оператор\".\n",
    "\n",
    "Хендбук Яндекс \"Основы Python\".\n",
    "\"\"\""
   ]
  },
  {
   "cell_type": "markdown",
   "id": "52663735",
   "metadata": {},
   "source": [
    "A"
   ]
  },
  {
   "cell_type": "code",
   "execution_count": null,
   "id": "020c0eea",
   "metadata": {},
   "outputs": [
    {
     "name": "stdout",
     "output_type": "stream",
     "text": [
      "Здравствуйте, !\n",
      "Всё наладится!\n"
     ]
    }
   ],
   "source": [
    "from typing import TypedDict\n",
    "\n",
    "name = input(\"Как Вас зовут?\\n\")\n",
    "print(f\"Здравствуйте, {name}!\")\n",
    "answer = input(\"Как дела?\\n\")\n",
    "\n",
    "if answer == \"хорошо\":\n",
    "    print(\"Я за Вас рада!\")\n",
    "else:\n",
    "    print(\"Всё наладится!\")"
   ]
  },
  {
   "cell_type": "markdown",
   "id": "9a7c198d",
   "metadata": {},
   "source": [
    "B"
   ]
  },
  {
   "cell_type": "code",
   "execution_count": 3,
   "id": "dc34bc16",
   "metadata": {},
   "outputs": [
    {
     "ename": "ValueError",
     "evalue": "invalid literal for int() with base 10: ''",
     "output_type": "error",
     "traceback": [
      "\u001b[31m---------------------------------------------------------------------------\u001b[39m",
      "\u001b[31mValueError\u001b[39m                                Traceback (most recent call last)",
      "\u001b[36mCell\u001b[39m\u001b[36m \u001b[39m\u001b[32mIn[3]\u001b[39m\u001b[32m, line 1\u001b[39m\n\u001b[32m----> \u001b[39m\u001b[32m1\u001b[39m petya = \u001b[38;5;28;43mint\u001b[39;49m\u001b[43m(\u001b[49m\u001b[38;5;28;43minput\u001b[39;49m\u001b[43m(\u001b[49m\u001b[43m)\u001b[49m\u001b[43m)\u001b[49m\n\u001b[32m      2\u001b[39m vasya = \u001b[38;5;28mint\u001b[39m(\u001b[38;5;28minput\u001b[39m())\n\u001b[32m      4\u001b[39m \u001b[38;5;28;01mif\u001b[39;00m petya > vasya:\n",
      "\u001b[31mValueError\u001b[39m: invalid literal for int() with base 10: ''"
     ]
    }
   ],
   "source": [
    "petya = int(input())\n",
    "vasya = int(input())\n",
    "\n",
    "if petya > vasya:\n",
    "    print(\"Петя\")\n",
    "else:\n",
    "    print(\"Вася\")"
   ]
  },
  {
   "cell_type": "markdown",
   "id": "6688b968",
   "metadata": {},
   "source": [
    "C"
   ]
  },
  {
   "cell_type": "code",
   "execution_count": null,
   "id": "d6115c69",
   "metadata": {},
   "outputs": [],
   "source": [
    "petya = int(input())\n",
    "vasya = int(input())\n",
    "tolya = int(input())\n",
    "\n",
    "if petya > vasya and petya > tolya:\n",
    "    print(\"Петя\")\n",
    "elif vasya > tolya:\n",
    "    print(\"Вася\")\n",
    "else:\n",
    "    print(\"Толя\")"
   ]
  },
  {
   "cell_type": "markdown",
   "id": "db1f0d7b",
   "metadata": {},
   "source": [
    "D"
   ]
  },
  {
   "cell_type": "code",
   "execution_count": null,
   "id": "018edb4e",
   "metadata": {},
   "outputs": [],
   "source": [
    "class Item(TypedDict):\n",
    "    \"\"\"Type array items.\"\"\"\n",
    "\n",
    "    name: str\n",
    "    value: int\n",
    "\n",
    "\n",
    "petya = int(input())\n",
    "vasya = int(input())\n",
    "tolya = int(input())\n",
    "\n",
    "first_speed = max(petya, vasya, tolya)\n",
    "third_speed = min(petya, vasya, tolya)\n",
    "\n",
    "array: list[Item] = [\n",
    "    {\"name\": \"Петя\", \"value\": petya},\n",
    "    {\"name\": \"Вася\", \"value\": vasya},\n",
    "    {\"name\": \"Толя\", \"value\": tolya},\n",
    "]\n",
    "\n",
    "array.sort(key=lambda obj: obj[\"value\"], reverse=True)\n",
    "\n",
    "for count, obj in enumerate(array):\n",
    "    print(f\"{count + 1}. {obj['name']}\")"
   ]
  },
  {
   "cell_type": "markdown",
   "id": "5b31b2d1",
   "metadata": {},
   "source": [
    "E"
   ]
  },
  {
   "cell_type": "code",
   "execution_count": null,
   "id": "090b27b8",
   "metadata": {},
   "outputs": [],
   "source": [
    "added_petya = int(input())\n",
    "added_vasya = int(input())\n",
    "\n",
    "if added_petya + 6 > added_vasya + 12:\n",
    "    print(\"Петя\")\n",
    "else:\n",
    "    print(\"Вася\")"
   ]
  },
  {
   "cell_type": "markdown",
   "id": "9f625dc1",
   "metadata": {},
   "source": [
    "F"
   ]
  },
  {
   "cell_type": "code",
   "execution_count": null,
   "id": "5c6ea8d8",
   "metadata": {},
   "outputs": [],
   "source": [
    "year = int(input())\n",
    "\n",
    "if year % 4 == 0 and (year % 100 != 0 or year % 400 == 0):\n",
    "    print(\"YES\")\n",
    "else:\n",
    "    print(\"NO\")"
   ]
  },
  {
   "cell_type": "markdown",
   "id": "50954764",
   "metadata": {},
   "source": [
    "G"
   ]
  },
  {
   "cell_type": "code",
   "execution_count": null,
   "id": "b479afd6",
   "metadata": {},
   "outputs": [],
   "source": [
    "value = input()\n",
    "reversed_value = value[::-1]\n",
    "\n",
    "if reversed_value == value:\n",
    "    print(\"YES\")\n",
    "else:\n",
    "    print(\"NO\")"
   ]
  },
  {
   "cell_type": "markdown",
   "id": "2b47c9f4",
   "metadata": {},
   "source": [
    "H"
   ]
  },
  {
   "cell_type": "code",
   "execution_count": null,
   "id": "bc032881",
   "metadata": {},
   "outputs": [],
   "source": [
    "string = input()\n",
    "\n",
    "if \"зайка\" in string:\n",
    "    print(\"YES\")\n",
    "else:\n",
    "    print(\"NO\")"
   ]
  },
  {
   "cell_type": "markdown",
   "id": "d9028306",
   "metadata": {},
   "source": [
    "I"
   ]
  },
  {
   "cell_type": "code",
   "execution_count": null,
   "id": "ecd002ff",
   "metadata": {},
   "outputs": [],
   "source": [
    "first_value, second_value, third_value = input(), input(), input()\n",
    "\n",
    "my_array = [first_value, second_value, third_value]\n",
    "my_array.sort()\n",
    "\n",
    "print(my_array[0])"
   ]
  },
  {
   "cell_type": "markdown",
   "id": "942bcb6f",
   "metadata": {},
   "source": [
    "J"
   ]
  },
  {
   "cell_type": "code",
   "execution_count": null,
   "id": "24d58461",
   "metadata": {},
   "outputs": [],
   "source": [
    "value = input()\n",
    "\n",
    "sum1 = int(value[1]) + int(value[2])\n",
    "sum2 = int(value[0]) + int(value[1])\n",
    "\n",
    "if sum1 >= sum2:\n",
    "    print(str(sum1) + str(sum2))\n",
    "else:\n",
    "    print(str(sum2) + str(sum1))"
   ]
  },
  {
   "cell_type": "markdown",
   "id": "eb8f2ac3",
   "metadata": {},
   "source": [
    "K"
   ]
  },
  {
   "cell_type": "code",
   "execution_count": null,
   "id": "57e55079",
   "metadata": {},
   "outputs": [],
   "source": [
    "value = input()\n",
    "\n",
    "digits = list(map(int, value))\n",
    "digits.sort()\n",
    "\n",
    "if digits[0] + digits[2] == digits[1] * 2:\n",
    "    print(\"YES\")\n",
    "else:\n",
    "    print(\"NO\")"
   ]
  },
  {
   "cell_type": "markdown",
   "id": "e3a265ac",
   "metadata": {},
   "source": [
    "L"
   ]
  },
  {
   "cell_type": "code",
   "execution_count": null,
   "id": "66aebe14",
   "metadata": {},
   "outputs": [],
   "source": [
    "line1 = int(input())\n",
    "line2 = int(input())\n",
    "line3 = int(input())\n",
    "\n",
    "if all([line1 + line2 > line3, line1 + line3 > line2, line2 + line3 > line1]):\n",
    "    print(\"YES\")\n",
    "else:\n",
    "    print(\"NO\")"
   ]
  },
  {
   "cell_type": "markdown",
   "id": "e87348a8",
   "metadata": {},
   "source": [
    "M"
   ]
  },
  {
   "cell_type": "code",
   "execution_count": null,
   "id": "b33b32b4",
   "metadata": {},
   "outputs": [],
   "source": [
    "line_1 = input()\n",
    "line_2 = input()\n",
    "line_3 = input()\n",
    "\n",
    "for index, _ in enumerate(line_1):\n",
    "    if line_1[index] == line_2[index] == line_3[index]:\n",
    "        print(line_1[index])"
   ]
  },
  {
   "cell_type": "markdown",
   "id": "4634b00e",
   "metadata": {},
   "source": [
    "N"
   ]
  },
  {
   "cell_type": "code",
   "execution_count": null,
   "id": "7a5e96b1",
   "metadata": {},
   "outputs": [],
   "source": [
    "integers_list = list(map(int, input()))\n",
    "integers_list.sort()\n",
    "\n",
    "first = \"0\"\n",
    "second = \"0\"\n",
    "\n",
    "if integers_list[0] != 0:\n",
    "    first = str(integers_list[0]) + str(integers_list[1])\n",
    "elif integers_list[1] != 0:\n",
    "    first = str(integers_list[1]) + str(integers_list[0])\n",
    "elif integers_list[2] != 0:\n",
    "    first = str(integers_list[2]) + str(integers_list[0])\n",
    "\n",
    "if integers_list[2] != 0:\n",
    "    second = str(integers_list[2]) + str(integers_list[1])\n",
    "\n",
    "print(first, second)"
   ]
  },
  {
   "cell_type": "markdown",
   "id": "dfb2012e",
   "metadata": {},
   "source": [
    "O"
   ]
  },
  {
   "cell_type": "code",
   "execution_count": null,
   "id": "09758100",
   "metadata": {},
   "outputs": [],
   "source": [
    "value1 = list(map(int, input()))\n",
    "value2 = list(map(int, input()))\n",
    "combined = value1 + value2\n",
    "\n",
    "combined.sort(reverse=True)\n",
    "\n",
    "\n",
    "result = f\"{combined[0]}{(combined[1] + combined[2]) % 10}{combined[3]}\"\n",
    "\n",
    "print(result)"
   ]
  },
  {
   "cell_type": "markdown",
   "id": "fe4b7049",
   "metadata": {},
   "source": [
    "P"
   ]
  },
  {
   "cell_type": "code",
   "execution_count": null,
   "id": "28908b74",
   "metadata": {},
   "outputs": [],
   "source": [
    "vasya_p = \"Вася\"\n",
    "tolya_p = \"Толя\"\n",
    "petya_p = \"Петя\"\n",
    "\n",
    "\n",
    "p_s = int(input())\n",
    "v_s = int(input())\n",
    "t_s = int(input())\n",
    "\n",
    "if v_s > t_s > p_s:\n",
    "    first = vasya_p\n",
    "    second = tolya_p\n",
    "    third = petya_p\n",
    "elif v_s > p_s > t_s:\n",
    "    first = vasya_p\n",
    "    second = petya_p\n",
    "    third = tolya_p\n",
    "elif p_s > v_s > t_s:\n",
    "    first = petya_p\n",
    "    second = vasya_p\n",
    "    third = tolya_p\n",
    "elif p_s > t_s > v_s:\n",
    "    first = petya_p\n",
    "    second = tolya_p\n",
    "    third = vasya_p\n",
    "elif t_s > p_s > v_s:\n",
    "    first = tolya_p\n",
    "    second = petya_p\n",
    "    third = vasya_p\n",
    "else:\n",
    "    first = tolya_p\n",
    "    second = vasya_p\n",
    "    third = petya_p\n",
    "\n",
    "\n",
    "print(f'{\"\": ^8}{first: ^8}{\"\": ^8}')\n",
    "print(f'{second: ^8}{\"\": ^8}{\"\": ^8}')\n",
    "print(f'{\"\": ^8}{\"\": ^8}{third: ^8}')\n",
    "print(f'{\"II\": ^8}{\"I\": ^8}{\"III\": ^8}')"
   ]
  },
  {
   "cell_type": "markdown",
   "id": "0219bb20",
   "metadata": {},
   "source": [
    "Q"
   ]
  },
  {
   "cell_type": "code",
   "execution_count": null,
   "id": "15948e37",
   "metadata": {},
   "outputs": [],
   "source": [
    "a_coef = float(input())\n",
    "b_coef = float(input())\n",
    "c_coef = float(input())\n",
    "\n",
    "\n",
    "if a_coef == b_coef == c_coef == 0:\n",
    "    print(\"Infinite solutions\")\n",
    "elif a_coef == b_coef == 0:\n",
    "    print(\"No solution\")\n",
    "elif a_coef == 0:\n",
    "    result_q = -c_coef / b_coef\n",
    "\n",
    "    print(round(result_q, 2))\n",
    "else:\n",
    "    discriminant = b_coef**2 - 4 * a_coef * c_coef\n",
    "\n",
    "    if discriminant < 0:\n",
    "        print(\"No solution\")\n",
    "    elif discriminant == 0:\n",
    "        result_q = -b_coef / (2 * a_coef)\n",
    "\n",
    "        print(round(result_q, 2))\n",
    "    else:\n",
    "        result1 = (-b_coef + discriminant**0.5) / (2 * a_coef)\n",
    "        result2 = (-b_coef - discriminant**0.5) / (2 * a_coef)\n",
    "\n",
    "        min_result = min(round(result1, 2), round(result2, 2))\n",
    "        max_result = max(round(result1, 2), round(result2, 2))\n",
    "\n",
    "        print(min_result, max_result)"
   ]
  },
  {
   "cell_type": "markdown",
   "id": "984fcee7",
   "metadata": {},
   "source": [
    "R"
   ]
  },
  {
   "cell_type": "code",
   "execution_count": null,
   "id": "9a58a58b",
   "metadata": {},
   "outputs": [],
   "source": [
    "a_length = float(input())\n",
    "b_length = float(input())\n",
    "c_length = float(input())\n",
    "\n",
    "lengths = [a_length, b_length, c_length]\n",
    "lengths.sort(reverse=True)\n",
    "\n",
    "longest = lengths[0]\n",
    "other1, other2 = lengths[1:]\n",
    "\n",
    "if longest**2 == other1**2 + other2**2:\n",
    "    print(\"100%\")\n",
    "elif longest**2 > other1**2 + other2**2:\n",
    "    print(\"велика\")\n",
    "else:\n",
    "    print(\"крайне мала\")"
   ]
  },
  {
   "cell_type": "markdown",
   "id": "61f9f74e",
   "metadata": {},
   "source": [
    "T"
   ]
  },
  {
   "cell_type": "code",
   "execution_count": null,
   "id": "07c79c6b",
   "metadata": {},
   "outputs": [],
   "source": [
    "a_str = input()\n",
    "b_str = input()\n",
    "c_str = input()\n",
    "\n",
    "results = []\n",
    "\n",
    "for string in [a_str, b_str, c_str]:\n",
    "    if \"зайка\" in string:\n",
    "        results.append(string)\n",
    "\n",
    "results.sort()\n",
    "result = results[0]\n",
    "\n",
    "print(result, len(result))"
   ]
  }
 ],
 "metadata": {
  "kernelspec": {
   "display_name": "base",
   "language": "python",
   "name": "python3"
  },
  "language_info": {
   "codemirror_mode": {
    "name": "ipython",
    "version": 3
   },
   "file_extension": ".py",
   "mimetype": "text/x-python",
   "name": "python",
   "nbconvert_exporter": "python",
   "pygments_lexer": "ipython3",
   "version": "3.12.7"
  }
 },
 "nbformat": 4,
 "nbformat_minor": 5
}
