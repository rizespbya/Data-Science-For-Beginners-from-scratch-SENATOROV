{
 "cells": [
  {
   "cell_type": "code",
   "execution_count": null,
   "id": "fc271a33",
   "metadata": {},
   "outputs": [],
   "source": [
    "\"\"\"\n",
    "Задания к главе 3.2 \"Множества, словари\".\n",
    "\n",
    "Хендбук Яндекс \"Основы Python\".\n",
    "\"\"\""
   ]
  },
  {
   "cell_type": "markdown",
   "id": "52663735",
   "metadata": {},
   "source": [
    "A"
   ]
  },
  {
   "cell_type": "code",
   "execution_count": null,
   "id": "020c0eea",
   "metadata": {},
   "outputs": [],
   "source": [
    "from typing import TypedDict\n",
    "\n",
    "print(\"\".join(set(input())))"
   ]
  },
  {
   "cell_type": "markdown",
   "id": "9a7c198d",
   "metadata": {},
   "source": [
    "B"
   ]
  },
  {
   "cell_type": "code",
   "execution_count": null,
   "id": "dc34bc16",
   "metadata": {},
   "outputs": [],
   "source": [
    "print(\"\".join(set(input()) & set(input())))"
   ]
  },
  {
   "cell_type": "markdown",
   "id": "6688b968",
   "metadata": {},
   "source": [
    "C"
   ]
  },
  {
   "cell_type": "code",
   "execution_count": null,
   "id": "d6115c69",
   "metadata": {},
   "outputs": [],
   "source": [
    "my_set: set[str] = set()\n",
    "\n",
    "for _ in range(int(input())):\n",
    "    items = input().split()\n",
    "\n",
    "    for item in items:\n",
    "        my_set.add(item)\n",
    "\n",
    "for item in my_set:\n",
    "    print(item)"
   ]
  },
  {
   "cell_type": "markdown",
   "id": "db1f0d7b",
   "metadata": {},
   "source": [
    "D"
   ]
  },
  {
   "cell_type": "code",
   "execution_count": null,
   "id": "018edb4e",
   "metadata": {},
   "outputs": [],
   "source": [
    "semolina_porridge: set[str] = set()\n",
    "oatmeal: set[str] = set()\n",
    "\n",
    "semolina_amount = int(input())\n",
    "oatmeal_amount = int(input())\n",
    "\n",
    "for _ in range(semolina_amount):\n",
    "    semolina_porridge.add(input())\n",
    "\n",
    "for _ in range(oatmeal_amount):\n",
    "    oatmeal.add(input())\n",
    "\n",
    "print(len(semolina_porridge ^ oatmeal) or \"Таких нет\")"
   ]
  },
  {
   "cell_type": "markdown",
   "id": "5b31b2d1",
   "metadata": {},
   "source": [
    "E"
   ]
  },
  {
   "cell_type": "code",
   "execution_count": null,
   "id": "090b27b8",
   "metadata": {},
   "outputs": [],
   "source": [
    "semolina_amount = int(input())\n",
    "oatmeal_amount = int(input())\n",
    "\n",
    "child_names: list[str] = []\n",
    "\n",
    "for _ in range(semolina_amount + oatmeal_amount):\n",
    "    child_names.append(input())\n",
    "\n",
    "filtered = filter(lambda name: child_names.count(name) == 1, child_names)\n",
    "\n",
    "print(len(list(filtered)) or \"Таких нет\")"
   ]
  },
  {
   "cell_type": "markdown",
   "id": "9f625dc1",
   "metadata": {},
   "source": [
    "F"
   ]
  },
  {
   "cell_type": "code",
   "execution_count": null,
   "id": "5c6ea8d8",
   "metadata": {},
   "outputs": [],
   "source": [
    "semolina_amount = int(input())\n",
    "oatmeal_amount = int(input())\n",
    "\n",
    "names: list[str] = []\n",
    "\n",
    "for _ in range(semolina_amount + oatmeal_amount):\n",
    "    names.append(input())\n",
    "\n",
    "filtered = filter(lambda name: names.count(name) == 1, names)\n",
    "\n",
    "names_list = sorted(list(filtered))\n",
    "\n",
    "print(\"\\n\".join(names_list) if len(names_list) != 0 else \"Таких нет\")"
   ]
  },
  {
   "cell_type": "markdown",
   "id": "50954764",
   "metadata": {},
   "source": [
    "G"
   ]
  },
  {
   "cell_type": "code",
   "execution_count": null,
   "id": "b479afd6",
   "metadata": {},
   "outputs": [],
   "source": [
    "MORSE = {\n",
    "    \"A\": \".-\",\n",
    "    \"B\": \"-...\",\n",
    "    \"C\": \"-.-.\",\n",
    "    \"D\": \"-..\",\n",
    "    \"E\": \".\",\n",
    "    \"F\": \"..-.\",\n",
    "    \"G\": \"--.\",\n",
    "    \"H\": \"....\",\n",
    "    \"I\": \"..\",\n",
    "    \"J\": \".---\",\n",
    "    \"K\": \"-.-\",\n",
    "    \"L\": \".-..\",\n",
    "    \"M\": \"--\",\n",
    "    \"N\": \"-.\",\n",
    "    \"O\": \"---\",\n",
    "    \"P\": \".--.\",\n",
    "    \"Q\": \"--.-\",\n",
    "    \"R\": \".-.\",\n",
    "    \"S\": \"...\",\n",
    "    \"T\": \"-\",\n",
    "    \"U\": \"..-\",\n",
    "    \"V\": \"...-\",\n",
    "    \"W\": \".--\",\n",
    "    \"X\": \"-..-\",\n",
    "    \"Y\": \"-.--\",\n",
    "    \"Z\": \"--..\",\n",
    "    \"0\": \"-----\",\n",
    "    \"1\": \".----\",\n",
    "    \"2\": \"..---\",\n",
    "    \"3\": \"...--\",\n",
    "    \"4\": \"....-\",\n",
    "    \"5\": \".....\",\n",
    "    \"6\": \"-....\",\n",
    "    \"7\": \"--...\",\n",
    "    \"8\": \"---..\",\n",
    "    \"9\": \"----.\",\n",
    "}\n",
    "\n",
    "words = input().upper().split()\n",
    "\n",
    "coded_words = [\" \".join(map(lambda char: MORSE[char], list(w))) for w in words]\n",
    "\n",
    "print(\"\\n\".join(coded_words))"
   ]
  },
  {
   "cell_type": "markdown",
   "id": "2b47c9f4",
   "metadata": {},
   "source": [
    "H"
   ]
  },
  {
   "cell_type": "code",
   "execution_count": null,
   "id": "bc032881",
   "metadata": {},
   "outputs": [],
   "source": [
    "porridge_dict: dict[str, list[str]] = {}\n",
    "\n",
    "for _ in range(int(input())):\n",
    "    input_list = input().split()\n",
    "    name = input_list[0]\n",
    "\n",
    "    for porridge in input_list[1::]:\n",
    "        if porridge not in porridge_dict:\n",
    "            porridge_dict[porridge] = []\n",
    "        porridge_dict[porridge].append(name)\n",
    "\n",
    "\n",
    "target_porridge = input()\n",
    "\n",
    "if target_porridge in porridge_dict:\n",
    "    names_list = sorted(porridge_dict[target_porridge])\n",
    "    print(\"\\n\".join(names_list))\n",
    "else:\n",
    "    print(\"Таких нет\")"
   ]
  },
  {
   "cell_type": "markdown",
   "id": "d9028306",
   "metadata": {},
   "source": [
    "I"
   ]
  },
  {
   "cell_type": "code",
   "execution_count": null,
   "id": "ecd002ff",
   "metadata": {},
   "outputs": [],
   "source": [
    "lands_dict: dict[str, int] = {}\n",
    "\n",
    "while land := input():\n",
    "    for word in land.split():\n",
    "        if word not in lands_dict:\n",
    "            lands_dict[word] = 0\n",
    "        lands_dict[word] = (lands_dict[word] or 0) + 1\n",
    "\n",
    "\n",
    "for key, value in lands_dict.items():\n",
    "    print(key, value)"
   ]
  },
  {
   "cell_type": "markdown",
   "id": "942bcb6f",
   "metadata": {},
   "source": [
    "J"
   ]
  },
  {
   "cell_type": "code",
   "execution_count": null,
   "id": "24d58461",
   "metadata": {},
   "outputs": [],
   "source": [
    "LETTERS: dict[str, str] = {\n",
    "    \"А\": \"A\",\n",
    "    \"Б\": \"B\",\n",
    "    \"В\": \"V\",\n",
    "    \"Г\": \"G\",\n",
    "    \"Д\": \"D\",\n",
    "    \"Е\": \"E\",\n",
    "    \"Ё\": \"E\",\n",
    "    \"Ж\": \"ZH\",\n",
    "    \"З\": \"Z\",\n",
    "    \"И\": \"I\",\n",
    "    \"Й\": \"I\",\n",
    "    \"К\": \"K\",\n",
    "    \"Л\": \"L\",\n",
    "    \"М\": \"M\",\n",
    "    \"Н\": \"N\",\n",
    "    \"О\": \"O\",\n",
    "    \"П\": \"P\",\n",
    "    \"Р\": \"R\",\n",
    "    \"С\": \"S\",\n",
    "    \"Т\": \"T\",\n",
    "    \"У\": \"U\",\n",
    "    \"Ф\": \"F\",\n",
    "    \"Х\": \"KH\",\n",
    "    \"Ц\": \"TC\",\n",
    "    \"Ч\": \"CH\",\n",
    "    \"Ш\": \"SH\",\n",
    "    \"Щ\": \"SHCH\",\n",
    "    \"Ы\": \"Y\",\n",
    "    \"Э\": \"E\",\n",
    "    \"Ю\": \"IU\",\n",
    "    \"Я\": \"IA\",\n",
    "    \"Ь\": \"\",\n",
    "    \"Ъ\": \"\",\n",
    "}\n",
    "\n",
    "\n",
    "input_str = input()\n",
    "\n",
    "for char in input_str:\n",
    "    if char.upper() not in LETTERS:\n",
    "        print(char, end=\"\")\n",
    "    else:\n",
    "        is_upper = char.isupper()\n",
    "        translit = LETTERS[char.upper()]\n",
    "\n",
    "        display_value = translit.capitalize() if is_upper else translit.lower()\n",
    "\n",
    "        print(display_value, end=\"\")"
   ]
  },
  {
   "cell_type": "markdown",
   "id": "eb8f2ac3",
   "metadata": {},
   "source": [
    "K"
   ]
  },
  {
   "cell_type": "code",
   "execution_count": null,
   "id": "57e55079",
   "metadata": {},
   "outputs": [],
   "source": [
    "names_dict: dict[str, int] = {}\n",
    "\n",
    "for _ in range(int(input())):\n",
    "    name = input()\n",
    "\n",
    "    if name in names_dict:\n",
    "        names_dict[name] += 1\n",
    "    else:\n",
    "        names_dict[name] = 1\n",
    "\n",
    "print(sum(filter(lambda value: value > 1, names_dict.values())))"
   ]
  },
  {
   "cell_type": "markdown",
   "id": "e3a265ac",
   "metadata": {},
   "source": [
    "L"
   ]
  },
  {
   "cell_type": "code",
   "execution_count": null,
   "id": "66aebe14",
   "metadata": {},
   "outputs": [],
   "source": [
    "names_dict_l: dict[str, int] = {}\n",
    "\n",
    "for _ in range(int(input())):\n",
    "    name = input()\n",
    "\n",
    "    if name in names_dict_l:\n",
    "        names_dict_l[name] += 1\n",
    "    else:\n",
    "        names_dict_l[name] = 1\n",
    "\n",
    "pairs = list(filter(lambda item: item[1] > 1, names_dict_l.items()))\n",
    "\n",
    "pairs.sort(key=lambda pair: pair[0])\n",
    "\n",
    "if len(pairs) != 0:\n",
    "    for name, counter in pairs:\n",
    "        print(name, \"-\", counter)\n",
    "else:\n",
    "    print(\"Однофамильцев нет\")"
   ]
  },
  {
   "cell_type": "markdown",
   "id": "e87348a8",
   "metadata": {},
   "source": [
    "M"
   ]
  },
  {
   "cell_type": "code",
   "execution_count": null,
   "id": "b33b32b4",
   "metadata": {},
   "outputs": [],
   "source": [
    "dishes_amount = int(input())\n",
    "\n",
    "dishes = {input() for _ in range(dishes_amount)}\n",
    "\n",
    "\n",
    "not_allowed_dishes = set()\n",
    "\n",
    "for _ in range(int(input())):\n",
    "    for _ in range(int(input())):\n",
    "        not_allowed_dishes.add(input())\n",
    "\n",
    "\n",
    "allowed_dishes = sorted(list(dishes - not_allowed_dishes))\n",
    "\n",
    "result = \"\\n\".join(allowed_dishes)\n",
    "\n",
    "print(result or \"Готовить нечего\")"
   ]
  },
  {
   "cell_type": "markdown",
   "id": "4634b00e",
   "metadata": {},
   "source": [
    "N"
   ]
  },
  {
   "cell_type": "code",
   "execution_count": null,
   "id": "7a5e96b1",
   "metadata": {},
   "outputs": [],
   "source": [
    "ingredients = {input() for _ in range(int(input()))}\n",
    "\n",
    "\n",
    "cookbook: dict[str, set[str]] = {}\n",
    "\n",
    "for _ in range(int(input())):\n",
    "    dish = input()\n",
    "    cookbook[dish] = set()\n",
    "\n",
    "    for _ in range(int(input())):\n",
    "        cookbook[dish].add(input())\n",
    "\n",
    "\n",
    "allowed_dishes_n: list[str] = []\n",
    "\n",
    "for dish, ingredients_list in cookbook.items():\n",
    "    if ingredients >= ingredients_list:\n",
    "        allowed_dishes_n.append(dish)\n",
    "\n",
    "\n",
    "sorted_dishes = sorted(allowed_dishes_n)\n",
    "\n",
    "print(\"\\n\".join(sorted_dishes) if sorted_dishes else \"Готовить нечего\")"
   ]
  },
  {
   "cell_type": "markdown",
   "id": "dfb2012e",
   "metadata": {},
   "source": [
    "O"
   ]
  },
  {
   "cell_type": "code",
   "execution_count": null,
   "id": "09758100",
   "metadata": {},
   "outputs": [],
   "source": [
    "class NumberStats(TypedDict):\n",
    "    \"\"\"\n",
    "    Статистика числа, содержащая информацию о составе цифр.\n",
    "\n",
    "    Attributes:\n",
    "        digits (int): Общее количество цифр в числе\n",
    "        units (int): Количество единиц в числе\n",
    "        zeros (int): Количество нулей в числе\n",
    "    \"\"\"\n",
    "\n",
    "    digits: int\n",
    "    units: int\n",
    "    zeros: int\n",
    "\n",
    "\n",
    "statistics: list[NumberStats] = []\n",
    "\n",
    "for number in input().split():\n",
    "    bin_number = f\"{int(number):b}\"\n",
    "\n",
    "    statistics.append(\n",
    "        {\n",
    "            \"digits\": len(bin_number),\n",
    "            \"units\": bin_number.count(\"1\"),\n",
    "            \"zeros\": bin_number.count(\"0\"),\n",
    "        }\n",
    "    )\n",
    "\n",
    "\n",
    "print(statistics)"
   ]
  },
  {
   "cell_type": "markdown",
   "id": "fe4b7049",
   "metadata": {},
   "source": [
    "P"
   ]
  },
  {
   "cell_type": "code",
   "execution_count": null,
   "id": "28908b74",
   "metadata": {},
   "outputs": [],
   "source": [
    "items_set: set[str] = set()\n",
    "\n",
    "while land := input():\n",
    "    items_list = land.split()\n",
    "\n",
    "    for index, item in enumerate(items_list):\n",
    "        if item == \"зайка\":\n",
    "            if index > 0:\n",
    "                items_set.add(items_list[index - 1])\n",
    "            if index < len(items_list) - 1:\n",
    "                items_set.add(items_list[index + 1])\n",
    "\n",
    "for item in items_set:\n",
    "    print(item)"
   ]
  },
  {
   "cell_type": "markdown",
   "id": "0219bb20",
   "metadata": {},
   "source": [
    "Q"
   ]
  },
  {
   "cell_type": "code",
   "execution_count": null,
   "id": "15948e37",
   "metadata": {},
   "outputs": [],
   "source": [
    "class Person(TypedDict):\n",
    "    \"\"\"\n",
    "    Информация о друзьях первой и второй линии.\n",
    "\n",
    "    Attributes:\n",
    "        first_line set[str]: Друзья первой линии\n",
    "        second_line set[str]: Друзья второй линии\n",
    "    \"\"\"\n",
    "\n",
    "    first_line: set[str]\n",
    "    second_line: set[str]\n",
    "\n",
    "\n",
    "friends: dict[str, Person] = {}\n",
    "\n",
    "\n",
    "def create_person(person_name: str) -> None:\n",
    "    \"\"\"\n",
    "    Добавляет имя в словарь friends, если имя в словаре отсутствует.\n",
    "\n",
    "    Args:\n",
    "        name (str): добавляемое имя\n",
    "    \"\"\"\n",
    "    if person_name not in friends:\n",
    "        new_person: Person = {\"first_line\": set(), \"second_line\": set()}\n",
    "        friends[person_name] = new_person\n",
    "\n",
    "\n",
    "while names := input().split():\n",
    "    person, friend = names\n",
    "\n",
    "    create_person(person)\n",
    "\n",
    "    friends[person][\"first_line\"].add(friend)\n",
    "\n",
    "    create_person(friend)\n",
    "\n",
    "    friends[friend][\"first_line\"].add(person)\n",
    "\n",
    "for name, friends_dict in friends.items():\n",
    "    nearest_friends = friends_dict[\"first_line\"]\n",
    "\n",
    "    for nearest_friend in nearest_friends:\n",
    "\n",
    "        first_line = friends[nearest_friend][\"first_line\"]\n",
    "        second_line = friends[nearest_friend][\"second_line\"]\n",
    "        added_friends = second_line | nearest_friends - first_line\n",
    "        added_friends.discard(nearest_friend)\n",
    "\n",
    "        friends[nearest_friend][\"second_line\"] = added_friends\n",
    "\n",
    "\n",
    "for name in sorted(friends.keys()):\n",
    "    print(f\"{name}: {', '.join(sorted(friends[name]['second_line']))}\")"
   ]
  },
  {
   "cell_type": "markdown",
   "id": "ab65767b",
   "metadata": {},
   "source": [
    "S"
   ]
  },
  {
   "cell_type": "code",
   "execution_count": null,
   "id": "82ab0eb5",
   "metadata": {},
   "outputs": [],
   "source": [
    "toys: list[str] = []\n",
    "\n",
    "for _ in range(int(input())):\n",
    "    child_toys = set(input().split(\": \")[1].split(\", \"))\n",
    "\n",
    "    toys.extend(child_toys)\n",
    "\n",
    "\n",
    "all_toys: set[str] = set()\n",
    "unique: set[str] = set()\n",
    "\n",
    "for toy in toys:\n",
    "    if toy not in all_toys:\n",
    "        all_toys.add(toy)\n",
    "        unique.add(toy)\n",
    "    else:\n",
    "        unique.discard(toy)\n",
    "\n",
    "for toy in sorted(unique):\n",
    "    print(toy)"
   ]
  }
 ],
 "metadata": {
  "kernelspec": {
   "display_name": "base",
   "language": "python",
   "name": "python3"
  },
  "language_info": {
   "codemirror_mode": {
    "name": "ipython",
    "version": 3
   },
   "file_extension": ".py",
   "mimetype": "text/x-python",
   "name": "python",
   "nbconvert_exporter": "python",
   "pygments_lexer": "ipython3",
   "version": "3.12.7"
  }
 },
 "nbformat": 4,
 "nbformat_minor": 5
}
