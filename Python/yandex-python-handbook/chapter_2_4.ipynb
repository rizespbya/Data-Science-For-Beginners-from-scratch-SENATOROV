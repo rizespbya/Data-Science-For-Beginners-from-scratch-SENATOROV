{
 "cells": [
  {
   "cell_type": "code",
   "execution_count": null,
   "id": "fc271a33",
   "metadata": {},
   "outputs": [],
   "source": [
    "\"\"\"Задания к главе 2.4 \"Вложенные циклы\" из хендбука Яндекс \"Основы Python\".\"\"\""
   ]
  },
  {
   "cell_type": "markdown",
   "id": "52663735",
   "metadata": {},
   "source": [
    "A"
   ]
  },
  {
   "cell_type": "code",
   "execution_count": null,
   "id": "020c0eea",
   "metadata": {},
   "outputs": [],
   "source": [
    "num_a = int(input())\n",
    "\n",
    "for index1 in range(1, num_a + 1):\n",
    "    for index2 in range(1, num_a + 1):\n",
    "        print(index1 * index2, end=\"\\n\" if index2 == num_a else \" \")"
   ]
  },
  {
   "cell_type": "markdown",
   "id": "9a7c198d",
   "metadata": {},
   "source": [
    "B"
   ]
  },
  {
   "cell_type": "code",
   "execution_count": null,
   "id": "dc34bc16",
   "metadata": {},
   "outputs": [],
   "source": [
    "num_b = int(input())\n",
    "\n",
    "for index1 in range(1, num_b + 1):\n",
    "    for index2 in range(1, num_b + 1):\n",
    "        print(f\"{index2} * {index1} = {index2 * index1}\")"
   ]
  },
  {
   "cell_type": "markdown",
   "id": "6688b968",
   "metadata": {},
   "source": [
    "C"
   ]
  },
  {
   "cell_type": "code",
   "execution_count": null,
   "id": "d6115c69",
   "metadata": {},
   "outputs": [],
   "source": [
    "max_num = int(input())\n",
    "\n",
    "current = 1\n",
    "\n",
    "current_row = 1\n",
    "current_column = 1\n",
    "\n",
    "while current <= max_num:\n",
    "    while current <= max_num and current_column <= current_row:\n",
    "        print(current, end=\" \")\n",
    "\n",
    "        current += 1\n",
    "        current_column += 1\n",
    "\n",
    "    current_column = 1\n",
    "    current_row += 1\n",
    "    print()"
   ]
  },
  {
   "cell_type": "markdown",
   "id": "db1f0d7b",
   "metadata": {},
   "source": [
    "D"
   ]
  },
  {
   "cell_type": "code",
   "execution_count": null,
   "id": "018edb4e",
   "metadata": {},
   "outputs": [],
   "source": [
    "inputs_amount = int(input())\n",
    "\n",
    "inputs_list = [input() for _ in range(inputs_amount)]\n",
    "\n",
    "sums_list = map(lambda item: sum(map(int, item)), inputs_list)\n",
    "\n",
    "print(sum(sums_list))"
   ]
  },
  {
   "cell_type": "markdown",
   "id": "5b31b2d1",
   "metadata": {},
   "source": [
    "E"
   ]
  },
  {
   "cell_type": "code",
   "execution_count": null,
   "id": "090b27b8",
   "metadata": {},
   "outputs": [],
   "source": [
    "lands_amount = int(input())\n",
    "\n",
    "bunnies_counter = 0\n",
    "\n",
    "for _ in range(lands_amount):\n",
    "    is_bunny_found = False\n",
    "\n",
    "    while (description := input()) != \"ВСЁ\":\n",
    "        if description == \"зайка\" and not is_bunny_found:\n",
    "            bunnies_counter += 1\n",
    "            is_bunny_found = True\n",
    "\n",
    "print(bunnies_counter)"
   ]
  },
  {
   "cell_type": "markdown",
   "id": "9f625dc1",
   "metadata": {},
   "source": [
    "F"
   ]
  },
  {
   "cell_type": "code",
   "execution_count": null,
   "id": "5c6ea8d8",
   "metadata": {},
   "outputs": [],
   "source": [
    "nums_amount = int(input())\n",
    "\n",
    "nums_list = [int(input()) for _ in range(nums_amount)]\n",
    "\n",
    "divider = nums_list[0]\n",
    "\n",
    "for index in range(1, len(nums_list), 1):\n",
    "    next_var = nums_list[index]\n",
    "\n",
    "    while next_var:\n",
    "        divider, next_var = next_var, divider % next_var\n",
    "\n",
    "print(divider)"
   ]
  },
  {
   "cell_type": "markdown",
   "id": "50954764",
   "metadata": {},
   "source": [
    "G"
   ]
  },
  {
   "cell_type": "code",
   "execution_count": null,
   "id": "b479afd6",
   "metadata": {},
   "outputs": [],
   "source": [
    "players_amount = int(input())\n",
    "\n",
    "seconds = 3\n",
    "\n",
    "for index in range(players_amount):\n",
    "    current_time = seconds\n",
    "\n",
    "    while current_time:\n",
    "        print(f\"До старта {current_time} секунд(ы)\")\n",
    "        current_time -= 1\n",
    "\n",
    "    print(f\"Старт {index + 1}!!!\")\n",
    "\n",
    "    seconds += 1"
   ]
  },
  {
   "cell_type": "markdown",
   "id": "2b47c9f4",
   "metadata": {},
   "source": [
    "H"
   ]
  },
  {
   "cell_type": "code",
   "execution_count": null,
   "id": "bc032881",
   "metadata": {},
   "outputs": [],
   "source": [
    "children_amount = int(input())\n",
    "\n",
    "winner_name: str\n",
    "max_sum: int = 0\n",
    "\n",
    "for _ in range(children_amount):\n",
    "    name = input()\n",
    "    guessed_num = input()\n",
    "\n",
    "    current_sum = sum(map(int, guessed_num))\n",
    "\n",
    "    if current_sum >= max_sum:\n",
    "        max_sum = current_sum\n",
    "        winner_name = name\n",
    "\n",
    "print(winner_name)"
   ]
  },
  {
   "cell_type": "markdown",
   "id": "d9028306",
   "metadata": {},
   "source": [
    "I"
   ]
  },
  {
   "cell_type": "code",
   "execution_count": null,
   "id": "ecd002ff",
   "metadata": {},
   "outputs": [],
   "source": [
    "children_amount = int(input())\n",
    "\n",
    "largest_num = \"\"\n",
    "\n",
    "for _ in range(children_amount):\n",
    "    largest_num += max(input())\n",
    "\n",
    "print(largest_num)"
   ]
  },
  {
   "cell_type": "markdown",
   "id": "942bcb6f",
   "metadata": {},
   "source": [
    "J"
   ]
  },
  {
   "cell_type": "code",
   "execution_count": null,
   "id": "24d58461",
   "metadata": {},
   "outputs": [],
   "source": [
    "slices = int(input())\n",
    "\n",
    "print(\"А Б В\")\n",
    "for index1 in range(1, slices + 1):\n",
    "    for index2 in range(1, slices + 1):\n",
    "        for index3 in range(1, slices + 1):\n",
    "            total_sum = index1 + index2 + index3\n",
    "            if total_sum == slices:\n",
    "                print(f\"{index1} {index2} {index3}\")\n",
    "                break\n",
    "\n",
    "            if total_sum > slices:\n",
    "                break"
   ]
  },
  {
   "cell_type": "markdown",
   "id": "eb8f2ac3",
   "metadata": {},
   "source": [
    "K"
   ]
  },
  {
   "cell_type": "code",
   "execution_count": null,
   "id": "57e55079",
   "metadata": {},
   "outputs": [],
   "source": [
    "nums_amount = int(input())\n",
    "\n",
    "primes = 0\n",
    "\n",
    "for _ in range(nums_amount):\n",
    "    is_prime = True\n",
    "\n",
    "    num = int(input())\n",
    "\n",
    "    if num < 2:\n",
    "        continue\n",
    "\n",
    "    for divider in range(2, round(num / 2) + 1):\n",
    "        if num % divider == 0:\n",
    "            is_prime = False\n",
    "            break\n",
    "\n",
    "    if is_prime:\n",
    "        primes += 1\n",
    "\n",
    "print(primes)"
   ]
  },
  {
   "cell_type": "markdown",
   "id": "e3a265ac",
   "metadata": {},
   "source": [
    "L"
   ]
  },
  {
   "cell_type": "code",
   "execution_count": null,
   "id": "66aebe14",
   "metadata": {},
   "outputs": [],
   "source": [
    "height = int(input())\n",
    "width = int(input())\n",
    "\n",
    "cell_value = 1\n",
    "\n",
    "chars_amount = len(str(height * width))\n",
    "\n",
    "for row_index in range(height):\n",
    "    for column_index in range(width):\n",
    "        end = \" \" if column_index < width - 1 else \"\\n\"\n",
    "        display_value = str(cell_value).rjust(chars_amount)\n",
    "\n",
    "        print(display_value, end=end)\n",
    "\n",
    "        cell_value += 1"
   ]
  },
  {
   "cell_type": "markdown",
   "id": "e87348a8",
   "metadata": {},
   "source": [
    "M"
   ]
  },
  {
   "cell_type": "code",
   "execution_count": null,
   "id": "b33b32b4",
   "metadata": {},
   "outputs": [],
   "source": [
    "height_m = int(input())\n",
    "width_m = int(input())\n",
    "\n",
    "\n",
    "chars_amount_m = len(str(height_m * width_m))\n",
    "\n",
    "first_num_in_row = 1\n",
    "\n",
    "for row_index in range(height_m):\n",
    "    for column_index in range(width_m):\n",
    "        end = \" \" if column_index < width_m - 1 else \"\\n\"\n",
    "\n",
    "        value = first_num_in_row + height_m * column_index\n",
    "\n",
    "        print(str(value).rjust(chars_amount_m), end=end)\n",
    "\n",
    "    first_num_in_row += 1"
   ]
  },
  {
   "cell_type": "markdown",
   "id": "4634b00e",
   "metadata": {},
   "source": [
    "N"
   ]
  },
  {
   "cell_type": "code",
   "execution_count": null,
   "id": "7a5e96b1",
   "metadata": {},
   "outputs": [],
   "source": [
    "height_n = int(input())\n",
    "width_n = int(input())\n",
    "\n",
    "\n",
    "length = len(str(height_n * width_n))\n",
    "\n",
    "is_odd = True\n",
    "\n",
    "for row_index in range(1, height_n + 1):\n",
    "\n",
    "    current_range = range(1, width_n + 1) if is_odd else range(width_n, 0, -1)\n",
    "\n",
    "    for column_index in current_range:\n",
    "        value = (row_index - 1) * width_n + column_index\n",
    "\n",
    "        print(str(value).rjust(length), end=\" \")\n",
    "\n",
    "    print()\n",
    "\n",
    "    is_odd = not is_odd"
   ]
  },
  {
   "cell_type": "markdown",
   "id": "dfb2012e",
   "metadata": {},
   "source": [
    "O"
   ]
  },
  {
   "cell_type": "code",
   "execution_count": null,
   "id": "09758100",
   "metadata": {},
   "outputs": [],
   "source": [
    "height_o = int(input())\n",
    "width_o = int(input())\n",
    "\n",
    "\n",
    "length_o = len(str(height_o * width_o))\n",
    "\n",
    "\n",
    "for row_index in range(0, height_o):\n",
    "\n",
    "    for column_index in range(0, width_o):\n",
    "\n",
    "        if column_index % 2 != 0:\n",
    "            value = (column_index + 1) * height_o - row_index\n",
    "        else:\n",
    "            value = column_index * height_o + row_index + 1\n",
    "\n",
    "        print(str(value).rjust(length_o), end=\" \")\n",
    "\n",
    "    print()"
   ]
  },
  {
   "cell_type": "markdown",
   "id": "fe4b7049",
   "metadata": {},
   "source": [
    "P"
   ]
  },
  {
   "cell_type": "code",
   "execution_count": null,
   "id": "28908b74",
   "metadata": {},
   "outputs": [],
   "source": [
    "size = int(input())\n",
    "width_p = int(input())\n",
    "\n",
    "\n",
    "for row_index in range(1, size + 1):\n",
    "    temp: list[str] = []\n",
    "\n",
    "    for column_index in range(1, size + 1):\n",
    "        product = str(row_index * column_index)\n",
    "\n",
    "        additional_space = \" \" if width_p % 2 else \"\"\n",
    "\n",
    "        string = (product + additional_space).center(width_p)\n",
    "\n",
    "        temp.append(string)\n",
    "\n",
    "    print(\"|\".join(temp))\n",
    "\n",
    "    if row_index < size:\n",
    "        print(f\"{'-' * (size * (width_p + 1) - 1)}\")"
   ]
  },
  {
   "cell_type": "markdown",
   "id": "0219bb20",
   "metadata": {},
   "source": [
    "Q"
   ]
  },
  {
   "cell_type": "code",
   "execution_count": null,
   "id": "15948e37",
   "metadata": {},
   "outputs": [],
   "source": [
    "nums_amount = int(input())\n",
    "\n",
    "counter = 0\n",
    "\n",
    "for _ in range(nums_amount):\n",
    "    current_value = input()\n",
    "\n",
    "    if current_value == current_value[::-1]:\n",
    "        counter += 1\n",
    "\n",
    "print(counter)"
   ]
  },
  {
   "cell_type": "markdown",
   "id": "984fcee7",
   "metadata": {},
   "source": [
    "R"
   ]
  },
  {
   "cell_type": "code",
   "execution_count": null,
   "id": "9a58a58b",
   "metadata": {},
   "outputs": [],
   "source": [
    "limit = int(input())\n",
    "\n",
    "counter = 1\n",
    "\n",
    "level = 1\n",
    "\n",
    "result: list[list[str]] = []\n",
    "\n",
    "while counter <= limit:\n",
    "    current_list: list[str] = []\n",
    "\n",
    "    for _ in range(level):\n",
    "        current_list.append(str(counter))\n",
    "        counter += 1\n",
    "\n",
    "        if counter > limit:\n",
    "            break\n",
    "\n",
    "    result.append(current_list)\n",
    "    level += 1\n",
    "\n",
    "formatted_result = list(map(\" \".join, result))\n",
    "max_length = len(formatted_result[-1])\n",
    "\n",
    "for string in formatted_result:\n",
    "    print(f\"{string:^{max_length}}\")"
   ]
  },
  {
   "cell_type": "markdown",
   "id": "ab65767b",
   "metadata": {},
   "source": [
    "S"
   ]
  },
  {
   "cell_type": "code",
   "execution_count": null,
   "id": "82ab0eb5",
   "metadata": {},
   "outputs": [],
   "source": [
    "square_size = int(input())\n",
    "\n",
    "cell_width = len(str(round(square_size / 2)))\n",
    "\n",
    "for row_index in range(1, square_size + 1):\n",
    "    for column_index in range(1, square_size + 1):\n",
    "        value = min(\n",
    "            row_index,\n",
    "            column_index,\n",
    "            square_size + 1 - row_index,\n",
    "            square_size + 1 - column_index,\n",
    "        )\n",
    "\n",
    "        formatted_value = str(value).rjust(cell_width)\n",
    "\n",
    "        print(formatted_value, end=\" \")\n",
    "    print()"
   ]
  },
  {
   "cell_type": "markdown",
   "id": "61f9f74e",
   "metadata": {},
   "source": [
    "T"
   ]
  },
  {
   "cell_type": "code",
   "execution_count": null,
   "id": "07c79c6b",
   "metadata": {},
   "outputs": [],
   "source": [
    "value_t = int(input())\n",
    "\n",
    "\n",
    "def convert_to_base(number: int, base: int) -> str:\n",
    "    \"\"\"Преобразует натуральное число в заданную систему счисления.\n",
    "\n",
    "    Args:\n",
    "        number (int): натуральное число\n",
    "        base (int): основание системы счисления от 2 до 10\n",
    "\n",
    "    Returns:\n",
    "        int: Строковое представление числа number в системе счисления base\n",
    "    \"\"\"\n",
    "    digits = \"0123456789\"\n",
    "    result_str = \"\"\n",
    "\n",
    "    while number > 0:\n",
    "        result_str = digits[number % base] + result_str\n",
    "        number //= base\n",
    "\n",
    "    return result_str\n",
    "\n",
    "\n",
    "max_sum = 0\n",
    "max_base: int\n",
    "\n",
    "for current_base in range(2, 11):\n",
    "    converted_value = str(convert_to_base(value_t, current_base))\n",
    "\n",
    "    current_sum = sum(map(int, converted_value))\n",
    "\n",
    "    if current_sum > max_sum:\n",
    "        max_sum = current_sum\n",
    "        max_base = current_base\n",
    "\n",
    "print(max_base)"
   ]
  }
 ],
 "metadata": {
  "kernelspec": {
   "display_name": "base",
   "language": "python",
   "name": "python3"
  },
  "language_info": {
   "codemirror_mode": {
    "name": "ipython",
    "version": 3
   },
   "file_extension": ".py",
   "mimetype": "text/x-python",
   "name": "python",
   "nbconvert_exporter": "python",
   "pygments_lexer": "ipython3",
   "version": "3.12.7"
  }
 },
 "nbformat": 4,
 "nbformat_minor": 5
}
