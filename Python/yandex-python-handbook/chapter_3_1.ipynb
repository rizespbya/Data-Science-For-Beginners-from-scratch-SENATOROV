{
 "cells": [
  {
   "cell_type": "code",
   "execution_count": null,
   "id": "fc271a33",
   "metadata": {},
   "outputs": [],
   "source": [
    "\"\"\"\n",
    "Задания к главе 3.1 \"Строки, кортежи, списки\".\n",
    "\n",
    "Хендбук Яндекс \"Основы Python\".\n",
    "\"\"\""
   ]
  },
  {
   "cell_type": "markdown",
   "id": "52663735",
   "metadata": {},
   "source": [
    "A"
   ]
  },
  {
   "cell_type": "code",
   "execution_count": null,
   "id": "020c0eea",
   "metadata": {},
   "outputs": [],
   "source": [
    "import math\n",
    "\n",
    "words_amount = int(input())\n",
    "\n",
    "for _ in range(words_amount):\n",
    "    word = input()\n",
    "    if word[0] not in \"абв\":\n",
    "        print(\"NO\")\n",
    "        break\n",
    "else:\n",
    "    print(\"YES\")"
   ]
  },
  {
   "cell_type": "markdown",
   "id": "9a7c198d",
   "metadata": {},
   "source": [
    "B"
   ]
  },
  {
   "cell_type": "code",
   "execution_count": null,
   "id": "dc34bc16",
   "metadata": {},
   "outputs": [],
   "source": [
    "hor_str = input()\n",
    "\n",
    "for char in hor_str:\n",
    "    print(char)"
   ]
  },
  {
   "cell_type": "markdown",
   "id": "6688b968",
   "metadata": {},
   "source": [
    "C"
   ]
  },
  {
   "cell_type": "code",
   "execution_count": null,
   "id": "d6115c69",
   "metadata": {},
   "outputs": [],
   "source": [
    "max_length = int(input())\n",
    "titles_amount = int(input())\n",
    "\n",
    "for _ in range(titles_amount):\n",
    "    title = input()\n",
    "\n",
    "    if len(title) > max_length:\n",
    "        end = max_length - 3\n",
    "        title = title[0:end:] + \"...\"\n",
    "\n",
    "    print(title)"
   ]
  },
  {
   "cell_type": "markdown",
   "id": "db1f0d7b",
   "metadata": {},
   "source": [
    "D"
   ]
  },
  {
   "cell_type": "code",
   "execution_count": null,
   "id": "018edb4e",
   "metadata": {},
   "outputs": [],
   "source": [
    "while (input_str := input()) != \"\":\n",
    "    if input_str.endswith(\"@@@\"):\n",
    "        continue\n",
    "\n",
    "    if input_str.startswith(\"##\"):\n",
    "        print(input_str[2::])\n",
    "    else:\n",
    "        print(input_str)"
   ]
  },
  {
   "cell_type": "markdown",
   "id": "5b31b2d1",
   "metadata": {},
   "source": [
    "E"
   ]
  },
  {
   "cell_type": "code",
   "execution_count": null,
   "id": "090b27b8",
   "metadata": {},
   "outputs": [],
   "source": [
    "input_str = input().lower()\n",
    "\n",
    "if input_str == input_str[::-1]:\n",
    "    print(\"YES\")\n",
    "else:\n",
    "    print(\"NO\")"
   ]
  },
  {
   "cell_type": "markdown",
   "id": "9f625dc1",
   "metadata": {},
   "source": [
    "F"
   ]
  },
  {
   "cell_type": "code",
   "execution_count": null,
   "id": "5c6ea8d8",
   "metadata": {},
   "outputs": [],
   "source": [
    "lands_amount = int(input())\n",
    "\n",
    "rabbits_counter = 0\n",
    "for _ in range(lands_amount):\n",
    "    rabbits_counter += (land := input()).count(\"зайка\")\n",
    "\n",
    "print(rabbits_counter)"
   ]
  },
  {
   "cell_type": "markdown",
   "id": "50954764",
   "metadata": {},
   "source": [
    "G"
   ]
  },
  {
   "cell_type": "code",
   "execution_count": null,
   "id": "b479afd6",
   "metadata": {},
   "outputs": [],
   "source": [
    "two_numbers = input()\n",
    "\n",
    "print(sum(map(int, two_numbers.split())))"
   ]
  },
  {
   "cell_type": "markdown",
   "id": "2b47c9f4",
   "metadata": {},
   "source": [
    "H"
   ]
  },
  {
   "cell_type": "code",
   "execution_count": null,
   "id": "bc032881",
   "metadata": {},
   "outputs": [],
   "source": [
    "lands_amount = int(input())\n",
    "\n",
    "for _ in range(lands_amount):\n",
    "    land = input()\n",
    "\n",
    "    position = land.find(\"зайка\")\n",
    "\n",
    "    print(position + 1 if position >= 0 else \"Заек нет =(\")"
   ]
  },
  {
   "cell_type": "markdown",
   "id": "d9028306",
   "metadata": {},
   "source": [
    "I"
   ]
  },
  {
   "cell_type": "code",
   "execution_count": null,
   "id": "ecd002ff",
   "metadata": {},
   "outputs": [],
   "source": [
    "while line := input():\n",
    "    hash_position = line.find(\"#\")\n",
    "\n",
    "    match (hash_position):\n",
    "        case -1:\n",
    "            print(line)\n",
    "        case 0:\n",
    "            continue\n",
    "        case _:\n",
    "            print(line[0:hash_position:])"
   ]
  },
  {
   "cell_type": "markdown",
   "id": "942bcb6f",
   "metadata": {},
   "source": [
    "J"
   ]
  },
  {
   "cell_type": "code",
   "execution_count": null,
   "id": "24d58461",
   "metadata": {},
   "outputs": [],
   "source": [
    "letters: list[str] = []\n",
    "\n",
    "while (line := input()) != \"ФИНИШ\":\n",
    "    letters.extend(list(\"\".join(line.lower().split(\" \"))))\n",
    "\n",
    "letters.sort()\n",
    "\n",
    "max_count = 0\n",
    "max_count_char: str\n",
    "\n",
    "for char in letters:\n",
    "    current_count = letters.count(char)\n",
    "\n",
    "    if current_count > max_count:\n",
    "        max_count = current_count\n",
    "        max_count_char = char\n",
    "\n",
    "print(max_count_char)"
   ]
  },
  {
   "cell_type": "markdown",
   "id": "eb8f2ac3",
   "metadata": {},
   "source": [
    "K"
   ]
  },
  {
   "cell_type": "code",
   "execution_count": null,
   "id": "57e55079",
   "metadata": {},
   "outputs": [],
   "source": [
    "titles_amount = int(input())\n",
    "\n",
    "titles = [input() for _ in range(titles_amount)]\n",
    "\n",
    "search_request = input().lower()\n",
    "\n",
    "for title in titles:\n",
    "    if title.lower().find(search_request) != -1:\n",
    "        print(title)"
   ]
  },
  {
   "cell_type": "markdown",
   "id": "e3a265ac",
   "metadata": {},
   "source": [
    "L"
   ]
  },
  {
   "cell_type": "code",
   "execution_count": null,
   "id": "66aebe14",
   "metadata": {},
   "outputs": [],
   "source": [
    "porridge_list = [\n",
    "    \"Манная\",\n",
    "    \"Гречневая\",\n",
    "    \"Пшённая\",\n",
    "    \"Овсяная\",\n",
    "    \"Рисовая\",\n",
    "]\n",
    "\n",
    "\n",
    "days_amount = int(input())\n",
    "\n",
    "for day in range(days_amount):\n",
    "    print(porridge_list[day % len(porridge_list)])"
   ]
  },
  {
   "cell_type": "markdown",
   "id": "e87348a8",
   "metadata": {},
   "source": [
    "M"
   ]
  },
  {
   "cell_type": "code",
   "execution_count": null,
   "id": "b33b32b4",
   "metadata": {},
   "outputs": [],
   "source": [
    "nums_amount = int(input())\n",
    "\n",
    "nums: list[int] = [int(input()) for _ in range(nums_amount)]\n",
    "\n",
    "power = int(input())\n",
    "\n",
    "for num in nums:\n",
    "    print(num**power)"
   ]
  },
  {
   "cell_type": "markdown",
   "id": "4634b00e",
   "metadata": {},
   "source": [
    "N"
   ]
  },
  {
   "cell_type": "code",
   "execution_count": null,
   "id": "7a5e96b1",
   "metadata": {},
   "outputs": [],
   "source": [
    "nums_iter = map(int, input().split(\" \"))\n",
    "\n",
    "power = int(input())\n",
    "\n",
    "for num in nums_iter:\n",
    "    print(num**power, end=\" \")"
   ]
  },
  {
   "cell_type": "markdown",
   "id": "dfb2012e",
   "metadata": {},
   "source": [
    "O"
   ]
  },
  {
   "cell_type": "code",
   "execution_count": null,
   "id": "09758100",
   "metadata": {},
   "outputs": [],
   "source": [
    "nums_list = list(map(int, input().split(\" \")))\n",
    "\n",
    "divider = nums_list[0]\n",
    "\n",
    "for index in range(1, len(nums_list), 1):\n",
    "    next_var = nums_list[index]\n",
    "\n",
    "    while next_var:\n",
    "        divider, next_var = next_var, divider % next_var\n",
    "\n",
    "print(divider)"
   ]
  },
  {
   "cell_type": "markdown",
   "id": "fe4b7049",
   "metadata": {},
   "source": [
    "P"
   ]
  },
  {
   "cell_type": "code",
   "execution_count": null,
   "id": "28908b74",
   "metadata": {},
   "outputs": [],
   "source": []
  },
  {
   "cell_type": "markdown",
   "id": "0219bb20",
   "metadata": {},
   "source": [
    "Q"
   ]
  },
  {
   "cell_type": "code",
   "execution_count": null,
   "id": "15948e37",
   "metadata": {},
   "outputs": [],
   "source": [
    "input_string = \"\".join(input().lower().split(\" \"))\n",
    "\n",
    "print(\"YES\" if input_string == input_string[::-1] else \"NO\")"
   ]
  },
  {
   "cell_type": "markdown",
   "id": "984fcee7",
   "metadata": {},
   "source": [
    "R"
   ]
  },
  {
   "cell_type": "code",
   "execution_count": null,
   "id": "9a58a58b",
   "metadata": {},
   "outputs": [],
   "source": [
    "input_string = input()\n",
    "\n",
    "length = len(input_string)\n",
    "\n",
    "counter = 0\n",
    "\n",
    "for index, digit in enumerate(input_string):\n",
    "    counter += 1\n",
    "\n",
    "    if index < length - 1 and input_string[index + 1] == digit:\n",
    "        continue\n",
    "\n",
    "    print(digit, counter)\n",
    "    counter = 0"
   ]
  },
  {
   "cell_type": "markdown",
   "id": "ab65767b",
   "metadata": {},
   "source": [
    "S"
   ]
  },
  {
   "cell_type": "code",
   "execution_count": null,
   "id": "82ab0eb5",
   "metadata": {},
   "outputs": [],
   "source": [
    "input_list = input().split(\" \")\n",
    "\n",
    "stack_s: list[int] = []\n",
    "\n",
    "\n",
    "for item in input_list:\n",
    "    if item.isdigit():\n",
    "        stack_s.append(int(item))\n",
    "        continue\n",
    "\n",
    "    second = stack_s.pop()\n",
    "    first = stack_s.pop()\n",
    "\n",
    "    match (item):\n",
    "        case \"+\":\n",
    "            stack_s.append(first + second)\n",
    "        case \"-\":\n",
    "            stack_s.append(first - second)\n",
    "        case \"*\":\n",
    "            stack_s.append(first * second)\n",
    "\n",
    "print(stack_s[0])"
   ]
  },
  {
   "cell_type": "markdown",
   "id": "61f9f74e",
   "metadata": {},
   "source": [
    "T"
   ]
  },
  {
   "cell_type": "code",
   "execution_count": null,
   "id": "07c79c6b",
   "metadata": {},
   "outputs": [],
   "source": [
    "input_list = input().split(\" \")\n",
    "\n",
    "stack: list[int] = []\n",
    "\n",
    "\n",
    "for item in input_list:\n",
    "    if item.isdigit():\n",
    "        stack.append(int(item))\n",
    "        continue\n",
    "\n",
    "    match (item):\n",
    "        case \"+\":\n",
    "            second = stack.pop()\n",
    "            first = stack.pop()\n",
    "            stack.append(first + second)\n",
    "\n",
    "        case \"-\":\n",
    "            second = stack.pop()\n",
    "            first = stack.pop()\n",
    "            stack.append(first - second)\n",
    "\n",
    "        case \"*\":\n",
    "            second = stack.pop()\n",
    "            first = stack.pop()\n",
    "            stack.append(first * second)\n",
    "\n",
    "        case \"/\":\n",
    "            second = stack.pop()\n",
    "            first = stack.pop()\n",
    "            stack.append(first // second)\n",
    "\n",
    "        case \"~\":\n",
    "            first = stack.pop()\n",
    "            stack.append(first * (-1))\n",
    "\n",
    "        case \"!\":\n",
    "            first = stack.pop()\n",
    "            stack.append(math.factorial(first))\n",
    "\n",
    "        case \"#\":\n",
    "            stack.append(stack[-1])\n",
    "\n",
    "        case \"@\":\n",
    "            stack.append(stack.pop(-3))\n",
    "\n",
    "print(stack[0])"
   ]
  }
 ],
 "metadata": {
  "kernelspec": {
   "display_name": "base",
   "language": "python",
   "name": "python3"
  },
  "language_info": {
   "codemirror_mode": {
    "name": "ipython",
    "version": 3
   },
   "file_extension": ".py",
   "mimetype": "text/x-python",
   "name": "python",
   "nbconvert_exporter": "python",
   "pygments_lexer": "ipython3",
   "version": "3.12.7"
  }
 },
 "nbformat": 4,
 "nbformat_minor": 5
}
