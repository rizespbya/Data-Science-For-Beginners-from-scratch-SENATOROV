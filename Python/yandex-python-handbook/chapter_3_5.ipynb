{
 "cells": [
  {
   "cell_type": "code",
   "execution_count": null,
   "id": "144d3bac",
   "metadata": {},
   "outputs": [],
   "source": [
    "\"\"\"\n",
    "Задания к главе 3.5.\n",
    "\n",
    "Потоковый ввод/вывод. Работа с текстовыми файлами. JSON.\n",
    "\n",
    "Хендбук Яндекс \"Основы Python\".\n",
    "\"\"\""
   ]
  },
  {
   "cell_type": "markdown",
   "id": "52663735",
   "metadata": {},
   "source": [
    "A"
   ]
  },
  {
   "cell_type": "code",
   "execution_count": null,
   "id": "020c0eea",
   "metadata": {},
   "outputs": [],
   "source": [
    "import json\n",
    "import math\n",
    "from itertools import chain\n",
    "from sys import stdin\n",
    "\n",
    "sum_a = sum(map(int, stdin.read().split()))\n",
    "\n",
    "print(sum_a)"
   ]
  },
  {
   "cell_type": "markdown",
   "id": "9a7c198d",
   "metadata": {},
   "source": [
    "B"
   ]
  },
  {
   "cell_type": "code",
   "execution_count": null,
   "id": "dc34bc16",
   "metadata": {},
   "outputs": [],
   "source": [
    "children = list(map(lambda line: line.rstrip(\"\\n\").split(), stdin.readlines()))\n",
    "\n",
    "total_diff = sum(map(lambda child: int(child[2]) - int(child[1]), children))\n",
    "\n",
    "print(round(total_diff / len(children)))"
   ]
  },
  {
   "cell_type": "markdown",
   "id": "6688b968",
   "metadata": {},
   "source": [
    "C"
   ]
  },
  {
   "cell_type": "code",
   "execution_count": null,
   "id": "d6115c69",
   "metadata": {},
   "outputs": [],
   "source": [
    "code_lines = map(lambda line: line.rstrip(\"\\n\"), stdin.readlines())\n",
    "\n",
    "for code_line in code_lines:\n",
    "    hash_index = code_line.find(\"#\")\n",
    "\n",
    "    match (hash_index):\n",
    "        case -1:\n",
    "            print(code_line)\n",
    "        case 0:\n",
    "            continue\n",
    "        case _:\n",
    "            print(code_line[:hash_index])"
   ]
  },
  {
   "cell_type": "markdown",
   "id": "db1f0d7b",
   "metadata": {},
   "source": [
    "D"
   ]
  },
  {
   "cell_type": "code",
   "execution_count": null,
   "id": "018edb4e",
   "metadata": {},
   "outputs": [],
   "source": [
    "input_d = stdin.readlines()\n",
    "titles = input_d[:-1]\n",
    "search_request = input_d[-1].rstrip(\"\\n\").lower()\n",
    "\n",
    "\n",
    "for title in titles:\n",
    "    if search_request in title.lower():\n",
    "        print(title.rstrip(\"\\n\"))"
   ]
  },
  {
   "cell_type": "markdown",
   "id": "5b31b2d1",
   "metadata": {},
   "source": [
    "E"
   ]
  },
  {
   "cell_type": "code",
   "execution_count": null,
   "id": "090b27b8",
   "metadata": {},
   "outputs": [],
   "source": [
    "input_words: list[str] = []\n",
    "\n",
    "for words in stdin:\n",
    "    input_words.extend(words.rstrip(\"\\n\").split())\n",
    "\n",
    "palindromes = list({word for word in input_words if word.lower() == word[::-1].lower()})\n",
    "\n",
    "palindromes.sort()\n",
    "\n",
    "print(\"\\n\".join(palindromes))"
   ]
  },
  {
   "cell_type": "markdown",
   "id": "9f625dc1",
   "metadata": {},
   "source": [
    "F"
   ]
  },
  {
   "cell_type": "code",
   "execution_count": null,
   "id": "5c6ea8d8",
   "metadata": {},
   "outputs": [],
   "source": [
    "LETTERS: dict[str, str] = {\n",
    "    \"А\": \"A\",\n",
    "    \"Б\": \"B\",\n",
    "    \"В\": \"V\",\n",
    "    \"Г\": \"G\",\n",
    "    \"Д\": \"D\",\n",
    "    \"Е\": \"E\",\n",
    "    \"Ё\": \"E\",\n",
    "    \"Ж\": \"Zh\",\n",
    "    \"З\": \"Z\",\n",
    "    \"И\": \"I\",\n",
    "    \"Й\": \"I\",\n",
    "    \"К\": \"K\",\n",
    "    \"Л\": \"L\",\n",
    "    \"М\": \"M\",\n",
    "    \"Н\": \"N\",\n",
    "    \"О\": \"O\",\n",
    "    \"П\": \"P\",\n",
    "    \"Р\": \"R\",\n",
    "    \"С\": \"S\",\n",
    "    \"Т\": \"T\",\n",
    "    \"У\": \"U\",\n",
    "    \"Ф\": \"F\",\n",
    "    \"Х\": \"Kh\",\n",
    "    \"Ц\": \"Tc\",\n",
    "    \"Ч\": \"Ch\",\n",
    "    \"Ш\": \"Sh\",\n",
    "    \"Щ\": \"Shch\",\n",
    "    \"Ы\": \"Y\",\n",
    "    \"Э\": \"E\",\n",
    "    \"Ю\": \"Iu\",\n",
    "    \"Я\": \"Ia\",\n",
    "    \"Ь\": \"\",\n",
    "    \"Ъ\": \"\",\n",
    "}\n",
    "\n",
    "with open(\"cyrillic.txt\", encoding=\"utf-8\") as my_file:\n",
    "    text = my_file.read()\n",
    "\n",
    "transformed_text = \"\"\n",
    "\n",
    "for letter in text:\n",
    "    upper_letter = letter.upper()\n",
    "\n",
    "    if upper_letter not in LETTERS:\n",
    "        transformed_text += letter\n",
    "        continue\n",
    "\n",
    "    is_upper = letter.isupper()\n",
    "\n",
    "    transformed_text += (\n",
    "        LETTERS[upper_letter] if is_upper else LETTERS[upper_letter].lower()\n",
    "    )\n",
    "\n",
    "\n",
    "with open(\"transliteration.txt\", \"w\", encoding=\"UTF-8\") as file_out:\n",
    "    file_out.write(transformed_text)"
   ]
  },
  {
   "cell_type": "markdown",
   "id": "50954764",
   "metadata": {},
   "source": [
    "G"
   ]
  },
  {
   "cell_type": "code",
   "execution_count": null,
   "id": "b479afd6",
   "metadata": {},
   "outputs": [],
   "source": [
    "file_name = input()\n",
    "\n",
    "with open(file_name, encoding=\"utf-8\") as my_file:\n",
    "    nums_iter = chain(*[line.rstrip(\"/n\").split() for line in my_file.readlines()])\n",
    "\n",
    "    numbers = [int(num) for num in nums_iter]\n",
    "\n",
    "print(len(numbers))\n",
    "print(len([num for num in numbers if num > 0]))\n",
    "print(min(numbers))\n",
    "print(max(numbers))\n",
    "print(sum(numbers))\n",
    "print(round(sum(numbers) / len(numbers), 2))"
   ]
  },
  {
   "cell_type": "markdown",
   "id": "2b47c9f4",
   "metadata": {},
   "source": [
    "H"
   ]
  },
  {
   "cell_type": "code",
   "execution_count": null,
   "id": "bc032881",
   "metadata": {},
   "outputs": [],
   "source": [
    "file1 = input()\n",
    "file2 = input()\n",
    "file3 = input()\n",
    "\n",
    "set1: set[str] = set()\n",
    "set2: set[str] = set()\n",
    "\n",
    "with open(file1, encoding=\"utf-8\") as current_file:\n",
    "    set1 = {word for word in current_file.read().split()}\n",
    "\n",
    "with open(file2, encoding=\"utf-8\") as current_file:\n",
    "    set2 = {word for word in current_file.read().split()}\n",
    "\n",
    "\n",
    "with open(file3, \"w\", encoding=\"utf-8\") as file_out:\n",
    "    file_out.write(\"\\n\".join(sorted(set1.symmetric_difference(set2))))"
   ]
  },
  {
   "cell_type": "markdown",
   "id": "d9028306",
   "metadata": {},
   "source": [
    "I"
   ]
  },
  {
   "cell_type": "code",
   "execution_count": null,
   "id": "ecd002ff",
   "metadata": {},
   "outputs": [],
   "source": [
    "file_in_i = input()\n",
    "file_out_i = input()\n",
    "\n",
    "result: list[list[str]] = []\n",
    "\n",
    "with open(file_in_i, encoding=\"utf-8\") as file:\n",
    "    for line in file:\n",
    "        result.append(line.strip().replace(\"\\t\", \"\").split())\n",
    "\n",
    "\n",
    "with open(file_out_i, \"w\", encoding=\"utf-8\") as file:\n",
    "    file.writelines([\" \".join(line) + \"\\n\" for line in result if line])"
   ]
  },
  {
   "cell_type": "markdown",
   "id": "942bcb6f",
   "metadata": {},
   "source": [
    "J"
   ]
  },
  {
   "cell_type": "code",
   "execution_count": null,
   "id": "24d58461",
   "metadata": {},
   "outputs": [],
   "source": [
    "file_name = input()\n",
    "lines_amount = int(input())\n",
    "\n",
    "with open(file_name, encoding=\"utf-8\") as file:\n",
    "    display_lines = file.readlines()[-lines_amount:]\n",
    "    print(\"\".join(display_lines))"
   ]
  },
  {
   "cell_type": "markdown",
   "id": "eb8f2ac3",
   "metadata": {},
   "source": [
    "K"
   ]
  },
  {
   "cell_type": "code",
   "execution_count": null,
   "id": "57e55079",
   "metadata": {},
   "outputs": [],
   "source": [
    "file_in = input()\n",
    "file_out_k = input()\n",
    "\n",
    "with open(file_in, encoding=\"utf-8\") as my_file:\n",
    "    nums = chain(*[line.rstrip(\"/n\").split() for line in my_file.readlines()])\n",
    "    numbers = [int(num) for num in nums]\n",
    "\n",
    "\n",
    "statistic: dict[str, int | float] = {\n",
    "    \"count\": len(numbers),\n",
    "    \"positive_count\": len([num for num in numbers if num > 0]),\n",
    "    \"min\": min(numbers),\n",
    "    \"max\": max(numbers),\n",
    "    \"sum\": sum(numbers),\n",
    "    \"average\": round(sum(numbers) / len(numbers), 2),\n",
    "}\n",
    "\n",
    "with open(file_out_k, \"w\", encoding=\"UTF-8\") as my_file:\n",
    "    json.dump(statistic, my_file, ensure_ascii=False, indent=2)"
   ]
  },
  {
   "cell_type": "markdown",
   "id": "e3a265ac",
   "metadata": {},
   "source": [
    "L"
   ]
  },
  {
   "cell_type": "code",
   "execution_count": null,
   "id": "66aebe14",
   "metadata": {},
   "outputs": [],
   "source": [
    "file_1 = input()\n",
    "file_2 = input()\n",
    "file_3 = input()\n",
    "file_4 = input()\n",
    "\n",
    "evens: list[str] = []\n",
    "odds: list[str] = []\n",
    "equals: list[str] = []\n",
    "\n",
    "even_digits = \"02468\"\n",
    "odd_digits = \"13579\"\n",
    "\n",
    "with open(file_1, encoding=\"utf-8\") as my_file:\n",
    "    nums_lines = my_file.readlines()\n",
    "\n",
    "    for line in nums_lines:\n",
    "\n",
    "        temp_evens: list[str] = []\n",
    "        temp_odds: list[str] = []\n",
    "        temp_equals: list[str] = []\n",
    "\n",
    "        for number in line.split():\n",
    "            evens_count = len([i for i in number if i in even_digits])\n",
    "            odd_count = len([i for i in number if i in odd_digits])\n",
    "\n",
    "            if evens_count > odd_count:\n",
    "                temp_evens.append(number)\n",
    "            elif evens_count < odd_count:\n",
    "                temp_odds.append(number)\n",
    "            else:\n",
    "                temp_equals.append(number)\n",
    "\n",
    "        evens.append(\" \".join(temp_evens) + \"\\n\")\n",
    "        odds.append(\" \".join(temp_odds) + \"\\n\")\n",
    "        equals.append(\" \".join(temp_equals) + \"\\n\")\n",
    "\n",
    "    with open(file_2, \"w\", encoding=\"UTF-8\") as file:\n",
    "        file.writelines(evens)\n",
    "    with open(file_3, \"w\", encoding=\"UTF-8\") as file:\n",
    "        file.writelines(odds)\n",
    "    with open(file_4, \"w\", encoding=\"UTF-8\") as file:\n",
    "        file.writelines(equals)"
   ]
  },
  {
   "cell_type": "markdown",
   "id": "e87348a8",
   "metadata": {},
   "source": [
    "M"
   ]
  },
  {
   "cell_type": "code",
   "execution_count": null,
   "id": "b33b32b4",
   "metadata": {},
   "outputs": [],
   "source": [
    "file_name = input()\n",
    "\n",
    "result_m: dict[str, str]\n",
    "\n",
    "with open(file_name, encoding=\"utf-8\") as file:\n",
    "    result_m = json.load(file)\n",
    "\n",
    "for line in stdin.readlines():\n",
    "\n",
    "    key, value = line.strip().split(\" == \")\n",
    "    result_m[key] = value\n",
    "\n",
    "\n",
    "with open(file_name, mode=\"w\", encoding=\"utf-8\") as my_file:\n",
    "    json.dump(result_m, my_file, ensure_ascii=False, indent=2)"
   ]
  },
  {
   "cell_type": "markdown",
   "id": "4634b00e",
   "metadata": {},
   "source": [
    "N"
   ]
  },
  {
   "cell_type": "code",
   "execution_count": null,
   "id": "7a5e96b1",
   "metadata": {},
   "outputs": [],
   "source": [
    "file_1 = input()\n",
    "file_2 = input()\n",
    "\n",
    "result_n: dict[str, dict[str, str]] = {}\n",
    "\n",
    "with open(file_1, encoding=\"utf-8\") as file:\n",
    "    data = json.load(file)\n",
    "\n",
    "with open(file_2, encoding=\"utf-8\") as file:\n",
    "    update = json.load(file)\n",
    "\n",
    "for user in data:\n",
    "    name = user.pop(\"name\")\n",
    "\n",
    "    result_n[name] = user\n",
    "\n",
    "\n",
    "for user in update:\n",
    "    name = user.pop(\"name\")\n",
    "\n",
    "    if name not in result_n:\n",
    "        result_n[name] = {}\n",
    "\n",
    "    for key in user:\n",
    "        print(key)\n",
    "        should_up = key not in result_n[name] or user[key] > result_n[name][key]\n",
    "\n",
    "        if should_up:\n",
    "            result_n[name][key] = user[key]\n",
    "\n",
    "with open(file_1, mode=\"w\", encoding=\"utf-8\") as my_file:\n",
    "    json.dump(result_n, my_file, ensure_ascii=False, indent=2)"
   ]
  },
  {
   "cell_type": "markdown",
   "id": "dfb2012e",
   "metadata": {},
   "source": [
    "O"
   ]
  },
  {
   "cell_type": "code",
   "execution_count": null,
   "id": "09758100",
   "metadata": {},
   "outputs": [],
   "source": [
    "answers = (answer.strip() for answer in stdin.readlines())\n",
    "\n",
    "file_name = \"scoring.json\"\n",
    "\n",
    "points = 0\n",
    "\n",
    "with open(file_name, encoding=\"UTF-8\") as file:\n",
    "    test_list = json.load(file)\n",
    "\n",
    "for group in test_list:\n",
    "    possible_points = group[\"points\"]\n",
    "\n",
    "    correct_amount = 0\n",
    "\n",
    "    for test in group[\"tests\"]:\n",
    "        current_answer = next(answers)\n",
    "\n",
    "        correct_answer = test[\"pattern\"]\n",
    "\n",
    "        if current_answer == correct_answer:\n",
    "            correct_amount += 1\n",
    "\n",
    "    group_points = (possible_points / len(group[\"tests\"])) * correct_amount\n",
    "\n",
    "    points += group_points\n",
    "\n",
    "print(int(points))"
   ]
  },
  {
   "cell_type": "markdown",
   "id": "fe4b7049",
   "metadata": {},
   "source": [
    "P"
   ]
  },
  {
   "cell_type": "code",
   "execution_count": null,
   "id": "28908b74",
   "metadata": {},
   "outputs": [],
   "source": [
    "request = \" \".join(input().lower().split())\n",
    "\n",
    "result_p: list[str] = []\n",
    "\n",
    "for file_p in stdin:\n",
    "    with open(file_p.strip(), encoding=\"UTF-8\") as my_file:\n",
    "        if request in \" \".join(my_file.read().lower().split()):\n",
    "            result_p.append(file_p.strip())\n",
    "\n",
    "print(\"\\n\".join(result_p) if result_p else \"404. Not Found\")"
   ]
  },
  {
   "cell_type": "markdown",
   "id": "0219bb20",
   "metadata": {},
   "source": [
    "Q"
   ]
  },
  {
   "cell_type": "code",
   "execution_count": null,
   "id": "15948e37",
   "metadata": {},
   "outputs": [],
   "source": [
    "decoded_text = \"\"\n",
    "\n",
    "with open(\"secret.txt\", encoding=\"UTF-8\") as file:\n",
    "    coded_text = file.read()\n",
    "\n",
    "    for char in coded_text:\n",
    "        code = ord(char)\n",
    "        code = code % 256 if code >= 128 else code\n",
    "        decoded_text += chr(code)\n",
    "\n",
    "\n",
    "print(decoded_text)"
   ]
  },
  {
   "cell_type": "markdown",
   "id": "984fcee7",
   "metadata": {},
   "source": [
    "R"
   ]
  },
  {
   "cell_type": "code",
   "execution_count": null,
   "id": "9a58a58b",
   "metadata": {},
   "outputs": [],
   "source": [
    "file_name = input()\n",
    "\n",
    "with open(file_name, encoding=\"UTF-8\") as file:\n",
    "    file.seek(0, 2)\n",
    "    position = file.tell()\n",
    "\n",
    "size: float = position\n",
    "\n",
    "postfix = [\"Б\", \"КБ\", \"МБ\", \"ГБ\", \"ТБ\"]\n",
    "index = 0\n",
    "\n",
    "while size > 1024 and index < len(postfix) - 1:\n",
    "    index += 1\n",
    "    size = size / 1024\n",
    "\n",
    "print(f\"{math.ceil(size)}{postfix[index]}\")"
   ]
  },
  {
   "cell_type": "markdown",
   "id": "ab65767b",
   "metadata": {},
   "source": [
    "S"
   ]
  },
  {
   "cell_type": "code",
   "execution_count": null,
   "id": "82ab0eb5",
   "metadata": {},
   "outputs": [],
   "source": [
    "offset = int(input()) % 26\n",
    "\n",
    "encoded = \"\"\n",
    "\n",
    "a_code = ord(\"a\")\n",
    "z_code = ord(\"z\")\n",
    "\n",
    "with open(\"public.txt\", encoding=\"UTF-8\") as file:\n",
    "    text = file.read()\n",
    "\n",
    "    for char in text:\n",
    "        lower = char.lower()\n",
    "\n",
    "        is_upper = char.isupper()\n",
    "\n",
    "        code = ord(lower)\n",
    "\n",
    "        if code < a_code or code > z_code:\n",
    "            encoded += char\n",
    "            continue\n",
    "\n",
    "        new_code = code + offset\n",
    "\n",
    "        if new_code > z_code:\n",
    "            new_code -= 26\n",
    "        if new_code < a_code:\n",
    "            new_code += 26\n",
    "\n",
    "        encoded += chr(new_code).upper() if is_upper else chr(new_code)\n",
    "\n",
    "\n",
    "with open(\"private.txt\", mode=\"w\", encoding=\"UTF-8\") as file:\n",
    "    file.write(encoded)"
   ]
  },
  {
   "cell_type": "markdown",
   "id": "61f9f74e",
   "metadata": {},
   "source": [
    "T"
   ]
  },
  {
   "cell_type": "code",
   "execution_count": null,
   "id": "07c79c6b",
   "metadata": {},
   "outputs": [],
   "source": []
  }
 ],
 "metadata": {
  "kernelspec": {
   "display_name": "base",
   "language": "python",
   "name": "python3"
  },
  "language_info": {
   "codemirror_mode": {
    "name": "ipython",
    "version": 3
   },
   "file_extension": ".py",
   "mimetype": "text/x-python",
   "name": "python",
   "nbconvert_exporter": "python",
   "pygments_lexer": "ipython3",
   "version": "3.12.7"
  }
 },
 "nbformat": 4,
 "nbformat_minor": 5
}
