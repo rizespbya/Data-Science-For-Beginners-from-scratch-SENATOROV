{
 "cells": [
  {
   "cell_type": "code",
   "execution_count": null,
   "id": "144d3bac",
   "metadata": {},
   "outputs": [],
   "source": [
    "\"\"\"\n",
    "Задания к главе 6.3.\n",
    "\n",
    "Модуль requests\n",
    "\n",
    "Хендбук Яндекс \"Основы Python\".\n",
    "\"\"\""
   ]
  },
  {
   "cell_type": "markdown",
   "id": "d9028306",
   "metadata": {},
   "source": [
    "A"
   ]
  },
  {
   "cell_type": "code",
   "execution_count": null,
   "id": "ecd002ff",
   "metadata": {},
   "outputs": [],
   "source": [
    "import sys\n",
    "\n",
    "from requests import delete, get, post, put\n",
    "\n",
    "base_host = \"http://127.0.0.1:5000\"\n",
    "\n",
    "response = get(base_host)\n",
    "\n",
    "message = response.content.decode(\"utf-8\")\n",
    "\n",
    "print(message)"
   ]
  },
  {
   "cell_type": "markdown",
   "id": "942bcb6f",
   "metadata": {},
   "source": [
    "B"
   ]
  },
  {
   "cell_type": "code",
   "execution_count": null,
   "id": "24d58461",
   "metadata": {},
   "outputs": [],
   "source": [
    "base_host = f\"http://{input()}\"\n",
    "\n",
    "result = 0\n",
    "\n",
    "while response_b := int(get(base_host).text):\n",
    "    result += response_b\n",
    "\n",
    "print(result)"
   ]
  },
  {
   "cell_type": "markdown",
   "id": "c44ac8ab",
   "metadata": {},
   "source": [
    "C"
   ]
  },
  {
   "cell_type": "code",
   "execution_count": null,
   "id": "e8006a6c",
   "metadata": {},
   "outputs": [],
   "source": [
    "base_host = f\"http://{input()}\"\n",
    "\n",
    "response_c = get(base_host).json()\n",
    "\n",
    "sum_c = 0\n",
    "for item in response_c:\n",
    "    sum_c += item if isinstance(item, int) else 0\n",
    "\n",
    "print(sum_c)"
   ]
  },
  {
   "cell_type": "markdown",
   "id": "bd2004d4",
   "metadata": {},
   "source": [
    "D"
   ]
  },
  {
   "cell_type": "code",
   "execution_count": null,
   "id": "1287244b",
   "metadata": {},
   "outputs": [],
   "source": [
    "base_host = f\"http://{input()}\"\n",
    "key = input()\n",
    "\n",
    "response_d = get(base_host).json()\n",
    "\n",
    "print(response_d.get(key, \"No data\"))"
   ]
  },
  {
   "cell_type": "markdown",
   "id": "a14327ea",
   "metadata": {},
   "source": [
    "E"
   ]
  },
  {
   "cell_type": "code",
   "execution_count": null,
   "id": "246e3cd1",
   "metadata": {},
   "outputs": [],
   "source": [
    "host, *paths = map(str.strip, sys.stdin)\n",
    "\n",
    "results = [get(f\"http://{host}{path}\").json() for path in paths]\n",
    "\n",
    "print(sum(sum(nums) for nums in results))"
   ]
  },
  {
   "cell_type": "markdown",
   "id": "2df858d8",
   "metadata": {},
   "source": [
    "F"
   ]
  },
  {
   "cell_type": "code",
   "execution_count": null,
   "id": "d71637b0",
   "metadata": {},
   "outputs": [],
   "source": [
    "host = f\"http://{input()}\"\n",
    "\n",
    "users = get(f\"{host}/users\").json()\n",
    "\n",
    "names = list(\n",
    "    map(lambda user: f\"{user['last_name']} {user['first_name']}\", users)\n",
    ")\n",
    "\n",
    "print(\"\\n\".join(sorted(names)))"
   ]
  },
  {
   "cell_type": "markdown",
   "id": "719a93df",
   "metadata": {},
   "source": [
    "G"
   ]
  },
  {
   "cell_type": "code",
   "execution_count": null,
   "id": "cca8ef95",
   "metadata": {},
   "outputs": [],
   "source": [
    "host = f\"http://{input()}\"\n",
    "user_id = input()\n",
    "\n",
    "text = \"\".join(string for string in sys.stdin)\n",
    "\n",
    "\n",
    "try:\n",
    "    user = get(f\"{host}/users/{user_id}\").json()\n",
    "except ValueError:\n",
    "    print(\"Пользователь не найден\")\n",
    "else:\n",
    "    for key in user:\n",
    "        text = text.replace(f\"{{{key}}}\", str(user[key]))\n",
    "    print(text)"
   ]
  },
  {
   "cell_type": "markdown",
   "id": "bccc767d",
   "metadata": {},
   "source": [
    "H"
   ]
  },
  {
   "cell_type": "code",
   "execution_count": null,
   "id": "eac9e370",
   "metadata": {},
   "outputs": [],
   "source": [
    "keys = [\"username\", \"last_name\", \"first_name\", \"email\"]\n",
    "\n",
    "host, *data = map(str.strip, sys.stdin)\n",
    "\n",
    "user_dict: dict[str, str] = dict(zip(keys, data))\n",
    "\n",
    "post(f\"http://{host}/users/\", json=user_dict)"
   ]
  },
  {
   "cell_type": "markdown",
   "id": "44a2f213",
   "metadata": {},
   "source": [
    "I"
   ]
  },
  {
   "cell_type": "code",
   "execution_count": null,
   "id": "342d1f05",
   "metadata": {},
   "outputs": [],
   "source": [
    "host, user_id, *updated_data = map(str.strip, sys.stdin)\n",
    "\n",
    "updated_data_dict: dict[str, str] = dict(\n",
    "    map(lambda item: item.split(\"=\"), updated_data)\n",
    ")\n",
    "\n",
    "print(updated_data_dict)\n",
    "put(f\"http://{host}/users/{user_id}\", json=updated_data_dict)"
   ]
  },
  {
   "cell_type": "markdown",
   "id": "2574d9c7",
   "metadata": {},
   "source": [
    "J"
   ]
  },
  {
   "cell_type": "code",
   "execution_count": null,
   "id": "87e43170",
   "metadata": {},
   "outputs": [],
   "source": [
    "host, user_id = map(str.strip, sys.stdin)\n",
    "\n",
    "delete(f\"http://{host}/users/{user_id}\")"
   ]
  }
 ],
 "metadata": {
  "kernelspec": {
   "display_name": "base",
   "language": "python",
   "name": "python3"
  },
  "language_info": {
   "codemirror_mode": {
    "name": "ipython",
    "version": 3
   },
   "file_extension": ".py",
   "mimetype": "text/x-python",
   "name": "python",
   "nbconvert_exporter": "python",
   "pygments_lexer": "ipython3",
   "version": "3.12.7"
  }
 },
 "nbformat": 4,
 "nbformat_minor": 5
}
