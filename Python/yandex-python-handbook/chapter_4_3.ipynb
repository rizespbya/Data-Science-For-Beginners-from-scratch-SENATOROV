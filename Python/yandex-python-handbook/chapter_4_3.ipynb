{
 "cells": [
  {
   "cell_type": "code",
   "execution_count": null,
   "id": "144d3bac",
   "metadata": {},
   "outputs": [],
   "source": [
    "\"\"\"\n",
    "Задания к главе 4.3.\n",
    "\n",
    "Рекурсия. Декораторы. Генераторы\n",
    "\n",
    "Хендбук Яндекс \"Основы Python\".\n",
    "\"\"\""
   ]
  },
  {
   "cell_type": "markdown",
   "id": "52663735",
   "metadata": {},
   "source": [
    "A"
   ]
  },
  {
   "cell_type": "code",
   "execution_count": null,
   "id": "020c0eea",
   "metadata": {},
   "outputs": [],
   "source": [
    "from typing import Generator, Union\n",
    "\n",
    "\n",
    "def recursive_sum(*nums: int) -> int:\n",
    "    \"\"\"\n",
    "    Возвращает рекурсивную сумму переданных аргументов.\n",
    "\n",
    "    Args:\n",
    "    *nums (int): Целые числа.\n",
    "\n",
    "    Returns:\n",
    "        int: Сумма.\n",
    "    \"\"\"\n",
    "    if len(nums) == 0:\n",
    "        return 0\n",
    "\n",
    "    return nums[-1] + recursive_sum(*nums[:-1])"
   ]
  },
  {
   "cell_type": "markdown",
   "id": "9a7c198d",
   "metadata": {},
   "source": [
    "B"
   ]
  },
  {
   "cell_type": "code",
   "execution_count": null,
   "id": "dc34bc16",
   "metadata": {},
   "outputs": [],
   "source": [
    "def recursive_digit_sum(num: int) -> int:\n",
    "    \"\"\"\n",
    "    Возвращает сумму цифр переданного числа.\n",
    "\n",
    "    Args:\n",
    "        num (int): Целое число.\n",
    "\n",
    "    Returns:\n",
    "        int: Сумма цифр переданного числа.\n",
    "    \"\"\"\n",
    "    if num == 0:\n",
    "        return 0\n",
    "\n",
    "    return num % 10 + recursive_digit_sum(num // 10)"
   ]
  },
  {
   "cell_type": "markdown",
   "id": "6688b968",
   "metadata": {},
   "source": [
    "C"
   ]
  },
  {
   "cell_type": "code",
   "execution_count": null,
   "id": "d6115c69",
   "metadata": {},
   "outputs": [],
   "source": [
    "def make_equation(*nums: int) -> str:\n",
    "    \"\"\"\n",
    "    Возвращает многочлен N-ой степени.\n",
    "\n",
    "    Для построения используются переданные коэффициенты.\n",
    "\n",
    "    Args:\n",
    "        *num (int): Целые числа.\n",
    "\n",
    "    Returns:\n",
    "        int: Многочлен N-ой степени.\n",
    "    \"\"\"\n",
    "    if len(nums) == 1:\n",
    "        return f\"{nums[0]}\"\n",
    "\n",
    "    return f\"({make_equation(*nums[:-1])}) * x + {nums[-1]}\""
   ]
  },
  {
   "cell_type": "markdown",
   "id": "db1f0d7b",
   "metadata": {},
   "source": [
    "D"
   ]
  },
  {
   "cell_type": "markdown",
   "id": "018edb4e",
   "metadata": {},
   "source": [
    "T = TypeVar(\"T\")\n",
    "AnyFunction = Callable[..., T]\n",
    "\n",
    "\n",
    "def answer(fn: AnyFunction) -> Callable[[int,...], str]:\n",
    "    \"\"\"\n",
    "    Декоратор, который оборачивает функцию.\n",
    "\n",
    "    Возвращает строку с результатом ее выполнения.\n",
    "\n",
    "    Добавляет префикс \"Результат функции: \" к строковому представлению\n",
    "    возвращаемого значения декорируемой функции.\n",
    "\n",
    "    Args:\n",
    "        fn (AnyFunction): Функция, которую нужно обернуть. Может принимать\n",
    "        любые позиционные и именованные аргументы (*args, **kwargs) и\n",
    "        возвращать значение любого типа.\n",
    "\n",
    "    Returns:\n",
    "        Callable[..., str]: Функция-обёртка.\n",
    "    \"\"\"\n",
    "\n",
    "    def inner(*args, **kwargs):\n",
    "        return f\"Результат функции: {fn(*args, **kwargs)}\"\n",
    "\n",
    "    return inner"
   ]
  },
  {
   "cell_type": "markdown",
   "id": "5b31b2d1",
   "metadata": {},
   "source": [
    "E"
   ]
  },
  {
   "cell_type": "markdown",
   "id": "090b27b8",
   "metadata": {},
   "source": [
    "Method = Literal[\"accumulate\", \"drop\"]\n",
    "\n",
    "\n",
    "def result_accumulator[Result](\n",
    "    fn: Callable[..., Result],\n",
    ") -> Callable[..., list[Result] | None]:\n",
    "    \"\"\"\n",
    "    Декоратор, который позволяет функции аккумулировать значения.\n",
    "\n",
    "    Args:\n",
    "        fn (Callable[..., Result]): Обрачиваемая функция.\n",
    "    Returns:\n",
    "        _type_: Функция, которая может аккумулировать значения.\n",
    "    \"\"\"\n",
    "    queue: list[Result] = []\n",
    "\n",
    "    @wraps(fn)\n",
    "    def inner(\n",
    "        *args,\n",
    "        method: Method = \"accumulate\",\n",
    "        **kwargs,\n",
    "    ):\n",
    "        \"\"\"\n",
    "        Функция, которая может аккумулировать значения.\n",
    "\n",
    "        Args:\n",
    "            method (Method, optional): Если передано 'accumulate', функция\n",
    "            накапливает значения. Если передано 'drop' - возвращает\n",
    "            массив накопленных значений и очищает накопленные результаты.\n",
    "            Defaults to \"accumulate\".\n",
    "\n",
    "        Returns:\n",
    "            _type_: Массив результатов.\n",
    "        \"\"\"\n",
    "        if method == \"accumulate\":\n",
    "            queue.append(fn(*args, **kwargs))\n",
    "        if method == \"drop\":\n",
    "            queue.append(fn(*args, **kwargs))\n",
    "            result = list(queue)\n",
    "            queue.clear()\n",
    "\n",
    "            return result\n",
    "\n",
    "    return inner"
   ]
  },
  {
   "cell_type": "markdown",
   "id": "9f625dc1",
   "metadata": {},
   "source": [
    "F"
   ]
  },
  {
   "cell_type": "code",
   "execution_count": null,
   "id": "5c6ea8d8",
   "metadata": {},
   "outputs": [],
   "source": [
    "def merge(left: list[int], right: list[int]) -> list[int]:\n",
    "    \"\"\"\n",
    "    Функция для слияния двух отсортированных списков.\n",
    "\n",
    "    Args:\n",
    "        left (list[int]): Первый отсортированный список целых чисел.\n",
    "        right (list[int]): Второй отсортированный список целых чисел.\n",
    "\n",
    "    Returns:\n",
    "        list[int]: Отсортированный список целых чисел.\n",
    "    \"\"\"\n",
    "    result: list[int] = []\n",
    "    pos_left = pos_right = 0\n",
    "\n",
    "    while pos_left < len(left) and pos_right < len(right):\n",
    "        if left[pos_left] < right[pos_right]:\n",
    "            result.append(left[pos_left])\n",
    "            pos_left += 1\n",
    "        else:\n",
    "            result.append(right[pos_right])\n",
    "            pos_right += 1\n",
    "\n",
    "    result += left[pos_left:]\n",
    "    result += right[pos_right:]\n",
    "\n",
    "    return result\n",
    "\n",
    "\n",
    "def merge_sort(nums: list[int]) -> list[int]:\n",
    "    \"\"\"\n",
    "    Функция для сортировки списка слиянием.\n",
    "\n",
    "    Использует вспомогательную функцию merge, которая объединяет два\n",
    "    отсортированных списка.\n",
    "\n",
    "    Args:\n",
    "        nums (list[int]): Несортированный список целых чисел.\n",
    "\n",
    "    Returns:\n",
    "        list[int]: Отсортированный список целых чисел.\n",
    "    \"\"\"\n",
    "    if len(nums) <= 1:\n",
    "        return nums\n",
    "\n",
    "    middle = len(nums) // 2\n",
    "\n",
    "    left = merge_sort(nums[:middle])\n",
    "    right = merge_sort(nums[middle:])\n",
    "\n",
    "    return merge(left, right)"
   ]
  },
  {
   "cell_type": "markdown",
   "id": "50954764",
   "metadata": {},
   "source": [
    "G"
   ]
  },
  {
   "cell_type": "markdown",
   "id": "b479afd6",
   "metadata": {},
   "source": [
    "def same_type(fn):\n",
    "    \"\"\"\n",
    "    Декоратор, который проверяет аргументы оборачиваемой функции.\n",
    "\n",
    "    Если аргументы одного типа, возвращает результат выполнения функции.\n",
    "    Если аргументы разного типа, выподит строку:\n",
    "    \"Обнаружены различные типы данных\"\n",
    "\n",
    "    Args:\n",
    "        fn (function): Оборачиваемая функция, которая принимает неограниченное\n",
    "        количество аргументов\n",
    "    \"\"\"\n",
    "\n",
    "    def inner(*args):\n",
    "        if all(isinstance(arg, type(args[0])) for arg in args):\n",
    "            return fn(*args)\n",
    "\n",
    "        print(\"Обнаружены различные типы данных\")\n",
    "\n",
    "    return inner"
   ]
  },
  {
   "cell_type": "markdown",
   "id": "2b47c9f4",
   "metadata": {},
   "source": [
    "H"
   ]
  },
  {
   "cell_type": "code",
   "execution_count": null,
   "id": "bc032881",
   "metadata": {},
   "outputs": [],
   "source": [
    "def fibonacci(num: int) -> Generator[int, None, None]:\n",
    "    \"\"\"\n",
    "    Функция возвращает num первых членов последовательности Фибоначчи.\n",
    "\n",
    "    Первый член последовательности равен 0.\n",
    "\n",
    "    Args:\n",
    "        num (int): Целое число.\n",
    "\n",
    "    Yields:\n",
    "        Generator[int, None, None]: Целое число.\n",
    "    \"\"\"\n",
    "    prev_prev = 0\n",
    "    prev = 1\n",
    "\n",
    "    for _ in range(num):\n",
    "        yield prev_prev\n",
    "        prev_prev, prev = prev, prev + prev_prev"
   ]
  },
  {
   "cell_type": "markdown",
   "id": "d9028306",
   "metadata": {},
   "source": [
    "I"
   ]
  },
  {
   "cell_type": "code",
   "execution_count": null,
   "id": "ecd002ff",
   "metadata": {},
   "outputs": [],
   "source": [
    "def cycle(nums: list[int]) -> Generator[int, None, None]:\n",
    "    \"\"\"\n",
    "    Генератор зацикливает переданный список.\n",
    "\n",
    "    Бесконечно возвращает следующий элемент списка.\n",
    "    Если список закончился, начинает возвращать элементы с начала списка\n",
    "\n",
    "    Args:\n",
    "        nums (list[int]): Список целых чисел.\n",
    "\n",
    "    Yields:\n",
    "        Generator[int, None, None]: Целое число, элемент списка.\n",
    "    \"\"\"\n",
    "    index = 0\n",
    "\n",
    "    while True:\n",
    "        yield nums[index]\n",
    "\n",
    "        index = index + 1 if index < len(nums) - 1 else 0"
   ]
  },
  {
   "cell_type": "markdown",
   "id": "942bcb6f",
   "metadata": {},
   "source": [
    "J"
   ]
  },
  {
   "cell_type": "code",
   "execution_count": null,
   "id": "24d58461",
   "metadata": {},
   "outputs": [],
   "source": [
    "IntList = Union[int, list[\"IntList\"]]\n",
    "\n",
    "\n",
    "def make_linear(items: list[IntList]) -> list[int]:\n",
    "    \"\"\"\n",
    "    Распаковывает переданный список.\n",
    "\n",
    "    Args:\n",
    "        nums (list[list | int]): Список, состоящий из целых чисел или\n",
    "        других списков.\n",
    "\n",
    "    Yields:\n",
    "        list[int]: Список целых чисел.\n",
    "    \"\"\"\n",
    "    result: list[int] = []\n",
    "\n",
    "    for item in items:\n",
    "        if isinstance(item, list):\n",
    "            result.extend(make_linear(item))\n",
    "        else:\n",
    "            result.append(item)\n",
    "\n",
    "    return result"
   ]
  }
 ],
 "metadata": {
  "kernelspec": {
   "display_name": "base",
   "language": "python",
   "name": "python3"
  },
  "language_info": {
   "codemirror_mode": {
    "name": "ipython",
    "version": 3
   },
   "file_extension": ".py",
   "mimetype": "text/x-python",
   "name": "python",
   "nbconvert_exporter": "python",
   "pygments_lexer": "ipython3",
   "version": "3.12.7"
  }
 },
 "nbformat": 4,
 "nbformat_minor": 5
}
