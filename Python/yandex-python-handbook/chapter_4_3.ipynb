{
 "cells": [
  {
   "cell_type": "code",
   "execution_count": null,
   "id": "144d3bac",
   "metadata": {},
   "outputs": [],
   "source": [
    "\"\"\"\n",
    "Задания к главе 4.3.\n",
    "\n",
    "Рекурсия. Декораторы. Генераторы\n",
    "\n",
    "Хендбук Яндекс \"Основы Python\".\n",
    "\"\"\""
   ]
  },
  {
   "cell_type": "markdown",
   "id": "52663735",
   "metadata": {},
   "source": [
    "A"
   ]
  },
  {
   "cell_type": "code",
   "execution_count": null,
   "id": "020c0eea",
   "metadata": {},
   "outputs": [],
   "source": [
    "def recursive_sum(*nums: int) -> int:\n",
    "    \"\"\"\n",
    "    Возвращает рекурсивную сумму переданных аргументов.\n",
    "\n",
    "    Args:\n",
    "    *nums (int): Целые числа.\n",
    "\n",
    "    Returns:\n",
    "        int: Сумма.\n",
    "    \"\"\"\n",
    "    if len(nums) == 0:\n",
    "        return 0\n",
    "\n",
    "    return nums[-1] + recursive_sum(*nums[:-1])"
   ]
  },
  {
   "cell_type": "markdown",
   "id": "fba20e92",
   "metadata": {},
   "source": []
  },
  {
   "cell_type": "markdown",
   "id": "9a7c198d",
   "metadata": {},
   "source": [
    "B"
   ]
  },
  {
   "cell_type": "code",
   "execution_count": null,
   "id": "dc34bc16",
   "metadata": {},
   "outputs": [],
   "source": [
    "def recursive_digit_sum(num: int) -> int:\n",
    "    \"\"\"\n",
    "    Возвращает сумму цифр переданного числа.\n",
    "\n",
    "    Args:\n",
    "        num (int): Целое число.\n",
    "\n",
    "    Returns:\n",
    "        int: Сумма цифр переданного числа.\n",
    "    \"\"\"\n",
    "    if num == 0:\n",
    "        return 0\n",
    "\n",
    "    return num % 10 + recursive_digit_sum(num // 10)"
   ]
  },
  {
   "cell_type": "markdown",
   "id": "6688b968",
   "metadata": {},
   "source": [
    "C"
   ]
  },
  {
   "cell_type": "code",
   "execution_count": null,
   "id": "d6115c69",
   "metadata": {},
   "outputs": [],
   "source": [
    "def make_equation(*nums: int) -> str:\n",
    "    \"\"\"\n",
    "    Возвращает многочлен N-ой степени.\n",
    "\n",
    "    Для построения используются переданные коэффициенты.\n",
    "\n",
    "    Args:\n",
    "        *num (int): Целые числа.\n",
    "\n",
    "    Returns:\n",
    "        int: Многочлен N-ой степени.\n",
    "    \"\"\"\n",
    "    if len(nums) == 1:\n",
    "        return f\"{nums[0]}\"\n",
    "\n",
    "    return f\"({make_equation(*nums[:-1])}) * x + {nums[-1]}\""
   ]
  },
  {
   "cell_type": "markdown",
   "id": "db1f0d7b",
   "metadata": {},
   "source": [
    "D"
   ]
  },
  {
   "cell_type": "markdown",
   "id": "018edb4e",
   "metadata": {},
   "source": [
    "T = TypeVar(\"T\")\n",
    "AnyFunction = Callable[..., T]\n",
    "\n",
    "\n",
    "def answer(fn: AnyFunction) -> Callable[[int,...], str]:\n",
    "    \"\"\"\n",
    "    Декоратор, который оборачивает функцию.\n",
    "\n",
    "    Возвращает строку с результатом ее выолнения.\n",
    "\n",
    "    Добавляет префикс \"Результат функции: \" к строковому представлению\n",
    "    возвращаемого значения декорируемой функции.\n",
    "\n",
    "    Args:\n",
    "        fn (AnyFunction): Функция, которую нужно обернуть. Может принимать\n",
    "        любые позиционные и именованные аргументы (*args, **kwargs) и\n",
    "        возвращать значение любого типа.\n",
    "\n",
    "    Returns:\n",
    "        Callable[..., str]: Функция-обёртка.\n",
    "    \"\"\"\n",
    "\n",
    "    def inner(*args, **kwargs):\n",
    "        return f\"Результат функции: {fn(*args, **kwargs)}\"\n",
    "\n",
    "    return inner"
   ]
  },
  {
   "cell_type": "markdown",
   "id": "5b31b2d1",
   "metadata": {},
   "source": [
    "E"
   ]
  },
  {
   "cell_type": "markdown",
   "id": "090b27b8",
   "metadata": {},
   "source": [
    "Method = Literal[\"accumulate\", \"drop\"]\n",
    "\n",
    "\n",
    "def result_accumulator[Result](\n",
    "    fn: Callable[..., Result],\n",
    ") -> Callable[..., list[Result] | None]:\n",
    "    \"\"\"\n",
    "    Декоратор, который позволяет функции аккумулировать значения.\n",
    "\n",
    "    Args:\n",
    "        fn (Callable[..., Result]): Обрачиваемая функция.\n",
    "    Returns:\n",
    "        _type_: Функция, которая может аккумулировать значения.\n",
    "    \"\"\"\n",
    "    queue: list[Result] = []\n",
    "\n",
    "    @wraps(fn)\n",
    "    def inner(\n",
    "        *args,\n",
    "        method: Method = \"accumulate\",\n",
    "        **kwargs,\n",
    "    ):\n",
    "        \"\"\"\n",
    "        Функция, которая может аккумулировать значения.\n",
    "\n",
    "        Args:\n",
    "            method (Method, optional): Если передано 'accumulate', функция\n",
    "            накапливает значения. Если передано 'drop' - возвращает\n",
    "            массив накопленных значений и очищает накопленные результаты.\n",
    "            Defaults to \"accumulate\".\n",
    "\n",
    "        Returns:\n",
    "            _type_: Массив результатов.\n",
    "        \"\"\"\n",
    "        if method == \"accumulate\":\n",
    "            queue.append(fn(*args, **kwargs))\n",
    "        if method == \"drop\":\n",
    "            queue.append(fn(*args, **kwargs))\n",
    "            result = list(queue)\n",
    "            queue.clear()\n",
    "\n",
    "            return result\n",
    "\n",
    "    return inner"
   ]
  },
  {
   "cell_type": "markdown",
   "id": "9f625dc1",
   "metadata": {},
   "source": [
    "F"
   ]
  },
  {
   "cell_type": "code",
   "execution_count": null,
   "id": "5c6ea8d8",
   "metadata": {},
   "outputs": [],
   "source": []
  },
  {
   "cell_type": "markdown",
   "id": "50954764",
   "metadata": {},
   "source": [
    "G"
   ]
  },
  {
   "cell_type": "code",
   "execution_count": null,
   "id": "b479afd6",
   "metadata": {},
   "outputs": [],
   "source": []
  },
  {
   "cell_type": "markdown",
   "id": "2b47c9f4",
   "metadata": {},
   "source": [
    "H"
   ]
  },
  {
   "cell_type": "code",
   "execution_count": null,
   "id": "bc032881",
   "metadata": {},
   "outputs": [],
   "source": []
  },
  {
   "cell_type": "markdown",
   "id": "d9028306",
   "metadata": {},
   "source": [
    "I"
   ]
  },
  {
   "cell_type": "code",
   "execution_count": null,
   "id": "ecd002ff",
   "metadata": {},
   "outputs": [],
   "source": []
  },
  {
   "cell_type": "markdown",
   "id": "942bcb6f",
   "metadata": {},
   "source": [
    "J"
   ]
  },
  {
   "cell_type": "code",
   "execution_count": null,
   "id": "24d58461",
   "metadata": {},
   "outputs": [],
   "source": []
  },
  {
   "cell_type": "markdown",
   "id": "eb8f2ac3",
   "metadata": {},
   "source": [
    "K"
   ]
  },
  {
   "cell_type": "code",
   "execution_count": null,
   "id": "57e55079",
   "metadata": {},
   "outputs": [],
   "source": []
  },
  {
   "cell_type": "markdown",
   "id": "e3a265ac",
   "metadata": {},
   "source": [
    "L"
   ]
  },
  {
   "cell_type": "code",
   "execution_count": null,
   "id": "66aebe14",
   "metadata": {},
   "outputs": [],
   "source": []
  },
  {
   "cell_type": "markdown",
   "id": "e87348a8",
   "metadata": {},
   "source": [
    "M"
   ]
  },
  {
   "cell_type": "code",
   "execution_count": null,
   "id": "f80533cb",
   "metadata": {},
   "outputs": [],
   "source": []
  },
  {
   "cell_type": "code",
   "execution_count": null,
   "id": "b33b32b4",
   "metadata": {},
   "outputs": [],
   "source": []
  },
  {
   "cell_type": "markdown",
   "id": "4634b00e",
   "metadata": {},
   "source": [
    "N"
   ]
  },
  {
   "cell_type": "code",
   "execution_count": null,
   "id": "7a5e96b1",
   "metadata": {},
   "outputs": [],
   "source": []
  },
  {
   "cell_type": "markdown",
   "id": "dfb2012e",
   "metadata": {},
   "source": [
    "O"
   ]
  },
  {
   "cell_type": "code",
   "execution_count": null,
   "id": "09758100",
   "metadata": {},
   "outputs": [],
   "source": []
  },
  {
   "cell_type": "markdown",
   "id": "fe4b7049",
   "metadata": {},
   "source": [
    "P"
   ]
  },
  {
   "cell_type": "code",
   "execution_count": null,
   "id": "28908b74",
   "metadata": {},
   "outputs": [],
   "source": []
  },
  {
   "cell_type": "markdown",
   "id": "0219bb20",
   "metadata": {},
   "source": [
    "Q"
   ]
  },
  {
   "cell_type": "code",
   "execution_count": null,
   "id": "15948e37",
   "metadata": {},
   "outputs": [],
   "source": []
  },
  {
   "cell_type": "markdown",
   "id": "984fcee7",
   "metadata": {},
   "source": [
    "R"
   ]
  },
  {
   "cell_type": "code",
   "execution_count": null,
   "id": "9a58a58b",
   "metadata": {},
   "outputs": [],
   "source": []
  },
  {
   "cell_type": "markdown",
   "id": "ab65767b",
   "metadata": {},
   "source": [
    "S"
   ]
  },
  {
   "cell_type": "code",
   "execution_count": null,
   "id": "82ab0eb5",
   "metadata": {},
   "outputs": [],
   "source": []
  },
  {
   "cell_type": "markdown",
   "id": "61f9f74e",
   "metadata": {},
   "source": [
    "T"
   ]
  },
  {
   "cell_type": "code",
   "execution_count": null,
   "id": "07c79c6b",
   "metadata": {},
   "outputs": [],
   "source": []
  }
 ],
 "metadata": {
  "kernelspec": {
   "display_name": "base",
   "language": "python",
   "name": "python3"
  },
  "language_info": {
   "codemirror_mode": {
    "name": "ipython",
    "version": 3
   },
   "file_extension": ".py",
   "mimetype": "text/x-python",
   "name": "python",
   "nbconvert_exporter": "python",
   "pygments_lexer": "ipython3",
   "version": "3.12.7"
  }
 },
 "nbformat": 4,
 "nbformat_minor": 5
}
