{
 "cells": [
  {
   "cell_type": "code",
   "execution_count": null,
   "id": "8806f111",
   "metadata": {},
   "outputs": [],
   "source": [
    "\"\"\"Измерение быстродействия и анализ сложности алгоритмов.\"\"\""
   ]
  },
  {
   "cell_type": "markdown",
   "id": "09894448",
   "metadata": {},
   "source": [
    "# Модуль timeit"
   ]
  },
  {
   "cell_type": "markdown",
   "id": "7d16a3a3",
   "metadata": {},
   "source": [
    "### Хорошее правило\n",
    "Сначала добейтесь того, чтобы ваш код работал, а потом занимайтесь его ускорением.\n",
    "Сначала работоспособность, потом эффективность!"
   ]
  },
  {
   "cell_type": "code",
   "execution_count": null,
   "id": "542d67e4",
   "metadata": {},
   "outputs": [
    {
     "data": {
      "text/plain": [
       "0.05181330000050366"
      ]
     },
     "execution_count": 2,
     "metadata": {},
     "output_type": "execute_result"
    }
   ],
   "source": [
    "import cProfile\n",
    "import timeit\n",
    "\n",
    "# или так\n",
    "# Для измерения времени выполнения кода можно воспользоваться\n",
    "# модулем timeit\n",
    "\n",
    "timeit.timeit(\"a, b = 42, 101; a = a ^ b; b = a ^ b; a = a ^ b\")"
   ]
  },
  {
   "cell_type": "code",
   "execution_count": 3,
   "id": "2aeac644",
   "metadata": {},
   "outputs": [
    {
     "data": {
      "text/plain": [
       "0.051111800014041364"
      ]
     },
     "execution_count": 3,
     "metadata": {},
     "output_type": "execute_result"
    }
   ],
   "source": [
    "# или так\n",
    "timeit.timeit(\n",
    "    \"\"\"a, b = 42, 101\n",
    "a = a ^ b\n",
    "b = a ^ b\n",
    "a = a ^ b\"\"\"\n",
    ")"
   ]
  },
  {
   "cell_type": "code",
   "execution_count": 4,
   "id": "bc2eeb28",
   "metadata": {},
   "outputs": [
    {
     "data": {
      "text/plain": [
       "0.025852099992334843"
      ]
     },
     "execution_count": 4,
     "metadata": {},
     "output_type": "execute_result"
    }
   ],
   "source": [
    "timeit.timeit(\"a, b = 42, 101; temp = a; a = b; b = temp\")"
   ]
  },
  {
   "cell_type": "code",
   "execution_count": 5,
   "id": "e8fc6f83",
   "metadata": {},
   "outputs": [
    {
     "data": {
      "text/plain": [
       "0.023180100019089878"
      ]
     },
     "execution_count": 5,
     "metadata": {},
     "output_type": "execute_result"
    }
   ],
   "source": [
    "# или так\n",
    "timeit.timeit(\"a, b = 42, 101; a, b = b, a\")"
   ]
  },
  {
   "cell_type": "code",
   "execution_count": 7,
   "id": "2826b909",
   "metadata": {},
   "outputs": [
    {
     "name": "stdout",
     "output_type": "stream",
     "text": [
      "hello\n",
      "hello\n",
      "hello\n"
     ]
    },
    {
     "data": {
      "text/plain": [
       "0.00018620002083480358"
      ]
     },
     "execution_count": 7,
     "metadata": {},
     "output_type": "execute_result"
    }
   ],
   "source": [
    "# По умолчанию код будет выполнен 1000000 раз и будет возвращено среднее время выполнения\n",
    "# Но можно явно указать, сколько раз выполнить код\n",
    "timeit.timeit('print(\"hello\")', number=3)"
   ]
  },
  {
   "cell_type": "markdown",
   "id": "82d92c29",
   "metadata": {},
   "source": [
    "# Модуль cProfile"
   ]
  },
  {
   "cell_type": "markdown",
   "id": "2ba3cad7",
   "metadata": {},
   "source": [
    "Хотя модуль timeit полезен для хронометража небольших фрагментов кода, модуль\n",
    "cProfile более эффективен для анализа целых функций или программ."
   ]
  },
  {
   "cell_type": "code",
   "execution_count": null,
   "id": "ab9580a1",
   "metadata": {},
   "outputs": [
    {
     "name": "stdout",
     "output_type": "stream",
     "text": [
      "         113 function calls (111 primitive calls) in 0.020 seconds\n",
      "\n",
      "   Ordered by: standard name\n",
      "\n",
      "   ncalls  tottime  percall  cumtime  percall filename:lineno(function)\n",
      "        1    0.020    0.020    0.020    0.020 1129202980.py:4(addUpNumbers)\n",
      "        1    0.000    0.000    0.000    0.000 <frozen abc>:121(__subclasscheck__)\n",
      "        2    0.000    0.000    0.000    0.000 <frozen importlib._bootstrap>:1390(_handle_fromlist)\n",
      "        1    0.000    0.000    0.020    0.020 <string>:1(<module>)\n",
      "        2    0.000    0.000    0.000    0.000 attrsettr.py:43(__getattr__)\n",
      "        2    0.000    0.000    0.000    0.000 attrsettr.py:66(_get_attr_opt)\n",
      "        1    0.000    0.000    0.020    0.020 base_events.py:1962(_run_once)\n",
      "        2    0.000    0.000    0.000    0.000 base_events.py:772(time)\n",
      "        7    0.000    0.000    0.000    0.000 enum.py:1156(__new__)\n",
      "       12    0.000    0.000    0.000    0.000 enum.py:1589(_get_value)\n",
      "        1    0.000    0.000    0.000    0.000 enum.py:1596(__or__)\n",
      "        3    0.000    0.000    0.000    0.000 enum.py:1607(__and__)\n",
      "        7    0.000    0.000    0.000    0.000 enum.py:695(__call__)\n",
      "        1    0.000    0.000    0.000    0.000 events.py:87(_run)\n",
      "        1    0.000    0.000    0.000    0.000 ioloop.py:750(_run_callback)\n",
      "        1    0.000    0.000    0.000    0.000 iostream.py:157(_handle_event)\n",
      "        1    0.000    0.000    0.000    0.000 queue.py:115(empty)\n",
      "        1    0.000    0.000    0.000    0.000 queue.py:267(_qsize)\n",
      "        1    0.000    0.000    0.000    0.000 selector_events.py:740(_process_events)\n",
      "        1    0.000    0.000    0.000    0.000 socket.py:774(recv_multipart)\n",
      "        1    0.000    0.000    0.000    0.000 typing.py:1374(__instancecheck__)\n",
      "        2    0.000    0.000    0.000    0.000 typing.py:1443(__hash__)\n",
      "        1    0.000    0.000    0.000    0.000 typing.py:1665(__subclasscheck__)\n",
      "        1    0.000    0.000    0.000    0.000 typing.py:2371(cast)\n",
      "        3    0.000    0.000    0.000    0.000 typing.py:426(inner)\n",
      "        2    0.000    0.000    0.000    0.000 zmqstream.py:538(receiving)\n",
      "        1    0.000    0.000    0.000    0.000 zmqstream.py:542(sending)\n",
      "        1    0.000    0.000    0.000    0.000 zmqstream.py:556(_run_callback)\n",
      "        1    0.000    0.000    0.000    0.000 zmqstream.py:583(_handle_events)\n",
      "        1    0.000    0.000    0.000    0.000 zmqstream.py:624(_handle_recv)\n",
      "        1    0.000    0.000    0.000    0.000 zmqstream.py:663(_rebuild_io_state)\n",
      "        1    0.000    0.000    0.000    0.000 zmqstream.py:686(_update_handler)\n",
      "        1    0.000    0.000    0.000    0.000 zmqstream.py:694(<lambda>)\n",
      "        1    0.000    0.000    0.000    0.000 {built-in method _abc._abc_subclasscheck}\n",
      "        1    0.000    0.000    0.020    0.020 {built-in method builtins.exec}\n",
      "        2    0.000    0.000    0.000    0.000 {built-in method builtins.getattr}\n",
      "        2    0.000    0.000    0.000    0.000 {built-in method builtins.hasattr}\n",
      "        2    0.000    0.000    0.000    0.000 {built-in method builtins.hash}\n",
      "    25/23    0.000    0.000    0.000    0.000 {built-in method builtins.isinstance}\n",
      "        1    0.000    0.000    0.000    0.000 {built-in method builtins.issubclass}\n",
      "        4    0.000    0.000    0.000    0.000 {built-in method builtins.len}\n",
      "        1    0.000    0.000    0.000    0.000 {built-in method builtins.max}\n",
      "        2    0.000    0.000    0.000    0.000 {built-in method time.monotonic}\n",
      "        1    0.000    0.000    0.000    0.000 {method '__exit__' of '_thread.lock' objects}\n",
      "        1    0.000    0.000    0.000    0.000 {method 'disable' of '_lsprof.Profiler' objects}\n",
      "        1    0.000    0.000    0.000    0.000 {method 'popleft' of 'collections.deque' objects}\n",
      "        1    0.000    0.000    0.000    0.000 {method 'run' of '_contextvars.Context' objects}\n",
      "        2    0.000    0.000    0.000    0.000 {method 'upper' of 'str' objects}\n",
      "\n",
      "\n"
     ]
    }
   ],
   "source": [
    "def add_up_numbers() -> None:\n",
    "    \"\"\"Суммирует все числа от 1 до 1 000 000.\"\"\"\n",
    "    total = 0\n",
    "    for i in range(1, 1000001):\n",
    "        total += i\n",
    "\n",
    "\n",
    "cProfile.run(\"add_up_numbers()\")"
   ]
  },
  {
   "cell_type": "markdown",
   "id": "9e3b05f7",
   "metadata": {},
   "source": [
    "## Закон Амдала\n",
    "Это формула, которая вычисляет, насколько ускорится выполнение программы при улучшении одного из ее фрагментов.\n",
    "Согласно этой формуле ускорение всей операции равно:\n",
    "\n",
    "1 / ((1 — p) + (p / s))\n",
    "\n",
    "где s — ускорение компонента, а p — доля этого компонента в общем времени выполнения программы.\n",
    "\n",
    "Удвоение скорости самых медленных или длинных частей вашего кода более продуктивно, чем удвоение\n",
    "скорости уже быстрых или коротких частей."
   ]
  },
  {
   "cell_type": "markdown",
   "id": "6b5d4b89",
   "metadata": {},
   "source": [
    "### Анализ алгоритмов с использованием нотации «O-большое»"
   ]
  },
  {
   "cell_type": "markdown",
   "id": "57f3cb48",
   "metadata": {},
   "source": [
    "Это метод анализа, который определяет «насколько замедлится код с ростом объема данных».\n",
    "\n",
    "1. O(1) – постоянное время (самый низкий порядок).\n",
    "2. O(log n) – логарифмическое время.\n",
    "3. O(n) – линейное время.\n",
    "4. O(n log n) – время N-Log-N.\n",
    "5. O(n^2) – полиномиальное время.\n",
    "6. O(2^n) – экспоненциальное время.\n",
    "7. O(n!) – факториальное время (наивысший порядок)."
   ]
  },
  {
   "cell_type": "markdown",
   "id": "718e55cf",
   "metadata": {},
   "source": [
    "«О-большое» оценивает худший сценарий для любой задачи.\n",
    "\n",
    "«Омега-большое» оценивает лучший сценарий для алгоритма (Ω(n), Ω(log n) и т.д.).\n",
    "\n",
    "«Тэта-большое» описывает алгоритмы с одинаковыми порядками в лучшем и худшем случае. Например, Θ(n) описывает алгоритм с линейной эффективностью в лучшем и худшем случае — то есть алгоритм O(n) и Ω(n)."
   ]
  }
 ],
 "metadata": {
  "kernelspec": {
   "display_name": "base",
   "language": "python",
   "name": "python3"
  },
  "language_info": {
   "codemirror_mode": {
    "name": "ipython",
    "version": 3
   },
   "file_extension": ".py",
   "mimetype": "text/x-python",
   "name": "python",
   "nbconvert_exporter": "python",
   "pygments_lexer": "ipython3",
   "version": "3.13.5"
  }
 },
 "nbformat": 4,
 "nbformat_minor": 5
}
